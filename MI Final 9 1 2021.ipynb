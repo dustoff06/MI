{
 "cells": [
  {
   "cell_type": "markdown",
   "metadata": {},
   "source": [
    "# Libraries and Data Load"
   ]
  },
  {
   "cell_type": "markdown",
   "metadata": {},
   "source": [
    "## Load Libraries"
   ]
  },
  {
   "cell_type": "code",
   "execution_count": 1,
   "metadata": {},
   "outputs": [],
   "source": [
    "######################################################Initial Packages########################################################\n",
    "#Basic Operating System Stuff\n",
    "import os\n",
    "import gc #garbage collector\n",
    "import random #random seed generator\n",
    "import pandas_profiling # requires import and prior install \n",
    "\n",
    "#Timer\n",
    "from timeit import default_timer as timer #import a timer\n",
    "\n",
    "#Basic dataframe, array, and math stuff\n",
    "import pandas as pd #data frame\n",
    "from pandas_profiling import ProfileReport\n",
    "import math #math functions\n",
    "import numpy as np    #numerical package\n",
    "from patsy import dmatrix, demo_data, ContrastMatrix, Poly\n",
    "\n",
    "#Scikit learn\n",
    "from math import sqrt\n",
    "import sklearn as sk  #scikit learn\n",
    "import sklearn.linear_model \n",
    "from sklearn.linear_model import LogisticRegression as LR\n",
    "from sklearn.kernel_ridge import KernelRidge\n",
    "from sklearn.utils import resample #sampling\n",
    "from sklearn.model_selection import train_test_split as tts, KFold #train test split\n",
    "from sklearn.decomposition import PCA #principal components\n",
    "from imblearn.over_sampling import SMOTE #synthetic minority oversampling technique\n",
    "from sklearn.metrics import classification_report as CR,confusion_matrix, roc_curve, plot_confusion_matrix, precision_recall_curve, plot_precision_recall_curve, average_precision_score #for 2-class model\n",
    "from sklearn.preprocessing import MinMaxScaler as Scaler, PolynomialFeatures as poly # used for variable scaling data\n",
    "from sklearn.tree import DecisionTreeClassifier as Tree\n",
    "from sklearn.ensemble import RandomForestClassifier as RFC, ExtraTreesClassifier as ETC, GradientBoostingClassifier as GBC,AdaBoostClassifier as ABC  # Random Forest package\n",
    "from sklearn.svm import LinearSVC, SVC\n",
    "from sklearn.linear_model import SGDClassifier as SGD\n",
    "from sklearn.naive_bayes import GaussianNB\n",
    "from sklearn.neighbors import KNeighborsClassifier as KNN\n",
    "from sklearn.pipeline import make_pipeline\n",
    "\n",
    "\n",
    "from scipy import misc, stats as st #Lots of stuff here\n",
    "import itertools\n",
    "\n",
    "import statsmodels.api as sm\n",
    "import pyreadstat\n",
    "\n",
    "#Graphing\n",
    "import seaborn as sns\n",
    "import pydot  #For model plotting\n",
    "import graphviz #python-graphviz package\n",
    "from IPython.display import SVG #Same here\n",
    "import matplotlib.pyplot as plt #plotting\n",
    "import matplotlib #image save\n",
    "from matplotlib.pyplot import imshow #Show images\n",
    "from PIL import Image #Another image utility\n",
    "import cv2 #more image utilities\n",
    "\n",
    "%matplotlib inline\n",
    "\n",
    "os.chdir('D:\\MI')\n",
    "##############################################################################################################################"
   ]
  },
  {
   "cell_type": "markdown",
   "metadata": {},
   "source": [
    "## Load Data"
   ]
  },
  {
   "cell_type": "code",
   "execution_count": 2,
   "metadata": {},
   "outputs": [],
   "source": [
    "##############################################################################################################################\n",
    "mydata=pd.read_sas('D:/MI/Y2019.XPT')\n",
    "##############################################################################################################################"
   ]
  },
  {
   "cell_type": "markdown",
   "metadata": {},
   "source": [
    "# Data Preparation"
   ]
  },
  {
   "cell_type": "markdown",
   "metadata": {},
   "source": [
    "## Determine Shape"
   ]
  },
  {
   "cell_type": "code",
   "execution_count": 3,
   "metadata": {},
   "outputs": [
    {
     "data": {
      "text/plain": [
       "(418268, 342)"
      ]
     },
     "execution_count": 3,
     "metadata": {},
     "output_type": "execute_result"
    }
   ],
   "source": [
    "mydata.shape"
   ]
  },
  {
   "cell_type": "markdown",
   "metadata": {},
   "source": [
    "## Determine which Age Groups to Use"
   ]
  },
  {
   "cell_type": "code",
   "execution_count": 4,
   "metadata": {},
   "outputs": [
    {
     "data": {
      "text/html": [
       "<div>\n",
       "<style scoped>\n",
       "    .dataframe tbody tr th:only-of-type {\n",
       "        vertical-align: middle;\n",
       "    }\n",
       "\n",
       "    .dataframe tbody tr th {\n",
       "        vertical-align: top;\n",
       "    }\n",
       "\n",
       "    .dataframe thead th {\n",
       "        text-align: right;\n",
       "    }\n",
       "</style>\n",
       "<table border=\"1\" class=\"dataframe\">\n",
       "  <thead>\n",
       "    <tr style=\"text-align: right;\">\n",
       "      <th>CVDINFR4</th>\n",
       "      <th>1.0</th>\n",
       "      <th>All</th>\n",
       "    </tr>\n",
       "    <tr>\n",
       "      <th>_AGE_G</th>\n",
       "      <th></th>\n",
       "      <th></th>\n",
       "    </tr>\n",
       "  </thead>\n",
       "  <tbody>\n",
       "    <tr>\n",
       "      <th>1.0</th>\n",
       "      <td>0.004432</td>\n",
       "      <td>0.004432</td>\n",
       "    </tr>\n",
       "    <tr>\n",
       "      <th>2.0</th>\n",
       "      <td>0.011120</td>\n",
       "      <td>0.011120</td>\n",
       "    </tr>\n",
       "    <tr>\n",
       "      <th>3.0</th>\n",
       "      <td>0.027739</td>\n",
       "      <td>0.027739</td>\n",
       "    </tr>\n",
       "    <tr>\n",
       "      <th>4.0</th>\n",
       "      <td>0.083792</td>\n",
       "      <td>0.083792</td>\n",
       "    </tr>\n",
       "    <tr>\n",
       "      <th>5.0</th>\n",
       "      <td>0.208371</td>\n",
       "      <td>0.208371</td>\n",
       "    </tr>\n",
       "    <tr>\n",
       "      <th>6.0</th>\n",
       "      <td>0.664547</td>\n",
       "      <td>0.664547</td>\n",
       "    </tr>\n",
       "  </tbody>\n",
       "</table>\n",
       "</div>"
      ],
      "text/plain": [
       "CVDINFR4       1.0       All\n",
       "_AGE_G                      \n",
       "1.0       0.004432  0.004432\n",
       "2.0       0.011120  0.011120\n",
       "3.0       0.027739  0.027739\n",
       "4.0       0.083792  0.083792\n",
       "5.0       0.208371  0.208371\n",
       "6.0       0.664547  0.664547"
      ]
     },
     "execution_count": 4,
     "metadata": {},
     "output_type": "execute_result"
    }
   ],
   "source": [
    "pd.crosstab(mydata._AGE_G,mydata.CVDINFR4[mydata.CVDINFR4==1],normalize = 'columns', margins=True)\n",
    "#18 to 24 almost 0% MI\n",
    "#25 to 34 1.1% MI\n",
    "#35 to 44 2.8% MI\n",
    "#45 to 54 8.4% MI\n",
    "#55 to 64 21% MI\n",
    "#65 + 66% MI"
   ]
  },
  {
   "cell_type": "markdown",
   "metadata": {},
   "source": [
    "## Reduce Variable Set and Scope\n",
    "\n",
    "We select variables from previous research and those of interest for investigation."
   ]
  },
  {
   "cell_type": "code",
   "execution_count": 5,
   "metadata": {},
   "outputs": [
    {
     "data": {
      "text/html": [
       "<div>\n",
       "<style scoped>\n",
       "    .dataframe tbody tr th:only-of-type {\n",
       "        vertical-align: middle;\n",
       "    }\n",
       "\n",
       "    .dataframe tbody tr th {\n",
       "        vertical-align: top;\n",
       "    }\n",
       "\n",
       "    .dataframe thead th {\n",
       "        text-align: right;\n",
       "    }\n",
       "</style>\n",
       "<table border=\"1\" class=\"dataframe\">\n",
       "  <thead>\n",
       "    <tr style=\"text-align: right;\">\n",
       "      <th>CVDINFR4</th>\n",
       "      <th>1.0</th>\n",
       "      <th>2.0</th>\n",
       "      <th>7.0</th>\n",
       "      <th>9.0</th>\n",
       "    </tr>\n",
       "    <tr>\n",
       "      <th>_AGE_G</th>\n",
       "      <th></th>\n",
       "      <th></th>\n",
       "      <th></th>\n",
       "      <th></th>\n",
       "    </tr>\n",
       "  </thead>\n",
       "  <tbody>\n",
       "    <tr>\n",
       "      <th>1.0</th>\n",
       "      <td>0.004432</td>\n",
       "      <td>0.063629</td>\n",
       "      <td>0.038933</td>\n",
       "      <td>0.010256</td>\n",
       "    </tr>\n",
       "    <tr>\n",
       "      <th>2.0</th>\n",
       "      <td>0.011120</td>\n",
       "      <td>0.111076</td>\n",
       "      <td>0.065617</td>\n",
       "      <td>0.030769</td>\n",
       "    </tr>\n",
       "    <tr>\n",
       "      <th>3.0</th>\n",
       "      <td>0.027739</td>\n",
       "      <td>0.124147</td>\n",
       "      <td>0.086177</td>\n",
       "      <td>0.025641</td>\n",
       "    </tr>\n",
       "    <tr>\n",
       "      <th>4.0</th>\n",
       "      <td>0.083792</td>\n",
       "      <td>0.150002</td>\n",
       "      <td>0.110674</td>\n",
       "      <td>0.307692</td>\n",
       "    </tr>\n",
       "    <tr>\n",
       "      <th>5.0</th>\n",
       "      <td>0.208371</td>\n",
       "      <td>0.200408</td>\n",
       "      <td>0.202975</td>\n",
       "      <td>0.179487</td>\n",
       "    </tr>\n",
       "    <tr>\n",
       "      <th>6.0</th>\n",
       "      <td>0.664547</td>\n",
       "      <td>0.350737</td>\n",
       "      <td>0.495626</td>\n",
       "      <td>0.446154</td>\n",
       "    </tr>\n",
       "  </tbody>\n",
       "</table>\n",
       "</div>"
      ],
      "text/plain": [
       "CVDINFR4       1.0       2.0       7.0       9.0\n",
       "_AGE_G                                          \n",
       "1.0       0.004432  0.063629  0.038933  0.010256\n",
       "2.0       0.011120  0.111076  0.065617  0.030769\n",
       "3.0       0.027739  0.124147  0.086177  0.025641\n",
       "4.0       0.083792  0.150002  0.110674  0.307692\n",
       "5.0       0.208371  0.200408  0.202975  0.179487\n",
       "6.0       0.664547  0.350737  0.495626  0.446154"
      ]
     },
     "execution_count": 5,
     "metadata": {},
     "output_type": "execute_result"
    }
   ],
   "source": [
    "temp1=mydata\n",
    "temp1=temp1[['CVDINFR4',\n",
    "             '_AGE_G', '_IMPRACE', 'SEXVAR', 'MARITAL', 'VETERAN3', \n",
    "             'INCOME2','EDUCA', 'EMPLOY1','RENTHOM1',\n",
    "             'GENHLTH', 'SMOKE100', 'USENOW3','_PA300R3', 'ALCDAY5',\n",
    "             'TOLDHI2', '_RFHYPE5', '_RFBMI5', \n",
    "             'DIABETE4', 'PHYSHLTH', 'MENTHLTH',  'ADDEPEV3','CVDSTRK3', 'ASTHMA3', \n",
    "             'CHCSCNCR','CHCOCNCR', 'CHCCOPD2','CHCKDNY2','HAVARTH4',\n",
    "             'HLTHPLN1', 'PERSDOC2', 'MEDCOST', 'CHECKUP1',\n",
    "             '_STATE', '_METSTAT', '_LLCPWT', '_STSTR', '_PSU']]\n",
    "\n",
    "pd.crosstab(temp1._AGE_G, temp1.CVDINFR4, normalize='columns')\n"
   ]
  },
  {
   "cell_type": "code",
   "execution_count": 6,
   "metadata": {},
   "outputs": [
    {
     "data": {
      "text/plain": [
       "(418268, 38)"
      ]
     },
     "execution_count": 6,
     "metadata": {},
     "output_type": "execute_result"
    }
   ],
   "source": [
    "temp1.shape"
   ]
  },
  {
   "cell_type": "markdown",
   "metadata": {},
   "source": [
    "##  We Restrict Analyses to Age Cat 3 through 6\n",
    "\n",
    "These groups account for 98%+ of the observations of MI."
   ]
  },
  {
   "cell_type": "code",
   "execution_count": 7,
   "metadata": {},
   "outputs": [],
   "source": [
    "temp1=temp1.loc[temp1['_AGE_G']>=3] #filter excludes 18 to 34 year olds, less than 1.2% of MI in dataset"
   ]
  },
  {
   "cell_type": "markdown",
   "metadata": {},
   "source": [
    "## Handle Missing\n",
    "\n",
    "Rows missing 20% or more are eliminated (7 or more variables, 18 observations eliminated).  \n",
    "Columns missing 20% or more observations are eliminated (69853 or more observations, 0 eliminated)."
   ]
  },
  {
   "cell_type": "markdown",
   "metadata": {},
   "source": [
    "### Columns\n",
    "\n",
    "We verify that all selected columns have LT 20% missing."
   ]
  },
  {
   "cell_type": "code",
   "execution_count": 8,
   "metadata": {},
   "outputs": [
    {
     "name": "stdout",
     "output_type": "stream",
     "text": [
      "ALCDAY5     14702\n",
      "USENOW3     13500\n",
      "SMOKE100    12907\n",
      "TOLDHI2     11857\n",
      "_METSTAT     6589\n",
      "INCOME2      5431\n",
      "EMPLOY1      2233\n",
      "VETERAN3     1126\n",
      "MARITAL        45\n",
      "PHYSHLTH       28\n",
      "dtype: int64\n"
     ]
    }
   ],
   "source": [
    "a=temp1.isnull().sum() #count the nulls by column\n",
    "print(a.sort_values(ascending=False).head(10))"
   ]
  },
  {
   "cell_type": "markdown",
   "metadata": {},
   "source": [
    "### Rows\n",
    "\n",
    "We investigate the same by row"
   ]
  },
  {
   "cell_type": "code",
   "execution_count": 9,
   "metadata": {},
   "outputs": [
    {
     "name": "stdout",
     "output_type": "stream",
     "text": [
      "60298     26\n",
      "60190     26\n",
      "59974     26\n",
      "58979     26\n",
      "58498     19\n",
      "339417    19\n",
      "58968     19\n",
      "633       18\n",
      "42        12\n",
      "85152     10\n",
      "404345     9\n",
      "60400      9\n",
      "326094     8\n",
      "2250       8\n",
      "219506     8\n",
      "335930     8\n",
      "410564     8\n",
      "3175       8\n",
      "342909     8\n",
      "160591     7\n",
      "300321     7\n",
      "357526     7\n",
      "296332     7\n",
      "195595     7\n",
      "82854      7\n",
      "94520      7\n",
      "348283     7\n",
      "74516      7\n",
      "410352     7\n",
      "322856     7\n",
      "296043     7\n",
      "250712     7\n",
      "306602     7\n",
      "122706     7\n",
      "122768     7\n",
      "133751     7\n",
      "70122      7\n",
      "133558     7\n",
      "69255      7\n",
      "415879     7\n",
      "50756      7\n",
      "413903     7\n",
      "34187      7\n",
      "403666     7\n",
      "304831     7\n",
      "410862     7\n",
      "410155     7\n",
      "394867     7\n",
      "412595     7\n",
      "247849     7\n",
      "229638     7\n",
      "297400     7\n",
      "127234     7\n",
      "207558     7\n",
      "17727      7\n",
      "125763     7\n",
      "363696     7\n",
      "127674     7\n",
      "276763     7\n",
      "378311     7\n",
      "115376     7\n",
      "377657     7\n",
      "45726      7\n",
      "376492     7\n",
      "88611      7\n",
      "213536     7\n",
      "346943     7\n",
      "8811       7\n",
      "401521     7\n",
      "83704      7\n",
      "23881      7\n",
      "217160     7\n",
      "62065      7\n",
      "344944     7\n",
      "124964     7\n",
      "91460      7\n",
      "91598      7\n",
      "293327     7\n",
      "148031     7\n",
      "358906     7\n",
      "75505      7\n",
      "413175     7\n",
      "320726     7\n",
      "326736     7\n",
      "52175      7\n",
      "409401     6\n",
      "409392     6\n",
      "248625     6\n",
      "207447     6\n",
      "141590     6\n",
      "dtype: int64\n"
     ]
    }
   ],
   "source": [
    "pd.set_option('display.max_rows', 500)\n",
    "b=temp1.isnull().sum(axis=1) #count the nulls by column\n",
    "b=b.sort_values(ascending=False)\n",
    "print(b.head(90))"
   ]
  },
  {
   "cell_type": "code",
   "execution_count": 10,
   "metadata": {},
   "outputs": [
    {
     "data": {
      "text/plain": [
       "Int64Index([ 60298,  60190,  59974,  58979,  58498, 339417,  58968,    633,\n",
       "                42,  85152, 404345,  60400, 326094,   2250, 219506, 335930,\n",
       "            410564,   3175, 342909, 160591, 300321, 357526, 296332, 195595,\n",
       "             82854,  94520, 348283,  74516, 410352, 322856, 296043, 250712,\n",
       "            306602, 122706, 122768, 133751,  70122, 133558,  69255, 415879,\n",
       "             50756, 413903,  34187, 403666, 304831, 410862, 410155, 394867,\n",
       "            412595, 247849, 229638, 297400, 127234, 207558,  17727, 125763,\n",
       "            363696, 127674, 276763, 378311, 115376, 377657,  45726, 376492,\n",
       "             88611, 213536, 346943,   8811, 401521,  83704,  23881, 217160,\n",
       "             62065, 344944, 124964,  91460,  91598, 293327, 148031, 358906,\n",
       "             75505, 413175, 320726, 326736,  52175],\n",
       "           dtype='int64')"
      ]
     },
     "execution_count": 10,
     "metadata": {},
     "output_type": "execute_result"
    }
   ],
   "source": [
    "todrop=b.head(85).index\n",
    "todrop"
   ]
  },
  {
   "cell_type": "markdown",
   "metadata": {},
   "source": [
    "## Drop the Rows and Plot Missing"
   ]
  },
  {
   "cell_type": "code",
   "execution_count": 11,
   "metadata": {},
   "outputs": [
    {
     "data": {
      "text/plain": [
       "<AxesSubplot:>"
      ]
     },
     "execution_count": 11,
     "metadata": {},
     "output_type": "execute_result"
    },
    {
     "data": {
      "image/png": "[encoded data removed]",
      "text/plain": [
       "<Figure size 432x288 with 1 Axes>"
      ]
     },
     "metadata": {
      "needs_background": "light"
     },
     "output_type": "display_data"
    }
   ],
   "source": [
    "temp1 = temp1.drop(todrop)                    \n",
    "sns.heatmap(temp1.isnull(), cbar=False)"
   ]
  },
  {
   "cell_type": "markdown",
   "metadata": {},
   "source": [
    "## Impute Median\n",
    "Given the small number of missing values remaining, impute median."
   ]
  },
  {
   "cell_type": "code",
   "execution_count": 12,
   "metadata": {},
   "outputs": [
    {
     "name": "stdout",
     "output_type": "stream",
     "text": [
      "missing: 0.005116933942526948\n",
      "(349176, 38)\n"
     ]
    }
   ],
   "source": [
    "num=temp1.isna().sum().sum()\n",
    "den=temp1.shape[0]*temp1.shape[1]\n",
    "print('missing:', num/den)\n",
    "temp1=temp1.fillna(temp1.median())\n",
    "print(temp1.shape)"
   ]
  },
  {
   "cell_type": "markdown",
   "metadata": {},
   "source": [
    "## Rename Columns"
   ]
  },
  {
   "cell_type": "code",
   "execution_count": 13,
   "metadata": {},
   "outputs": [],
   "source": [
    "mydict={'CVDINFR4':'MI','_AGE_G':'Age', '_IMPRACE':'Race', 'SEXVAR':'Male', 'MARITAL':'Unmarried', 'VETERAN3':'Veteran', \n",
    "             'INCOME2':'LowIncome','EDUCA':'LowEducation', 'EMPLOY1':'Unemployed', 'RENTHOM1':'RentHome',\n",
    "             'GENHLTH':'PoorHealth', 'SMOKE100':'Smoker','USENOW3':'ChewSnuff',\n",
    "             '_PA300R3':'NoExercise', 'ALCDAY5':'PercentDrink',\n",
    "            'TOLDHI2':'HighCholesterol', '_RFHYPE5':'HighBP', '_RFBMI5':'HighBMI', \n",
    "             'DIABETE4':'Diabetes', 'PHYSHLTH':'PhysicalHealth','MENTHLTH':'MentalHealth',\n",
    "             'ADDEPEV3':'Depression','CVDSTRK3':'Stroke', \n",
    "            'ASTHMA3':'Asthma','CHCSCNCR':'SkinCancer', 'CHCOCNCR':'Cancer', \n",
    "            'CHCCOPD2':'COPD','CHCKDNY2':'Kidney','HAVARTH4':'Arthritis', \n",
    "             'HLTHPLN1':'NoHealthPlan', 'PERSDOC2':'NoDoctor', 'MEDCOST':'Cost', 'CHECKUP1':'NoCheckup',\n",
    "             '_STATE':'State', '_LLCPWT':'Weights', '_METSTAT': 'Metropolitan','_STSTR':'Stratum', '_PSU':'PSU'}\n",
    "temp1=temp1.rename(columns=dict(mydict))"
   ]
  },
  {
   "cell_type": "markdown",
   "metadata": {},
   "source": [
    "# Recodes"
   ]
  },
  {
   "cell_type": "markdown",
   "metadata": {},
   "source": [
    "## MI, 1=YES\n",
    "\n",
    "Has a doctor, nurse, or other health professional ever told you that you had any of the following? Heart Attack\n",
    "1=Yes, 2=No, 7=Don't Know, 9=Refused"
   ]
  },
  {
   "cell_type": "code",
   "execution_count": 14,
   "metadata": {},
   "outputs": [
    {
     "name": "stdout",
     "output_type": "stream",
     "text": [
      "2.0    0.924918\n",
      "1.0    0.068693\n",
      "7.0    0.005860\n",
      "9.0    0.000530\n",
      "Name: MI, dtype: float64\n",
      "0.0    0.931307\n",
      "1.0    0.068693\n",
      "Name: MI, dtype: float64\n"
     ]
    }
   ],
   "source": [
    "print(pd.value_counts(temp1.MI, normalize='columns'))\n",
    "a_dict = {2:0, 7:0, 9:0}  #Modal response impute\n",
    "temp1['MI']=temp1['MI'].replace(dict(a_dict))\n",
    "print(pd.value_counts(temp1.MI, normalize='columns'))"
   ]
  },
  {
   "cell_type": "markdown",
   "metadata": {},
   "source": [
    "## Age Group 35-44, 45-54, 55-64, and 65+\n",
    "\n",
    "Age Group 35-44 is the referent group."
   ]
  },
  {
   "cell_type": "code",
   "execution_count": 15,
   "metadata": {},
   "outputs": [
    {
     "name": "stdout",
     "output_type": "stream",
     "text": [
      "6.0    0.442983\n",
      "5.0    0.240563\n",
      "4.0    0.174840\n",
      "3.0    0.141613\n",
      "Name: Age, dtype: float64\n",
      "0.0    0.557017\n",
      "1.0    0.442983\n",
      "Name: Age65, dtype: float64\n",
      "0.0    0.759437\n",
      "1.0    0.240563\n",
      "Name: Age55_64, dtype: float64\n",
      "0.0    0.82516\n",
      "1.0    0.17484\n",
      "Name: Age45_54, dtype: float64\n"
     ]
    }
   ],
   "source": [
    "print(pd.value_counts(temp1.Age, normalize='columns'))\n",
    "b0_dict={3:0, 4:0, 5:0, 6:1} #Age 65+\n",
    "b1_dict={3:0,4:0, 5:1, 6:0} #Age 55-64\n",
    "b2_dict={3:0,4:1, 5:0, 6:0} #Age 45-54\n",
    "\n",
    "temp1['Age65']=temp1['Age'].replace(dict(b0_dict))\n",
    "temp1['Age55_64']=temp1['Age'].replace(dict(b1_dict))\n",
    "temp1['Age45_54']=temp1['Age'].replace(dict(b2_dict))\n",
    "print(pd.value_counts(temp1.Age65, normalize='columns'))\n",
    "print(pd.value_counts(temp1.Age55_64, normalize='columns'))\n",
    "print(pd.value_counts(temp1.Age45_54, normalize='columns'))\n",
    "temp1=temp1.drop(columns=['Age'])"
   ]
  },
  {
   "cell_type": "markdown",
   "metadata": {},
   "source": [
    "## Race Recode:  Black, Hispanic, Other with 1=Minority\n",
    "Imputed race/ethnicity value\n",
    "1=White NH, 2=Black NH, 3=Asian NH, 4=AI/NA NH, 5=Hispanic, 6=Other NH\n",
    "White NH is the referent group."
   ]
  },
  {
   "cell_type": "code",
   "execution_count": 16,
   "metadata": {},
   "outputs": [
    {
     "data": {
      "text/html": [
       "<div>\n",
       "<style scoped>\n",
       "    .dataframe tbody tr th:only-of-type {\n",
       "        vertical-align: middle;\n",
       "    }\n",
       "\n",
       "    .dataframe tbody tr th {\n",
       "        vertical-align: top;\n",
       "    }\n",
       "\n",
       "    .dataframe thead th {\n",
       "        text-align: right;\n",
       "    }\n",
       "</style>\n",
       "<table border=\"1\" class=\"dataframe\">\n",
       "  <thead>\n",
       "    <tr style=\"text-align: right;\">\n",
       "      <th>MI</th>\n",
       "      <th>0.0</th>\n",
       "      <th>1.0</th>\n",
       "    </tr>\n",
       "    <tr>\n",
       "      <th>Race</th>\n",
       "      <th></th>\n",
       "      <th></th>\n",
       "    </tr>\n",
       "  </thead>\n",
       "  <tbody>\n",
       "    <tr>\n",
       "      <th>1.0</th>\n",
       "      <td>0.929955</td>\n",
       "      <td>0.070045</td>\n",
       "    </tr>\n",
       "    <tr>\n",
       "      <th>2.0</th>\n",
       "      <td>0.935708</td>\n",
       "      <td>0.064292</td>\n",
       "    </tr>\n",
       "    <tr>\n",
       "      <th>3.0</th>\n",
       "      <td>0.966551</td>\n",
       "      <td>0.033449</td>\n",
       "    </tr>\n",
       "    <tr>\n",
       "      <th>4.0</th>\n",
       "      <td>0.889398</td>\n",
       "      <td>0.110602</td>\n",
       "    </tr>\n",
       "    <tr>\n",
       "      <th>5.0</th>\n",
       "      <td>0.949963</td>\n",
       "      <td>0.050037</td>\n",
       "    </tr>\n",
       "    <tr>\n",
       "      <th>6.0</th>\n",
       "      <td>0.912424</td>\n",
       "      <td>0.087576</td>\n",
       "    </tr>\n",
       "  </tbody>\n",
       "</table>\n",
       "</div>"
      ],
      "text/plain": [
       "MI         0.0       1.0\n",
       "Race                    \n",
       "1.0   0.929955  0.070045\n",
       "2.0   0.935708  0.064292\n",
       "3.0   0.966551  0.033449\n",
       "4.0   0.889398  0.110602\n",
       "5.0   0.949963  0.050037\n",
       "6.0   0.912424  0.087576"
      ]
     },
     "execution_count": 16,
     "metadata": {},
     "output_type": "execute_result"
    }
   ],
   "source": [
    "pd.crosstab(temp1.Race, temp1.MI, normalize='index') "
   ]
  },
  {
   "cell_type": "code",
   "execution_count": 17,
   "metadata": {},
   "outputs": [
    {
     "name": "stdout",
     "output_type": "stream",
     "text": [
      "1.0    0.789192\n",
      "2.0    0.073811\n",
      "5.0    0.073204\n",
      "6.0    0.030772\n",
      "3.0    0.017381\n",
      "4.0    0.015640\n",
      "Name: Race, dtype: float64\n",
      "0.0    0.926189\n",
      "1.0    0.073811\n",
      "Name: Black, dtype: float64\n",
      "0.0    0.926796\n",
      "1.0    0.073204\n",
      "Name: Hispanic, dtype: float64\n",
      "0.0    0.936207\n",
      "1.0    0.063793\n",
      "Name: Other, dtype: float64\n"
     ]
    }
   ],
   "source": [
    "print(pd.value_counts(temp1.Race, normalize='columns'))\n",
    "c_dict={2:1, 1:0, 3:0, 4:0, 5:0, 6:0}\n",
    "d_dict={5:1, 1:0, 2:0, 3:0, 4:0, 6:0}\n",
    "e_dict={1:0, 2:0, 3:1, 4:1, 5:0, 6:1}\n",
    "temp1['Black']=temp1['Race'].replace(dict(c_dict))\n",
    "temp1['Hispanic']=temp1['Race'].replace(dict(d_dict))\n",
    "temp1['Other']=temp1['Race'].replace(dict(e_dict))\n",
    "print(pd.value_counts(temp1.Black, normalize='columns'))\n",
    "print(pd.value_counts(temp1.Hispanic, normalize='columns'))\n",
    "print(pd.value_counts(temp1.Other, normalize='columns'))\n",
    "temp1=temp1.drop(columns=['Race'])"
   ]
  },
  {
   "cell_type": "markdown",
   "metadata": {},
   "source": [
    "## Gender, 1=Male\n",
    "Calculated sex variable"
   ]
  },
  {
   "cell_type": "code",
   "execution_count": 18,
   "metadata": {},
   "outputs": [
    {
     "data": {
      "text/html": [
       "<div>\n",
       "<style scoped>\n",
       "    .dataframe tbody tr th:only-of-type {\n",
       "        vertical-align: middle;\n",
       "    }\n",
       "\n",
       "    .dataframe tbody tr th {\n",
       "        vertical-align: top;\n",
       "    }\n",
       "\n",
       "    .dataframe thead th {\n",
       "        text-align: right;\n",
       "    }\n",
       "</style>\n",
       "<table border=\"1\" class=\"dataframe\">\n",
       "  <thead>\n",
       "    <tr style=\"text-align: right;\">\n",
       "      <th>MI</th>\n",
       "      <th>0.0</th>\n",
       "      <th>1.0</th>\n",
       "    </tr>\n",
       "    <tr>\n",
       "      <th>Male</th>\n",
       "      <th></th>\n",
       "      <th></th>\n",
       "    </tr>\n",
       "  </thead>\n",
       "  <tbody>\n",
       "    <tr>\n",
       "      <th>1.0</th>\n",
       "      <td>0.907503</td>\n",
       "      <td>0.092497</td>\n",
       "    </tr>\n",
       "    <tr>\n",
       "      <th>2.0</th>\n",
       "      <td>0.950059</td>\n",
       "      <td>0.049941</td>\n",
       "    </tr>\n",
       "  </tbody>\n",
       "</table>\n",
       "</div>"
      ],
      "text/plain": [
       "MI         0.0       1.0\n",
       "Male                    \n",
       "1.0   0.907503  0.092497\n",
       "2.0   0.950059  0.049941"
      ]
     },
     "execution_count": 18,
     "metadata": {},
     "output_type": "execute_result"
    }
   ],
   "source": [
    "pd.crosstab(temp1.Male, temp1.MI, normalize='index')"
   ]
  },
  {
   "cell_type": "code",
   "execution_count": 19,
   "metadata": {},
   "outputs": [
    {
     "name": "stdout",
     "output_type": "stream",
     "text": [
      "2.0    0.559351\n",
      "1.0    0.440649\n",
      "Name: Male, dtype: float64\n",
      "0.0    0.559351\n",
      "1.0    0.440649\n",
      "Name: Male, dtype: float64\n"
     ]
    }
   ],
   "source": [
    "print(pd.value_counts(temp1.Male, normalize='columns'))\n",
    "f_dict={2:0, 1:1}\n",
    "temp1['Male']=temp1['Male'].replace(dict(f_dict))\n",
    "print(pd.value_counts(temp1.Male, normalize='columns'))"
   ]
  },
  {
   "cell_type": "markdown",
   "metadata": {},
   "source": [
    "## Unmarried\n",
    "\n",
    "1=Married, 2=Divorced, 3=Widowed, 4=Separated, 5=Never Married, 6=Member of Unmarried Couple, 9=Refused\n",
    "\n",
    "We define PreviousMarriage as divorced, widowed, or separated.\n",
    "\n",
    "We then defined NeverMarried.\n",
    "\n"
   ]
  },
  {
   "cell_type": "code",
   "execution_count": 20,
   "metadata": {},
   "outputs": [
    {
     "data": {
      "text/html": [
       "<div>\n",
       "<style scoped>\n",
       "    .dataframe tbody tr th:only-of-type {\n",
       "        vertical-align: middle;\n",
       "    }\n",
       "\n",
       "    .dataframe tbody tr th {\n",
       "        vertical-align: top;\n",
       "    }\n",
       "\n",
       "    .dataframe thead th {\n",
       "        text-align: right;\n",
       "    }\n",
       "</style>\n",
       "<table border=\"1\" class=\"dataframe\">\n",
       "  <thead>\n",
       "    <tr style=\"text-align: right;\">\n",
       "      <th>MI</th>\n",
       "      <th>0.0</th>\n",
       "      <th>1.0</th>\n",
       "    </tr>\n",
       "    <tr>\n",
       "      <th>Unmarried</th>\n",
       "      <th></th>\n",
       "      <th></th>\n",
       "    </tr>\n",
       "  </thead>\n",
       "  <tbody>\n",
       "    <tr>\n",
       "      <th>1.0</th>\n",
       "      <td>0.942805</td>\n",
       "      <td>0.057195</td>\n",
       "    </tr>\n",
       "    <tr>\n",
       "      <th>2.0</th>\n",
       "      <td>0.917598</td>\n",
       "      <td>0.082402</td>\n",
       "    </tr>\n",
       "    <tr>\n",
       "      <th>3.0</th>\n",
       "      <td>0.887866</td>\n",
       "      <td>0.112134</td>\n",
       "    </tr>\n",
       "    <tr>\n",
       "      <th>4.0</th>\n",
       "      <td>0.914193</td>\n",
       "      <td>0.085807</td>\n",
       "    </tr>\n",
       "    <tr>\n",
       "      <th>5.0</th>\n",
       "      <td>0.949591</td>\n",
       "      <td>0.050409</td>\n",
       "    </tr>\n",
       "    <tr>\n",
       "      <th>6.0</th>\n",
       "      <td>0.951949</td>\n",
       "      <td>0.048051</td>\n",
       "    </tr>\n",
       "    <tr>\n",
       "      <th>9.0</th>\n",
       "      <td>0.951811</td>\n",
       "      <td>0.048189</td>\n",
       "    </tr>\n",
       "  </tbody>\n",
       "</table>\n",
       "</div>"
      ],
      "text/plain": [
       "MI              0.0       1.0\n",
       "Unmarried                    \n",
       "1.0        0.942805  0.057195\n",
       "2.0        0.917598  0.082402\n",
       "3.0        0.887866  0.112134\n",
       "4.0        0.914193  0.085807\n",
       "5.0        0.949591  0.050409\n",
       "6.0        0.951949  0.048051\n",
       "9.0        0.951811  0.048189"
      ]
     },
     "execution_count": 20,
     "metadata": {},
     "output_type": "execute_result"
    }
   ],
   "source": [
    "pd.crosstab(temp1.Unmarried, temp1.MI, normalize='index')"
   ]
  },
  {
   "cell_type": "code",
   "execution_count": 21,
   "metadata": {},
   "outputs": [
    {
     "name": "stdout",
     "output_type": "stream",
     "text": [
      "1.0    0.552747\n",
      "2.0    0.154068\n",
      "3.0    0.144683\n",
      "5.0    0.095333\n",
      "6.0    0.023661\n",
      "4.0    0.021127\n",
      "9.0    0.008380\n",
      "Name: Unmarried, dtype: float64\n",
      "0.0    0.680121\n",
      "1.0    0.319879\n",
      "Name: PreviousMarriage, dtype: float64\n",
      "0.0    0.904667\n",
      "1.0    0.095333\n",
      "Name: NeverMarried, dtype: float64\n"
     ]
    }
   ],
   "source": [
    "print(pd.value_counts(temp1.Unmarried, normalize='columns'))\n",
    "g0_dict={1:0,2:1, 3:1, 4:1, 5:0, 6:0, 9:0} #divorced / widowed / separated\n",
    "g1_dict={1:0,2:0, 3:0, 4:0, 5:1, 6:0, 9:0} #never married\n",
    "\n",
    "temp1['PreviousMarriage']=temp1['Unmarried'].replace(dict(g0_dict))\n",
    "temp1['NeverMarried']=temp1['Unmarried'].replace(dict(g1_dict))\n",
    "temp1=temp1.drop(columns=['Unmarried'])\n",
    "\n",
    "print(pd.value_counts(temp1.PreviousMarriage, normalize='columns'))\n",
    "print(pd.value_counts(temp1.NeverMarried, normalize='columns'))"
   ]
  },
  {
   "cell_type": "markdown",
   "metadata": {},
   "source": [
    "## Veteran, 1=Veteran\n",
    "\n",
    "Have you ever served on active duty in the United States Armed Forces, either in the regular military or the National Guard or military reserve unit?  \n",
    "\n",
    "1=Yes, 2=No, 7/9=DK/Refused"
   ]
  },
  {
   "cell_type": "code",
   "execution_count": 22,
   "metadata": {},
   "outputs": [
    {
     "data": {
      "text/html": [
       "<div>\n",
       "<style scoped>\n",
       "    .dataframe tbody tr th:only-of-type {\n",
       "        vertical-align: middle;\n",
       "    }\n",
       "\n",
       "    .dataframe tbody tr th {\n",
       "        vertical-align: top;\n",
       "    }\n",
       "\n",
       "    .dataframe thead th {\n",
       "        text-align: right;\n",
       "    }\n",
       "</style>\n",
       "<table border=\"1\" class=\"dataframe\">\n",
       "  <thead>\n",
       "    <tr style=\"text-align: right;\">\n",
       "      <th>MI</th>\n",
       "      <th>0.0</th>\n",
       "      <th>1.0</th>\n",
       "    </tr>\n",
       "    <tr>\n",
       "      <th>Veteran</th>\n",
       "      <th></th>\n",
       "      <th></th>\n",
       "    </tr>\n",
       "  </thead>\n",
       "  <tbody>\n",
       "    <tr>\n",
       "      <th>1.0</th>\n",
       "      <td>0.872503</td>\n",
       "      <td>0.127497</td>\n",
       "    </tr>\n",
       "    <tr>\n",
       "      <th>2.0</th>\n",
       "      <td>0.941017</td>\n",
       "      <td>0.058983</td>\n",
       "    </tr>\n",
       "    <tr>\n",
       "      <th>7.0</th>\n",
       "      <td>0.832061</td>\n",
       "      <td>0.167939</td>\n",
       "    </tr>\n",
       "    <tr>\n",
       "      <th>9.0</th>\n",
       "      <td>0.943005</td>\n",
       "      <td>0.056995</td>\n",
       "    </tr>\n",
       "  </tbody>\n",
       "</table>\n",
       "</div>"
      ],
      "text/plain": [
       "MI            0.0       1.0\n",
       "Veteran                    \n",
       "1.0      0.872503  0.127497\n",
       "2.0      0.941017  0.058983\n",
       "7.0      0.832061  0.167939\n",
       "9.0      0.943005  0.056995"
      ]
     },
     "execution_count": 22,
     "metadata": {},
     "output_type": "execute_result"
    }
   ],
   "source": [
    "pd.crosstab(temp1.Veteran, temp1.MI, normalize='index')"
   ]
  },
  {
   "cell_type": "code",
   "execution_count": 23,
   "metadata": {},
   "outputs": [
    {
     "name": "stdout",
     "output_type": "stream",
     "text": [
      "2.0    0.856216\n",
      "1.0    0.141198\n",
      "9.0    0.002211\n",
      "7.0    0.000375\n",
      "Name: Veteran, dtype: float64\n",
      "0.0    0.858802\n",
      "1.0    0.141198\n",
      "Name: Veteran, dtype: float64\n"
     ]
    }
   ],
   "source": [
    "print(pd.value_counts(temp1.Veteran, normalize='columns'))\n",
    "h0_dict={1:1, 2:0, 7:0, 9:0} #VetYes\n",
    "temp1['Veteran']=temp1['Veteran'].replace(dict(h0_dict))\n",
    "print(pd.value_counts(temp1.Veteran, normalize='columns'))"
   ]
  },
  {
   "cell_type": "markdown",
   "metadata": {},
   "source": [
    "## Poor Income\n",
    "\n",
    "1=<10K, 2=<15K, 3=<20K, 4=<25K, 5=<35K,6=<50K,7=<75K,8=>=75K, 77/99=DK, Refused\n",
    "\n",
    "We use below 25K, below 75K, DK/Refused, with referent group of 75K+."
   ]
  },
  {
   "cell_type": "code",
   "execution_count": 24,
   "metadata": {},
   "outputs": [
    {
     "data": {
      "text/html": [
       "<div>\n",
       "<style scoped>\n",
       "    .dataframe tbody tr th:only-of-type {\n",
       "        vertical-align: middle;\n",
       "    }\n",
       "\n",
       "    .dataframe tbody tr th {\n",
       "        vertical-align: top;\n",
       "    }\n",
       "\n",
       "    .dataframe thead th {\n",
       "        text-align: right;\n",
       "    }\n",
       "</style>\n",
       "<table border=\"1\" class=\"dataframe\">\n",
       "  <thead>\n",
       "    <tr style=\"text-align: right;\">\n",
       "      <th>MI</th>\n",
       "      <th>0.0</th>\n",
       "      <th>1.0</th>\n",
       "    </tr>\n",
       "    <tr>\n",
       "      <th>LowIncome</th>\n",
       "      <th></th>\n",
       "      <th></th>\n",
       "    </tr>\n",
       "  </thead>\n",
       "  <tbody>\n",
       "    <tr>\n",
       "      <th>1.0</th>\n",
       "      <td>0.888238</td>\n",
       "      <td>0.111762</td>\n",
       "    </tr>\n",
       "    <tr>\n",
       "      <th>2.0</th>\n",
       "      <td>0.866025</td>\n",
       "      <td>0.133975</td>\n",
       "    </tr>\n",
       "    <tr>\n",
       "      <th>3.0</th>\n",
       "      <td>0.886934</td>\n",
       "      <td>0.113066</td>\n",
       "    </tr>\n",
       "    <tr>\n",
       "      <th>4.0</th>\n",
       "      <td>0.899558</td>\n",
       "      <td>0.100442</td>\n",
       "    </tr>\n",
       "    <tr>\n",
       "      <th>5.0</th>\n",
       "      <td>0.913157</td>\n",
       "      <td>0.086843</td>\n",
       "    </tr>\n",
       "    <tr>\n",
       "      <th>6.0</th>\n",
       "      <td>0.927652</td>\n",
       "      <td>0.072348</td>\n",
       "    </tr>\n",
       "    <tr>\n",
       "      <th>7.0</th>\n",
       "      <td>0.944082</td>\n",
       "      <td>0.055918</td>\n",
       "    </tr>\n",
       "    <tr>\n",
       "      <th>8.0</th>\n",
       "      <td>0.965085</td>\n",
       "      <td>0.034915</td>\n",
       "    </tr>\n",
       "    <tr>\n",
       "      <th>77.0</th>\n",
       "      <td>0.907951</td>\n",
       "      <td>0.092049</td>\n",
       "    </tr>\n",
       "    <tr>\n",
       "      <th>99.0</th>\n",
       "      <td>0.937505</td>\n",
       "      <td>0.062495</td>\n",
       "    </tr>\n",
       "  </tbody>\n",
       "</table>\n",
       "</div>"
      ],
      "text/plain": [
       "MI              0.0       1.0\n",
       "LowIncome                    \n",
       "1.0        0.888238  0.111762\n",
       "2.0        0.866025  0.133975\n",
       "3.0        0.886934  0.113066\n",
       "4.0        0.899558  0.100442\n",
       "5.0        0.913157  0.086843\n",
       "6.0        0.927652  0.072348\n",
       "7.0        0.944082  0.055918\n",
       "8.0        0.965085  0.034915\n",
       "77.0       0.907951  0.092049\n",
       "99.0       0.937505  0.062495"
      ]
     },
     "execution_count": 24,
     "metadata": {},
     "output_type": "execute_result"
    }
   ],
   "source": [
    "pd.crosstab(temp1.LowIncome,temp1.MI, normalize='index')"
   ]
  },
  {
   "cell_type": "code",
   "execution_count": 25,
   "metadata": {},
   "outputs": [
    {
     "name": "stdout",
     "output_type": "stream",
     "text": [
      "8.0     0.289630\n",
      "7.0     0.144174\n",
      "6.0     0.109214\n",
      "99.0    0.106820\n",
      "5.0     0.081125\n",
      "4.0     0.069942\n",
      "77.0    0.067857\n",
      "3.0     0.055193\n",
      "2.0     0.039888\n",
      "1.0     0.036157\n",
      "Name: LowIncome, dtype: float64\n",
      "0.0    0.798821\n",
      "1.0    0.201179\n",
      "Name: LT25K, dtype: float64\n",
      "0.0    0.665487\n",
      "1.0    0.334513\n",
      "Name: LT50K, dtype: float64\n",
      "0.0    0.825323\n",
      "1.0    0.174677\n",
      "Name: Income_DKR, dtype: float64\n"
     ]
    }
   ],
   "source": [
    "print(pd.value_counts(temp1.LowIncome, normalize='columns'))\n",
    "i0_dict={1:1, 2:1, 3:1, 4:1, 5:0, 6:0, 7:0, 8:0, 77:0,99:0}\n",
    "i1_dict={1:0, 2:0, 3:0, 4:0, 5:1, 6:1, 7:1, 8:0, 77:0,99:0}\n",
    "i2_dict={1:0, 2:0, 3:0, 4:0, 5:0, 6:0, 7:0, 8:0, 77:1,99:1}\n",
    "temp1['LT25K']=temp1['LowIncome'].replace(dict(i0_dict))\n",
    "temp1['LT50K']=temp1['LowIncome'].replace(dict(i1_dict))\n",
    "temp1['Income_DKR']=temp1['LowIncome'].replace(dict(i2_dict))\n",
    "print(pd.value_counts(temp1.LT25K, normalize='columns'))\n",
    "print(pd.value_counts(temp1.LT50K, normalize='columns'))\n",
    "print(pd.value_counts(temp1.Income_DKR, normalize='columns'))\n",
    "temp1=temp1.drop(columns=['LowIncome'])"
   ]
  },
  {
   "cell_type": "markdown",
   "metadata": {},
   "source": [
    "## Education Recode: Below HS, HS, Post-HS but Not College Grad\n",
    "\n",
    "1=Never Attended, 2=Grades 1 through 8, 3=Grades 9-11, 4=Grade 12 / GED, 5=College 1 to 3 years, 6=College 4 or more years, 9=Refused"
   ]
  },
  {
   "cell_type": "code",
   "execution_count": 26,
   "metadata": {},
   "outputs": [
    {
     "data": {
      "text/html": [
       "<div>\n",
       "<style scoped>\n",
       "    .dataframe tbody tr th:only-of-type {\n",
       "        vertical-align: middle;\n",
       "    }\n",
       "\n",
       "    .dataframe tbody tr th {\n",
       "        vertical-align: top;\n",
       "    }\n",
       "\n",
       "    .dataframe thead th {\n",
       "        text-align: right;\n",
       "    }\n",
       "</style>\n",
       "<table border=\"1\" class=\"dataframe\">\n",
       "  <thead>\n",
       "    <tr style=\"text-align: right;\">\n",
       "      <th>MI</th>\n",
       "      <th>0.0</th>\n",
       "      <th>1.0</th>\n",
       "    </tr>\n",
       "    <tr>\n",
       "      <th>LowEducation</th>\n",
       "      <th></th>\n",
       "      <th></th>\n",
       "    </tr>\n",
       "  </thead>\n",
       "  <tbody>\n",
       "    <tr>\n",
       "      <th>1.0</th>\n",
       "      <td>0.906191</td>\n",
       "      <td>0.093809</td>\n",
       "    </tr>\n",
       "    <tr>\n",
       "      <th>2.0</th>\n",
       "      <td>0.883726</td>\n",
       "      <td>0.116274</td>\n",
       "    </tr>\n",
       "    <tr>\n",
       "      <th>3.0</th>\n",
       "      <td>0.877313</td>\n",
       "      <td>0.122687</td>\n",
       "    </tr>\n",
       "    <tr>\n",
       "      <th>4.0</th>\n",
       "      <td>0.915391</td>\n",
       "      <td>0.084609</td>\n",
       "    </tr>\n",
       "    <tr>\n",
       "      <th>5.0</th>\n",
       "      <td>0.927750</td>\n",
       "      <td>0.072250</td>\n",
       "    </tr>\n",
       "    <tr>\n",
       "      <th>6.0</th>\n",
       "      <td>0.953934</td>\n",
       "      <td>0.046066</td>\n",
       "    </tr>\n",
       "    <tr>\n",
       "      <th>9.0</th>\n",
       "      <td>0.939911</td>\n",
       "      <td>0.060089</td>\n",
       "    </tr>\n",
       "  </tbody>\n",
       "</table>\n",
       "</div>"
      ],
      "text/plain": [
       "MI                 0.0       1.0\n",
       "LowEducation                    \n",
       "1.0           0.906191  0.093809\n",
       "2.0           0.883726  0.116274\n",
       "3.0           0.877313  0.122687\n",
       "4.0           0.915391  0.084609\n",
       "5.0           0.927750  0.072250\n",
       "6.0           0.953934  0.046066\n",
       "9.0           0.939911  0.060089"
      ]
     },
     "execution_count": 26,
     "metadata": {},
     "output_type": "execute_result"
    }
   ],
   "source": [
    "pd.crosstab(temp1.LowEducation,temp1.MI, normalize='index')"
   ]
  },
  {
   "cell_type": "code",
   "execution_count": 27,
   "metadata": {},
   "outputs": [
    {
     "name": "stdout",
     "output_type": "stream",
     "text": [
      "6.0    0.389056\n",
      "5.0    0.272673\n",
      "4.0    0.261106\n",
      "3.0    0.045962\n",
      "2.0    0.025148\n",
      "9.0    0.004528\n",
      "1.0    0.001526\n",
      "Name: LowEducation, dtype: float64\n",
      "0.0    0.927363\n",
      "1.0    0.072637\n",
      "Name: PreHS, dtype: float64\n",
      "0.0    0.738894\n",
      "1.0    0.261106\n",
      "Name: HS, dtype: float64\n",
      "0.0    0.727327\n",
      "1.0    0.272673\n",
      "Name: PostHS, dtype: float64\n"
     ]
    }
   ],
   "source": [
    "print(pd.value_counts(temp1.LowEducation, normalize='columns'))\n",
    "j_dict={1:1, 2:1, 3:1, 4:0, 5:0, 6:0, 9:0} #add 9 to referent group (very small)\n",
    "k_dict={1:0, 2:0, 3:0, 4:1, 5:0, 6:0, 9:0}\n",
    "l_dict={1:0, 2:0, 3:0, 4:0, 5:1, 6:0, 9:0} #not a college grad but post-HS\n",
    "temp1['PreHS']=temp1['LowEducation'].replace(dict(j_dict))\n",
    "temp1['HS']=temp1['LowEducation'].replace(dict(k_dict))\n",
    "temp1['PostHS']=temp1['LowEducation'].replace(dict(l_dict))\n",
    "print(pd.value_counts(temp1.PreHS, normalize='columns'))\n",
    "print(pd.value_counts(temp1.HS, normalize='columns'))\n",
    "print(pd.value_counts(temp1.PostHS, normalize='columns'))\n",
    "temp1=temp1.drop(columns=['LowEducation'])"
   ]
  },
  {
   "cell_type": "markdown",
   "metadata": {},
   "source": [
    "## Not Employed\n",
    "\n",
    "1=Employed for Wages, 2=Self-Employed, 3=Out of work 1+, 4=Out of work <1, 5=Homemaker, 6=Student, 7=Retired, 8=Unable to Work, 9=Refused.\n",
    "\n",
    "RetiredUnable=7, 8\n",
    "\n",
    "OutofWork=3,4\n",
    "\n",
    "OtherNotWorking=5,6,9"
   ]
  },
  {
   "cell_type": "code",
   "execution_count": 28,
   "metadata": {},
   "outputs": [
    {
     "data": {
      "text/html": [
       "<div>\n",
       "<style scoped>\n",
       "    .dataframe tbody tr th:only-of-type {\n",
       "        vertical-align: middle;\n",
       "    }\n",
       "\n",
       "    .dataframe tbody tr th {\n",
       "        vertical-align: top;\n",
       "    }\n",
       "\n",
       "    .dataframe thead th {\n",
       "        text-align: right;\n",
       "    }\n",
       "</style>\n",
       "<table border=\"1\" class=\"dataframe\">\n",
       "  <thead>\n",
       "    <tr style=\"text-align: right;\">\n",
       "      <th>MI</th>\n",
       "      <th>0.0</th>\n",
       "      <th>1.0</th>\n",
       "    </tr>\n",
       "    <tr>\n",
       "      <th>Unemployed</th>\n",
       "      <th></th>\n",
       "      <th></th>\n",
       "    </tr>\n",
       "  </thead>\n",
       "  <tbody>\n",
       "    <tr>\n",
       "      <th>1.0</th>\n",
       "      <td>0.973462</td>\n",
       "      <td>0.026538</td>\n",
       "    </tr>\n",
       "    <tr>\n",
       "      <th>2.0</th>\n",
       "      <td>0.957115</td>\n",
       "      <td>0.042885</td>\n",
       "    </tr>\n",
       "    <tr>\n",
       "      <th>3.0</th>\n",
       "      <td>0.924810</td>\n",
       "      <td>0.075190</td>\n",
       "    </tr>\n",
       "    <tr>\n",
       "      <th>4.0</th>\n",
       "      <td>0.953511</td>\n",
       "      <td>0.046489</td>\n",
       "    </tr>\n",
       "    <tr>\n",
       "      <th>5.0</th>\n",
       "      <td>0.955229</td>\n",
       "      <td>0.044771</td>\n",
       "    </tr>\n",
       "    <tr>\n",
       "      <th>6.0</th>\n",
       "      <td>0.977663</td>\n",
       "      <td>0.022337</td>\n",
       "    </tr>\n",
       "    <tr>\n",
       "      <th>7.0</th>\n",
       "      <td>0.897222</td>\n",
       "      <td>0.102778</td>\n",
       "    </tr>\n",
       "    <tr>\n",
       "      <th>8.0</th>\n",
       "      <td>0.847608</td>\n",
       "      <td>0.152392</td>\n",
       "    </tr>\n",
       "    <tr>\n",
       "      <th>9.0</th>\n",
       "      <td>0.948222</td>\n",
       "      <td>0.051778</td>\n",
       "    </tr>\n",
       "  </tbody>\n",
       "</table>\n",
       "</div>"
      ],
      "text/plain": [
       "MI               0.0       1.0\n",
       "Unemployed                    \n",
       "1.0         0.973462  0.026538\n",
       "2.0         0.957115  0.042885\n",
       "3.0         0.924810  0.075190\n",
       "4.0         0.953511  0.046489\n",
       "5.0         0.955229  0.044771\n",
       "6.0         0.977663  0.022337\n",
       "7.0         0.897222  0.102778\n",
       "8.0         0.847608  0.152392\n",
       "9.0         0.948222  0.051778"
      ]
     },
     "execution_count": 28,
     "metadata": {},
     "output_type": "execute_result"
    }
   ],
   "source": [
    "pd.crosstab(temp1.Unemployed,temp1.MI, normalize='index')"
   ]
  },
  {
   "cell_type": "code",
   "execution_count": 29,
   "metadata": {},
   "outputs": [
    {
     "name": "stdout",
     "output_type": "stream",
     "text": [
      "7.0    0.368593\n",
      "1.0    0.357525\n",
      "2.0    0.094027\n",
      "8.0    0.080753\n",
      "5.0    0.055075\n",
      "3.0    0.017673\n",
      "4.0    0.014723\n",
      "9.0    0.008297\n",
      "6.0    0.003334\n",
      "Name: Unemployed, dtype: float64\n",
      "0.0    0.550654\n",
      "1.0    0.449346\n",
      "Name: RetiredUnable, dtype: float64\n",
      "0.0    0.967604\n",
      "1.0    0.032396\n",
      "Name: OutofWork, dtype: float64\n",
      "0.0    0.941591\n",
      "1.0    0.058409\n",
      "Name: OtherNotWorking, dtype: float64\n"
     ]
    }
   ],
   "source": [
    "print(pd.value_counts(temp1.Unemployed, normalize='columns'))\n",
    "m0_dict={1:0, 2:0, 3:0, 4:0, 5:0, 6:0, 7:1, 8:1, 9:0} # RetiredUnable...  refused added to referent group (very small)\n",
    "m1_dict={1:0, 2:0, 3:1, 4:1, 5:0, 6:0, 7:0, 8:0, 9:0} # OutofWork\n",
    "m2_dict={1:0, 2:0, 3:0, 4:0, 5:1, 6:1, 7:0, 8:0, 9:0} # Other not Working\n",
    "temp1['RetiredUnable']=temp1['Unemployed'].replace(dict(m0_dict))\n",
    "temp1['OutofWork']=temp1['Unemployed'].replace(dict(m1_dict))\n",
    "temp1['OtherNotWorking']=temp1['Unemployed'].replace(dict(m2_dict))\n",
    "print(pd.value_counts(temp1.RetiredUnable, normalize='columns'))\n",
    "print(pd.value_counts(temp1.OutofWork, normalize='columns'))\n",
    "print(pd.value_counts(temp1.OtherNotWorking, normalize='columns'))\n",
    "temp1=temp1.drop(columns=['Unemployed'])"
   ]
  },
  {
   "cell_type": "markdown",
   "metadata": {},
   "source": [
    "## Rent Home\n",
    "\n",
    "1=Own, 2=Rent, 3=Other, 7/9=DK/R"
   ]
  },
  {
   "cell_type": "code",
   "execution_count": 30,
   "metadata": {},
   "outputs": [
    {
     "data": {
      "text/html": [
       "<div>\n",
       "<style scoped>\n",
       "    .dataframe tbody tr th:only-of-type {\n",
       "        vertical-align: middle;\n",
       "    }\n",
       "\n",
       "    .dataframe tbody tr th {\n",
       "        vertical-align: top;\n",
       "    }\n",
       "\n",
       "    .dataframe thead th {\n",
       "        text-align: right;\n",
       "    }\n",
       "</style>\n",
       "<table border=\"1\" class=\"dataframe\">\n",
       "  <thead>\n",
       "    <tr style=\"text-align: right;\">\n",
       "      <th>MI</th>\n",
       "      <th>0.0</th>\n",
       "      <th>1.0</th>\n",
       "    </tr>\n",
       "    <tr>\n",
       "      <th>RentHome</th>\n",
       "      <th></th>\n",
       "      <th></th>\n",
       "    </tr>\n",
       "  </thead>\n",
       "  <tbody>\n",
       "    <tr>\n",
       "      <th>1.0</th>\n",
       "      <td>0.935993</td>\n",
       "      <td>0.064007</td>\n",
       "    </tr>\n",
       "    <tr>\n",
       "      <th>2.0</th>\n",
       "      <td>0.916020</td>\n",
       "      <td>0.083980</td>\n",
       "    </tr>\n",
       "    <tr>\n",
       "      <th>3.0</th>\n",
       "      <td>0.903329</td>\n",
       "      <td>0.096671</td>\n",
       "    </tr>\n",
       "    <tr>\n",
       "      <th>7.0</th>\n",
       "      <td>0.925852</td>\n",
       "      <td>0.074148</td>\n",
       "    </tr>\n",
       "    <tr>\n",
       "      <th>9.0</th>\n",
       "      <td>0.938022</td>\n",
       "      <td>0.061978</td>\n",
       "    </tr>\n",
       "  </tbody>\n",
       "</table>\n",
       "</div>"
      ],
      "text/plain": [
       "MI             0.0       1.0\n",
       "RentHome                    \n",
       "1.0       0.935993  0.064007\n",
       "2.0       0.916020  0.083980\n",
       "3.0       0.903329  0.096671\n",
       "7.0       0.925852  0.074148\n",
       "9.0       0.938022  0.061978"
      ]
     },
     "execution_count": 30,
     "metadata": {},
     "output_type": "execute_result"
    }
   ],
   "source": [
    "pd.crosstab(temp1.RentHome,temp1.MI, normalize='index')"
   ]
  },
  {
   "cell_type": "code",
   "execution_count": 31,
   "metadata": {},
   "outputs": [
    {
     "name": "stdout",
     "output_type": "stream",
     "text": [
      "1.0    0.777327\n",
      "2.0    0.183503\n",
      "3.0    0.031225\n",
      "9.0    0.006515\n",
      "7.0    0.001429\n",
      "Name: RentHome, dtype: float64\n",
      "0.0    0.816497\n",
      "1.0    0.183503\n",
      "Name: RentHome, dtype: float64\n"
     ]
    }
   ],
   "source": [
    "print(pd.value_counts(temp1.RentHome, normalize='columns'))\n",
    "m2_dict={2:1, 1:0, 3:0, 7:0, 9:0}\n",
    "temp1['RentHome']=temp1['RentHome'].replace(dict(m2_dict))\n",
    "print(pd.value_counts(temp1.RentHome, normalize='columns'))"
   ]
  },
  {
   "cell_type": "markdown",
   "metadata": {},
   "source": [
    "## Poor Health\n",
    "\n",
    "1=Excellent, 2=Very Good, 3=Good, 4=Fair, 5=Poor, 7/9=DK, Refused\n"
   ]
  },
  {
   "cell_type": "code",
   "execution_count": 32,
   "metadata": {},
   "outputs": [
    {
     "name": "stdout",
     "output_type": "stream",
     "text": [
      "3.0    0.321102\n",
      "2.0    0.317877\n",
      "4.0    0.152814\n",
      "1.0    0.145371\n",
      "5.0    0.060207\n",
      "7.0    0.001902\n",
      "9.0    0.000727\n",
      "Name: PoorHealth, dtype: float64\n",
      "3.0    0.323731\n",
      "2.0    0.317877\n",
      "4.0    0.152814\n",
      "1.0    0.145371\n",
      "5.0    0.060207\n",
      "Name: PoorHealth, dtype: float64\n"
     ]
    }
   ],
   "source": [
    "print(pd.value_counts(temp1.PoorHealth, normalize='columns'))\n",
    "#7 and 9 are small, modal imputation\n",
    "m2a_dict={7:3, 9:3}\n",
    "temp1['PoorHealth']=temp1['PoorHealth'].replace(dict(m2a_dict))\n",
    "print(pd.value_counts(temp1.PoorHealth, normalize='columns'))"
   ]
  },
  {
   "cell_type": "code",
   "execution_count": 33,
   "metadata": {},
   "outputs": [
    {
     "data": {
      "text/html": [
       "<div>\n",
       "<style scoped>\n",
       "    .dataframe tbody tr th:only-of-type {\n",
       "        vertical-align: middle;\n",
       "    }\n",
       "\n",
       "    .dataframe tbody tr th {\n",
       "        vertical-align: top;\n",
       "    }\n",
       "\n",
       "    .dataframe thead th {\n",
       "        text-align: right;\n",
       "    }\n",
       "</style>\n",
       "<table border=\"1\" class=\"dataframe\">\n",
       "  <thead>\n",
       "    <tr style=\"text-align: right;\">\n",
       "      <th>MI</th>\n",
       "      <th>0.0</th>\n",
       "      <th>1.0</th>\n",
       "    </tr>\n",
       "    <tr>\n",
       "      <th>PoorHealth</th>\n",
       "      <th></th>\n",
       "      <th></th>\n",
       "    </tr>\n",
       "  </thead>\n",
       "  <tbody>\n",
       "    <tr>\n",
       "      <th>1.0</th>\n",
       "      <td>0.982447</td>\n",
       "      <td>0.017553</td>\n",
       "    </tr>\n",
       "    <tr>\n",
       "      <th>2.0</th>\n",
       "      <td>0.966773</td>\n",
       "      <td>0.033227</td>\n",
       "    </tr>\n",
       "    <tr>\n",
       "      <th>3.0</th>\n",
       "      <td>0.932103</td>\n",
       "      <td>0.067897</td>\n",
       "    </tr>\n",
       "    <tr>\n",
       "      <th>4.0</th>\n",
       "      <td>0.868101</td>\n",
       "      <td>0.131899</td>\n",
       "    </tr>\n",
       "    <tr>\n",
       "      <th>5.0</th>\n",
       "      <td>0.776721</td>\n",
       "      <td>0.223279</td>\n",
       "    </tr>\n",
       "  </tbody>\n",
       "</table>\n",
       "</div>"
      ],
      "text/plain": [
       "MI               0.0       1.0\n",
       "PoorHealth                    \n",
       "1.0         0.982447  0.017553\n",
       "2.0         0.966773  0.033227\n",
       "3.0         0.932103  0.067897\n",
       "4.0         0.868101  0.131899\n",
       "5.0         0.776721  0.223279"
      ]
     },
     "execution_count": 33,
     "metadata": {},
     "output_type": "execute_result"
    }
   ],
   "source": [
    "pd.crosstab(temp1.PoorHealth,temp1.MI, normalize='index')"
   ]
  },
  {
   "cell_type": "code",
   "execution_count": 34,
   "metadata": {},
   "outputs": [
    {
     "name": "stdout",
     "output_type": "stream",
     "text": [
      "3.0    0.323731\n",
      "2.0    0.317877\n",
      "4.0    0.152814\n",
      "1.0    0.145371\n",
      "5.0    0.060207\n",
      "Name: PoorHealth, dtype: float64\n",
      "0.0    0.939793\n",
      "1.0    0.060207\n",
      "Name: PoorHealth, dtype: float64\n"
     ]
    }
   ],
   "source": [
    "print(pd.value_counts(temp1.PoorHealth, normalize='columns'))\n",
    "n0_dict={1:0, 2:0, 3:0, 4:0, 5:1, 7:0, 9:0} #poor health\n",
    "n1_dict={1:0, 2:0, 3:0, 4:1, 5:0, 7:0, 9:0} #fair health\n",
    "n2_dict={1:0, 2:0, 3:1, 4:0, 5:0, 7:0, 9:0} #good health\n",
    "\n",
    "temp1['FairHealth']=temp1['PoorHealth'].replace(dict(n1_dict))\n",
    "temp1['GoodHealth']=temp1['PoorHealth'].replace(dict(n2_dict))\n",
    "temp1['PoorHealth']=temp1['PoorHealth'].replace(dict(n0_dict))\n",
    "\n",
    "print(pd.value_counts(temp1.PoorHealth, normalize='columns'))"
   ]
  },
  {
   "cell_type": "markdown",
   "metadata": {},
   "source": [
    "## Smoker\n",
    "\n",
    "Have you smoked 100 cigarettes in your life?  1=Yes, 2=No, 7/9=DK/Refused"
   ]
  },
  {
   "cell_type": "code",
   "execution_count": 35,
   "metadata": {},
   "outputs": [
    {
     "data": {
      "text/html": [
       "<div>\n",
       "<style scoped>\n",
       "    .dataframe tbody tr th:only-of-type {\n",
       "        vertical-align: middle;\n",
       "    }\n",
       "\n",
       "    .dataframe tbody tr th {\n",
       "        vertical-align: top;\n",
       "    }\n",
       "\n",
       "    .dataframe thead th {\n",
       "        text-align: right;\n",
       "    }\n",
       "</style>\n",
       "<table border=\"1\" class=\"dataframe\">\n",
       "  <thead>\n",
       "    <tr style=\"text-align: right;\">\n",
       "      <th>MI</th>\n",
       "      <th>0.0</th>\n",
       "      <th>1.0</th>\n",
       "    </tr>\n",
       "    <tr>\n",
       "      <th>Smoker</th>\n",
       "      <th></th>\n",
       "      <th></th>\n",
       "    </tr>\n",
       "  </thead>\n",
       "  <tbody>\n",
       "    <tr>\n",
       "      <th>1.0</th>\n",
       "      <td>0.903343</td>\n",
       "      <td>0.096657</td>\n",
       "    </tr>\n",
       "    <tr>\n",
       "      <th>2.0</th>\n",
       "      <td>0.952378</td>\n",
       "      <td>0.047622</td>\n",
       "    </tr>\n",
       "    <tr>\n",
       "      <th>7.0</th>\n",
       "      <td>0.932322</td>\n",
       "      <td>0.067678</td>\n",
       "    </tr>\n",
       "    <tr>\n",
       "      <th>9.0</th>\n",
       "      <td>0.948919</td>\n",
       "      <td>0.051081</td>\n",
       "    </tr>\n",
       "  </tbody>\n",
       "</table>\n",
       "</div>"
      ],
      "text/plain": [
       "MI           0.0       1.0\n",
       "Smoker                    \n",
       "1.0     0.903343  0.096657\n",
       "2.0     0.952378  0.047622\n",
       "7.0     0.932322  0.067678\n",
       "9.0     0.948919  0.051081"
      ]
     },
     "execution_count": 35,
     "metadata": {},
     "output_type": "execute_result"
    }
   ],
   "source": [
    "pd.crosstab(temp1.Smoker,temp1.MI, normalize='index')"
   ]
  },
  {
   "cell_type": "code",
   "execution_count": 36,
   "metadata": {},
   "outputs": [
    {
     "name": "stdout",
     "output_type": "stream",
     "text": [
      "2.0    0.566021\n",
      "1.0    0.427612\n",
      "7.0    0.004909\n",
      "9.0    0.001458\n",
      "Name: Smoker, dtype: float64\n",
      "0.0    0.572388\n",
      "1.0    0.427612\n",
      "Name: Smoker, dtype: float64\n"
     ]
    }
   ],
   "source": [
    "print(pd.value_counts(temp1.Smoker, normalize='columns'))\n",
    "temp1['Smoker']=temp1['Smoker'].replace(dict(a_dict))\n",
    "print(pd.value_counts(temp1.Smoker, normalize='columns'))"
   ]
  },
  {
   "cell_type": "markdown",
   "metadata": {},
   "source": [
    "## Chew / Snuff\n",
    "\n",
    "Do you currently use chewing tobacco, snuff, or snus every day, some days, or not at all?\n",
    "1=Every day, 2=Some days, 3=Not at all, 7/9=DK/Refused"
   ]
  },
  {
   "cell_type": "code",
   "execution_count": 37,
   "metadata": {},
   "outputs": [
    {
     "data": {
      "text/html": [
       "<div>\n",
       "<style scoped>\n",
       "    .dataframe tbody tr th:only-of-type {\n",
       "        vertical-align: middle;\n",
       "    }\n",
       "\n",
       "    .dataframe tbody tr th {\n",
       "        vertical-align: top;\n",
       "    }\n",
       "\n",
       "    .dataframe thead th {\n",
       "        text-align: right;\n",
       "    }\n",
       "</style>\n",
       "<table border=\"1\" class=\"dataframe\">\n",
       "  <thead>\n",
       "    <tr style=\"text-align: right;\">\n",
       "      <th>MI</th>\n",
       "      <th>0.0</th>\n",
       "      <th>1.0</th>\n",
       "    </tr>\n",
       "    <tr>\n",
       "      <th>ChewSnuff</th>\n",
       "      <th></th>\n",
       "      <th></th>\n",
       "    </tr>\n",
       "  </thead>\n",
       "  <tbody>\n",
       "    <tr>\n",
       "      <th>1.0</th>\n",
       "      <td>0.918790</td>\n",
       "      <td>0.081210</td>\n",
       "    </tr>\n",
       "    <tr>\n",
       "      <th>2.0</th>\n",
       "      <td>0.922188</td>\n",
       "      <td>0.077812</td>\n",
       "    </tr>\n",
       "    <tr>\n",
       "      <th>3.0</th>\n",
       "      <td>0.931641</td>\n",
       "      <td>0.068359</td>\n",
       "    </tr>\n",
       "    <tr>\n",
       "      <th>7.0</th>\n",
       "      <td>0.880597</td>\n",
       "      <td>0.119403</td>\n",
       "    </tr>\n",
       "    <tr>\n",
       "      <th>9.0</th>\n",
       "      <td>0.948276</td>\n",
       "      <td>0.051724</td>\n",
       "    </tr>\n",
       "  </tbody>\n",
       "</table>\n",
       "</div>"
      ],
      "text/plain": [
       "MI              0.0       1.0\n",
       "ChewSnuff                    \n",
       "1.0        0.918790  0.081210\n",
       "2.0        0.922188  0.077812\n",
       "3.0        0.931641  0.068359\n",
       "7.0        0.880597  0.119403\n",
       "9.0        0.948276  0.051724"
      ]
     },
     "execution_count": 37,
     "metadata": {},
     "output_type": "execute_result"
    }
   ],
   "source": [
    "pd.crosstab(temp1.ChewSnuff,temp1.MI, normalize='index')"
   ]
  },
  {
   "cell_type": "code",
   "execution_count": 38,
   "metadata": {},
   "outputs": [
    {
     "name": "stdout",
     "output_type": "stream",
     "text": [
      "3.0    0.969150\n",
      "1.0    0.017985\n",
      "2.0    0.011152\n",
      "9.0    0.001329\n",
      "7.0    0.000384\n",
      "Name: ChewSnuff, dtype: float64\n",
      "0.0    0.970863\n",
      "1.0    0.029137\n",
      "Name: ChewSnuff, dtype: float64\n"
     ]
    }
   ],
   "source": [
    "print(pd.value_counts(temp1.ChewSnuff, normalize='columns'))\n",
    "n2_dict={1:1, 2:1, 3:0, 7:0, 9:0}\n",
    "temp1['ChewSnuff']=temp1['ChewSnuff'].replace(dict(n2_dict))\n",
    "print(pd.value_counts(temp1.ChewSnuff, normalize='columns'))"
   ]
  },
  {
   "cell_type": "markdown",
   "metadata": {},
   "source": [
    "## Poor Exercise\n",
    "\n",
    "1=301+ minutes (or vigorous equivalent) of physical activity, 2=1-300 minutes, 3=0 minutes, 9=DK/Refused\n"
   ]
  },
  {
   "cell_type": "code",
   "execution_count": 39,
   "metadata": {},
   "outputs": [
    {
     "data": {
      "text/html": [
       "<div>\n",
       "<style scoped>\n",
       "    .dataframe tbody tr th:only-of-type {\n",
       "        vertical-align: middle;\n",
       "    }\n",
       "\n",
       "    .dataframe tbody tr th {\n",
       "        vertical-align: top;\n",
       "    }\n",
       "\n",
       "    .dataframe thead th {\n",
       "        text-align: right;\n",
       "    }\n",
       "</style>\n",
       "<table border=\"1\" class=\"dataframe\">\n",
       "  <thead>\n",
       "    <tr style=\"text-align: right;\">\n",
       "      <th>MI</th>\n",
       "      <th>0.0</th>\n",
       "      <th>1.0</th>\n",
       "    </tr>\n",
       "    <tr>\n",
       "      <th>NoExercise</th>\n",
       "      <th></th>\n",
       "      <th></th>\n",
       "    </tr>\n",
       "  </thead>\n",
       "  <tbody>\n",
       "    <tr>\n",
       "      <th>1.0</th>\n",
       "      <td>0.938377</td>\n",
       "      <td>0.061623</td>\n",
       "    </tr>\n",
       "    <tr>\n",
       "      <th>2.0</th>\n",
       "      <td>0.950721</td>\n",
       "      <td>0.049279</td>\n",
       "    </tr>\n",
       "    <tr>\n",
       "      <th>3.0</th>\n",
       "      <td>0.903482</td>\n",
       "      <td>0.096518</td>\n",
       "    </tr>\n",
       "    <tr>\n",
       "      <th>9.0</th>\n",
       "      <td>0.931500</td>\n",
       "      <td>0.068500</td>\n",
       "    </tr>\n",
       "  </tbody>\n",
       "</table>\n",
       "</div>"
      ],
      "text/plain": [
       "MI               0.0       1.0\n",
       "NoExercise                    \n",
       "1.0         0.938377  0.061623\n",
       "2.0         0.950721  0.049279\n",
       "3.0         0.903482  0.096518\n",
       "9.0         0.931500  0.068500"
      ]
     },
     "execution_count": 39,
     "metadata": {},
     "output_type": "execute_result"
    }
   ],
   "source": [
    "pd.crosstab(temp1.NoExercise,temp1.MI, normalize='index')"
   ]
  },
  {
   "cell_type": "code",
   "execution_count": 40,
   "metadata": {},
   "outputs": [
    {
     "name": "stdout",
     "output_type": "stream",
     "text": [
      "1.0    0.320300\n",
      "2.0    0.282270\n",
      "3.0    0.279154\n",
      "9.0    0.118276\n",
      "Name: NoExercise, dtype: float64\n",
      "0.0    0.720846\n",
      "1.0    0.279154\n",
      "Name: NoExercise, dtype: float64\n"
     ]
    }
   ],
   "source": [
    "print(pd.value_counts(temp1.NoExercise, normalize='columns'))\n",
    "o_dict={1:0,2:0,3:1, 9:0} #modal imputation\n",
    "temp1['NoExercise']=temp1['NoExercise'].replace(dict(o_dict))\n",
    "print(pd.value_counts(temp1.NoExercise, normalize='columns'))"
   ]
  },
  {
   "cell_type": "markdown",
   "metadata": {},
   "source": [
    "## Proportion of Days Drink\n",
    "\n",
    "101-107:  days per week \n",
    "\n",
    "201-230:  days in past 30 days\n",
    "\n",
    "777:  don't know/not sure\n",
    "\n",
    "888:  no days\n",
    "\n",
    "999:  refused"
   ]
  },
  {
   "cell_type": "code",
   "execution_count": 41,
   "metadata": {},
   "outputs": [
    {
     "data": {
      "text/plain": [
       "<AxesSubplot:xlabel='PercentDrink', ylabel='Count'>"
      ]
     },
     "execution_count": 41,
     "metadata": {},
     "output_type": "execute_result"
    },
    {
     "data": {
      "image/png": "[encoded data removed]",
      "text/plain": [
       "<Figure size 432x288 with 1 Axes>"
      ]
     },
     "metadata": {
      "needs_background": "light"
     },
     "output_type": "display_data"
    }
   ],
   "source": [
    "#print(temp1['PercentDrink'].value_counts())\n",
    "def my_recode(v):\n",
    "    if v==888:\n",
    "        return(0)\n",
    "    elif v>0 and v<=107:\n",
    "        return (v-100)/7\n",
    "    elif v>107 and v<=230:\n",
    "        return (v-200)/30\n",
    "    else:\n",
    "        return 0\n",
    "temp1['PercentDrink']= temp1['PercentDrink'].apply(my_recode)\n",
    "mysc=Scaler()\n",
    "temp1['PercentDrink']=mysc.fit_transform(temp1[['PercentDrink']])\n",
    "sns.histplot(data=temp1, x=\"PercentDrink\")"
   ]
  },
  {
   "cell_type": "markdown",
   "metadata": {},
   "source": [
    "## Proportion of Drinks Squared"
   ]
  },
  {
   "cell_type": "code",
   "execution_count": 42,
   "metadata": {},
   "outputs": [],
   "source": [
    "temp1['PercentDrink_2']=np.square(temp1['PercentDrink'])"
   ]
  },
  {
   "cell_type": "markdown",
   "metadata": {},
   "source": [
    "## High Cholesterol\n",
    "\n",
    "1=Yes, 2=No, 7/9=DK/Refused"
   ]
  },
  {
   "cell_type": "code",
   "execution_count": 43,
   "metadata": {},
   "outputs": [
    {
     "data": {
      "text/html": [
       "<div>\n",
       "<style scoped>\n",
       "    .dataframe tbody tr th:only-of-type {\n",
       "        vertical-align: middle;\n",
       "    }\n",
       "\n",
       "    .dataframe tbody tr th {\n",
       "        vertical-align: top;\n",
       "    }\n",
       "\n",
       "    .dataframe thead th {\n",
       "        text-align: right;\n",
       "    }\n",
       "</style>\n",
       "<table border=\"1\" class=\"dataframe\">\n",
       "  <thead>\n",
       "    <tr style=\"text-align: right;\">\n",
       "      <th>MI</th>\n",
       "      <th>0.0</th>\n",
       "      <th>1.0</th>\n",
       "    </tr>\n",
       "    <tr>\n",
       "      <th>HighCholesterol</th>\n",
       "      <th></th>\n",
       "      <th></th>\n",
       "    </tr>\n",
       "  </thead>\n",
       "  <tbody>\n",
       "    <tr>\n",
       "      <th>1.0</th>\n",
       "      <td>0.891152</td>\n",
       "      <td>0.108848</td>\n",
       "    </tr>\n",
       "    <tr>\n",
       "      <th>2.0</th>\n",
       "      <td>0.958808</td>\n",
       "      <td>0.041192</td>\n",
       "    </tr>\n",
       "    <tr>\n",
       "      <th>7.0</th>\n",
       "      <td>0.901498</td>\n",
       "      <td>0.098502</td>\n",
       "    </tr>\n",
       "    <tr>\n",
       "      <th>9.0</th>\n",
       "      <td>0.960526</td>\n",
       "      <td>0.039474</td>\n",
       "    </tr>\n",
       "  </tbody>\n",
       "</table>\n",
       "</div>"
      ],
      "text/plain": [
       "MI                    0.0       1.0\n",
       "HighCholesterol                    \n",
       "1.0              0.891152  0.108848\n",
       "2.0              0.958808  0.041192\n",
       "7.0              0.901498  0.098502\n",
       "9.0              0.960526  0.039474"
      ]
     },
     "execution_count": 43,
     "metadata": {},
     "output_type": "execute_result"
    }
   ],
   "source": [
    "pd.crosstab(temp1.HighCholesterol,temp1.MI, normalize='index')"
   ]
  },
  {
   "cell_type": "code",
   "execution_count": 44,
   "metadata": {},
   "outputs": [
    {
     "name": "stdout",
     "output_type": "stream",
     "text": [
      "2.0    0.590822\n",
      "1.0    0.397768\n",
      "7.0    0.010321\n",
      "9.0    0.001088\n",
      "Name: HighCholesterol, dtype: float64\n",
      "0.0    0.602232\n",
      "1.0    0.397768\n",
      "Name: HighCholesterol, dtype: float64\n"
     ]
    }
   ],
   "source": [
    "print(pd.value_counts(temp1.HighCholesterol, normalize='columns'))\n",
    "temp1['HighCholesterol']=temp1['HighCholesterol'].replace(dict(a_dict))\n",
    "print(pd.value_counts(temp1.HighCholesterol, normalize='columns'))"
   ]
  },
  {
   "cell_type": "markdown",
   "metadata": {},
   "source": [
    "## High BP\n",
    "\n",
    "1=No, 2=Yes, 9=DK/Not Sure/Refused/Missing"
   ]
  },
  {
   "cell_type": "code",
   "execution_count": 45,
   "metadata": {},
   "outputs": [
    {
     "name": "stdout",
     "output_type": "stream",
     "text": [
      "1.0    0.532789\n",
      "2.0    0.463400\n",
      "9.0    0.003812\n",
      "Name: HighBP, dtype: float64\n",
      "0.0    0.5366\n",
      "1.0    0.4634\n",
      "Name: HighBP, dtype: float64\n"
     ]
    }
   ],
   "source": [
    "print(pd.value_counts(temp1.HighBP, normalize='columns'))\n",
    "p_dict={1:0, 2:1, 9:0}  #2 = YES\n",
    "temp1['HighBP']=temp1['HighBP'].replace(dict(p_dict))\n",
    "print(pd.value_counts(temp1.HighBP, normalize='columns'))"
   ]
  },
  {
   "cell_type": "markdown",
   "metadata": {},
   "source": [
    "## High BMI\n",
    "\n",
    "1=No, 2=Yes, 9=DK/R/M"
   ]
  },
  {
   "cell_type": "code",
   "execution_count": 46,
   "metadata": {},
   "outputs": [
    {
     "name": "stdout",
     "output_type": "stream",
     "text": [
      "2.0    0.642962\n",
      "1.0    0.273309\n",
      "9.0    0.083729\n",
      "Name: HighBMI, dtype: float64\n",
      "1.0    0.642962\n",
      "0.0    0.357038\n",
      "Name: HighBMI, dtype: float64\n"
     ]
    }
   ],
   "source": [
    "print(pd.value_counts(temp1.HighBMI, normalize='columns'))\n",
    "temp1['HighBMI']=temp1['HighBMI'].replace(dict(p_dict))\n",
    "print(pd.value_counts(temp1.HighBMI, normalize='columns'))"
   ]
  },
  {
   "cell_type": "markdown",
   "metadata": {},
   "source": [
    "## Diabetes\n",
    "\n",
    "1=Yes, 2=During Pregnancy, 3=No, 4=No-prediabetes, 7=DK, 9=Refused"
   ]
  },
  {
   "cell_type": "code",
   "execution_count": 47,
   "metadata": {},
   "outputs": [
    {
     "name": "stdout",
     "output_type": "stream",
     "text": [
      "3.0    0.803884\n",
      "1.0    0.160965\n",
      "4.0    0.024609\n",
      "2.0    0.008509\n",
      "7.0    0.001412\n",
      "9.0    0.000621\n",
      "Name: Diabetes, dtype: float64\n",
      "0.0    0.839035\n",
      "1.0    0.160965\n",
      "Name: Diabetic, dtype: float64\n",
      "0.0    0.975391\n",
      "1.0    0.024609\n",
      "Name: Prediabetic, dtype: float64\n"
     ]
    }
   ],
   "source": [
    "print(pd.value_counts(temp1.Diabetes, normalize='columns'))\n",
    "q0_dict={1:1, 2:0, 3:0, 4:0, 7:0, 9:0} #diabetes\n",
    "q1_dict={1:0, 2:0, 3:0, 4:1, 7:0, 9:0} #pre-diabetic\n",
    "temp1['Diabetic']=temp1['Diabetes'].replace(dict(q0_dict))\n",
    "temp1['Prediabetic']=temp1['Diabetes'].replace(dict(q1_dict))\n",
    "temp1=temp1.drop(columns=['Diabetes'])\n",
    "print(pd.value_counts(temp1.Diabetic, normalize='columns'))\n",
    "print(pd.value_counts(temp1.Prediabetic, normalize='columns'))"
   ]
  },
  {
   "cell_type": "markdown",
   "metadata": {},
   "source": [
    "## Days Poor Physical Health\n",
    "\n",
    "1-30=Number of Days, 88=0, 77=DK, 99=Refused"
   ]
  },
  {
   "cell_type": "code",
   "execution_count": 48,
   "metadata": {},
   "outputs": [
    {
     "data": {
      "text/plain": [
       "<AxesSubplot:xlabel='PhysicalHealth', ylabel='Count'>"
      ]
     },
     "execution_count": 48,
     "metadata": {},
     "output_type": "execute_result"
    },
    {
     "data": {
      "image/png": "[encoded data removed]",
      "text/plain": [
       "<Figure size 432x288 with 1 Axes>"
      ]
     },
     "metadata": {
      "needs_background": "light"
     },
     "output_type": "display_data"
    }
   ],
   "source": [
    "def my_recode2(v):\n",
    "    if v>30:\n",
    "        return(0)\n",
    "    else:\n",
    "        return(v)\n",
    "    \n",
    "    \n",
    "temp1['PhysicalHealth']= temp1['PhysicalHealth'].apply(my_recode2)\n",
    "temp1['PhysicalHealth']=mysc.fit_transform(temp1[['PhysicalHealth']])\n",
    "sns.histplot(data=temp1, x=\"PhysicalHealth\")"
   ]
  },
  {
   "cell_type": "markdown",
   "metadata": {},
   "source": [
    "## Mental Health\n",
    "\n",
    "1-30=Number of days, 88=None, 77/99=DK/Refused"
   ]
  },
  {
   "cell_type": "code",
   "execution_count": 49,
   "metadata": {},
   "outputs": [
    {
     "data": {
      "text/plain": [
       "<AxesSubplot:xlabel='MentalHealth', ylabel='Count'>"
      ]
     },
     "execution_count": 49,
     "metadata": {},
     "output_type": "execute_result"
    },
    {
     "data": {
      "image/png": "[encoded data removed]",
      "text/plain": [
       "<Figure size 432x288 with 1 Axes>"
      ]
     },
     "metadata": {
      "needs_background": "light"
     },
     "output_type": "display_data"
    }
   ],
   "source": [
    "temp1['MentalHealth']= temp1['MentalHealth'].apply(my_recode2)\n",
    "temp1['MentalHealth']=mysc.fit_transform(temp1[['MentalHealth']])\n",
    "sns.histplot(data=temp1, x=\"MentalHealth\")"
   ]
  },
  {
   "cell_type": "markdown",
   "metadata": {},
   "source": [
    "## Depression\n",
    "\n",
    "1=Yes, 2=No, 7/9=DK/R"
   ]
  },
  {
   "cell_type": "code",
   "execution_count": 50,
   "metadata": {},
   "outputs": [
    {
     "name": "stdout",
     "output_type": "stream",
     "text": [
      "2.0    0.812098\n",
      "1.0    0.182704\n",
      "7.0    0.003946\n",
      "9.0    0.001252\n",
      "Name: Depression, dtype: float64\n",
      "0.0    0.817296\n",
      "1.0    0.182704\n",
      "Name: Depression, dtype: float64\n"
     ]
    }
   ],
   "source": [
    "print(pd.value_counts(temp1.Depression, normalize='columns'))\n",
    "temp1['Depression']=temp1['Depression'].replace(dict(a_dict))\n",
    "print(pd.value_counts(temp1.Depression, normalize='columns'))"
   ]
  },
  {
   "cell_type": "markdown",
   "metadata": {},
   "source": [
    "## Stroke\n",
    "\n",
    "1=Yes, 2=No, 7/9=DK/R"
   ]
  },
  {
   "cell_type": "code",
   "execution_count": 51,
   "metadata": {},
   "outputs": [
    {
     "name": "stdout",
     "output_type": "stream",
     "text": [
      "2.0    0.944040\n",
      "1.0    0.052524\n",
      "7.0    0.002941\n",
      "9.0    0.000495\n",
      "Name: Stroke, dtype: float64\n",
      "0.0    0.947476\n",
      "1.0    0.052524\n",
      "Name: Stroke, dtype: float64\n"
     ]
    }
   ],
   "source": [
    "print(pd.value_counts(temp1.Stroke, normalize='columns'))\n",
    "temp1['Stroke']=temp1['Stroke'].replace(dict(a_dict))\n",
    "print(pd.value_counts(temp1.Stroke, normalize='columns'))"
   ]
  },
  {
   "cell_type": "markdown",
   "metadata": {},
   "source": [
    "## Asthma\n",
    "\n",
    "1=Yes, 2=No, 7/9=DK/R\n"
   ]
  },
  {
   "cell_type": "code",
   "execution_count": 52,
   "metadata": {},
   "outputs": [
    {
     "name": "stdout",
     "output_type": "stream",
     "text": [
      "2.0    0.862765\n",
      "1.0    0.133700\n",
      "7.0    0.003047\n",
      "9.0    0.000487\n",
      "Name: Asthma, dtype: float64\n",
      "0.0    0.8663\n",
      "1.0    0.1337\n",
      "Name: Asthma, dtype: float64\n"
     ]
    }
   ],
   "source": [
    "print(pd.value_counts(temp1.Asthma, normalize='columns'))\n",
    "temp1['Asthma']=temp1['Asthma'].replace(dict(a_dict))\n",
    "print(pd.value_counts(temp1.Asthma, normalize='columns'))"
   ]
  },
  {
   "cell_type": "markdown",
   "metadata": {},
   "source": [
    "## Skin Cancer\n",
    "\n",
    "1=Yes, 2=No, 7/9=DK/R"
   ]
  },
  {
   "cell_type": "code",
   "execution_count": 53,
   "metadata": {},
   "outputs": [
    {
     "name": "stdout",
     "output_type": "stream",
     "text": [
      "2.0    0.877998\n",
      "1.0    0.118384\n",
      "7.0    0.003104\n",
      "9.0    0.000513\n",
      "Name: SkinCancer, dtype: float64\n",
      "0.0    0.881616\n",
      "1.0    0.118384\n",
      "Name: SkinCancer, dtype: float64\n"
     ]
    }
   ],
   "source": [
    "print(pd.value_counts(temp1.SkinCancer, normalize='columns'))\n",
    "temp1['SkinCancer']=temp1['SkinCancer'].replace(dict(a_dict))\n",
    "print(pd.value_counts(temp1.SkinCancer, normalize='columns'))"
   ]
  },
  {
   "cell_type": "markdown",
   "metadata": {},
   "source": [
    "## Cancer (Other than Skin)\n",
    "\n",
    "1=Yes, 2=No, 7/9=DK/R\n"
   ]
  },
  {
   "cell_type": "code",
   "execution_count": 54,
   "metadata": {},
   "outputs": [
    {
     "name": "stdout",
     "output_type": "stream",
     "text": [
      "2.0    0.877351\n",
      "1.0    0.119570\n",
      "7.0    0.002280\n",
      "9.0    0.000799\n",
      "Name: Cancer, dtype: float64\n",
      "0.0    0.88043\n",
      "1.0    0.11957\n",
      "Name: Cancer, dtype: float64\n"
     ]
    }
   ],
   "source": [
    "print(pd.value_counts(temp1.Cancer, normalize='columns'))\n",
    "temp1['Cancer']=temp1['Cancer'].replace(dict(a_dict))\n",
    "print(pd.value_counts(temp1.Cancer, normalize='columns'))"
   ]
  },
  {
   "cell_type": "markdown",
   "metadata": {},
   "source": [
    "## COPD\n",
    "\n",
    "1=Yes, 2=No, 7/9=DK/R"
   ]
  },
  {
   "cell_type": "code",
   "execution_count": 55,
   "metadata": {},
   "outputs": [
    {
     "name": "stdout",
     "output_type": "stream",
     "text": [
      "2.0    0.897032\n",
      "1.0    0.097183\n",
      "7.0    0.005201\n",
      "9.0    0.000584\n",
      "Name: COPD, dtype: float64\n",
      "0.0    0.902817\n",
      "1.0    0.097183\n",
      "Name: COPD, dtype: float64\n"
     ]
    }
   ],
   "source": [
    "print(pd.value_counts(temp1.COPD, normalize='columns'))\n",
    "temp1['COPD']=temp1['COPD'].replace(dict(a_dict))\n",
    "print(pd.value_counts(temp1.COPD, normalize='columns'))"
   ]
  },
  {
   "cell_type": "markdown",
   "metadata": {},
   "source": [
    "## Kidney Disease\n",
    "\n",
    "1=Yes, 2=No, 7/9=DK/R"
   ]
  },
  {
   "cell_type": "code",
   "execution_count": 56,
   "metadata": {},
   "outputs": [
    {
     "name": "stdout",
     "output_type": "stream",
     "text": [
      "2.0    0.950850\n",
      "1.0    0.044894\n",
      "7.0    0.003697\n",
      "9.0    0.000558\n",
      "Name: Kidney, dtype: float64\n",
      "0.0    0.955106\n",
      "1.0    0.044894\n",
      "Name: Kidney, dtype: float64\n"
     ]
    }
   ],
   "source": [
    "print(pd.value_counts(temp1.Kidney, normalize='columns'))\n",
    "temp1['Kidney']=temp1['Kidney'].replace(dict(a_dict))\n",
    "print(pd.value_counts(temp1.Kidney, normalize='columns'))"
   ]
  },
  {
   "cell_type": "markdown",
   "metadata": {},
   "source": [
    "## Arthritis\n",
    "\n",
    "1=Yes, 2=No, 7/9=DK/R"
   ]
  },
  {
   "cell_type": "code",
   "execution_count": 57,
   "metadata": {},
   "outputs": [
    {
     "name": "stdout",
     "output_type": "stream",
     "text": [
      "2.0    0.605955\n",
      "1.0    0.387613\n",
      "7.0    0.005751\n",
      "9.0    0.000682\n",
      "Name: Arthritis, dtype: float64\n",
      "0.0    0.612387\n",
      "1.0    0.387613\n",
      "Name: Arthritis, dtype: float64\n"
     ]
    }
   ],
   "source": [
    "print(pd.value_counts(temp1.Arthritis, normalize='columns'))\n",
    "temp1['Arthritis']=temp1['Arthritis'].replace(dict(a_dict))\n",
    "print(pd.value_counts(temp1.Arthritis, normalize='columns'))"
   ]
  },
  {
   "cell_type": "markdown",
   "metadata": {},
   "source": [
    "## No Health Plan         \n",
    "\n",
    "1=Yes, 2=No, 7/9=DK/R"
   ]
  },
  {
   "cell_type": "code",
   "execution_count": 58,
   "metadata": {},
   "outputs": [
    {
     "name": "stdout",
     "output_type": "stream",
     "text": [
      "1.0    0.927996\n",
      "2.0    0.068327\n",
      "9.0    0.002116\n",
      "7.0    0.001561\n",
      "Name: NoHealthPlan, dtype: float64\n",
      "0.0    0.931673\n",
      "1.0    0.068327\n",
      "Name: NoHealthPlan, dtype: float64\n"
     ]
    }
   ],
   "source": [
    "print(pd.value_counts(temp1.NoHealthPlan, normalize='columns'))\n",
    "s_dict={1:0, 2:1, 7:0, 9:0} #2 is the assumed bad value\n",
    "temp1['NoHealthPlan']=temp1['NoHealthPlan'].replace(dict(s_dict))\n",
    "print(pd.value_counts(temp1.NoHealthPlan, normalize='columns'))"
   ]
  },
  {
   "cell_type": "markdown",
   "metadata": {},
   "source": [
    "## No Personal Doctor\n",
    "\n",
    "1=Yes only one, 2=Yes more than one, 3=No, 7/9=DK/R"
   ]
  },
  {
   "cell_type": "code",
   "execution_count": 59,
   "metadata": {},
   "outputs": [
    {
     "name": "stdout",
     "output_type": "stream",
     "text": [
      "1.0    0.787090\n",
      "3.0    0.125948\n",
      "2.0    0.083001\n",
      "7.0    0.002698\n",
      "9.0    0.001263\n",
      "Name: NoDoctor, dtype: float64\n",
      "0.0    0.870091\n",
      "1.0    0.129909\n",
      "Name: NoDoctor, dtype: float64\n"
     ]
    }
   ],
   "source": [
    "print(pd.value_counts(temp1.NoDoctor, normalize='columns'))\n",
    "t_dict={1:0, 2:0, 3:1, 7:1, 9:1} #3 is the assumed bad value\n",
    "temp1['NoDoctor']=temp1['NoDoctor'].replace(dict(t_dict))\n",
    "print(pd.value_counts(temp1.NoDoctor, normalize='columns'))"
   ]
  },
  {
   "cell_type": "markdown",
   "metadata": {},
   "source": [
    "## Medical Cost Prevented Care\n",
    "\n",
    "1=Yes, 2=No, 7/9=DK/R"
   ]
  },
  {
   "cell_type": "code",
   "execution_count": 60,
   "metadata": {},
   "outputs": [
    {
     "name": "stdout",
     "output_type": "stream",
     "text": [
      "2.0    0.903877\n",
      "1.0    0.093328\n",
      "7.0    0.002205\n",
      "9.0    0.000590\n",
      "Name: Cost, dtype: float64\n",
      "0.0    0.906672\n",
      "1.0    0.093328\n",
      "Name: Cost, dtype: float64\n"
     ]
    }
   ],
   "source": [
    "print(pd.value_counts(temp1.Cost, normalize='columns'))\n",
    "temp1['Cost']=temp1['Cost'].replace(dict(a_dict))\n",
    "print(pd.value_counts(temp1.Cost, normalize='columns'))"
   ]
  },
  {
   "cell_type": "markdown",
   "metadata": {},
   "source": [
    "## Checkup within Year\n",
    "\n",
    "1=within last year, 2=within past 2 years, 3=within past 5 years, 4=5 years+, 7=DK,8=Never, 9=Refused"
   ]
  },
  {
   "cell_type": "code",
   "execution_count": 61,
   "metadata": {},
   "outputs": [
    {
     "name": "stdout",
     "output_type": "stream",
     "text": [
      "MI              0.0       1.0\n",
      "NoCheckup                    \n",
      "1.0        0.924347  0.075653\n",
      "2.0        0.965591  0.034409\n",
      "3.0        0.970041  0.029959\n",
      "4.0        0.970644  0.029356\n",
      "7.0        0.926880  0.073120\n",
      "8.0        0.957177  0.042823\n",
      "9.0        0.939759  0.060241\n"
     ]
    }
   ],
   "source": [
    "print(pd.crosstab(temp1.NoCheckup,temp1.MI, normalize='index'))"
   ]
  },
  {
   "cell_type": "code",
   "execution_count": 62,
   "metadata": {},
   "outputs": [
    {
     "name": "stdout",
     "output_type": "stream",
     "text": [
      "1.0    0.830512\n",
      "2.0    0.080318\n",
      "3.0    0.037568\n",
      "4.0    0.037560\n",
      "7.0    0.008342\n",
      "8.0    0.004748\n",
      "9.0    0.000951\n",
      "Name: NoCheckup, dtype: float64\n",
      "0.0    289995\n",
      "1.0     59181\n",
      "Name: NoCheckup, dtype: int64\n"
     ]
    }
   ],
   "source": [
    "print(pd.value_counts(temp1.NoCheckup, normalize='columns'))\n",
    "u_dict={1:0, 2:1, 3:1, 4:1, 7:1, 8:1, 9:1}\n",
    "temp1['NoCheckup']=temp1['NoCheckup'].replace(dict(u_dict))\n",
    "print(temp1['NoCheckup'].value_counts())"
   ]
  },
  {
   "cell_type": "markdown",
   "metadata": {},
   "source": [
    "## Division Recodes"
   ]
  },
  {
   "cell_type": "code",
   "execution_count": 63,
   "metadata": {},
   "outputs": [
    {
     "data": {
      "text/html": [
       "<div>\n",
       "<style scoped>\n",
       "    .dataframe tbody tr th:only-of-type {\n",
       "        vertical-align: middle;\n",
       "    }\n",
       "\n",
       "    .dataframe tbody tr th {\n",
       "        vertical-align: top;\n",
       "    }\n",
       "\n",
       "    .dataframe thead th {\n",
       "        text-align: right;\n",
       "    }\n",
       "</style>\n",
       "<table border=\"1\" class=\"dataframe\">\n",
       "  <thead>\n",
       "    <tr style=\"text-align: right;\">\n",
       "      <th>MI</th>\n",
       "      <th>0.0</th>\n",
       "      <th>1.0</th>\n",
       "    </tr>\n",
       "    <tr>\n",
       "      <th>State</th>\n",
       "      <th></th>\n",
       "      <th></th>\n",
       "    </tr>\n",
       "  </thead>\n",
       "  <tbody>\n",
       "    <tr>\n",
       "      <th>1.0</th>\n",
       "      <td>0.919529</td>\n",
       "      <td>0.080471</td>\n",
       "    </tr>\n",
       "    <tr>\n",
       "      <th>2.0</th>\n",
       "      <td>0.948975</td>\n",
       "      <td>0.051025</td>\n",
       "    </tr>\n",
       "    <tr>\n",
       "      <th>4.0</th>\n",
       "      <td>0.929047</td>\n",
       "      <td>0.070953</td>\n",
       "    </tr>\n",
       "    <tr>\n",
       "      <th>5.0</th>\n",
       "      <td>0.904277</td>\n",
       "      <td>0.095723</td>\n",
       "    </tr>\n",
       "    <tr>\n",
       "      <th>6.0</th>\n",
       "      <td>0.949549</td>\n",
       "      <td>0.050451</td>\n",
       "    </tr>\n",
       "    <tr>\n",
       "      <th>8.0</th>\n",
       "      <td>0.953018</td>\n",
       "      <td>0.046982</td>\n",
       "    </tr>\n",
       "    <tr>\n",
       "      <th>9.0</th>\n",
       "      <td>0.947892</td>\n",
       "      <td>0.052108</td>\n",
       "    </tr>\n",
       "    <tr>\n",
       "      <th>10.0</th>\n",
       "      <td>0.933105</td>\n",
       "      <td>0.066895</td>\n",
       "    </tr>\n",
       "    <tr>\n",
       "      <th>11.0</th>\n",
       "      <td>0.947492</td>\n",
       "      <td>0.052508</td>\n",
       "    </tr>\n",
       "    <tr>\n",
       "      <th>12.0</th>\n",
       "      <td>0.917081</td>\n",
       "      <td>0.082919</td>\n",
       "    </tr>\n",
       "    <tr>\n",
       "      <th>13.0</th>\n",
       "      <td>0.923859</td>\n",
       "      <td>0.076141</td>\n",
       "    </tr>\n",
       "    <tr>\n",
       "      <th>15.0</th>\n",
       "      <td>0.946378</td>\n",
       "      <td>0.053622</td>\n",
       "    </tr>\n",
       "    <tr>\n",
       "      <th>16.0</th>\n",
       "      <td>0.933141</td>\n",
       "      <td>0.066859</td>\n",
       "    </tr>\n",
       "    <tr>\n",
       "      <th>17.0</th>\n",
       "      <td>0.944406</td>\n",
       "      <td>0.055594</td>\n",
       "    </tr>\n",
       "    <tr>\n",
       "      <th>18.0</th>\n",
       "      <td>0.925950</td>\n",
       "      <td>0.074050</td>\n",
       "    </tr>\n",
       "    <tr>\n",
       "      <th>19.0</th>\n",
       "      <td>0.936671</td>\n",
       "      <td>0.063329</td>\n",
       "    </tr>\n",
       "    <tr>\n",
       "      <th>20.0</th>\n",
       "      <td>0.938854</td>\n",
       "      <td>0.061146</td>\n",
       "    </tr>\n",
       "    <tr>\n",
       "      <th>21.0</th>\n",
       "      <td>0.905149</td>\n",
       "      <td>0.094851</td>\n",
       "    </tr>\n",
       "    <tr>\n",
       "      <th>22.0</th>\n",
       "      <td>0.928459</td>\n",
       "      <td>0.071541</td>\n",
       "    </tr>\n",
       "    <tr>\n",
       "      <th>23.0</th>\n",
       "      <td>0.916497</td>\n",
       "      <td>0.083503</td>\n",
       "    </tr>\n",
       "    <tr>\n",
       "      <th>24.0</th>\n",
       "      <td>0.936039</td>\n",
       "      <td>0.063961</td>\n",
       "    </tr>\n",
       "    <tr>\n",
       "      <th>25.0</th>\n",
       "      <td>0.942780</td>\n",
       "      <td>0.057220</td>\n",
       "    </tr>\n",
       "    <tr>\n",
       "      <th>26.0</th>\n",
       "      <td>0.930689</td>\n",
       "      <td>0.069311</td>\n",
       "    </tr>\n",
       "    <tr>\n",
       "      <th>27.0</th>\n",
       "      <td>0.940865</td>\n",
       "      <td>0.059135</td>\n",
       "    </tr>\n",
       "    <tr>\n",
       "      <th>28.0</th>\n",
       "      <td>0.920930</td>\n",
       "      <td>0.079070</td>\n",
       "    </tr>\n",
       "    <tr>\n",
       "      <th>29.0</th>\n",
       "      <td>0.914003</td>\n",
       "      <td>0.085997</td>\n",
       "    </tr>\n",
       "    <tr>\n",
       "      <th>30.0</th>\n",
       "      <td>0.926726</td>\n",
       "      <td>0.073274</td>\n",
       "    </tr>\n",
       "    <tr>\n",
       "      <th>31.0</th>\n",
       "      <td>0.934034</td>\n",
       "      <td>0.065966</td>\n",
       "    </tr>\n",
       "    <tr>\n",
       "      <th>32.0</th>\n",
       "      <td>0.932932</td>\n",
       "      <td>0.067068</td>\n",
       "    </tr>\n",
       "    <tr>\n",
       "      <th>33.0</th>\n",
       "      <td>0.939602</td>\n",
       "      <td>0.060398</td>\n",
       "    </tr>\n",
       "    <tr>\n",
       "      <th>35.0</th>\n",
       "      <td>0.933597</td>\n",
       "      <td>0.066403</td>\n",
       "    </tr>\n",
       "    <tr>\n",
       "      <th>36.0</th>\n",
       "      <td>0.936776</td>\n",
       "      <td>0.063224</td>\n",
       "    </tr>\n",
       "    <tr>\n",
       "      <th>37.0</th>\n",
       "      <td>0.934089</td>\n",
       "      <td>0.065911</td>\n",
       "    </tr>\n",
       "    <tr>\n",
       "      <th>38.0</th>\n",
       "      <td>0.926875</td>\n",
       "      <td>0.073125</td>\n",
       "    </tr>\n",
       "    <tr>\n",
       "      <th>39.0</th>\n",
       "      <td>0.910776</td>\n",
       "      <td>0.089224</td>\n",
       "    </tr>\n",
       "    <tr>\n",
       "      <th>40.0</th>\n",
       "      <td>0.919751</td>\n",
       "      <td>0.080249</td>\n",
       "    </tr>\n",
       "    <tr>\n",
       "      <th>41.0</th>\n",
       "      <td>0.941007</td>\n",
       "      <td>0.058993</td>\n",
       "    </tr>\n",
       "    <tr>\n",
       "      <th>42.0</th>\n",
       "      <td>0.937044</td>\n",
       "      <td>0.062956</td>\n",
       "    </tr>\n",
       "    <tr>\n",
       "      <th>44.0</th>\n",
       "      <td>0.935109</td>\n",
       "      <td>0.064891</td>\n",
       "    </tr>\n",
       "    <tr>\n",
       "      <th>45.0</th>\n",
       "      <td>0.921410</td>\n",
       "      <td>0.078590</td>\n",
       "    </tr>\n",
       "    <tr>\n",
       "      <th>46.0</th>\n",
       "      <td>0.929555</td>\n",
       "      <td>0.070445</td>\n",
       "    </tr>\n",
       "    <tr>\n",
       "      <th>47.0</th>\n",
       "      <td>0.917518</td>\n",
       "      <td>0.082482</td>\n",
       "    </tr>\n",
       "    <tr>\n",
       "      <th>48.0</th>\n",
       "      <td>0.930395</td>\n",
       "      <td>0.069605</td>\n",
       "    </tr>\n",
       "    <tr>\n",
       "      <th>49.0</th>\n",
       "      <td>0.948715</td>\n",
       "      <td>0.051285</td>\n",
       "    </tr>\n",
       "    <tr>\n",
       "      <th>50.0</th>\n",
       "      <td>0.936144</td>\n",
       "      <td>0.063856</td>\n",
       "    </tr>\n",
       "    <tr>\n",
       "      <th>51.0</th>\n",
       "      <td>0.933108</td>\n",
       "      <td>0.066892</td>\n",
       "    </tr>\n",
       "    <tr>\n",
       "      <th>53.0</th>\n",
       "      <td>0.939911</td>\n",
       "      <td>0.060089</td>\n",
       "    </tr>\n",
       "    <tr>\n",
       "      <th>54.0</th>\n",
       "      <td>0.885096</td>\n",
       "      <td>0.114904</td>\n",
       "    </tr>\n",
       "    <tr>\n",
       "      <th>55.0</th>\n",
       "      <td>0.940386</td>\n",
       "      <td>0.059614</td>\n",
       "    </tr>\n",
       "    <tr>\n",
       "      <th>56.0</th>\n",
       "      <td>0.928362</td>\n",
       "      <td>0.071638</td>\n",
       "    </tr>\n",
       "    <tr>\n",
       "      <th>66.0</th>\n",
       "      <td>0.937570</td>\n",
       "      <td>0.062430</td>\n",
       "    </tr>\n",
       "    <tr>\n",
       "      <th>72.0</th>\n",
       "      <td>0.939837</td>\n",
       "      <td>0.060163</td>\n",
       "    </tr>\n",
       "  </tbody>\n",
       "</table>\n",
       "</div>"
      ],
      "text/plain": [
       "MI          0.0       1.0\n",
       "State                    \n",
       "1.0    0.919529  0.080471\n",
       "2.0    0.948975  0.051025\n",
       "4.0    0.929047  0.070953\n",
       "5.0    0.904277  0.095723\n",
       "6.0    0.949549  0.050451\n",
       "8.0    0.953018  0.046982\n",
       "9.0    0.947892  0.052108\n",
       "10.0   0.933105  0.066895\n",
       "11.0   0.947492  0.052508\n",
       "12.0   0.917081  0.082919\n",
       "13.0   0.923859  0.076141\n",
       "15.0   0.946378  0.053622\n",
       "16.0   0.933141  0.066859\n",
       "17.0   0.944406  0.055594\n",
       "18.0   0.925950  0.074050\n",
       "19.0   0.936671  0.063329\n",
       "20.0   0.938854  0.061146\n",
       "21.0   0.905149  0.094851\n",
       "22.0   0.928459  0.071541\n",
       "23.0   0.916497  0.083503\n",
       "24.0   0.936039  0.063961\n",
       "25.0   0.942780  0.057220\n",
       "26.0   0.930689  0.069311\n",
       "27.0   0.940865  0.059135\n",
       "28.0   0.920930  0.079070\n",
       "29.0   0.914003  0.085997\n",
       "30.0   0.926726  0.073274\n",
       "31.0   0.934034  0.065966\n",
       "32.0   0.932932  0.067068\n",
       "33.0   0.939602  0.060398\n",
       "35.0   0.933597  0.066403\n",
       "36.0   0.936776  0.063224\n",
       "37.0   0.934089  0.065911\n",
       "38.0   0.926875  0.073125\n",
       "39.0   0.910776  0.089224\n",
       "40.0   0.919751  0.080249\n",
       "41.0   0.941007  0.058993\n",
       "42.0   0.937044  0.062956\n",
       "44.0   0.935109  0.064891\n",
       "45.0   0.921410  0.078590\n",
       "46.0   0.929555  0.070445\n",
       "47.0   0.917518  0.082482\n",
       "48.0   0.930395  0.069605\n",
       "49.0   0.948715  0.051285\n",
       "50.0   0.936144  0.063856\n",
       "51.0   0.933108  0.066892\n",
       "53.0   0.939911  0.060089\n",
       "54.0   0.885096  0.114904\n",
       "55.0   0.940386  0.059614\n",
       "56.0   0.928362  0.071638\n",
       "66.0   0.937570  0.062430\n",
       "72.0   0.939837  0.060163"
      ]
     },
     "execution_count": 63,
     "metadata": {},
     "output_type": "execute_result"
    }
   ],
   "source": [
    "pd.crosstab(temp1.State, temp1.MI, normalize='index')"
   ]
  },
  {
   "cell_type": "code",
   "execution_count": 64,
   "metadata": {},
   "outputs": [],
   "source": [
    "v_dict={1:'D6', 2:'D9',   4:'D8',   5:'D7', 6:'D9',  8:'D8',  9:'D1', 10:'D5', 11:'D5', \n",
    "       12:'D5', 13:'D5', 15:'D9', 16:'D8', 17:'D3', 18:'D3', 19:'D4', 20:'D4', 21:'D6', 22:'D7',\n",
    "       23:'D1', 24:'D5', 25:'D1', 26:'D3', 27:'D4', 28:'D6', 29:'D4', 30:'D8', 31:'D4', 32:'D8',\n",
    "       33:'D1', 34: 'D2', 35:'D8', 36:'D2', 37:'D5', 38:'D4', 39:'D3', 40:'D7', 41:'D9', 42:'D2', 44:'D1', 45:'D5',\n",
    "       46:'D4', 47:'D6', 48:'D7', 49:'D8', 50:'D1', 51:'D5', 53:'D9', 54:'D5', 55:'D3', 56:'D8', 66:'D10',\n",
    "       72:'D10'}\n",
    "temp1['Division']=temp1['State']\n",
    "temp1['Division']=temp1['Division'].replace(dict(v_dict))\n",
    "temp1['Division']=temp1['Division'].astype('str')\n",
    "temp1=pd.get_dummies(temp1,columns=['Division'])\n"
   ]
  },
  {
   "cell_type": "code",
   "execution_count": 65,
   "metadata": {},
   "outputs": [
    {
     "data": {
      "text/html": [
       "<div>\n",
       "<style scoped>\n",
       "    .dataframe tbody tr th:only-of-type {\n",
       "        vertical-align: middle;\n",
       "    }\n",
       "\n",
       "    .dataframe tbody tr th {\n",
       "        vertical-align: top;\n",
       "    }\n",
       "\n",
       "    .dataframe thead th {\n",
       "        text-align: right;\n",
       "    }\n",
       "</style>\n",
       "<table border=\"1\" class=\"dataframe\">\n",
       "  <thead>\n",
       "    <tr style=\"text-align: right;\">\n",
       "      <th></th>\n",
       "      <th>MI</th>\n",
       "      <th>Male</th>\n",
       "      <th>Veteran</th>\n",
       "      <th>RentHome</th>\n",
       "      <th>PoorHealth</th>\n",
       "      <th>Smoker</th>\n",
       "      <th>ChewSnuff</th>\n",
       "      <th>NoExercise</th>\n",
       "      <th>PercentDrink</th>\n",
       "      <th>HighCholesterol</th>\n",
       "      <th>...</th>\n",
       "      <th>Division_D1</th>\n",
       "      <th>Division_D10</th>\n",
       "      <th>Division_D2</th>\n",
       "      <th>Division_D3</th>\n",
       "      <th>Division_D4</th>\n",
       "      <th>Division_D5</th>\n",
       "      <th>Division_D6</th>\n",
       "      <th>Division_D7</th>\n",
       "      <th>Division_D8</th>\n",
       "      <th>Division_D9</th>\n",
       "    </tr>\n",
       "  </thead>\n",
       "  <tbody>\n",
       "    <tr>\n",
       "      <th>count</th>\n",
       "      <td>349176.000000</td>\n",
       "      <td>349176.000000</td>\n",
       "      <td>349176.000000</td>\n",
       "      <td>349176.000000</td>\n",
       "      <td>349176.000000</td>\n",
       "      <td>349176.000000</td>\n",
       "      <td>349176.000000</td>\n",
       "      <td>349176.000000</td>\n",
       "      <td>349176.000000</td>\n",
       "      <td>349176.000000</td>\n",
       "      <td>...</td>\n",
       "      <td>349176.000000</td>\n",
       "      <td>349176.000000</td>\n",
       "      <td>349176.000000</td>\n",
       "      <td>349176.000000</td>\n",
       "      <td>349176.000000</td>\n",
       "      <td>349176.000000</td>\n",
       "      <td>349176.000000</td>\n",
       "      <td>349176.000000</td>\n",
       "      <td>349176.000000</td>\n",
       "      <td>349176.000000</td>\n",
       "    </tr>\n",
       "    <tr>\n",
       "      <th>mean</th>\n",
       "      <td>0.068693</td>\n",
       "      <td>0.440649</td>\n",
       "      <td>0.141198</td>\n",
       "      <td>0.183503</td>\n",
       "      <td>0.060207</td>\n",
       "      <td>0.427612</td>\n",
       "      <td>0.029137</td>\n",
       "      <td>0.279154</td>\n",
       "      <td>0.153717</td>\n",
       "      <td>0.397768</td>\n",
       "      <td>...</td>\n",
       "      <td>0.117250</td>\n",
       "      <td>0.018847</td>\n",
       "      <td>0.048803</td>\n",
       "      <td>0.105188</td>\n",
       "      <td>0.170713</td>\n",
       "      <td>0.181765</td>\n",
       "      <td>0.063458</td>\n",
       "      <td>0.068567</td>\n",
       "      <td>0.130513</td>\n",
       "      <td>0.094895</td>\n",
       "    </tr>\n",
       "    <tr>\n",
       "      <th>std</th>\n",
       "      <td>0.252932</td>\n",
       "      <td>0.496466</td>\n",
       "      <td>0.348226</td>\n",
       "      <td>0.387079</td>\n",
       "      <td>0.237871</td>\n",
       "      <td>0.494733</td>\n",
       "      <td>0.168191</td>\n",
       "      <td>0.448584</td>\n",
       "      <td>0.277502</td>\n",
       "      <td>0.489438</td>\n",
       "      <td>...</td>\n",
       "      <td>0.321719</td>\n",
       "      <td>0.135986</td>\n",
       "      <td>0.215457</td>\n",
       "      <td>0.306795</td>\n",
       "      <td>0.376259</td>\n",
       "      <td>0.385651</td>\n",
       "      <td>0.243785</td>\n",
       "      <td>0.252717</td>\n",
       "      <td>0.336867</td>\n",
       "      <td>0.293070</td>\n",
       "    </tr>\n",
       "    <tr>\n",
       "      <th>min</th>\n",
       "      <td>0.000000</td>\n",
       "      <td>0.000000</td>\n",
       "      <td>0.000000</td>\n",
       "      <td>0.000000</td>\n",
       "      <td>0.000000</td>\n",
       "      <td>0.000000</td>\n",
       "      <td>0.000000</td>\n",
       "      <td>0.000000</td>\n",
       "      <td>0.000000</td>\n",
       "      <td>0.000000</td>\n",
       "      <td>...</td>\n",
       "      <td>0.000000</td>\n",
       "      <td>0.000000</td>\n",
       "      <td>0.000000</td>\n",
       "      <td>0.000000</td>\n",
       "      <td>0.000000</td>\n",
       "      <td>0.000000</td>\n",
       "      <td>0.000000</td>\n",
       "      <td>0.000000</td>\n",
       "      <td>0.000000</td>\n",
       "      <td>0.000000</td>\n",
       "    </tr>\n",
       "    <tr>\n",
       "      <th>25%</th>\n",
       "      <td>0.000000</td>\n",
       "      <td>0.000000</td>\n",
       "      <td>0.000000</td>\n",
       "      <td>0.000000</td>\n",
       "      <td>0.000000</td>\n",
       "      <td>0.000000</td>\n",
       "      <td>0.000000</td>\n",
       "      <td>0.000000</td>\n",
       "      <td>0.000000</td>\n",
       "      <td>0.000000</td>\n",
       "      <td>...</td>\n",
       "      <td>0.000000</td>\n",
       "      <td>0.000000</td>\n",
       "      <td>0.000000</td>\n",
       "      <td>0.000000</td>\n",
       "      <td>0.000000</td>\n",
       "      <td>0.000000</td>\n",
       "      <td>0.000000</td>\n",
       "      <td>0.000000</td>\n",
       "      <td>0.000000</td>\n",
       "      <td>0.000000</td>\n",
       "    </tr>\n",
       "    <tr>\n",
       "      <th>50%</th>\n",
       "      <td>0.000000</td>\n",
       "      <td>0.000000</td>\n",
       "      <td>0.000000</td>\n",
       "      <td>0.000000</td>\n",
       "      <td>0.000000</td>\n",
       "      <td>0.000000</td>\n",
       "      <td>0.000000</td>\n",
       "      <td>0.000000</td>\n",
       "      <td>0.000000</td>\n",
       "      <td>0.000000</td>\n",
       "      <td>...</td>\n",
       "      <td>0.000000</td>\n",
       "      <td>0.000000</td>\n",
       "      <td>0.000000</td>\n",
       "      <td>0.000000</td>\n",
       "      <td>0.000000</td>\n",
       "      <td>0.000000</td>\n",
       "      <td>0.000000</td>\n",
       "      <td>0.000000</td>\n",
       "      <td>0.000000</td>\n",
       "      <td>0.000000</td>\n",
       "    </tr>\n",
       "    <tr>\n",
       "      <th>75%</th>\n",
       "      <td>0.000000</td>\n",
       "      <td>1.000000</td>\n",
       "      <td>0.000000</td>\n",
       "      <td>0.000000</td>\n",
       "      <td>0.000000</td>\n",
       "      <td>1.000000</td>\n",
       "      <td>0.000000</td>\n",
       "      <td>1.000000</td>\n",
       "      <td>0.142857</td>\n",
       "      <td>1.000000</td>\n",
       "      <td>...</td>\n",
       "      <td>0.000000</td>\n",
       "      <td>0.000000</td>\n",
       "      <td>0.000000</td>\n",
       "      <td>0.000000</td>\n",
       "      <td>0.000000</td>\n",
       "      <td>0.000000</td>\n",
       "      <td>0.000000</td>\n",
       "      <td>0.000000</td>\n",
       "      <td>0.000000</td>\n",
       "      <td>0.000000</td>\n",
       "    </tr>\n",
       "    <tr>\n",
       "      <th>max</th>\n",
       "      <td>1.000000</td>\n",
       "      <td>1.000000</td>\n",
       "      <td>1.000000</td>\n",
       "      <td>1.000000</td>\n",
       "      <td>1.000000</td>\n",
       "      <td>1.000000</td>\n",
       "      <td>1.000000</td>\n",
       "      <td>1.000000</td>\n",
       "      <td>1.000000</td>\n",
       "      <td>1.000000</td>\n",
       "      <td>...</td>\n",
       "      <td>1.000000</td>\n",
       "      <td>1.000000</td>\n",
       "      <td>1.000000</td>\n",
       "      <td>1.000000</td>\n",
       "      <td>1.000000</td>\n",
       "      <td>1.000000</td>\n",
       "      <td>1.000000</td>\n",
       "      <td>1.000000</td>\n",
       "      <td>1.000000</td>\n",
       "      <td>1.000000</td>\n",
       "    </tr>\n",
       "  </tbody>\n",
       "</table>\n",
       "<p>8 rows × 63 columns</p>\n",
       "</div>"
      ],
      "text/plain": [
       "                  MI           Male        Veteran       RentHome  \\\n",
       "count  349176.000000  349176.000000  349176.000000  349176.000000   \n",
       "mean        0.068693       0.440649       0.141198       0.183503   \n",
       "std         0.252932       0.496466       0.348226       0.387079   \n",
       "min         0.000000       0.000000       0.000000       0.000000   \n",
       "25%         0.000000       0.000000       0.000000       0.000000   \n",
       "50%         0.000000       0.000000       0.000000       0.000000   \n",
       "75%         0.000000       1.000000       0.000000       0.000000   \n",
       "max         1.000000       1.000000       1.000000       1.000000   \n",
       "\n",
       "          PoorHealth         Smoker      ChewSnuff     NoExercise  \\\n",
       "count  349176.000000  349176.000000  349176.000000  349176.000000   \n",
       "mean        0.060207       0.427612       0.029137       0.279154   \n",
       "std         0.237871       0.494733       0.168191       0.448584   \n",
       "min         0.000000       0.000000       0.000000       0.000000   \n",
       "25%         0.000000       0.000000       0.000000       0.000000   \n",
       "50%         0.000000       0.000000       0.000000       0.000000   \n",
       "75%         0.000000       1.000000       0.000000       1.000000   \n",
       "max         1.000000       1.000000       1.000000       1.000000   \n",
       "\n",
       "        PercentDrink  HighCholesterol  ...    Division_D1   Division_D10  \\\n",
       "count  349176.000000    349176.000000  ...  349176.000000  349176.000000   \n",
       "mean        0.153717         0.397768  ...       0.117250       0.018847   \n",
       "std         0.277502         0.489438  ...       0.321719       0.135986   \n",
       "min         0.000000         0.000000  ...       0.000000       0.000000   \n",
       "25%         0.000000         0.000000  ...       0.000000       0.000000   \n",
       "50%         0.000000         0.000000  ...       0.000000       0.000000   \n",
       "75%         0.142857         1.000000  ...       0.000000       0.000000   \n",
       "max         1.000000         1.000000  ...       1.000000       1.000000   \n",
       "\n",
       "         Division_D2    Division_D3    Division_D4    Division_D5  \\\n",
       "count  349176.000000  349176.000000  349176.000000  349176.000000   \n",
       "mean        0.048803       0.105188       0.170713       0.181765   \n",
       "std         0.215457       0.306795       0.376259       0.385651   \n",
       "min         0.000000       0.000000       0.000000       0.000000   \n",
       "25%         0.000000       0.000000       0.000000       0.000000   \n",
       "50%         0.000000       0.000000       0.000000       0.000000   \n",
       "75%         0.000000       0.000000       0.000000       0.000000   \n",
       "max         1.000000       1.000000       1.000000       1.000000   \n",
       "\n",
       "         Division_D6    Division_D7    Division_D8    Division_D9  \n",
       "count  349176.000000  349176.000000  349176.000000  349176.000000  \n",
       "mean        0.063458       0.068567       0.130513       0.094895  \n",
       "std         0.243785       0.252717       0.336867       0.293070  \n",
       "min         0.000000       0.000000       0.000000       0.000000  \n",
       "25%         0.000000       0.000000       0.000000       0.000000  \n",
       "50%         0.000000       0.000000       0.000000       0.000000  \n",
       "75%         0.000000       0.000000       0.000000       0.000000  \n",
       "max         1.000000       1.000000       1.000000       1.000000  \n",
       "\n",
       "[8 rows x 63 columns]"
      ]
     },
     "execution_count": 65,
     "metadata": {},
     "output_type": "execute_result"
    }
   ],
   "source": [
    "temp1.describe()"
   ]
  },
  {
   "cell_type": "markdown",
   "metadata": {},
   "source": [
    "## Metropolitan"
   ]
  },
  {
   "cell_type": "code",
   "execution_count": 66,
   "metadata": {},
   "outputs": [
    {
     "name": "stdout",
     "output_type": "stream",
     "text": [
      "1.0    0.682742\n",
      "2.0    0.317258\n",
      "Name: Metropolitan, dtype: float64\n",
      "1.0    0.682742\n",
      "0.0    0.317258\n",
      "Name: Metropolitan, dtype: float64\n"
     ]
    }
   ],
   "source": [
    "print(pd.value_counts(temp1.Metropolitan, normalize='columns'))\n",
    "z_dict = {2:0}  #Modal response impute\n",
    "temp1['Metropolitan']=temp1['Metropolitan'].replace(dict(z_dict))\n",
    "print(pd.value_counts(temp1.Metropolitan, normalize='columns'))"
   ]
  },
  {
   "cell_type": "code",
   "execution_count": 67,
   "metadata": {},
   "outputs": [
    {
     "data": {
      "text/plain": [
       "(349176, 63)"
      ]
     },
     "execution_count": 67,
     "metadata": {},
     "output_type": "execute_result"
    }
   ],
   "source": [
    "temp1.shape"
   ]
  },
  {
   "cell_type": "markdown",
   "metadata": {},
   "source": [
    "## Write CSV"
   ]
  },
  {
   "cell_type": "code",
   "execution_count": 68,
   "metadata": {},
   "outputs": [],
   "source": [
    "temp1=temp1.drop(columns=['Division_D10']) \n",
    "temp1=temp1.drop(columns=['State']) \n",
    "temp1.to_csv('D:/MI/MI.csv', index=False)"
   ]
  },
  {
   "cell_type": "markdown",
   "metadata": {},
   "source": [
    "# Describe\n",
    "Pandas Profiling Report is too large for GitHub."
   ]
  },
  {
   "cell_type": "code",
   "execution_count": 69,
   "metadata": {},
   "outputs": [
    {
     "data": {
      "text/html": [
       "<div>\n",
       "<style scoped>\n",
       "    .dataframe tbody tr th:only-of-type {\n",
       "        vertical-align: middle;\n",
       "    }\n",
       "\n",
       "    .dataframe tbody tr th {\n",
       "        vertical-align: top;\n",
       "    }\n",
       "\n",
       "    .dataframe thead th {\n",
       "        text-align: right;\n",
       "    }\n",
       "</style>\n",
       "<table border=\"1\" class=\"dataframe\">\n",
       "  <thead>\n",
       "    <tr style=\"text-align: right;\">\n",
       "      <th></th>\n",
       "      <th>MI</th>\n",
       "      <th>Male</th>\n",
       "      <th>Veteran</th>\n",
       "      <th>RentHome</th>\n",
       "      <th>PoorHealth</th>\n",
       "      <th>Smoker</th>\n",
       "      <th>ChewSnuff</th>\n",
       "      <th>NoExercise</th>\n",
       "      <th>PercentDrink</th>\n",
       "      <th>HighCholesterol</th>\n",
       "      <th>HighBP</th>\n",
       "      <th>HighBMI</th>\n",
       "      <th>PhysicalHealth</th>\n",
       "      <th>MentalHealth</th>\n",
       "      <th>Depression</th>\n",
       "      <th>Stroke</th>\n",
       "      <th>Asthma</th>\n",
       "      <th>SkinCancer</th>\n",
       "      <th>Cancer</th>\n",
       "      <th>COPD</th>\n",
       "      <th>Kidney</th>\n",
       "      <th>Arthritis</th>\n",
       "      <th>NoHealthPlan</th>\n",
       "      <th>NoDoctor</th>\n",
       "      <th>Cost</th>\n",
       "      <th>NoCheckup</th>\n",
       "      <th>Metropolitan</th>\n",
       "      <th>Age65</th>\n",
       "      <th>Age55_64</th>\n",
       "      <th>Age45_54</th>\n",
       "      <th>Black</th>\n",
       "      <th>Hispanic</th>\n",
       "      <th>Other</th>\n",
       "      <th>PreviousMarriage</th>\n",
       "      <th>NeverMarried</th>\n",
       "      <th>LT25K</th>\n",
       "      <th>LT50K</th>\n",
       "      <th>Income_DKR</th>\n",
       "      <th>PreHS</th>\n",
       "      <th>HS</th>\n",
       "      <th>PostHS</th>\n",
       "      <th>RetiredUnable</th>\n",
       "      <th>OutofWork</th>\n",
       "      <th>OtherNotWorking</th>\n",
       "      <th>FairHealth</th>\n",
       "      <th>GoodHealth</th>\n",
       "      <th>PercentDrink_2</th>\n",
       "      <th>Diabetic</th>\n",
       "      <th>Prediabetic</th>\n",
       "      <th>Division_D1</th>\n",
       "      <th>Division_D2</th>\n",
       "      <th>Division_D3</th>\n",
       "      <th>Division_D4</th>\n",
       "      <th>Division_D5</th>\n",
       "      <th>Division_D6</th>\n",
       "      <th>Division_D7</th>\n",
       "      <th>Division_D8</th>\n",
       "      <th>Division_D9</th>\n",
       "    </tr>\n",
       "  </thead>\n",
       "  <tbody>\n",
       "    <tr>\n",
       "      <th>count</th>\n",
       "      <td>349176.000000</td>\n",
       "      <td>349176.000000</td>\n",
       "      <td>349176.000000</td>\n",
       "      <td>349176.000000</td>\n",
       "      <td>349176.000000</td>\n",
       "      <td>349176.000000</td>\n",
       "      <td>349176.000000</td>\n",
       "      <td>349176.000000</td>\n",
       "      <td>349176.000000</td>\n",
       "      <td>349176.000000</td>\n",
       "      <td>349176.000000</td>\n",
       "      <td>349176.000000</td>\n",
       "      <td>349176.000000</td>\n",
       "      <td>349176.000000</td>\n",
       "      <td>349176.000000</td>\n",
       "      <td>349176.000000</td>\n",
       "      <td>349176.000000</td>\n",
       "      <td>349176.000000</td>\n",
       "      <td>349176.000000</td>\n",
       "      <td>349176.000000</td>\n",
       "      <td>349176.000000</td>\n",
       "      <td>349176.000000</td>\n",
       "      <td>349176.000000</td>\n",
       "      <td>349176.000000</td>\n",
       "      <td>349176.000000</td>\n",
       "      <td>349176.000000</td>\n",
       "      <td>349176.000000</td>\n",
       "      <td>349176.000000</td>\n",
       "      <td>349176.000000</td>\n",
       "      <td>349176.000000</td>\n",
       "      <td>349176.000000</td>\n",
       "      <td>349176.000000</td>\n",
       "      <td>349176.000000</td>\n",
       "      <td>349176.000000</td>\n",
       "      <td>349176.000000</td>\n",
       "      <td>349176.000000</td>\n",
       "      <td>349176.000000</td>\n",
       "      <td>349176.000000</td>\n",
       "      <td>349176.000000</td>\n",
       "      <td>349176.000000</td>\n",
       "      <td>349176.000000</td>\n",
       "      <td>349176.000000</td>\n",
       "      <td>349176.000000</td>\n",
       "      <td>349176.000000</td>\n",
       "      <td>349176.000000</td>\n",
       "      <td>349176.000000</td>\n",
       "      <td>349176.000000</td>\n",
       "      <td>349176.000000</td>\n",
       "      <td>349176.000000</td>\n",
       "      <td>349176.000000</td>\n",
       "      <td>349176.000000</td>\n",
       "      <td>349176.000000</td>\n",
       "      <td>349176.000000</td>\n",
       "      <td>349176.000000</td>\n",
       "      <td>349176.000000</td>\n",
       "      <td>349176.000000</td>\n",
       "      <td>349176.000000</td>\n",
       "      <td>349176.000000</td>\n",
       "    </tr>\n",
       "    <tr>\n",
       "      <th>mean</th>\n",
       "      <td>0.068693</td>\n",
       "      <td>0.440649</td>\n",
       "      <td>0.141198</td>\n",
       "      <td>0.183503</td>\n",
       "      <td>0.060207</td>\n",
       "      <td>0.427612</td>\n",
       "      <td>0.029137</td>\n",
       "      <td>0.279154</td>\n",
       "      <td>0.153717</td>\n",
       "      <td>0.397768</td>\n",
       "      <td>0.463400</td>\n",
       "      <td>0.642962</td>\n",
       "      <td>0.158922</td>\n",
       "      <td>0.114319</td>\n",
       "      <td>0.182704</td>\n",
       "      <td>0.052524</td>\n",
       "      <td>0.133700</td>\n",
       "      <td>0.118384</td>\n",
       "      <td>0.119570</td>\n",
       "      <td>0.097183</td>\n",
       "      <td>0.044894</td>\n",
       "      <td>0.387613</td>\n",
       "      <td>0.068327</td>\n",
       "      <td>0.129909</td>\n",
       "      <td>0.093328</td>\n",
       "      <td>0.169488</td>\n",
       "      <td>0.682742</td>\n",
       "      <td>0.442983</td>\n",
       "      <td>0.240563</td>\n",
       "      <td>0.174840</td>\n",
       "      <td>0.073811</td>\n",
       "      <td>0.073204</td>\n",
       "      <td>0.063793</td>\n",
       "      <td>0.319879</td>\n",
       "      <td>0.095333</td>\n",
       "      <td>0.201179</td>\n",
       "      <td>0.334513</td>\n",
       "      <td>0.174677</td>\n",
       "      <td>0.072637</td>\n",
       "      <td>0.261106</td>\n",
       "      <td>0.272673</td>\n",
       "      <td>0.449346</td>\n",
       "      <td>0.032396</td>\n",
       "      <td>0.058409</td>\n",
       "      <td>0.152814</td>\n",
       "      <td>0.323731</td>\n",
       "      <td>0.100636</td>\n",
       "      <td>0.160965</td>\n",
       "      <td>0.024609</td>\n",
       "      <td>0.117250</td>\n",
       "      <td>0.048803</td>\n",
       "      <td>0.105188</td>\n",
       "      <td>0.170713</td>\n",
       "      <td>0.181765</td>\n",
       "      <td>0.063458</td>\n",
       "      <td>0.068567</td>\n",
       "      <td>0.130513</td>\n",
       "      <td>0.094895</td>\n",
       "    </tr>\n",
       "    <tr>\n",
       "      <th>std</th>\n",
       "      <td>0.252932</td>\n",
       "      <td>0.496466</td>\n",
       "      <td>0.348226</td>\n",
       "      <td>0.387079</td>\n",
       "      <td>0.237871</td>\n",
       "      <td>0.494733</td>\n",
       "      <td>0.168191</td>\n",
       "      <td>0.448584</td>\n",
       "      <td>0.277502</td>\n",
       "      <td>0.489438</td>\n",
       "      <td>0.498659</td>\n",
       "      <td>0.479127</td>\n",
       "      <td>0.310414</td>\n",
       "      <td>0.260755</td>\n",
       "      <td>0.386425</td>\n",
       "      <td>0.223081</td>\n",
       "      <td>0.340331</td>\n",
       "      <td>0.323063</td>\n",
       "      <td>0.324459</td>\n",
       "      <td>0.296207</td>\n",
       "      <td>0.207072</td>\n",
       "      <td>0.487206</td>\n",
       "      <td>0.252306</td>\n",
       "      <td>0.336203</td>\n",
       "      <td>0.290892</td>\n",
       "      <td>0.375183</td>\n",
       "      <td>0.465410</td>\n",
       "      <td>0.496739</td>\n",
       "      <td>0.427426</td>\n",
       "      <td>0.379831</td>\n",
       "      <td>0.261463</td>\n",
       "      <td>0.260471</td>\n",
       "      <td>0.244384</td>\n",
       "      <td>0.466430</td>\n",
       "      <td>0.293675</td>\n",
       "      <td>0.400882</td>\n",
       "      <td>0.471821</td>\n",
       "      <td>0.379691</td>\n",
       "      <td>0.259540</td>\n",
       "      <td>0.439238</td>\n",
       "      <td>0.445335</td>\n",
       "      <td>0.497428</td>\n",
       "      <td>0.177050</td>\n",
       "      <td>0.234515</td>\n",
       "      <td>0.359809</td>\n",
       "      <td>0.467899</td>\n",
       "      <td>0.254119</td>\n",
       "      <td>0.367499</td>\n",
       "      <td>0.154932</td>\n",
       "      <td>0.321719</td>\n",
       "      <td>0.215457</td>\n",
       "      <td>0.306795</td>\n",
       "      <td>0.376259</td>\n",
       "      <td>0.385651</td>\n",
       "      <td>0.243785</td>\n",
       "      <td>0.252717</td>\n",
       "      <td>0.336867</td>\n",
       "      <td>0.293070</td>\n",
       "    </tr>\n",
       "    <tr>\n",
       "      <th>min</th>\n",
       "      <td>0.000000</td>\n",
       "      <td>0.000000</td>\n",
       "      <td>0.000000</td>\n",
       "      <td>0.000000</td>\n",
       "      <td>0.000000</td>\n",
       "      <td>0.000000</td>\n",
       "      <td>0.000000</td>\n",
       "      <td>0.000000</td>\n",
       "      <td>0.000000</td>\n",
       "      <td>0.000000</td>\n",
       "      <td>0.000000</td>\n",
       "      <td>0.000000</td>\n",
       "      <td>0.000000</td>\n",
       "      <td>0.000000</td>\n",
       "      <td>0.000000</td>\n",
       "      <td>0.000000</td>\n",
       "      <td>0.000000</td>\n",
       "      <td>0.000000</td>\n",
       "      <td>0.000000</td>\n",
       "      <td>0.000000</td>\n",
       "      <td>0.000000</td>\n",
       "      <td>0.000000</td>\n",
       "      <td>0.000000</td>\n",
       "      <td>0.000000</td>\n",
       "      <td>0.000000</td>\n",
       "      <td>0.000000</td>\n",
       "      <td>0.000000</td>\n",
       "      <td>0.000000</td>\n",
       "      <td>0.000000</td>\n",
       "      <td>0.000000</td>\n",
       "      <td>0.000000</td>\n",
       "      <td>0.000000</td>\n",
       "      <td>0.000000</td>\n",
       "      <td>0.000000</td>\n",
       "      <td>0.000000</td>\n",
       "      <td>0.000000</td>\n",
       "      <td>0.000000</td>\n",
       "      <td>0.000000</td>\n",
       "      <td>0.000000</td>\n",
       "      <td>0.000000</td>\n",
       "      <td>0.000000</td>\n",
       "      <td>0.000000</td>\n",
       "      <td>0.000000</td>\n",
       "      <td>0.000000</td>\n",
       "      <td>0.000000</td>\n",
       "      <td>0.000000</td>\n",
       "      <td>0.000000</td>\n",
       "      <td>0.000000</td>\n",
       "      <td>0.000000</td>\n",
       "      <td>0.000000</td>\n",
       "      <td>0.000000</td>\n",
       "      <td>0.000000</td>\n",
       "      <td>0.000000</td>\n",
       "      <td>0.000000</td>\n",
       "      <td>0.000000</td>\n",
       "      <td>0.000000</td>\n",
       "      <td>0.000000</td>\n",
       "      <td>0.000000</td>\n",
       "    </tr>\n",
       "    <tr>\n",
       "      <th>25%</th>\n",
       "      <td>0.000000</td>\n",
       "      <td>0.000000</td>\n",
       "      <td>0.000000</td>\n",
       "      <td>0.000000</td>\n",
       "      <td>0.000000</td>\n",
       "      <td>0.000000</td>\n",
       "      <td>0.000000</td>\n",
       "      <td>0.000000</td>\n",
       "      <td>0.000000</td>\n",
       "      <td>0.000000</td>\n",
       "      <td>0.000000</td>\n",
       "      <td>0.000000</td>\n",
       "      <td>0.000000</td>\n",
       "      <td>0.000000</td>\n",
       "      <td>0.000000</td>\n",
       "      <td>0.000000</td>\n",
       "      <td>0.000000</td>\n",
       "      <td>0.000000</td>\n",
       "      <td>0.000000</td>\n",
       "      <td>0.000000</td>\n",
       "      <td>0.000000</td>\n",
       "      <td>0.000000</td>\n",
       "      <td>0.000000</td>\n",
       "      <td>0.000000</td>\n",
       "      <td>0.000000</td>\n",
       "      <td>0.000000</td>\n",
       "      <td>0.000000</td>\n",
       "      <td>0.000000</td>\n",
       "      <td>0.000000</td>\n",
       "      <td>0.000000</td>\n",
       "      <td>0.000000</td>\n",
       "      <td>0.000000</td>\n",
       "      <td>0.000000</td>\n",
       "      <td>0.000000</td>\n",
       "      <td>0.000000</td>\n",
       "      <td>0.000000</td>\n",
       "      <td>0.000000</td>\n",
       "      <td>0.000000</td>\n",
       "      <td>0.000000</td>\n",
       "      <td>0.000000</td>\n",
       "      <td>0.000000</td>\n",
       "      <td>0.000000</td>\n",
       "      <td>0.000000</td>\n",
       "      <td>0.000000</td>\n",
       "      <td>0.000000</td>\n",
       "      <td>0.000000</td>\n",
       "      <td>0.000000</td>\n",
       "      <td>0.000000</td>\n",
       "      <td>0.000000</td>\n",
       "      <td>0.000000</td>\n",
       "      <td>0.000000</td>\n",
       "      <td>0.000000</td>\n",
       "      <td>0.000000</td>\n",
       "      <td>0.000000</td>\n",
       "      <td>0.000000</td>\n",
       "      <td>0.000000</td>\n",
       "      <td>0.000000</td>\n",
       "      <td>0.000000</td>\n",
       "    </tr>\n",
       "    <tr>\n",
       "      <th>50%</th>\n",
       "      <td>0.000000</td>\n",
       "      <td>0.000000</td>\n",
       "      <td>0.000000</td>\n",
       "      <td>0.000000</td>\n",
       "      <td>0.000000</td>\n",
       "      <td>0.000000</td>\n",
       "      <td>0.000000</td>\n",
       "      <td>0.000000</td>\n",
       "      <td>0.000000</td>\n",
       "      <td>0.000000</td>\n",
       "      <td>0.000000</td>\n",
       "      <td>1.000000</td>\n",
       "      <td>0.000000</td>\n",
       "      <td>0.000000</td>\n",
       "      <td>0.000000</td>\n",
       "      <td>0.000000</td>\n",
       "      <td>0.000000</td>\n",
       "      <td>0.000000</td>\n",
       "      <td>0.000000</td>\n",
       "      <td>0.000000</td>\n",
       "      <td>0.000000</td>\n",
       "      <td>0.000000</td>\n",
       "      <td>0.000000</td>\n",
       "      <td>0.000000</td>\n",
       "      <td>0.000000</td>\n",
       "      <td>0.000000</td>\n",
       "      <td>1.000000</td>\n",
       "      <td>0.000000</td>\n",
       "      <td>0.000000</td>\n",
       "      <td>0.000000</td>\n",
       "      <td>0.000000</td>\n",
       "      <td>0.000000</td>\n",
       "      <td>0.000000</td>\n",
       "      <td>0.000000</td>\n",
       "      <td>0.000000</td>\n",
       "      <td>0.000000</td>\n",
       "      <td>0.000000</td>\n",
       "      <td>0.000000</td>\n",
       "      <td>0.000000</td>\n",
       "      <td>0.000000</td>\n",
       "      <td>0.000000</td>\n",
       "      <td>0.000000</td>\n",
       "      <td>0.000000</td>\n",
       "      <td>0.000000</td>\n",
       "      <td>0.000000</td>\n",
       "      <td>0.000000</td>\n",
       "      <td>0.000000</td>\n",
       "      <td>0.000000</td>\n",
       "      <td>0.000000</td>\n",
       "      <td>0.000000</td>\n",
       "      <td>0.000000</td>\n",
       "      <td>0.000000</td>\n",
       "      <td>0.000000</td>\n",
       "      <td>0.000000</td>\n",
       "      <td>0.000000</td>\n",
       "      <td>0.000000</td>\n",
       "      <td>0.000000</td>\n",
       "      <td>0.000000</td>\n",
       "    </tr>\n",
       "    <tr>\n",
       "      <th>75%</th>\n",
       "      <td>0.000000</td>\n",
       "      <td>1.000000</td>\n",
       "      <td>0.000000</td>\n",
       "      <td>0.000000</td>\n",
       "      <td>0.000000</td>\n",
       "      <td>1.000000</td>\n",
       "      <td>0.000000</td>\n",
       "      <td>1.000000</td>\n",
       "      <td>0.142857</td>\n",
       "      <td>1.000000</td>\n",
       "      <td>1.000000</td>\n",
       "      <td>1.000000</td>\n",
       "      <td>0.133333</td>\n",
       "      <td>0.066667</td>\n",
       "      <td>0.000000</td>\n",
       "      <td>0.000000</td>\n",
       "      <td>0.000000</td>\n",
       "      <td>0.000000</td>\n",
       "      <td>0.000000</td>\n",
       "      <td>0.000000</td>\n",
       "      <td>0.000000</td>\n",
       "      <td>1.000000</td>\n",
       "      <td>0.000000</td>\n",
       "      <td>0.000000</td>\n",
       "      <td>0.000000</td>\n",
       "      <td>0.000000</td>\n",
       "      <td>1.000000</td>\n",
       "      <td>1.000000</td>\n",
       "      <td>0.000000</td>\n",
       "      <td>0.000000</td>\n",
       "      <td>0.000000</td>\n",
       "      <td>0.000000</td>\n",
       "      <td>0.000000</td>\n",
       "      <td>1.000000</td>\n",
       "      <td>0.000000</td>\n",
       "      <td>0.000000</td>\n",
       "      <td>1.000000</td>\n",
       "      <td>0.000000</td>\n",
       "      <td>0.000000</td>\n",
       "      <td>1.000000</td>\n",
       "      <td>1.000000</td>\n",
       "      <td>1.000000</td>\n",
       "      <td>0.000000</td>\n",
       "      <td>0.000000</td>\n",
       "      <td>0.000000</td>\n",
       "      <td>1.000000</td>\n",
       "      <td>0.020408</td>\n",
       "      <td>0.000000</td>\n",
       "      <td>0.000000</td>\n",
       "      <td>0.000000</td>\n",
       "      <td>0.000000</td>\n",
       "      <td>0.000000</td>\n",
       "      <td>0.000000</td>\n",
       "      <td>0.000000</td>\n",
       "      <td>0.000000</td>\n",
       "      <td>0.000000</td>\n",
       "      <td>0.000000</td>\n",
       "      <td>0.000000</td>\n",
       "    </tr>\n",
       "    <tr>\n",
       "      <th>max</th>\n",
       "      <td>1.000000</td>\n",
       "      <td>1.000000</td>\n",
       "      <td>1.000000</td>\n",
       "      <td>1.000000</td>\n",
       "      <td>1.000000</td>\n",
       "      <td>1.000000</td>\n",
       "      <td>1.000000</td>\n",
       "      <td>1.000000</td>\n",
       "      <td>1.000000</td>\n",
       "      <td>1.000000</td>\n",
       "      <td>1.000000</td>\n",
       "      <td>1.000000</td>\n",
       "      <td>1.000000</td>\n",
       "      <td>1.000000</td>\n",
       "      <td>1.000000</td>\n",
       "      <td>1.000000</td>\n",
       "      <td>1.000000</td>\n",
       "      <td>1.000000</td>\n",
       "      <td>1.000000</td>\n",
       "      <td>1.000000</td>\n",
       "      <td>1.000000</td>\n",
       "      <td>1.000000</td>\n",
       "      <td>1.000000</td>\n",
       "      <td>1.000000</td>\n",
       "      <td>1.000000</td>\n",
       "      <td>1.000000</td>\n",
       "      <td>1.000000</td>\n",
       "      <td>1.000000</td>\n",
       "      <td>1.000000</td>\n",
       "      <td>1.000000</td>\n",
       "      <td>1.000000</td>\n",
       "      <td>1.000000</td>\n",
       "      <td>1.000000</td>\n",
       "      <td>1.000000</td>\n",
       "      <td>1.000000</td>\n",
       "      <td>1.000000</td>\n",
       "      <td>1.000000</td>\n",
       "      <td>1.000000</td>\n",
       "      <td>1.000000</td>\n",
       "      <td>1.000000</td>\n",
       "      <td>1.000000</td>\n",
       "      <td>1.000000</td>\n",
       "      <td>1.000000</td>\n",
       "      <td>1.000000</td>\n",
       "      <td>1.000000</td>\n",
       "      <td>1.000000</td>\n",
       "      <td>1.000000</td>\n",
       "      <td>1.000000</td>\n",
       "      <td>1.000000</td>\n",
       "      <td>1.000000</td>\n",
       "      <td>1.000000</td>\n",
       "      <td>1.000000</td>\n",
       "      <td>1.000000</td>\n",
       "      <td>1.000000</td>\n",
       "      <td>1.000000</td>\n",
       "      <td>1.000000</td>\n",
       "      <td>1.000000</td>\n",
       "      <td>1.000000</td>\n",
       "    </tr>\n",
       "  </tbody>\n",
       "</table>\n",
       "</div>"
      ],
      "text/plain": [
       "                  MI           Male        Veteran       RentHome  \\\n",
       "count  349176.000000  349176.000000  349176.000000  349176.000000   \n",
       "mean        0.068693       0.440649       0.141198       0.183503   \n",
       "std         0.252932       0.496466       0.348226       0.387079   \n",
       "min         0.000000       0.000000       0.000000       0.000000   \n",
       "25%         0.000000       0.000000       0.000000       0.000000   \n",
       "50%         0.000000       0.000000       0.000000       0.000000   \n",
       "75%         0.000000       1.000000       0.000000       0.000000   \n",
       "max         1.000000       1.000000       1.000000       1.000000   \n",
       "\n",
       "          PoorHealth         Smoker      ChewSnuff     NoExercise  \\\n",
       "count  349176.000000  349176.000000  349176.000000  349176.000000   \n",
       "mean        0.060207       0.427612       0.029137       0.279154   \n",
       "std         0.237871       0.494733       0.168191       0.448584   \n",
       "min         0.000000       0.000000       0.000000       0.000000   \n",
       "25%         0.000000       0.000000       0.000000       0.000000   \n",
       "50%         0.000000       0.000000       0.000000       0.000000   \n",
       "75%         0.000000       1.000000       0.000000       1.000000   \n",
       "max         1.000000       1.000000       1.000000       1.000000   \n",
       "\n",
       "        PercentDrink  HighCholesterol         HighBP        HighBMI  \\\n",
       "count  349176.000000    349176.000000  349176.000000  349176.000000   \n",
       "mean        0.153717         0.397768       0.463400       0.642962   \n",
       "std         0.277502         0.489438       0.498659       0.479127   \n",
       "min         0.000000         0.000000       0.000000       0.000000   \n",
       "25%         0.000000         0.000000       0.000000       0.000000   \n",
       "50%         0.000000         0.000000       0.000000       1.000000   \n",
       "75%         0.142857         1.000000       1.000000       1.000000   \n",
       "max         1.000000         1.000000       1.000000       1.000000   \n",
       "\n",
       "       PhysicalHealth   MentalHealth     Depression         Stroke  \\\n",
       "count   349176.000000  349176.000000  349176.000000  349176.000000   \n",
       "mean         0.158922       0.114319       0.182704       0.052524   \n",
       "std          0.310414       0.260755       0.386425       0.223081   \n",
       "min          0.000000       0.000000       0.000000       0.000000   \n",
       "25%          0.000000       0.000000       0.000000       0.000000   \n",
       "50%          0.000000       0.000000       0.000000       0.000000   \n",
       "75%          0.133333       0.066667       0.000000       0.000000   \n",
       "max          1.000000       1.000000       1.000000       1.000000   \n",
       "\n",
       "              Asthma     SkinCancer         Cancer           COPD  \\\n",
       "count  349176.000000  349176.000000  349176.000000  349176.000000   \n",
       "mean        0.133700       0.118384       0.119570       0.097183   \n",
       "std         0.340331       0.323063       0.324459       0.296207   \n",
       "min         0.000000       0.000000       0.000000       0.000000   \n",
       "25%         0.000000       0.000000       0.000000       0.000000   \n",
       "50%         0.000000       0.000000       0.000000       0.000000   \n",
       "75%         0.000000       0.000000       0.000000       0.000000   \n",
       "max         1.000000       1.000000       1.000000       1.000000   \n",
       "\n",
       "              Kidney      Arthritis   NoHealthPlan       NoDoctor  \\\n",
       "count  349176.000000  349176.000000  349176.000000  349176.000000   \n",
       "mean        0.044894       0.387613       0.068327       0.129909   \n",
       "std         0.207072       0.487206       0.252306       0.336203   \n",
       "min         0.000000       0.000000       0.000000       0.000000   \n",
       "25%         0.000000       0.000000       0.000000       0.000000   \n",
       "50%         0.000000       0.000000       0.000000       0.000000   \n",
       "75%         0.000000       1.000000       0.000000       0.000000   \n",
       "max         1.000000       1.000000       1.000000       1.000000   \n",
       "\n",
       "                Cost      NoCheckup   Metropolitan          Age65  \\\n",
       "count  349176.000000  349176.000000  349176.000000  349176.000000   \n",
       "mean        0.093328       0.169488       0.682742       0.442983   \n",
       "std         0.290892       0.375183       0.465410       0.496739   \n",
       "min         0.000000       0.000000       0.000000       0.000000   \n",
       "25%         0.000000       0.000000       0.000000       0.000000   \n",
       "50%         0.000000       0.000000       1.000000       0.000000   \n",
       "75%         0.000000       0.000000       1.000000       1.000000   \n",
       "max         1.000000       1.000000       1.000000       1.000000   \n",
       "\n",
       "            Age55_64       Age45_54          Black       Hispanic  \\\n",
       "count  349176.000000  349176.000000  349176.000000  349176.000000   \n",
       "mean        0.240563       0.174840       0.073811       0.073204   \n",
       "std         0.427426       0.379831       0.261463       0.260471   \n",
       "min         0.000000       0.000000       0.000000       0.000000   \n",
       "25%         0.000000       0.000000       0.000000       0.000000   \n",
       "50%         0.000000       0.000000       0.000000       0.000000   \n",
       "75%         0.000000       0.000000       0.000000       0.000000   \n",
       "max         1.000000       1.000000       1.000000       1.000000   \n",
       "\n",
       "               Other  PreviousMarriage   NeverMarried          LT25K  \\\n",
       "count  349176.000000     349176.000000  349176.000000  349176.000000   \n",
       "mean        0.063793          0.319879       0.095333       0.201179   \n",
       "std         0.244384          0.466430       0.293675       0.400882   \n",
       "min         0.000000          0.000000       0.000000       0.000000   \n",
       "25%         0.000000          0.000000       0.000000       0.000000   \n",
       "50%         0.000000          0.000000       0.000000       0.000000   \n",
       "75%         0.000000          1.000000       0.000000       0.000000   \n",
       "max         1.000000          1.000000       1.000000       1.000000   \n",
       "\n",
       "               LT50K     Income_DKR          PreHS             HS  \\\n",
       "count  349176.000000  349176.000000  349176.000000  349176.000000   \n",
       "mean        0.334513       0.174677       0.072637       0.261106   \n",
       "std         0.471821       0.379691       0.259540       0.439238   \n",
       "min         0.000000       0.000000       0.000000       0.000000   \n",
       "25%         0.000000       0.000000       0.000000       0.000000   \n",
       "50%         0.000000       0.000000       0.000000       0.000000   \n",
       "75%         1.000000       0.000000       0.000000       1.000000   \n",
       "max         1.000000       1.000000       1.000000       1.000000   \n",
       "\n",
       "              PostHS  RetiredUnable      OutofWork  OtherNotWorking  \\\n",
       "count  349176.000000  349176.000000  349176.000000    349176.000000   \n",
       "mean        0.272673       0.449346       0.032396         0.058409   \n",
       "std         0.445335       0.497428       0.177050         0.234515   \n",
       "min         0.000000       0.000000       0.000000         0.000000   \n",
       "25%         0.000000       0.000000       0.000000         0.000000   \n",
       "50%         0.000000       0.000000       0.000000         0.000000   \n",
       "75%         1.000000       1.000000       0.000000         0.000000   \n",
       "max         1.000000       1.000000       1.000000         1.000000   \n",
       "\n",
       "          FairHealth     GoodHealth  PercentDrink_2       Diabetic  \\\n",
       "count  349176.000000  349176.000000   349176.000000  349176.000000   \n",
       "mean        0.152814       0.323731        0.100636       0.160965   \n",
       "std         0.359809       0.467899        0.254119       0.367499   \n",
       "min         0.000000       0.000000        0.000000       0.000000   \n",
       "25%         0.000000       0.000000        0.000000       0.000000   \n",
       "50%         0.000000       0.000000        0.000000       0.000000   \n",
       "75%         0.000000       1.000000        0.020408       0.000000   \n",
       "max         1.000000       1.000000        1.000000       1.000000   \n",
       "\n",
       "         Prediabetic    Division_D1    Division_D2    Division_D3  \\\n",
       "count  349176.000000  349176.000000  349176.000000  349176.000000   \n",
       "mean        0.024609       0.117250       0.048803       0.105188   \n",
       "std         0.154932       0.321719       0.215457       0.306795   \n",
       "min         0.000000       0.000000       0.000000       0.000000   \n",
       "25%         0.000000       0.000000       0.000000       0.000000   \n",
       "50%         0.000000       0.000000       0.000000       0.000000   \n",
       "75%         0.000000       0.000000       0.000000       0.000000   \n",
       "max         1.000000       1.000000       1.000000       1.000000   \n",
       "\n",
       "         Division_D4    Division_D5    Division_D6    Division_D7  \\\n",
       "count  349176.000000  349176.000000  349176.000000  349176.000000   \n",
       "mean        0.170713       0.181765       0.063458       0.068567   \n",
       "std         0.376259       0.385651       0.243785       0.252717   \n",
       "min         0.000000       0.000000       0.000000       0.000000   \n",
       "25%         0.000000       0.000000       0.000000       0.000000   \n",
       "50%         0.000000       0.000000       0.000000       0.000000   \n",
       "75%         0.000000       0.000000       0.000000       0.000000   \n",
       "max         1.000000       1.000000       1.000000       1.000000   \n",
       "\n",
       "         Division_D8    Division_D9  \n",
       "count  349176.000000  349176.000000  \n",
       "mean        0.130513       0.094895  \n",
       "std         0.336867       0.293070  \n",
       "min         0.000000       0.000000  \n",
       "25%         0.000000       0.000000  \n",
       "50%         0.000000       0.000000  \n",
       "75%         0.000000       0.000000  \n",
       "max         1.000000       1.000000  "
      ]
     },
     "execution_count": 69,
     "metadata": {},
     "output_type": "execute_result"
    }
   ],
   "source": [
    "##############################################################################################################################\n",
    "mydata=temp1 #reassign temp1 back to the original data frame but keep in temp1 \n",
    "mydata=mydata.drop(columns=['Weights','Stratum', 'PSU']) #drop the weighting variables.\n",
    "pd.set_option('display.max_columns', 500)\n",
    "mydata.describe()\n",
    "#pandas_profiling.ProfileReport(mydata)\n",
    "##############################################################################################################################"
   ]
  },
  {
   "cell_type": "markdown",
   "metadata": {},
   "source": [
    "# Build Training and Test Set"
   ]
  },
  {
   "cell_type": "code",
   "execution_count": 70,
   "metadata": {},
   "outputs": [],
   "source": [
    "##############################################################################################################################\n",
    "# Seed value for random number generators to obtain reproducible results\n",
    "temp=mydata\n",
    "temp=temp.values\n",
    "tempy=temp[:,0]\n",
    "tempx=temp[:,1:len(temp)]\n",
    "\n",
    "X_train, X_test, y_train, y_test = tts(tempx, tempy, test_size=.2, random_state=1234)\n",
    "X_train1, X_test1, y_train1,y_test1=X_train, X_test, y_train, y_test #Backup, NOT oversampled\n",
    "\n",
    "oversample = SMOTE()\n",
    "X_train, y_train = oversample.fit_resample(X_train, y_train)\n",
    "\n",
    "##############################################################################################################################"
   ]
  },
  {
   "cell_type": "markdown",
   "metadata": {},
   "source": [
    "# Functions for Confusion Matrix and PR Plot"
   ]
  },
  {
   "cell_type": "code",
   "execution_count": 71,
   "metadata": {},
   "outputs": [],
   "source": [
    "def myf(mod):\n",
    "    y_hat=mod.predict(X_test).astype(int) #can use either encoded or decoded data..doesn't help\n",
    "    results=pd.DataFrame(CR(y_test, y_hat, output_dict=True))\n",
    "    try:  \n",
    "        plot_confusion_matrix(mod,X_test,y_test)\n",
    "    except:\n",
    "        print('No confusion plot.')\n",
    "    return(results)\n",
    "\n",
    "def prplot(mod):\n",
    "    average_precision = average_precision_score(y_test, mod.predict(X_test))\n",
    "    disp = plot_precision_recall_curve(mod, X_test, y_test)\n",
    "    disp.ax_.set_title('2-class Precision-Recall curve: '\n",
    "                   'AP={0:0.2f}'.format(average_precision))"
   ]
  },
  {
   "cell_type": "markdown",
   "metadata": {},
   "source": [
    "# Naive Bayes"
   ]
  },
  {
   "cell_type": "code",
   "execution_count": 72,
   "metadata": {},
   "outputs": [
    {
     "data": {
      "text/html": [
       "<div>\n",
       "<style scoped>\n",
       "    .dataframe tbody tr th:only-of-type {\n",
       "        vertical-align: middle;\n",
       "    }\n",
       "\n",
       "    .dataframe tbody tr th {\n",
       "        vertical-align: top;\n",
       "    }\n",
       "\n",
       "    .dataframe thead th {\n",
       "        text-align: right;\n",
       "    }\n",
       "</style>\n",
       "<table border=\"1\" class=\"dataframe\">\n",
       "  <thead>\n",
       "    <tr style=\"text-align: right;\">\n",
       "      <th></th>\n",
       "      <th>0.0</th>\n",
       "      <th>1.0</th>\n",
       "      <th>accuracy</th>\n",
       "      <th>macro avg</th>\n",
       "      <th>weighted avg</th>\n",
       "    </tr>\n",
       "  </thead>\n",
       "  <tbody>\n",
       "    <tr>\n",
       "      <th>precision</th>\n",
       "      <td>0.970066</td>\n",
       "      <td>0.144472</td>\n",
       "      <td>0.691849</td>\n",
       "      <td>0.557269</td>\n",
       "      <td>0.913486</td>\n",
       "    </tr>\n",
       "    <tr>\n",
       "      <th>recall</th>\n",
       "      <td>0.690484</td>\n",
       "      <td>0.710405</td>\n",
       "      <td>0.691849</td>\n",
       "      <td>0.700445</td>\n",
       "      <td>0.691849</td>\n",
       "    </tr>\n",
       "    <tr>\n",
       "      <th>f1-score</th>\n",
       "      <td>0.806739</td>\n",
       "      <td>0.240113</td>\n",
       "      <td>0.691849</td>\n",
       "      <td>0.523426</td>\n",
       "      <td>0.767907</td>\n",
       "    </tr>\n",
       "    <tr>\n",
       "      <th>support</th>\n",
       "      <td>65050.000000</td>\n",
       "      <td>4786.000000</td>\n",
       "      <td>0.691849</td>\n",
       "      <td>69836.000000</td>\n",
       "      <td>69836.000000</td>\n",
       "    </tr>\n",
       "  </tbody>\n",
       "</table>\n",
       "</div>"
      ],
      "text/plain": [
       "                    0.0          1.0  accuracy     macro avg  weighted avg\n",
       "precision      0.970066     0.144472  0.691849      0.557269      0.913486\n",
       "recall         0.690484     0.710405  0.691849      0.700445      0.691849\n",
       "f1-score       0.806739     0.240113  0.691849      0.523426      0.767907\n",
       "support    65050.000000  4786.000000  0.691849  69836.000000  69836.000000"
      ]
     },
     "execution_count": 72,
     "metadata": {},
     "output_type": "execute_result"
    },
    {
     "data": {
      "image/png": "[encoded data removed]",
      "text/plain": [
       "<Figure size 432x288 with 2 Axes>"
      ]
     },
     "metadata": {
      "needs_background": "light"
     },
     "output_type": "display_data"
    }
   ],
   "source": [
    "mynb=GaussianNB()\n",
    "mynb.fit(X_train, y_train)\n",
    "myf(mynb)"
   ]
  },
  {
   "cell_type": "markdown",
   "metadata": {},
   "source": [
    "# K Nearest Neighbors"
   ]
  },
  {
   "cell_type": "code",
   "execution_count": 73,
   "metadata": {},
   "outputs": [],
   "source": [
    "#myknn=KNN(2)\n",
    "#myknn.fit(X_train, y_train)\n",
    "#myf(myknn)\n",
    "##Not Run.  "
   ]
  },
  {
   "cell_type": "markdown",
   "metadata": {},
   "source": [
    "# Logistic Regression Models"
   ]
  },
  {
   "cell_type": "markdown",
   "metadata": {},
   "source": [
    "## Elasticnet Regularization"
   ]
  },
  {
   "cell_type": "code",
   "execution_count": 74,
   "metadata": {},
   "outputs": [
    {
     "data": {
      "text/html": [
       "<div>\n",
       "<style scoped>\n",
       "    .dataframe tbody tr th:only-of-type {\n",
       "        vertical-align: middle;\n",
       "    }\n",
       "\n",
       "    .dataframe tbody tr th {\n",
       "        vertical-align: top;\n",
       "    }\n",
       "\n",
       "    .dataframe thead th {\n",
       "        text-align: right;\n",
       "    }\n",
       "</style>\n",
       "<table border=\"1\" class=\"dataframe\">\n",
       "  <thead>\n",
       "    <tr style=\"text-align: right;\">\n",
       "      <th></th>\n",
       "      <th>0.0</th>\n",
       "      <th>1.0</th>\n",
       "      <th>accuracy</th>\n",
       "      <th>macro avg</th>\n",
       "      <th>weighted avg</th>\n",
       "    </tr>\n",
       "  </thead>\n",
       "  <tbody>\n",
       "    <tr>\n",
       "      <th>precision</th>\n",
       "      <td>0.976024</td>\n",
       "      <td>0.171307</td>\n",
       "      <td>0.732659</td>\n",
       "      <td>0.573666</td>\n",
       "      <td>0.920875</td>\n",
       "    </tr>\n",
       "    <tr>\n",
       "      <th>recall</th>\n",
       "      <td>0.730945</td>\n",
       "      <td>0.755955</td>\n",
       "      <td>0.732659</td>\n",
       "      <td>0.743450</td>\n",
       "      <td>0.732659</td>\n",
       "    </tr>\n",
       "    <tr>\n",
       "      <th>f1-score</th>\n",
       "      <td>0.835891</td>\n",
       "      <td>0.279318</td>\n",
       "      <td>0.732659</td>\n",
       "      <td>0.557604</td>\n",
       "      <td>0.797748</td>\n",
       "    </tr>\n",
       "    <tr>\n",
       "      <th>support</th>\n",
       "      <td>65050.000000</td>\n",
       "      <td>4786.000000</td>\n",
       "      <td>0.732659</td>\n",
       "      <td>69836.000000</td>\n",
       "      <td>69836.000000</td>\n",
       "    </tr>\n",
       "  </tbody>\n",
       "</table>\n",
       "</div>"
      ],
      "text/plain": [
       "                    0.0          1.0  accuracy     macro avg  weighted avg\n",
       "precision      0.976024     0.171307  0.732659      0.573666      0.920875\n",
       "recall         0.730945     0.755955  0.732659      0.743450      0.732659\n",
       "f1-score       0.835891     0.279318  0.732659      0.557604      0.797748\n",
       "support    65050.000000  4786.000000  0.732659  69836.000000  69836.000000"
      ]
     },
     "execution_count": 74,
     "metadata": {},
     "output_type": "execute_result"
    },
    {
     "data": {
      "image/png": "[encoded data removed]",
      "text/plain": [
       "<Figure size 432x288 with 2 Axes>"
      ]
     },
     "metadata": {
      "needs_background": "light"
     },
     "output_type": "display_data"
    }
   ],
   "source": [
    "##############################################################################################################################\n",
    "mylm=LR(fit_intercept = True, penalty='elasticnet', solver='saga', l1_ratio=.9) #logistic model with elasticnet\n",
    "myfit2=mylm.fit(X_train, y_train)  #Fit on training data \n",
    "myf(mylm)\n",
    "##############################################################################################################################"
   ]
  },
  {
   "cell_type": "code",
   "execution_count": 75,
   "metadata": {},
   "outputs": [
    {
     "data": {
      "text/html": [
       "<div>\n",
       "<style scoped>\n",
       "    .dataframe tbody tr th:only-of-type {\n",
       "        vertical-align: middle;\n",
       "    }\n",
       "\n",
       "    .dataframe tbody tr th {\n",
       "        vertical-align: top;\n",
       "    }\n",
       "\n",
       "    .dataframe thead th {\n",
       "        text-align: right;\n",
       "    }\n",
       "</style>\n",
       "<table border=\"1\" class=\"dataframe\">\n",
       "  <thead>\n",
       "    <tr style=\"text-align: right;\">\n",
       "      <th>Pred</th>\n",
       "      <th>0.0</th>\n",
       "      <th>1.0</th>\n",
       "    </tr>\n",
       "    <tr>\n",
       "      <th>Actual</th>\n",
       "      <th></th>\n",
       "      <th></th>\n",
       "    </tr>\n",
       "  </thead>\n",
       "  <tbody>\n",
       "    <tr>\n",
       "      <th>0.0</th>\n",
       "      <td>47548</td>\n",
       "      <td>17502</td>\n",
       "    </tr>\n",
       "    <tr>\n",
       "      <th>1.0</th>\n",
       "      <td>1168</td>\n",
       "      <td>3618</td>\n",
       "    </tr>\n",
       "  </tbody>\n",
       "</table>\n",
       "</div>"
      ],
      "text/plain": [
       "Pred      0.0    1.0\n",
       "Actual              \n",
       "0.0     47548  17502\n",
       "1.0      1168   3618"
      ]
     },
     "execution_count": 75,
     "metadata": {},
     "output_type": "execute_result"
    }
   ],
   "source": [
    "pr1=mylm.predict_proba(X_test)\n",
    "cut=.5\n",
    "pr1[pr1<cut]=0\n",
    "pr1[pr1>=cut]=1\n",
    "nw=pd.DataFrame(pr1, columns=('No','Yes'))\n",
    "tmp=nw[['No','Yes']].idxmax(axis=1)\n",
    "tmp[tmp=='Yes']=1\n",
    "tmp[tmp=='No']=0\n",
    "tmp=tmp.astype('float64')\n",
    "ndf=pd.DataFrame({'Pred':tmp, 'Actual': y_test})\n",
    "pd.crosstab(ndf.Actual,ndf.Pred)"
   ]
  },
  {
   "cell_type": "code",
   "execution_count": 76,
   "metadata": {},
   "outputs": [
    {
     "data": {
      "image/png": "[encoded data removed]",
      "text/plain": [
       "<Figure size 432x288 with 1 Axes>"
      ]
     },
     "metadata": {
      "needs_background": "light"
     },
     "output_type": "display_data"
    }
   ],
   "source": [
    "prplot(mylm)"
   ]
  },
  {
   "cell_type": "markdown",
   "metadata": {},
   "source": [
    "## L2 Regularized Logistic Regression"
   ]
  },
  {
   "cell_type": "code",
   "execution_count": 77,
   "metadata": {},
   "outputs": [
    {
     "data": {
      "text/html": [
       "<div>\n",
       "<style scoped>\n",
       "    .dataframe tbody tr th:only-of-type {\n",
       "        vertical-align: middle;\n",
       "    }\n",
       "\n",
       "    .dataframe tbody tr th {\n",
       "        vertical-align: top;\n",
       "    }\n",
       "\n",
       "    .dataframe thead th {\n",
       "        text-align: right;\n",
       "    }\n",
       "</style>\n",
       "<table border=\"1\" class=\"dataframe\">\n",
       "  <thead>\n",
       "    <tr style=\"text-align: right;\">\n",
       "      <th></th>\n",
       "      <th>0.0</th>\n",
       "      <th>1.0</th>\n",
       "      <th>accuracy</th>\n",
       "      <th>macro avg</th>\n",
       "      <th>weighted avg</th>\n",
       "    </tr>\n",
       "  </thead>\n",
       "  <tbody>\n",
       "    <tr>\n",
       "      <th>precision</th>\n",
       "      <td>0.976004</td>\n",
       "      <td>0.171259</td>\n",
       "      <td>0.732631</td>\n",
       "      <td>0.573632</td>\n",
       "      <td>0.920853</td>\n",
       "    </tr>\n",
       "    <tr>\n",
       "      <th>recall</th>\n",
       "      <td>0.730930</td>\n",
       "      <td>0.755746</td>\n",
       "      <td>0.732631</td>\n",
       "      <td>0.743338</td>\n",
       "      <td>0.732631</td>\n",
       "    </tr>\n",
       "    <tr>\n",
       "      <th>f1-score</th>\n",
       "      <td>0.835874</td>\n",
       "      <td>0.279240</td>\n",
       "      <td>0.732631</td>\n",
       "      <td>0.557557</td>\n",
       "      <td>0.797726</td>\n",
       "    </tr>\n",
       "    <tr>\n",
       "      <th>support</th>\n",
       "      <td>65050.000000</td>\n",
       "      <td>4786.000000</td>\n",
       "      <td>0.732631</td>\n",
       "      <td>69836.000000</td>\n",
       "      <td>69836.000000</td>\n",
       "    </tr>\n",
       "  </tbody>\n",
       "</table>\n",
       "</div>"
      ],
      "text/plain": [
       "                    0.0          1.0  accuracy     macro avg  weighted avg\n",
       "precision      0.976004     0.171259  0.732631      0.573632      0.920853\n",
       "recall         0.730930     0.755746  0.732631      0.743338      0.732631\n",
       "f1-score       0.835874     0.279240  0.732631      0.557557      0.797726\n",
       "support    65050.000000  4786.000000  0.732631  69836.000000  69836.000000"
      ]
     },
     "execution_count": 77,
     "metadata": {},
     "output_type": "execute_result"
    },
    {
     "data": {
      "image/png": "[encoded data removed]",
      "text/plain": [
       "<Figure size 432x288 with 2 Axes>"
      ]
     },
     "metadata": {
      "needs_background": "light"
     },
     "output_type": "display_data"
    }
   ],
   "source": [
    "##############################################################################################################################\n",
    "myrr=LR(fit_intercept = True, solver='liblinear', penalty='l2') #logistic model\n",
    "myrr.fit(X_train, y_train)  #Fit on training data \n",
    "myf(myrr) #predict on test set and plot\n",
    "##############################################################################################################################"
   ]
  },
  {
   "cell_type": "code",
   "execution_count": 78,
   "metadata": {},
   "outputs": [
    {
     "data": {
      "image/png": "[encoded data removed]",
      "text/plain": [
       "<Figure size 432x288 with 1 Axes>"
      ]
     },
     "metadata": {
      "needs_background": "light"
     },
     "output_type": "display_data"
    }
   ],
   "source": [
    "prplot(myrr)"
   ]
  },
  {
   "cell_type": "markdown",
   "metadata": {},
   "source": [
    "## L1 Regularized Logistic Regression"
   ]
  },
  {
   "cell_type": "code",
   "execution_count": 79,
   "metadata": {},
   "outputs": [
    {
     "data": {
      "text/html": [
       "<div>\n",
       "<style scoped>\n",
       "    .dataframe tbody tr th:only-of-type {\n",
       "        vertical-align: middle;\n",
       "    }\n",
       "\n",
       "    .dataframe tbody tr th {\n",
       "        vertical-align: top;\n",
       "    }\n",
       "\n",
       "    .dataframe thead th {\n",
       "        text-align: right;\n",
       "    }\n",
       "</style>\n",
       "<table border=\"1\" class=\"dataframe\">\n",
       "  <thead>\n",
       "    <tr style=\"text-align: right;\">\n",
       "      <th></th>\n",
       "      <th>0.0</th>\n",
       "      <th>1.0</th>\n",
       "      <th>accuracy</th>\n",
       "      <th>macro avg</th>\n",
       "      <th>weighted avg</th>\n",
       "    </tr>\n",
       "  </thead>\n",
       "  <tbody>\n",
       "    <tr>\n",
       "      <th>precision</th>\n",
       "      <td>0.976003</td>\n",
       "      <td>0.171243</td>\n",
       "      <td>0.732602</td>\n",
       "      <td>0.573623</td>\n",
       "      <td>0.920851</td>\n",
       "    </tr>\n",
       "    <tr>\n",
       "      <th>recall</th>\n",
       "      <td>0.730899</td>\n",
       "      <td>0.755746</td>\n",
       "      <td>0.732602</td>\n",
       "      <td>0.743323</td>\n",
       "      <td>0.732602</td>\n",
       "    </tr>\n",
       "    <tr>\n",
       "      <th>f1-score</th>\n",
       "      <td>0.835853</td>\n",
       "      <td>0.279219</td>\n",
       "      <td>0.732602</td>\n",
       "      <td>0.557536</td>\n",
       "      <td>0.797706</td>\n",
       "    </tr>\n",
       "    <tr>\n",
       "      <th>support</th>\n",
       "      <td>65050.000000</td>\n",
       "      <td>4786.000000</td>\n",
       "      <td>0.732602</td>\n",
       "      <td>69836.000000</td>\n",
       "      <td>69836.000000</td>\n",
       "    </tr>\n",
       "  </tbody>\n",
       "</table>\n",
       "</div>"
      ],
      "text/plain": [
       "                    0.0          1.0  accuracy     macro avg  weighted avg\n",
       "precision      0.976003     0.171243  0.732602      0.573623      0.920851\n",
       "recall         0.730899     0.755746  0.732602      0.743323      0.732602\n",
       "f1-score       0.835853     0.279219  0.732602      0.557536      0.797706\n",
       "support    65050.000000  4786.000000  0.732602  69836.000000  69836.000000"
      ]
     },
     "execution_count": 79,
     "metadata": {},
     "output_type": "execute_result"
    },
    {
     "data": {
      "image/png": "[encoded data removed]",
      "text/plain": [
       "<Figure size 432x288 with 2 Axes>"
      ]
     },
     "metadata": {
      "needs_background": "light"
     },
     "output_type": "display_data"
    }
   ],
   "source": [
    "##############################################################################################################################\n",
    "mylasso=LR(fit_intercept = True, solver='liblinear', penalty='l1') #logistic model\n",
    "mylasso.fit(X_train, y_train)  #Fit on training data \n",
    "myf(mylasso) #predict on test set and plot\n",
    "##############################################################################################################################"
   ]
  },
  {
   "cell_type": "code",
   "execution_count": 80,
   "metadata": {},
   "outputs": [
    {
     "data": {
      "image/png": "[encoded data removed]",
      "text/plain": [
       "<Figure size 432x288 with 1 Axes>"
      ]
     },
     "metadata": {
      "needs_background": "light"
     },
     "output_type": "display_data"
    }
   ],
   "source": [
    "prplot(mylasso)"
   ]
  },
  {
   "cell_type": "markdown",
   "metadata": {},
   "source": [
    "## SGD Classifier"
   ]
  },
  {
   "cell_type": "code",
   "execution_count": 81,
   "metadata": {},
   "outputs": [
    {
     "data": {
      "text/html": [
       "<div>\n",
       "<style scoped>\n",
       "    .dataframe tbody tr th:only-of-type {\n",
       "        vertical-align: middle;\n",
       "    }\n",
       "\n",
       "    .dataframe tbody tr th {\n",
       "        vertical-align: top;\n",
       "    }\n",
       "\n",
       "    .dataframe thead th {\n",
       "        text-align: right;\n",
       "    }\n",
       "</style>\n",
       "<table border=\"1\" class=\"dataframe\">\n",
       "  <thead>\n",
       "    <tr style=\"text-align: right;\">\n",
       "      <th></th>\n",
       "      <th>0.0</th>\n",
       "      <th>1.0</th>\n",
       "      <th>accuracy</th>\n",
       "      <th>macro avg</th>\n",
       "      <th>weighted avg</th>\n",
       "    </tr>\n",
       "  </thead>\n",
       "  <tbody>\n",
       "    <tr>\n",
       "      <th>precision</th>\n",
       "      <td>0.976360</td>\n",
       "      <td>0.170709</td>\n",
       "      <td>0.73044</td>\n",
       "      <td>0.573534</td>\n",
       "      <td>0.921147</td>\n",
       "    </tr>\n",
       "    <tr>\n",
       "      <th>recall</th>\n",
       "      <td>0.728240</td>\n",
       "      <td>0.760343</td>\n",
       "      <td>0.73044</td>\n",
       "      <td>0.744291</td>\n",
       "      <td>0.730440</td>\n",
       "    </tr>\n",
       "    <tr>\n",
       "      <th>f1-score</th>\n",
       "      <td>0.834242</td>\n",
       "      <td>0.278819</td>\n",
       "      <td>0.73044</td>\n",
       "      <td>0.556530</td>\n",
       "      <td>0.796177</td>\n",
       "    </tr>\n",
       "    <tr>\n",
       "      <th>support</th>\n",
       "      <td>65050.000000</td>\n",
       "      <td>4786.000000</td>\n",
       "      <td>0.73044</td>\n",
       "      <td>69836.000000</td>\n",
       "      <td>69836.000000</td>\n",
       "    </tr>\n",
       "  </tbody>\n",
       "</table>\n",
       "</div>"
      ],
      "text/plain": [
       "                    0.0          1.0  accuracy     macro avg  weighted avg\n",
       "precision      0.976360     0.170709   0.73044      0.573534      0.921147\n",
       "recall         0.728240     0.760343   0.73044      0.744291      0.730440\n",
       "f1-score       0.834242     0.278819   0.73044      0.556530      0.796177\n",
       "support    65050.000000  4786.000000   0.73044  69836.000000  69836.000000"
      ]
     },
     "execution_count": 81,
     "metadata": {},
     "output_type": "execute_result"
    },
    {
     "data": {
      "image/png": "[encoded data removed]",
      "text/plain": [
       "<Figure size 432x288 with 2 Axes>"
      ]
     },
     "metadata": {
      "needs_background": "light"
     },
     "output_type": "display_data"
    }
   ],
   "source": [
    "mysgd=SGD(loss='log', penalty='l1', alpha=0.001,fit_intercept=True, random_state=43)\n",
    "mysgd.fit(X_train,y_train)\n",
    "myf(mysgd)"
   ]
  },
  {
   "cell_type": "code",
   "execution_count": 82,
   "metadata": {},
   "outputs": [
    {
     "data": {
      "image/png": "[encoded data removed]",
      "text/plain": [
       "<Figure size 432x288 with 1 Axes>"
      ]
     },
     "metadata": {
      "needs_background": "light"
     },
     "output_type": "display_data"
    }
   ],
   "source": [
    "prplot(mysgd)"
   ]
  },
  {
   "cell_type": "markdown",
   "metadata": {},
   "source": [
    "## Comparison of Coefficients"
   ]
  },
  {
   "cell_type": "code",
   "execution_count": 83,
   "metadata": {},
   "outputs": [
    {
     "data": {
      "text/html": [
       "<div>\n",
       "<style scoped>\n",
       "    .dataframe tbody tr th:only-of-type {\n",
       "        vertical-align: middle;\n",
       "    }\n",
       "\n",
       "    .dataframe tbody tr th {\n",
       "        vertical-align: top;\n",
       "    }\n",
       "\n",
       "    .dataframe thead th {\n",
       "        text-align: right;\n",
       "    }\n",
       "</style>\n",
       "<table border=\"1\" class=\"dataframe\">\n",
       "  <thead>\n",
       "    <tr style=\"text-align: right;\">\n",
       "      <th></th>\n",
       "      <th>Name</th>\n",
       "      <th>Elasticnet</th>\n",
       "      <th>L2</th>\n",
       "      <th>L1</th>\n",
       "      <th>SGD</th>\n",
       "    </tr>\n",
       "  </thead>\n",
       "  <tbody>\n",
       "    <tr>\n",
       "      <th>0</th>\n",
       "      <td>Male</td>\n",
       "      <td>2.545616</td>\n",
       "      <td>2.545316</td>\n",
       "      <td>2.544438</td>\n",
       "      <td>2.429521</td>\n",
       "    </tr>\n",
       "    <tr>\n",
       "      <th>1</th>\n",
       "      <td>Veteran</td>\n",
       "      <td>1.042972</td>\n",
       "      <td>1.043076</td>\n",
       "      <td>1.043188</td>\n",
       "      <td>1.000000</td>\n",
       "    </tr>\n",
       "    <tr>\n",
       "      <th>2</th>\n",
       "      <td>RentHome</td>\n",
       "      <td>1.080755</td>\n",
       "      <td>1.081174</td>\n",
       "      <td>1.081023</td>\n",
       "      <td>1.000000</td>\n",
       "    </tr>\n",
       "    <tr>\n",
       "      <th>3</th>\n",
       "      <td>PoorHealth</td>\n",
       "      <td>3.948543</td>\n",
       "      <td>3.949399</td>\n",
       "      <td>3.948135</td>\n",
       "      <td>3.354350</td>\n",
       "    </tr>\n",
       "    <tr>\n",
       "      <th>4</th>\n",
       "      <td>Smoker</td>\n",
       "      <td>1.487040</td>\n",
       "      <td>1.486973</td>\n",
       "      <td>1.486838</td>\n",
       "      <td>1.461202</td>\n",
       "    </tr>\n",
       "    <tr>\n",
       "      <th>5</th>\n",
       "      <td>ChewSnuff</td>\n",
       "      <td>0.646709</td>\n",
       "      <td>0.646401</td>\n",
       "      <td>0.646699</td>\n",
       "      <td>0.847072</td>\n",
       "    </tr>\n",
       "    <tr>\n",
       "      <th>6</th>\n",
       "      <td>NoExercise</td>\n",
       "      <td>0.941375</td>\n",
       "      <td>0.941252</td>\n",
       "      <td>0.941238</td>\n",
       "      <td>1.000000</td>\n",
       "    </tr>\n",
       "    <tr>\n",
       "      <th>7</th>\n",
       "      <td>PercentDrink</td>\n",
       "      <td>0.255123</td>\n",
       "      <td>0.256154</td>\n",
       "      <td>0.254603</td>\n",
       "      <td>0.596688</td>\n",
       "    </tr>\n",
       "    <tr>\n",
       "      <th>8</th>\n",
       "      <td>HighCholesterol</td>\n",
       "      <td>1.664877</td>\n",
       "      <td>1.664752</td>\n",
       "      <td>1.664670</td>\n",
       "      <td>1.641564</td>\n",
       "    </tr>\n",
       "    <tr>\n",
       "      <th>9</th>\n",
       "      <td>HighBP</td>\n",
       "      <td>1.938930</td>\n",
       "      <td>1.938789</td>\n",
       "      <td>1.938577</td>\n",
       "      <td>1.955664</td>\n",
       "    </tr>\n",
       "    <tr>\n",
       "      <th>10</th>\n",
       "      <td>HighBMI</td>\n",
       "      <td>1.063712</td>\n",
       "      <td>1.063601</td>\n",
       "      <td>1.063245</td>\n",
       "      <td>1.009576</td>\n",
       "    </tr>\n",
       "    <tr>\n",
       "      <th>11</th>\n",
       "      <td>PhysicalHealth</td>\n",
       "      <td>0.953993</td>\n",
       "      <td>0.953806</td>\n",
       "      <td>0.953940</td>\n",
       "      <td>1.000000</td>\n",
       "    </tr>\n",
       "    <tr>\n",
       "      <th>12</th>\n",
       "      <td>MentalHealth</td>\n",
       "      <td>0.872943</td>\n",
       "      <td>0.872710</td>\n",
       "      <td>0.873013</td>\n",
       "      <td>1.000000</td>\n",
       "    </tr>\n",
       "    <tr>\n",
       "      <th>13</th>\n",
       "      <td>Depression</td>\n",
       "      <td>0.911377</td>\n",
       "      <td>0.911328</td>\n",
       "      <td>0.911250</td>\n",
       "      <td>0.944235</td>\n",
       "    </tr>\n",
       "    <tr>\n",
       "      <th>14</th>\n",
       "      <td>Stroke</td>\n",
       "      <td>2.937562</td>\n",
       "      <td>2.937956</td>\n",
       "      <td>2.937706</td>\n",
       "      <td>2.737287</td>\n",
       "    </tr>\n",
       "    <tr>\n",
       "      <th>15</th>\n",
       "      <td>Asthma</td>\n",
       "      <td>0.902273</td>\n",
       "      <td>0.902086</td>\n",
       "      <td>0.902081</td>\n",
       "      <td>0.955866</td>\n",
       "    </tr>\n",
       "    <tr>\n",
       "      <th>16</th>\n",
       "      <td>SkinCancer</td>\n",
       "      <td>0.817980</td>\n",
       "      <td>0.817912</td>\n",
       "      <td>0.817987</td>\n",
       "      <td>0.889526</td>\n",
       "    </tr>\n",
       "    <tr>\n",
       "      <th>17</th>\n",
       "      <td>Cancer</td>\n",
       "      <td>0.821348</td>\n",
       "      <td>0.821288</td>\n",
       "      <td>0.821356</td>\n",
       "      <td>0.894559</td>\n",
       "    </tr>\n",
       "    <tr>\n",
       "      <th>18</th>\n",
       "      <td>COPD</td>\n",
       "      <td>1.375141</td>\n",
       "      <td>1.375363</td>\n",
       "      <td>1.375413</td>\n",
       "      <td>1.348584</td>\n",
       "    </tr>\n",
       "    <tr>\n",
       "      <th>19</th>\n",
       "      <td>Kidney</td>\n",
       "      <td>1.167544</td>\n",
       "      <td>1.167769</td>\n",
       "      <td>1.167718</td>\n",
       "      <td>1.000000</td>\n",
       "    </tr>\n",
       "    <tr>\n",
       "      <th>20</th>\n",
       "      <td>Arthritis</td>\n",
       "      <td>1.147019</td>\n",
       "      <td>1.147057</td>\n",
       "      <td>1.147015</td>\n",
       "      <td>1.153496</td>\n",
       "    </tr>\n",
       "    <tr>\n",
       "      <th>21</th>\n",
       "      <td>NoHealthPlan</td>\n",
       "      <td>0.928586</td>\n",
       "      <td>0.928529</td>\n",
       "      <td>0.928839</td>\n",
       "      <td>1.000000</td>\n",
       "    </tr>\n",
       "    <tr>\n",
       "      <th>22</th>\n",
       "      <td>NoDoctor</td>\n",
       "      <td>0.753639</td>\n",
       "      <td>0.753488</td>\n",
       "      <td>0.753595</td>\n",
       "      <td>0.795233</td>\n",
       "    </tr>\n",
       "    <tr>\n",
       "      <th>23</th>\n",
       "      <td>Cost</td>\n",
       "      <td>1.140223</td>\n",
       "      <td>1.140390</td>\n",
       "      <td>1.140001</td>\n",
       "      <td>1.000000</td>\n",
       "    </tr>\n",
       "    <tr>\n",
       "      <th>24</th>\n",
       "      <td>NoCheckup</td>\n",
       "      <td>0.672981</td>\n",
       "      <td>0.672883</td>\n",
       "      <td>0.672778</td>\n",
       "      <td>0.697233</td>\n",
       "    </tr>\n",
       "    <tr>\n",
       "      <th>25</th>\n",
       "      <td>Metropolitan</td>\n",
       "      <td>0.991393</td>\n",
       "      <td>0.991065</td>\n",
       "      <td>0.990694</td>\n",
       "      <td>0.981729</td>\n",
       "    </tr>\n",
       "    <tr>\n",
       "      <th>26</th>\n",
       "      <td>Age65</td>\n",
       "      <td>4.306593</td>\n",
       "      <td>4.301134</td>\n",
       "      <td>4.292087</td>\n",
       "      <td>3.102331</td>\n",
       "    </tr>\n",
       "    <tr>\n",
       "      <th>27</th>\n",
       "      <td>Age55_64</td>\n",
       "      <td>2.690166</td>\n",
       "      <td>2.686991</td>\n",
       "      <td>2.681668</td>\n",
       "      <td>1.866487</td>\n",
       "    </tr>\n",
       "    <tr>\n",
       "      <th>28</th>\n",
       "      <td>Age45_54</td>\n",
       "      <td>1.931833</td>\n",
       "      <td>1.929829</td>\n",
       "      <td>1.925805</td>\n",
       "      <td>1.284307</td>\n",
       "    </tr>\n",
       "    <tr>\n",
       "      <th>29</th>\n",
       "      <td>Black</td>\n",
       "      <td>0.527658</td>\n",
       "      <td>0.527619</td>\n",
       "      <td>0.527650</td>\n",
       "      <td>0.627348</td>\n",
       "    </tr>\n",
       "    <tr>\n",
       "      <th>30</th>\n",
       "      <td>Hispanic</td>\n",
       "      <td>0.643612</td>\n",
       "      <td>0.641788</td>\n",
       "      <td>0.641417</td>\n",
       "      <td>0.818148</td>\n",
       "    </tr>\n",
       "    <tr>\n",
       "      <th>31</th>\n",
       "      <td>Other</td>\n",
       "      <td>0.823381</td>\n",
       "      <td>0.822567</td>\n",
       "      <td>0.822384</td>\n",
       "      <td>0.958980</td>\n",
       "    </tr>\n",
       "    <tr>\n",
       "      <th>32</th>\n",
       "      <td>PreviousMarriage</td>\n",
       "      <td>1.155958</td>\n",
       "      <td>1.155931</td>\n",
       "      <td>1.155841</td>\n",
       "      <td>1.173829</td>\n",
       "    </tr>\n",
       "    <tr>\n",
       "      <th>33</th>\n",
       "      <td>NeverMarried</td>\n",
       "      <td>0.671139</td>\n",
       "      <td>0.670974</td>\n",
       "      <td>0.670972</td>\n",
       "      <td>0.752232</td>\n",
       "    </tr>\n",
       "    <tr>\n",
       "      <th>34</th>\n",
       "      <td>LT25K</td>\n",
       "      <td>1.325184</td>\n",
       "      <td>1.324918</td>\n",
       "      <td>1.324197</td>\n",
       "      <td>1.191496</td>\n",
       "    </tr>\n",
       "    <tr>\n",
       "      <th>35</th>\n",
       "      <td>LT50K</td>\n",
       "      <td>1.101913</td>\n",
       "      <td>1.101936</td>\n",
       "      <td>1.101443</td>\n",
       "      <td>1.000000</td>\n",
       "    </tr>\n",
       "    <tr>\n",
       "      <th>36</th>\n",
       "      <td>Income_DKR</td>\n",
       "      <td>1.114345</td>\n",
       "      <td>1.114362</td>\n",
       "      <td>1.113666</td>\n",
       "      <td>1.000000</td>\n",
       "    </tr>\n",
       "    <tr>\n",
       "      <th>37</th>\n",
       "      <td>PreHS</td>\n",
       "      <td>1.134078</td>\n",
       "      <td>1.134562</td>\n",
       "      <td>1.134257</td>\n",
       "      <td>1.035900</td>\n",
       "    </tr>\n",
       "    <tr>\n",
       "      <th>38</th>\n",
       "      <td>HS</td>\n",
       "      <td>1.010203</td>\n",
       "      <td>1.010266</td>\n",
       "      <td>1.010007</td>\n",
       "      <td>1.000242</td>\n",
       "    </tr>\n",
       "    <tr>\n",
       "      <th>39</th>\n",
       "      <td>PostHS</td>\n",
       "      <td>1.000742</td>\n",
       "      <td>1.000814</td>\n",
       "      <td>1.000492</td>\n",
       "      <td>1.000000</td>\n",
       "    </tr>\n",
       "    <tr>\n",
       "      <th>40</th>\n",
       "      <td>RetiredUnable</td>\n",
       "      <td>1.471771</td>\n",
       "      <td>1.471908</td>\n",
       "      <td>1.471707</td>\n",
       "      <td>1.485734</td>\n",
       "    </tr>\n",
       "    <tr>\n",
       "      <th>41</th>\n",
       "      <td>OutofWork</td>\n",
       "      <td>1.026122</td>\n",
       "      <td>1.026709</td>\n",
       "      <td>1.025901</td>\n",
       "      <td>1.000000</td>\n",
       "    </tr>\n",
       "    <tr>\n",
       "      <th>42</th>\n",
       "      <td>OtherNotWorking</td>\n",
       "      <td>1.257067</td>\n",
       "      <td>1.257012</td>\n",
       "      <td>1.255908</td>\n",
       "      <td>1.082342</td>\n",
       "    </tr>\n",
       "    <tr>\n",
       "      <th>43</th>\n",
       "      <td>FairHealth</td>\n",
       "      <td>2.699545</td>\n",
       "      <td>2.699513</td>\n",
       "      <td>2.698737</td>\n",
       "      <td>2.391864</td>\n",
       "    </tr>\n",
       "    <tr>\n",
       "      <th>44</th>\n",
       "      <td>GoodHealth</td>\n",
       "      <td>1.654704</td>\n",
       "      <td>1.654670</td>\n",
       "      <td>1.654223</td>\n",
       "      <td>1.556160</td>\n",
       "    </tr>\n",
       "    <tr>\n",
       "      <th>45</th>\n",
       "      <td>PercentDrink_2</td>\n",
       "      <td>2.388436</td>\n",
       "      <td>2.378301</td>\n",
       "      <td>2.393185</td>\n",
       "      <td>1.000000</td>\n",
       "    </tr>\n",
       "    <tr>\n",
       "      <th>46</th>\n",
       "      <td>Diabetic</td>\n",
       "      <td>1.253390</td>\n",
       "      <td>1.253505</td>\n",
       "      <td>1.253482</td>\n",
       "      <td>1.309623</td>\n",
       "    </tr>\n",
       "    <tr>\n",
       "      <th>47</th>\n",
       "      <td>Prediabetic</td>\n",
       "      <td>0.660124</td>\n",
       "      <td>0.659875</td>\n",
       "      <td>0.660162</td>\n",
       "      <td>0.884837</td>\n",
       "    </tr>\n",
       "    <tr>\n",
       "      <th>48</th>\n",
       "      <td>Division_D1</td>\n",
       "      <td>0.868065</td>\n",
       "      <td>0.859683</td>\n",
       "      <td>0.857686</td>\n",
       "      <td>1.000000</td>\n",
       "    </tr>\n",
       "    <tr>\n",
       "      <th>49</th>\n",
       "      <td>Division_D2</td>\n",
       "      <td>0.723043</td>\n",
       "      <td>0.716167</td>\n",
       "      <td>0.714628</td>\n",
       "      <td>1.000000</td>\n",
       "    </tr>\n",
       "    <tr>\n",
       "      <th>50</th>\n",
       "      <td>Division_D3</td>\n",
       "      <td>0.879819</td>\n",
       "      <td>0.871350</td>\n",
       "      <td>0.869306</td>\n",
       "      <td>1.000000</td>\n",
       "    </tr>\n",
       "    <tr>\n",
       "      <th>51</th>\n",
       "      <td>Division_D4</td>\n",
       "      <td>0.910458</td>\n",
       "      <td>0.901669</td>\n",
       "      <td>0.899537</td>\n",
       "      <td>1.057209</td>\n",
       "    </tr>\n",
       "    <tr>\n",
       "      <th>52</th>\n",
       "      <td>Division_D5</td>\n",
       "      <td>0.912777</td>\n",
       "      <td>0.904116</td>\n",
       "      <td>0.901943</td>\n",
       "      <td>1.042605</td>\n",
       "    </tr>\n",
       "    <tr>\n",
       "      <th>53</th>\n",
       "      <td>Division_D6</td>\n",
       "      <td>0.806856</td>\n",
       "      <td>0.798946</td>\n",
       "      <td>0.797101</td>\n",
       "      <td>1.000000</td>\n",
       "    </tr>\n",
       "    <tr>\n",
       "      <th>54</th>\n",
       "      <td>Division_D7</td>\n",
       "      <td>0.772554</td>\n",
       "      <td>0.765258</td>\n",
       "      <td>0.763496</td>\n",
       "      <td>1.000000</td>\n",
       "    </tr>\n",
       "    <tr>\n",
       "      <th>55</th>\n",
       "      <td>Division_D8</td>\n",
       "      <td>0.866159</td>\n",
       "      <td>0.857984</td>\n",
       "      <td>0.855911</td>\n",
       "      <td>1.000000</td>\n",
       "    </tr>\n",
       "  </tbody>\n",
       "</table>\n",
       "</div>"
      ],
      "text/plain": [
       "                Name  Elasticnet        L2        L1       SGD\n",
       "0               Male    2.545616  2.545316  2.544438  2.429521\n",
       "1            Veteran    1.042972  1.043076  1.043188  1.000000\n",
       "2           RentHome    1.080755  1.081174  1.081023  1.000000\n",
       "3         PoorHealth    3.948543  3.949399  3.948135  3.354350\n",
       "4             Smoker    1.487040  1.486973  1.486838  1.461202\n",
       "5          ChewSnuff    0.646709  0.646401  0.646699  0.847072\n",
       "6         NoExercise    0.941375  0.941252  0.941238  1.000000\n",
       "7       PercentDrink    0.255123  0.256154  0.254603  0.596688\n",
       "8    HighCholesterol    1.664877  1.664752  1.664670  1.641564\n",
       "9             HighBP    1.938930  1.938789  1.938577  1.955664\n",
       "10           HighBMI    1.063712  1.063601  1.063245  1.009576\n",
       "11    PhysicalHealth    0.953993  0.953806  0.953940  1.000000\n",
       "12      MentalHealth    0.872943  0.872710  0.873013  1.000000\n",
       "13        Depression    0.911377  0.911328  0.911250  0.944235\n",
       "14            Stroke    2.937562  2.937956  2.937706  2.737287\n",
       "15            Asthma    0.902273  0.902086  0.902081  0.955866\n",
       "16        SkinCancer    0.817980  0.817912  0.817987  0.889526\n",
       "17            Cancer    0.821348  0.821288  0.821356  0.894559\n",
       "18              COPD    1.375141  1.375363  1.375413  1.348584\n",
       "19            Kidney    1.167544  1.167769  1.167718  1.000000\n",
       "20         Arthritis    1.147019  1.147057  1.147015  1.153496\n",
       "21      NoHealthPlan    0.928586  0.928529  0.928839  1.000000\n",
       "22          NoDoctor    0.753639  0.753488  0.753595  0.795233\n",
       "23              Cost    1.140223  1.140390  1.140001  1.000000\n",
       "24         NoCheckup    0.672981  0.672883  0.672778  0.697233\n",
       "25      Metropolitan    0.991393  0.991065  0.990694  0.981729\n",
       "26             Age65    4.306593  4.301134  4.292087  3.102331\n",
       "27          Age55_64    2.690166  2.686991  2.681668  1.866487\n",
       "28          Age45_54    1.931833  1.929829  1.925805  1.284307\n",
       "29             Black    0.527658  0.527619  0.527650  0.627348\n",
       "30          Hispanic    0.643612  0.641788  0.641417  0.818148\n",
       "31             Other    0.823381  0.822567  0.822384  0.958980\n",
       "32  PreviousMarriage    1.155958  1.155931  1.155841  1.173829\n",
       "33      NeverMarried    0.671139  0.670974  0.670972  0.752232\n",
       "34             LT25K    1.325184  1.324918  1.324197  1.191496\n",
       "35             LT50K    1.101913  1.101936  1.101443  1.000000\n",
       "36        Income_DKR    1.114345  1.114362  1.113666  1.000000\n",
       "37             PreHS    1.134078  1.134562  1.134257  1.035900\n",
       "38                HS    1.010203  1.010266  1.010007  1.000242\n",
       "39            PostHS    1.000742  1.000814  1.000492  1.000000\n",
       "40     RetiredUnable    1.471771  1.471908  1.471707  1.485734\n",
       "41         OutofWork    1.026122  1.026709  1.025901  1.000000\n",
       "42   OtherNotWorking    1.257067  1.257012  1.255908  1.082342\n",
       "43        FairHealth    2.699545  2.699513  2.698737  2.391864\n",
       "44        GoodHealth    1.654704  1.654670  1.654223  1.556160\n",
       "45    PercentDrink_2    2.388436  2.378301  2.393185  1.000000\n",
       "46          Diabetic    1.253390  1.253505  1.253482  1.309623\n",
       "47       Prediabetic    0.660124  0.659875  0.660162  0.884837\n",
       "48       Division_D1    0.868065  0.859683  0.857686  1.000000\n",
       "49       Division_D2    0.723043  0.716167  0.714628  1.000000\n",
       "50       Division_D3    0.879819  0.871350  0.869306  1.000000\n",
       "51       Division_D4    0.910458  0.901669  0.899537  1.057209\n",
       "52       Division_D5    0.912777  0.904116  0.901943  1.042605\n",
       "53       Division_D6    0.806856  0.798946  0.797101  1.000000\n",
       "54       Division_D7    0.772554  0.765258  0.763496  1.000000\n",
       "55       Division_D8    0.866159  0.857984  0.855911  1.000000"
      ]
     },
     "execution_count": 83,
     "metadata": {},
     "output_type": "execute_result"
    }
   ],
   "source": [
    "def flat(x):\n",
    "    return(np.reshape(x,57))\n",
    "pd.set_option(\"display.max_columns\", None)\n",
    "pd.set_option(\"display.max_rows\", None)\n",
    "p1, p2, p3, p4, p5=mydata.columns.values[1:57],flat(np.exp(mylm.coef_)),flat(np.exp(myrr.coef_)),flat(np.exp(mylasso.coef_)), flat(np.exp(mysgd.coef_))\n",
    "pd.DataFrame(list(zip(p1, p2, p3, p4, p5)), columns=['Name','Elasticnet', 'L2', 'L1', 'SGD'])\n",
    "#print(mylm.intercept_)"
   ]
  },
  {
   "cell_type": "markdown",
   "metadata": {},
   "source": [
    "# Tree Models"
   ]
  },
  {
   "cell_type": "markdown",
   "metadata": {},
   "source": [
    "## Tree Plots"
   ]
  },
  {
   "cell_type": "code",
   "execution_count": 84,
   "metadata": {},
   "outputs": [],
   "source": [
    "def mytree(mod):\n",
    "    imp, std=mod.feature_importances_, np.std([mod.feature_importances_ for tree in mod.estimators_], axis=0)\n",
    "    importances = pd.Series(imp, index=mydata.columns[1:58]).sort_values(ascending=False)[0:20]\n",
    "    fig, ax = plt.subplots()\n",
    "    importances.plot.bar(yerr=std[0:20], ax=ax)\n",
    "    ax.set_title(\"Feature importances using MDI\")\n",
    "    ax.set_ylabel(\"Mean decrease in impurity\")\n",
    "    fig.tight_layout()"
   ]
  },
  {
   "cell_type": "markdown",
   "metadata": {},
   "source": [
    "## Decision Tree Classifier"
   ]
  },
  {
   "cell_type": "code",
   "execution_count": 85,
   "metadata": {},
   "outputs": [
    {
     "data": {
      "text/html": [
       "<div>\n",
       "<style scoped>\n",
       "    .dataframe tbody tr th:only-of-type {\n",
       "        vertical-align: middle;\n",
       "    }\n",
       "\n",
       "    .dataframe tbody tr th {\n",
       "        vertical-align: top;\n",
       "    }\n",
       "\n",
       "    .dataframe thead th {\n",
       "        text-align: right;\n",
       "    }\n",
       "</style>\n",
       "<table border=\"1\" class=\"dataframe\">\n",
       "  <thead>\n",
       "    <tr style=\"text-align: right;\">\n",
       "      <th></th>\n",
       "      <th>0.0</th>\n",
       "      <th>1.0</th>\n",
       "      <th>accuracy</th>\n",
       "      <th>macro avg</th>\n",
       "      <th>weighted avg</th>\n",
       "    </tr>\n",
       "  </thead>\n",
       "  <tbody>\n",
       "    <tr>\n",
       "      <th>precision</th>\n",
       "      <td>0.954956</td>\n",
       "      <td>0.193797</td>\n",
       "      <td>0.83477</td>\n",
       "      <td>0.574376</td>\n",
       "      <td>0.902792</td>\n",
       "    </tr>\n",
       "    <tr>\n",
       "      <th>recall</th>\n",
       "      <td>0.863336</td>\n",
       "      <td>0.446511</td>\n",
       "      <td>0.83477</td>\n",
       "      <td>0.654923</td>\n",
       "      <td>0.834770</td>\n",
       "    </tr>\n",
       "    <tr>\n",
       "      <th>f1-score</th>\n",
       "      <td>0.906838</td>\n",
       "      <td>0.270284</td>\n",
       "      <td>0.83477</td>\n",
       "      <td>0.588561</td>\n",
       "      <td>0.863213</td>\n",
       "    </tr>\n",
       "    <tr>\n",
       "      <th>support</th>\n",
       "      <td>65050.000000</td>\n",
       "      <td>4786.000000</td>\n",
       "      <td>0.83477</td>\n",
       "      <td>69836.000000</td>\n",
       "      <td>69836.000000</td>\n",
       "    </tr>\n",
       "  </tbody>\n",
       "</table>\n",
       "</div>"
      ],
      "text/plain": [
       "                    0.0          1.0  accuracy     macro avg  weighted avg\n",
       "precision      0.954956     0.193797   0.83477      0.574376      0.902792\n",
       "recall         0.863336     0.446511   0.83477      0.654923      0.834770\n",
       "f1-score       0.906838     0.270284   0.83477      0.588561      0.863213\n",
       "support    65050.000000  4786.000000   0.83477  69836.000000  69836.000000"
      ]
     },
     "execution_count": 85,
     "metadata": {},
     "output_type": "execute_result"
    },
    {
     "data": {
      "image/png": "[encoded data removed]",
      "text/plain": [
       "<Figure size 432x288 with 2 Axes>"
      ]
     },
     "metadata": {
      "needs_background": "light"
     },
     "output_type": "display_data"
    }
   ],
   "source": [
    "myTree=Tree(criterion='entropy', splitter='best', max_depth=8,min_samples_split=2, min_samples_leaf=1, random_state=123)\n",
    "myTree.fit(X_train,y_train)\n",
    "myf(myTree)"
   ]
  },
  {
   "cell_type": "code",
   "execution_count": 86,
   "metadata": {},
   "outputs": [
    {
     "data": {
      "image/png": "[encoded data removed]",
      "text/plain": [
       "<Figure size 432x288 with 1 Axes>"
      ]
     },
     "metadata": {
      "needs_background": "light"
     },
     "output_type": "display_data"
    }
   ],
   "source": [
    "prplot(myTree)"
   ]
  },
  {
   "cell_type": "markdown",
   "metadata": {},
   "source": [
    "## Random Forest Classifier"
   ]
  },
  {
   "cell_type": "code",
   "execution_count": 87,
   "metadata": {},
   "outputs": [
    {
     "data": {
      "text/html": [
       "<div>\n",
       "<style scoped>\n",
       "    .dataframe tbody tr th:only-of-type {\n",
       "        vertical-align: middle;\n",
       "    }\n",
       "\n",
       "    .dataframe tbody tr th {\n",
       "        vertical-align: top;\n",
       "    }\n",
       "\n",
       "    .dataframe thead th {\n",
       "        text-align: right;\n",
       "    }\n",
       "</style>\n",
       "<table border=\"1\" class=\"dataframe\">\n",
       "  <thead>\n",
       "    <tr style=\"text-align: right;\">\n",
       "      <th></th>\n",
       "      <th>0.0</th>\n",
       "      <th>1.0</th>\n",
       "      <th>accuracy</th>\n",
       "      <th>macro avg</th>\n",
       "      <th>weighted avg</th>\n",
       "    </tr>\n",
       "  </thead>\n",
       "  <tbody>\n",
       "    <tr>\n",
       "      <th>precision</th>\n",
       "      <td>0.948118</td>\n",
       "      <td>0.270285</td>\n",
       "      <td>0.896443</td>\n",
       "      <td>0.609202</td>\n",
       "      <td>0.901665</td>\n",
       "    </tr>\n",
       "    <tr>\n",
       "      <th>recall</th>\n",
       "      <td>0.940277</td>\n",
       "      <td>0.300669</td>\n",
       "      <td>0.896443</td>\n",
       "      <td>0.620473</td>\n",
       "      <td>0.896443</td>\n",
       "    </tr>\n",
       "    <tr>\n",
       "      <th>f1-score</th>\n",
       "      <td>0.944181</td>\n",
       "      <td>0.284669</td>\n",
       "      <td>0.896443</td>\n",
       "      <td>0.614425</td>\n",
       "      <td>0.898983</td>\n",
       "    </tr>\n",
       "    <tr>\n",
       "      <th>support</th>\n",
       "      <td>65050.000000</td>\n",
       "      <td>4786.000000</td>\n",
       "      <td>0.896443</td>\n",
       "      <td>69836.000000</td>\n",
       "      <td>69836.000000</td>\n",
       "    </tr>\n",
       "  </tbody>\n",
       "</table>\n",
       "</div>"
      ],
      "text/plain": [
       "                    0.0          1.0  accuracy     macro avg  weighted avg\n",
       "precision      0.948118     0.270285  0.896443      0.609202      0.901665\n",
       "recall         0.940277     0.300669  0.896443      0.620473      0.896443\n",
       "f1-score       0.944181     0.284669  0.896443      0.614425      0.898983\n",
       "support    65050.000000  4786.000000  0.896443  69836.000000  69836.000000"
      ]
     },
     "execution_count": 87,
     "metadata": {},
     "output_type": "execute_result"
    },
    {
     "data": {
      "image/png": "[encoded data removed]",
      "text/plain": [
       "<Figure size 432x288 with 2 Axes>"
      ]
     },
     "metadata": {
      "needs_background": "light"
     },
     "output_type": "display_data"
    }
   ],
   "source": [
    "##############################################################################################################################\n",
    "myrf=RFC(n_estimators = 100,max_depth=17,min_samples_split=2, criterion='entropy',bootstrap=True,                   \n",
    "                            n_jobs = -1, random_state = 64) #RF Model\n",
    "myrf.fit(X_train, y_train)  # Fit on the training set \n",
    "myf(myrf)\n",
    "##############################################################################################################################"
   ]
  },
  {
   "cell_type": "code",
   "execution_count": 88,
   "metadata": {},
   "outputs": [
    {
     "data": {
      "image/png": "[encoded data removed]",
      "text/plain": [
       "<Figure size 432x288 with 1 Axes>"
      ]
     },
     "metadata": {
      "needs_background": "light"
     },
     "output_type": "display_data"
    }
   ],
   "source": [
    "prplot(myrf)"
   ]
  },
  {
   "cell_type": "code",
   "execution_count": 89,
   "metadata": {},
   "outputs": [
    {
     "data": {
      "image/png": "[encoded data removed]",
      "text/plain": [
       "<Figure size 432x288 with 1 Axes>"
      ]
     },
     "metadata": {
      "needs_background": "light"
     },
     "output_type": "display_data"
    }
   ],
   "source": [
    "mytree(myrf)"
   ]
  },
  {
   "cell_type": "markdown",
   "metadata": {},
   "source": [
    "## Extra Trees Classifier"
   ]
  },
  {
   "cell_type": "code",
   "execution_count": 90,
   "metadata": {
    "scrolled": true
   },
   "outputs": [
    {
     "data": {
      "text/html": [
       "<div>\n",
       "<style scoped>\n",
       "    .dataframe tbody tr th:only-of-type {\n",
       "        vertical-align: middle;\n",
       "    }\n",
       "\n",
       "    .dataframe tbody tr th {\n",
       "        vertical-align: top;\n",
       "    }\n",
       "\n",
       "    .dataframe thead th {\n",
       "        text-align: right;\n",
       "    }\n",
       "</style>\n",
       "<table border=\"1\" class=\"dataframe\">\n",
       "  <thead>\n",
       "    <tr style=\"text-align: right;\">\n",
       "      <th></th>\n",
       "      <th>0.0</th>\n",
       "      <th>1.0</th>\n",
       "      <th>accuracy</th>\n",
       "      <th>macro avg</th>\n",
       "      <th>weighted avg</th>\n",
       "    </tr>\n",
       "  </thead>\n",
       "  <tbody>\n",
       "    <tr>\n",
       "      <th>precision</th>\n",
       "      <td>0.953899</td>\n",
       "      <td>0.245326</td>\n",
       "      <td>0.874119</td>\n",
       "      <td>0.599613</td>\n",
       "      <td>0.905339</td>\n",
       "    </tr>\n",
       "    <tr>\n",
       "      <th>recall</th>\n",
       "      <td>0.908778</td>\n",
       "      <td>0.403051</td>\n",
       "      <td>0.874119</td>\n",
       "      <td>0.655914</td>\n",
       "      <td>0.874119</td>\n",
       "    </tr>\n",
       "    <tr>\n",
       "      <th>f1-score</th>\n",
       "      <td>0.930792</td>\n",
       "      <td>0.305004</td>\n",
       "      <td>0.874119</td>\n",
       "      <td>0.617898</td>\n",
       "      <td>0.887906</td>\n",
       "    </tr>\n",
       "    <tr>\n",
       "      <th>support</th>\n",
       "      <td>65050.000000</td>\n",
       "      <td>4786.000000</td>\n",
       "      <td>0.874119</td>\n",
       "      <td>69836.000000</td>\n",
       "      <td>69836.000000</td>\n",
       "    </tr>\n",
       "  </tbody>\n",
       "</table>\n",
       "</div>"
      ],
      "text/plain": [
       "                    0.0          1.0  accuracy     macro avg  weighted avg\n",
       "precision      0.953899     0.245326  0.874119      0.599613      0.905339\n",
       "recall         0.908778     0.403051  0.874119      0.655914      0.874119\n",
       "f1-score       0.930792     0.305004  0.874119      0.617898      0.887906\n",
       "support    65050.000000  4786.000000  0.874119  69836.000000  69836.000000"
      ]
     },
     "execution_count": 90,
     "metadata": {},
     "output_type": "execute_result"
    },
    {
     "data": {
      "image/png": "[encoded data removed]",
      "text/plain": [
       "<Figure size 432x288 with 2 Axes>"
      ]
     },
     "metadata": {
      "needs_background": "light"
     },
     "output_type": "display_data"
    }
   ],
   "source": [
    "##############################################################################################################################\n",
    "myextra=ETC(n_estimators = 50, max_depth=22, min_samples_split=2,criterion='entropy',\n",
    "                           bootstrap=True, n_jobs = -1, random_state = 64) #previously tuned\n",
    "myextra.fit(X_train, y_train)  #Fit on training set\n",
    "myf(myextra)\n",
    "#######################################################"
   ]
  },
  {
   "cell_type": "code",
   "execution_count": 91,
   "metadata": {},
   "outputs": [
    {
     "data": {
      "image/png": "[encoded data removed]",
      "text/plain": [
       "<Figure size 432x288 with 1 Axes>"
      ]
     },
     "metadata": {
      "needs_background": "light"
     },
     "output_type": "display_data"
    }
   ],
   "source": [
    "prplot(myextra)"
   ]
  },
  {
   "cell_type": "code",
   "execution_count": 92,
   "metadata": {},
   "outputs": [
    {
     "data": {
      "image/png": "[encoded data removed]",
      "text/plain": [
       "<Figure size 432x288 with 1 Axes>"
      ]
     },
     "metadata": {
      "needs_background": "light"
     },
     "output_type": "display_data"
    }
   ],
   "source": [
    "mytree(myextra)"
   ]
  },
  {
   "cell_type": "markdown",
   "metadata": {},
   "source": [
    "##  Gradient Boosting"
   ]
  },
  {
   "cell_type": "code",
   "execution_count": 93,
   "metadata": {},
   "outputs": [
    {
     "data": {
      "text/html": [
       "<div>\n",
       "<style scoped>\n",
       "    .dataframe tbody tr th:only-of-type {\n",
       "        vertical-align: middle;\n",
       "    }\n",
       "\n",
       "    .dataframe tbody tr th {\n",
       "        vertical-align: top;\n",
       "    }\n",
       "\n",
       "    .dataframe thead th {\n",
       "        text-align: right;\n",
       "    }\n",
       "</style>\n",
       "<table border=\"1\" class=\"dataframe\">\n",
       "  <thead>\n",
       "    <tr style=\"text-align: right;\">\n",
       "      <th></th>\n",
       "      <th>0.0</th>\n",
       "      <th>1.0</th>\n",
       "      <th>accuracy</th>\n",
       "      <th>macro avg</th>\n",
       "      <th>weighted avg</th>\n",
       "    </tr>\n",
       "  </thead>\n",
       "  <tbody>\n",
       "    <tr>\n",
       "      <th>precision</th>\n",
       "      <td>0.957152</td>\n",
       "      <td>0.234828</td>\n",
       "      <td>0.860516</td>\n",
       "      <td>0.595990</td>\n",
       "      <td>0.907650</td>\n",
       "    </tr>\n",
       "    <tr>\n",
       "      <th>recall</th>\n",
       "      <td>0.890100</td>\n",
       "      <td>0.458420</td>\n",
       "      <td>0.860516</td>\n",
       "      <td>0.674260</td>\n",
       "      <td>0.860516</td>\n",
       "    </tr>\n",
       "    <tr>\n",
       "      <th>f1-score</th>\n",
       "      <td>0.922409</td>\n",
       "      <td>0.310567</td>\n",
       "      <td>0.860516</td>\n",
       "      <td>0.616488</td>\n",
       "      <td>0.880478</td>\n",
       "    </tr>\n",
       "    <tr>\n",
       "      <th>support</th>\n",
       "      <td>65050.000000</td>\n",
       "      <td>4786.000000</td>\n",
       "      <td>0.860516</td>\n",
       "      <td>69836.000000</td>\n",
       "      <td>69836.000000</td>\n",
       "    </tr>\n",
       "  </tbody>\n",
       "</table>\n",
       "</div>"
      ],
      "text/plain": [
       "                    0.0          1.0  accuracy     macro avg  weighted avg\n",
       "precision      0.957152     0.234828  0.860516      0.595990      0.907650\n",
       "recall         0.890100     0.458420  0.860516      0.674260      0.860516\n",
       "f1-score       0.922409     0.310567  0.860516      0.616488      0.880478\n",
       "support    65050.000000  4786.000000  0.860516  69836.000000  69836.000000"
      ]
     },
     "execution_count": 93,
     "metadata": {},
     "output_type": "execute_result"
    },
    {
     "data": {
      "image/png": "[encoded data removed]",
      "text/plain": [
       "<Figure size 432x288 with 2 Axes>"
      ]
     },
     "metadata": {
      "needs_background": "light"
     },
     "output_type": "display_data"
    }
   ],
   "source": [
    "##############################################################################################################################\n",
    "myGBC=GBC(n_estimators = 50, random_state = 64)\n",
    "myGBC.fit(X_train, y_train)  #Fit on training set\n",
    "myf(myGBC)\n",
    "##############################################################################################################################"
   ]
  },
  {
   "cell_type": "code",
   "execution_count": 94,
   "metadata": {},
   "outputs": [
    {
     "data": {
      "image/png": "[encoded data removed]",
      "text/plain": [
       "<Figure size 432x288 with 1 Axes>"
      ]
     },
     "metadata": {
      "needs_background": "light"
     },
     "output_type": "display_data"
    }
   ],
   "source": [
    "mytree(myGBC)"
   ]
  },
  {
   "cell_type": "code",
   "execution_count": 95,
   "metadata": {},
   "outputs": [
    {
     "data": {
      "image/png": "[encoded data removed]",
      "text/plain": [
       "<Figure size 432x288 with 1 Axes>"
      ]
     },
     "metadata": {
      "needs_background": "light"
     },
     "output_type": "display_data"
    }
   ],
   "source": [
    "prplot(myGBC)"
   ]
  },
  {
   "cell_type": "markdown",
   "metadata": {},
   "source": [
    "## ADA Boost Classifier"
   ]
  },
  {
   "cell_type": "code",
   "execution_count": 96,
   "metadata": {},
   "outputs": [
    {
     "data": {
      "text/html": [
       "<div>\n",
       "<style scoped>\n",
       "    .dataframe tbody tr th:only-of-type {\n",
       "        vertical-align: middle;\n",
       "    }\n",
       "\n",
       "    .dataframe tbody tr th {\n",
       "        vertical-align: top;\n",
       "    }\n",
       "\n",
       "    .dataframe thead th {\n",
       "        text-align: right;\n",
       "    }\n",
       "</style>\n",
       "<table border=\"1\" class=\"dataframe\">\n",
       "  <thead>\n",
       "    <tr style=\"text-align: right;\">\n",
       "      <th></th>\n",
       "      <th>0.0</th>\n",
       "      <th>1.0</th>\n",
       "      <th>accuracy</th>\n",
       "      <th>macro avg</th>\n",
       "      <th>weighted avg</th>\n",
       "    </tr>\n",
       "  </thead>\n",
       "  <tbody>\n",
       "    <tr>\n",
       "      <th>precision</th>\n",
       "      <td>0.957312</td>\n",
       "      <td>0.216549</td>\n",
       "      <td>0.847199</td>\n",
       "      <td>0.586931</td>\n",
       "      <td>0.906546</td>\n",
       "    </tr>\n",
       "    <tr>\n",
       "      <th>recall</th>\n",
       "      <td>0.874973</td>\n",
       "      <td>0.469703</td>\n",
       "      <td>0.847199</td>\n",
       "      <td>0.672338</td>\n",
       "      <td>0.847199</td>\n",
       "    </tr>\n",
       "    <tr>\n",
       "      <th>f1-score</th>\n",
       "      <td>0.914293</td>\n",
       "      <td>0.296433</td>\n",
       "      <td>0.847199</td>\n",
       "      <td>0.605363</td>\n",
       "      <td>0.871949</td>\n",
       "    </tr>\n",
       "    <tr>\n",
       "      <th>support</th>\n",
       "      <td>65050.000000</td>\n",
       "      <td>4786.000000</td>\n",
       "      <td>0.847199</td>\n",
       "      <td>69836.000000</td>\n",
       "      <td>69836.000000</td>\n",
       "    </tr>\n",
       "  </tbody>\n",
       "</table>\n",
       "</div>"
      ],
      "text/plain": [
       "                    0.0          1.0  accuracy     macro avg  weighted avg\n",
       "precision      0.957312     0.216549  0.847199      0.586931      0.906546\n",
       "recall         0.874973     0.469703  0.847199      0.672338      0.847199\n",
       "f1-score       0.914293     0.296433  0.847199      0.605363      0.871949\n",
       "support    65050.000000  4786.000000  0.847199  69836.000000  69836.000000"
      ]
     },
     "execution_count": 96,
     "metadata": {},
     "output_type": "execute_result"
    },
    {
     "data": {
      "image/png": "[encoded data removed]",
      "text/plain": [
       "<Figure size 432x288 with 2 Axes>"
      ]
     },
     "metadata": {
      "needs_background": "light"
     },
     "output_type": "display_data"
    }
   ],
   "source": [
    "myADA=ABC(n_estimators=50, random_state=0)\n",
    "myADA.fit(X_train,y_train)\n",
    "myf(myADA)"
   ]
  },
  {
   "cell_type": "code",
   "execution_count": 97,
   "metadata": {},
   "outputs": [
    {
     "data": {
      "image/png": "[encoded data removed]",
      "text/plain": [
       "<Figure size 432x288 with 1 Axes>"
      ]
     },
     "metadata": {
      "needs_background": "light"
     },
     "output_type": "display_data"
    }
   ],
   "source": [
    "mytree(myADA)"
   ]
  },
  {
   "cell_type": "code",
   "execution_count": 98,
   "metadata": {},
   "outputs": [
    {
     "data": {
      "image/png": "[encoded data removed]",
      "text/plain": [
       "<Figure size 432x288 with 1 Axes>"
      ]
     },
     "metadata": {
      "needs_background": "light"
     },
     "output_type": "display_data"
    }
   ],
   "source": [
    "prplot(myADA)"
   ]
  },
  {
   "cell_type": "markdown",
   "metadata": {},
   "source": [
    "# Discriminant Analysis"
   ]
  },
  {
   "cell_type": "markdown",
   "metadata": {},
   "source": [
    "##  LDA"
   ]
  },
  {
   "cell_type": "code",
   "execution_count": 99,
   "metadata": {},
   "outputs": [
    {
     "data": {
      "text/html": [
       "<div>\n",
       "<style scoped>\n",
       "    .dataframe tbody tr th:only-of-type {\n",
       "        vertical-align: middle;\n",
       "    }\n",
       "\n",
       "    .dataframe tbody tr th {\n",
       "        vertical-align: top;\n",
       "    }\n",
       "\n",
       "    .dataframe thead th {\n",
       "        text-align: right;\n",
       "    }\n",
       "</style>\n",
       "<table border=\"1\" class=\"dataframe\">\n",
       "  <thead>\n",
       "    <tr style=\"text-align: right;\">\n",
       "      <th></th>\n",
       "      <th>0.0</th>\n",
       "      <th>1.0</th>\n",
       "      <th>accuracy</th>\n",
       "      <th>macro avg</th>\n",
       "      <th>weighted avg</th>\n",
       "    </tr>\n",
       "  </thead>\n",
       "  <tbody>\n",
       "    <tr>\n",
       "      <th>precision</th>\n",
       "      <td>0.976151</td>\n",
       "      <td>0.168209</td>\n",
       "      <td>0.726073</td>\n",
       "      <td>0.572180</td>\n",
       "      <td>0.920781</td>\n",
       "    </tr>\n",
       "    <tr>\n",
       "      <th>recall</th>\n",
       "      <td>0.723597</td>\n",
       "      <td>0.759716</td>\n",
       "      <td>0.726073</td>\n",
       "      <td>0.741657</td>\n",
       "      <td>0.726073</td>\n",
       "    </tr>\n",
       "    <tr>\n",
       "      <th>f1-score</th>\n",
       "      <td>0.831112</td>\n",
       "      <td>0.275434</td>\n",
       "      <td>0.726073</td>\n",
       "      <td>0.553273</td>\n",
       "      <td>0.793030</td>\n",
       "    </tr>\n",
       "    <tr>\n",
       "      <th>support</th>\n",
       "      <td>65050.000000</td>\n",
       "      <td>4786.000000</td>\n",
       "      <td>0.726073</td>\n",
       "      <td>69836.000000</td>\n",
       "      <td>69836.000000</td>\n",
       "    </tr>\n",
       "  </tbody>\n",
       "</table>\n",
       "</div>"
      ],
      "text/plain": [
       "                    0.0          1.0  accuracy     macro avg  weighted avg\n",
       "precision      0.976151     0.168209  0.726073      0.572180      0.920781\n",
       "recall         0.723597     0.759716  0.726073      0.741657      0.726073\n",
       "f1-score       0.831112     0.275434  0.726073      0.553273      0.793030\n",
       "support    65050.000000  4786.000000  0.726073  69836.000000  69836.000000"
      ]
     },
     "execution_count": 99,
     "metadata": {},
     "output_type": "execute_result"
    },
    {
     "data": {
      "image/png": "[encoded data removed]",
      "text/plain": [
       "<Figure size 432x288 with 2 Axes>"
      ]
     },
     "metadata": {
      "needs_background": "light"
     },
     "output_type": "display_data"
    }
   ],
   "source": [
    "from sklearn.discriminant_analysis import LinearDiscriminantAnalysis as LDA\n",
    "mylda=LDA()\n",
    "mylda.fit(X_train, y_train)  # Fit on the training set \n",
    "myf(mylda)"
   ]
  },
  {
   "cell_type": "code",
   "execution_count": 100,
   "metadata": {},
   "outputs": [
    {
     "data": {
      "image/png": "[encoded data removed]",
      "text/plain": [
       "<Figure size 432x288 with 1 Axes>"
      ]
     },
     "metadata": {
      "needs_background": "light"
     },
     "output_type": "display_data"
    }
   ],
   "source": [
    "prplot(mylda)"
   ]
  },
  {
   "cell_type": "markdown",
   "metadata": {},
   "source": [
    "# QDA"
   ]
  },
  {
   "cell_type": "code",
   "execution_count": 101,
   "metadata": {},
   "outputs": [
    {
     "data": {
      "text/html": [
       "<div>\n",
       "<style scoped>\n",
       "    .dataframe tbody tr th:only-of-type {\n",
       "        vertical-align: middle;\n",
       "    }\n",
       "\n",
       "    .dataframe tbody tr th {\n",
       "        vertical-align: top;\n",
       "    }\n",
       "\n",
       "    .dataframe thead th {\n",
       "        text-align: right;\n",
       "    }\n",
       "</style>\n",
       "<table border=\"1\" class=\"dataframe\">\n",
       "  <thead>\n",
       "    <tr style=\"text-align: right;\">\n",
       "      <th></th>\n",
       "      <th>0.0</th>\n",
       "      <th>1.0</th>\n",
       "      <th>accuracy</th>\n",
       "      <th>macro avg</th>\n",
       "      <th>weighted avg</th>\n",
       "    </tr>\n",
       "  </thead>\n",
       "  <tbody>\n",
       "    <tr>\n",
       "      <th>precision</th>\n",
       "      <td>0.968964</td>\n",
       "      <td>0.133854</td>\n",
       "      <td>0.664414</td>\n",
       "      <td>0.551409</td>\n",
       "      <td>0.911732</td>\n",
       "    </tr>\n",
       "    <tr>\n",
       "      <th>recall</th>\n",
       "      <td>0.660892</td>\n",
       "      <td>0.712286</td>\n",
       "      <td>0.664414</td>\n",
       "      <td>0.686589</td>\n",
       "      <td>0.664414</td>\n",
       "    </tr>\n",
       "    <tr>\n",
       "      <th>f1-score</th>\n",
       "      <td>0.785812</td>\n",
       "      <td>0.225359</td>\n",
       "      <td>0.664414</td>\n",
       "      <td>0.505585</td>\n",
       "      <td>0.747403</td>\n",
       "    </tr>\n",
       "    <tr>\n",
       "      <th>support</th>\n",
       "      <td>65050.000000</td>\n",
       "      <td>4786.000000</td>\n",
       "      <td>0.664414</td>\n",
       "      <td>69836.000000</td>\n",
       "      <td>69836.000000</td>\n",
       "    </tr>\n",
       "  </tbody>\n",
       "</table>\n",
       "</div>"
      ],
      "text/plain": [
       "                    0.0          1.0  accuracy     macro avg  weighted avg\n",
       "precision      0.968964     0.133854  0.664414      0.551409      0.911732\n",
       "recall         0.660892     0.712286  0.664414      0.686589      0.664414\n",
       "f1-score       0.785812     0.225359  0.664414      0.505585      0.747403\n",
       "support    65050.000000  4786.000000  0.664414  69836.000000  69836.000000"
      ]
     },
     "execution_count": 101,
     "metadata": {},
     "output_type": "execute_result"
    },
    {
     "data": {
      "image/png": "[encoded data removed]",
      "text/plain": [
       "<Figure size 432x288 with 2 Axes>"
      ]
     },
     "metadata": {
      "needs_background": "light"
     },
     "output_type": "display_data"
    }
   ],
   "source": [
    "from sklearn.discriminant_analysis import QuadraticDiscriminantAnalysis as QDA\n",
    "myqda=QDA()\n",
    "myqda.fit(X_train, y_train)  #Fit on training set\n",
    "myf(myqda)"
   ]
  },
  {
   "cell_type": "code",
   "execution_count": 102,
   "metadata": {},
   "outputs": [
    {
     "data": {
      "image/png": "[encoded data removed]",
      "text/plain": [
       "<Figure size 432x288 with 1 Axes>"
      ]
     },
     "metadata": {
      "needs_background": "light"
     },
     "output_type": "display_data"
    }
   ],
   "source": [
    "prplot(myqda)"
   ]
  },
  {
   "cell_type": "markdown",
   "metadata": {},
   "source": [
    "# Linear Support Vector Machine"
   ]
  },
  {
   "cell_type": "code",
   "execution_count": 103,
   "metadata": {},
   "outputs": [
    {
     "data": {
      "text/html": [
       "<div>\n",
       "<style scoped>\n",
       "    .dataframe tbody tr th:only-of-type {\n",
       "        vertical-align: middle;\n",
       "    }\n",
       "\n",
       "    .dataframe tbody tr th {\n",
       "        vertical-align: top;\n",
       "    }\n",
       "\n",
       "    .dataframe thead th {\n",
       "        text-align: right;\n",
       "    }\n",
       "</style>\n",
       "<table border=\"1\" class=\"dataframe\">\n",
       "  <thead>\n",
       "    <tr style=\"text-align: right;\">\n",
       "      <th></th>\n",
       "      <th>0.0</th>\n",
       "      <th>1.0</th>\n",
       "      <th>accuracy</th>\n",
       "      <th>macro avg</th>\n",
       "      <th>weighted avg</th>\n",
       "    </tr>\n",
       "  </thead>\n",
       "  <tbody>\n",
       "    <tr>\n",
       "      <th>precision</th>\n",
       "      <td>0.976179</td>\n",
       "      <td>0.169497</td>\n",
       "      <td>0.728593</td>\n",
       "      <td>0.572838</td>\n",
       "      <td>0.920895</td>\n",
       "    </tr>\n",
       "    <tr>\n",
       "      <th>recall</th>\n",
       "      <td>0.726349</td>\n",
       "      <td>0.759089</td>\n",
       "      <td>0.728593</td>\n",
       "      <td>0.742719</td>\n",
       "      <td>0.728593</td>\n",
       "    </tr>\n",
       "    <tr>\n",
       "      <th>f1-score</th>\n",
       "      <td>0.832934</td>\n",
       "      <td>0.277117</td>\n",
       "      <td>0.728593</td>\n",
       "      <td>0.555025</td>\n",
       "      <td>0.794843</td>\n",
       "    </tr>\n",
       "    <tr>\n",
       "      <th>support</th>\n",
       "      <td>65050.000000</td>\n",
       "      <td>4786.000000</td>\n",
       "      <td>0.728593</td>\n",
       "      <td>69836.000000</td>\n",
       "      <td>69836.000000</td>\n",
       "    </tr>\n",
       "  </tbody>\n",
       "</table>\n",
       "</div>"
      ],
      "text/plain": [
       "                    0.0          1.0  accuracy     macro avg  weighted avg\n",
       "precision      0.976179     0.169497  0.728593      0.572838      0.920895\n",
       "recall         0.726349     0.759089  0.728593      0.742719      0.728593\n",
       "f1-score       0.832934     0.277117  0.728593      0.555025      0.794843\n",
       "support    65050.000000  4786.000000  0.728593  69836.000000  69836.000000"
      ]
     },
     "execution_count": 103,
     "metadata": {},
     "output_type": "execute_result"
    },
    {
     "data": {
      "image/png": "[encoded data removed]",
      "text/plain": [
       "<Figure size 432x288 with 2 Axes>"
      ]
     },
     "metadata": {
      "needs_background": "light"
     },
     "output_type": "display_data"
    }
   ],
   "source": [
    "mysvm=LinearSVC(random_state=0, tol=1e-5)\n",
    "mysvm.fit(X_train, y_train)  #Fit on training set\n",
    "myf(mysvm)"
   ]
  },
  {
   "cell_type": "code",
   "execution_count": 104,
   "metadata": {},
   "outputs": [
    {
     "data": {
      "image/png": "[encoded data removed]",
      "text/plain": [
       "<Figure size 432x288 with 1 Axes>"
      ]
     },
     "metadata": {
      "needs_background": "light"
     },
     "output_type": "display_data"
    }
   ],
   "source": [
    "prplot(mysvm)"
   ]
  }
 ],
 "metadata": {
  "kernelspec": {
   "display_name": "Python 3",
   "language": "python",
   "name": "python3"
  },
  "language_info": {
   "codemirror_mode": {
    "name": "ipython",
    "version": 3
   },
   "file_extension": ".py",
   "mimetype": "text/x-python",
   "name": "python",
   "nbconvert_exporter": "python",
   "pygments_lexer": "ipython3",
   "version": "3.7.10"
  }
 },
 "nbformat": 4,
 "nbformat_minor": 2
}

{
 "cells": [
  {
   "cell_type": "markdown",
   "metadata": {},
   "source": [
    "# Libraries and Data Load"
   ]
  },
  {
   "cell_type": "markdown",
   "metadata": {},
   "source": [
    "## Load Libraries"
   ]
  },
  {
   "cell_type": "code",
   "execution_count": 1,
   "metadata": {},
   "outputs": [],
   "source": [
    "######################################################Initial Packages########################################################\n",
    "#Basic Operating System Stuff\n",
    "import os\n",
    "import gc #garbage collector\n",
    "import random #random seed generator\n",
    "import pandas_profiling # requires import and prior install \n",
    "\n",
    "#Timer\n",
    "from timeit import default_timer as timer #import a timer\n",
    "\n",
    "#Basic dataframe, array, and math stuff\n",
    "import pandas as pd #data frame\n",
    "from pandas_profiling import ProfileReport\n",
    "import math #math functions\n",
    "import numpy as np    #numerical package\n",
    "from patsy import dmatrix, demo_data, ContrastMatrix, Poly\n",
    "\n",
    "#Scikit learn\n",
    "from math import sqrt\n",
    "import sklearn as sk  #scikit learn\n",
    "import sklearn.linear_model \n",
    "from sklearn.linear_model import LogisticRegression as LR\n",
    "from sklearn.kernel_ridge import KernelRidge\n",
    "from sklearn.utils import resample #sampling\n",
    "from sklearn.model_selection import train_test_split as tts, KFold #train test split\n",
    "from sklearn.decomposition import PCA #principal components\n",
    "from imblearn.over_sampling import SMOTE #synthetic minority oversampling technique\n",
    "from sklearn.metrics import classification_report as CR,confusion_matrix, roc_curve, plot_confusion_matrix, precision_recall_curve, plot_precision_recall_curve, average_precision_score #for 2-class model\n",
    "from sklearn.preprocessing import MinMaxScaler as Scaler, PolynomialFeatures as poly # used for variable scaling data\n",
    "from sklearn.tree import DecisionTreeClassifier as Tree\n",
    "from sklearn.ensemble import RandomForestClassifier as RFC, ExtraTreesClassifier as ETC, GradientBoostingClassifier as GBC,AdaBoostClassifier as ABC  # Random Forest package\n",
    "from sklearn.svm import LinearSVC, SVC\n",
    "from sklearn.linear_model import SGDClassifier as SGD\n",
    "from sklearn.naive_bayes import GaussianNB\n",
    "from sklearn.neighbors import KNeighborsClassifier as KNN\n",
    "from sklearn.pipeline import make_pipeline\n",
    "\n",
    "\n",
    "from scipy import misc, stats as st #Lots of stuff here\n",
    "import itertools\n",
    "\n",
    "import statsmodels.api as sm\n",
    "import pyreadstat\n",
    "\n",
    "#Graphing\n",
    "import seaborn as sns\n",
    "import pydot  #For model plotting\n",
    "import graphviz #python-graphviz package\n",
    "from IPython.display import SVG #Same here\n",
    "import matplotlib.pyplot as plt #plotting\n",
    "import matplotlib #image save\n",
    "from matplotlib.pyplot import imshow #Show images\n",
    "from PIL import Image #Another image utility\n",
    "import cv2 #more image utilities\n",
    "\n",
    "%matplotlib inline\n",
    "\n",
    "os.chdir('D:\\MI')\n",
    "##############################################################################################################################"
   ]
  },
  {
   "cell_type": "markdown",
   "metadata": {},
   "source": [
    "## Load Data"
   ]
  },
  {
   "cell_type": "code",
   "execution_count": 2,
   "metadata": {},
   "outputs": [],
   "source": [
    "##############################################################################################################################\n",
    "mydata=pd.read_sas('D:/MI/Y2019.XPT')\n",
    "##############################################################################################################################"
   ]
  },
  {
   "cell_type": "markdown",
   "metadata": {},
   "source": [
    "# Data Preparation"
   ]
  },
  {
   "cell_type": "markdown",
   "metadata": {},
   "source": [
    "## Determine Shape"
   ]
  },
  {
   "cell_type": "code",
   "execution_count": 3,
   "metadata": {},
   "outputs": [
    {
     "data": {
      "text/plain": [
       "(418268, 342)"
      ]
     },
     "execution_count": 3,
     "metadata": {},
     "output_type": "execute_result"
    }
   ],
   "source": [
    "mydata.shape"
   ]
  },
  {
   "cell_type": "markdown",
   "metadata": {},
   "source": [
    "## Determine which Age Groups to Use"
   ]
  },
  {
   "cell_type": "code",
   "execution_count": 4,
   "metadata": {},
   "outputs": [
    {
     "data": {
      "text/html": [
       "<div>\n",
       "<style scoped>\n",
       "    .dataframe tbody tr th:only-of-type {\n",
       "        vertical-align: middle;\n",
       "    }\n",
       "\n",
       "    .dataframe tbody tr th {\n",
       "        vertical-align: top;\n",
       "    }\n",
       "\n",
       "    .dataframe thead th {\n",
       "        text-align: right;\n",
       "    }\n",
       "</style>\n",
       "<table border=\"1\" class=\"dataframe\">\n",
       "  <thead>\n",
       "    <tr style=\"text-align: right;\">\n",
       "      <th>CVDINFR4</th>\n",
       "      <th>1.0</th>\n",
       "      <th>All</th>\n",
       "    </tr>\n",
       "    <tr>\n",
       "      <th>_AGE_G</th>\n",
       "      <th></th>\n",
       "      <th></th>\n",
       "    </tr>\n",
       "  </thead>\n",
       "  <tbody>\n",
       "    <tr>\n",
       "      <th>1.0</th>\n",
       "      <td>0.004432</td>\n",
       "      <td>0.004432</td>\n",
       "    </tr>\n",
       "    <tr>\n",
       "      <th>2.0</th>\n",
       "      <td>0.011120</td>\n",
       "      <td>0.011120</td>\n",
       "    </tr>\n",
       "    <tr>\n",
       "      <th>3.0</th>\n",
       "      <td>0.027739</td>\n",
       "      <td>0.027739</td>\n",
       "    </tr>\n",
       "    <tr>\n",
       "      <th>4.0</th>\n",
       "      <td>0.083792</td>\n",
       "      <td>0.083792</td>\n",
       "    </tr>\n",
       "    <tr>\n",
       "      <th>5.0</th>\n",
       "      <td>0.208371</td>\n",
       "      <td>0.208371</td>\n",
       "    </tr>\n",
       "    <tr>\n",
       "      <th>6.0</th>\n",
       "      <td>0.664547</td>\n",
       "      <td>0.664547</td>\n",
       "    </tr>\n",
       "  </tbody>\n",
       "</table>\n",
       "</div>"
      ],
      "text/plain": [
       "CVDINFR4       1.0       All\n",
       "_AGE_G                      \n",
       "1.0       0.004432  0.004432\n",
       "2.0       0.011120  0.011120\n",
       "3.0       0.027739  0.027739\n",
       "4.0       0.083792  0.083792\n",
       "5.0       0.208371  0.208371\n",
       "6.0       0.664547  0.664547"
      ]
     },
     "execution_count": 4,
     "metadata": {},
     "output_type": "execute_result"
    }
   ],
   "source": [
    "pd.crosstab(mydata._AGE_G,mydata.CVDINFR4[mydata.CVDINFR4==1],normalize = 'columns', margins=True)\n",
    "#18 to 24 almost 0% MI\n",
    "#25 to 34 1.1% MI\n",
    "#35 to 44 2.8% MI\n",
    "#45 to 54 8.4% MI\n",
    "#55 to 64 21% MI\n",
    "#65 + 66% MI"
   ]
  },
  {
   "cell_type": "markdown",
   "metadata": {},
   "source": [
    "## Reduce Variable Set and Scope\n",
    "\n",
    "We select variables from previous research and those of interest for investigation."
   ]
  },
  {
   "cell_type": "code",
   "execution_count": 5,
   "metadata": {},
   "outputs": [
    {
     "data": {
      "text/html": [
       "<div>\n",
       "<style scoped>\n",
       "    .dataframe tbody tr th:only-of-type {\n",
       "        vertical-align: middle;\n",
       "    }\n",
       "\n",
       "    .dataframe tbody tr th {\n",
       "        vertical-align: top;\n",
       "    }\n",
       "\n",
       "    .dataframe thead th {\n",
       "        text-align: right;\n",
       "    }\n",
       "</style>\n",
       "<table border=\"1\" class=\"dataframe\">\n",
       "  <thead>\n",
       "    <tr style=\"text-align: right;\">\n",
       "      <th>CVDINFR4</th>\n",
       "      <th>1.0</th>\n",
       "      <th>2.0</th>\n",
       "      <th>7.0</th>\n",
       "      <th>9.0</th>\n",
       "    </tr>\n",
       "    <tr>\n",
       "      <th>_AGE_G</th>\n",
       "      <th></th>\n",
       "      <th></th>\n",
       "      <th></th>\n",
       "      <th></th>\n",
       "    </tr>\n",
       "  </thead>\n",
       "  <tbody>\n",
       "    <tr>\n",
       "      <th>1.0</th>\n",
       "      <td>0.004432</td>\n",
       "      <td>0.063629</td>\n",
       "      <td>0.038933</td>\n",
       "      <td>0.010256</td>\n",
       "    </tr>\n",
       "    <tr>\n",
       "      <th>2.0</th>\n",
       "      <td>0.011120</td>\n",
       "      <td>0.111076</td>\n",
       "      <td>0.065617</td>\n",
       "      <td>0.030769</td>\n",
       "    </tr>\n",
       "    <tr>\n",
       "      <th>3.0</th>\n",
       "      <td>0.027739</td>\n",
       "      <td>0.124147</td>\n",
       "      <td>0.086177</td>\n",
       "      <td>0.025641</td>\n",
       "    </tr>\n",
       "    <tr>\n",
       "      <th>4.0</th>\n",
       "      <td>0.083792</td>\n",
       "      <td>0.150002</td>\n",
       "      <td>0.110674</td>\n",
       "      <td>0.307692</td>\n",
       "    </tr>\n",
       "    <tr>\n",
       "      <th>5.0</th>\n",
       "      <td>0.208371</td>\n",
       "      <td>0.200408</td>\n",
       "      <td>0.202975</td>\n",
       "      <td>0.179487</td>\n",
       "    </tr>\n",
       "    <tr>\n",
       "      <th>6.0</th>\n",
       "      <td>0.664547</td>\n",
       "      <td>0.350737</td>\n",
       "      <td>0.495626</td>\n",
       "      <td>0.446154</td>\n",
       "    </tr>\n",
       "  </tbody>\n",
       "</table>\n",
       "</div>"
      ],
      "text/plain": [
       "CVDINFR4       1.0       2.0       7.0       9.0\n",
       "_AGE_G                                          \n",
       "1.0       0.004432  0.063629  0.038933  0.010256\n",
       "2.0       0.011120  0.111076  0.065617  0.030769\n",
       "3.0       0.027739  0.124147  0.086177  0.025641\n",
       "4.0       0.083792  0.150002  0.110674  0.307692\n",
       "5.0       0.208371  0.200408  0.202975  0.179487\n",
       "6.0       0.664547  0.350737  0.495626  0.446154"
      ]
     },
     "execution_count": 5,
     "metadata": {},
     "output_type": "execute_result"
    }
   ],
   "source": [
    "temp1=mydata\n",
    "temp1=temp1[['CVDINFR4',\n",
    "             '_AGE_G', '_IMPRACE', 'SEXVAR', 'MARITAL', 'VETERAN3', \n",
    "             'INCOME2','EDUCA', 'EMPLOY1','RENTHOM1',\n",
    "             'GENHLTH', 'SMOKE100', 'USENOW3','_PA300R3', 'ALCDAY5',\n",
    "             'TOLDHI2', '_RFHYPE5', '_RFBMI5', \n",
    "             'DIABETE4', 'PHYSHLTH', 'MENTHLTH',  'ADDEPEV3','CVDSTRK3', 'ASTHMA3', \n",
    "             'CHCSCNCR','CHCOCNCR', 'CHCCOPD2','CHCKDNY2','HAVARTH4',\n",
    "             'HLTHPLN1', 'PERSDOC2', 'MEDCOST', 'CHECKUP1',\n",
    "             '_STATE', '_LLCPWT', '_STSTR', '_PSU']]\n",
    "\n",
    "pd.crosstab(temp1._AGE_G, temp1.CVDINFR4, normalize='columns')\n"
   ]
  },
  {
   "cell_type": "markdown",
   "metadata": {},
   "source": [
    "##  We Restrict Analyses to Age Cat 3 through 6\n",
    "\n",
    "These groups account for 98%+ of the observations of MI."
   ]
  },
  {
   "cell_type": "code",
   "execution_count": 6,
   "metadata": {},
   "outputs": [],
   "source": [
    "temp1=temp1.loc[temp1['_AGE_G']>=3] #filter excludes 18 to 34 year olds, less than 1.2% of MI in dataset"
   ]
  },
  {
   "cell_type": "markdown",
   "metadata": {},
   "source": [
    "## Handle Missing\n",
    "\n",
    "Rows missing 20% or more are eliminated (8 or more variables, 18 observations eliminated).  \n",
    "Columns missing 20% or more observations are eliminated (69853 or more observations, 0 eliminated)."
   ]
  },
  {
   "cell_type": "markdown",
   "metadata": {},
   "source": [
    "### Columns\n",
    "\n",
    "We verify that all selected columns have LT 20% missing."
   ]
  },
  {
   "cell_type": "code",
   "execution_count": 7,
   "metadata": {},
   "outputs": [
    {
     "name": "stdout",
     "output_type": "stream",
     "text": [
      "ALCDAY5     14702\n",
      "USENOW3     13500\n",
      "SMOKE100    12907\n",
      "TOLDHI2     11857\n",
      "INCOME2      5431\n",
      "EMPLOY1      2233\n",
      "VETERAN3     1126\n",
      "MARITAL        45\n",
      "PHYSHLTH       28\n",
      "EDUCA          25\n",
      "dtype: int64\n"
     ]
    }
   ],
   "source": [
    "a=temp1.isnull().sum() #count the nulls by column\n",
    "print(a.sort_values(ascending=False).head(10))"
   ]
  },
  {
   "cell_type": "markdown",
   "metadata": {},
   "source": [
    "### Rows\n",
    "\n",
    "We investigate the same by row"
   ]
  },
  {
   "cell_type": "code",
   "execution_count": 8,
   "metadata": {},
   "outputs": [
    {
     "name": "stdout",
     "output_type": "stream",
     "text": [
      "58979     26\n",
      "59974     26\n",
      "60190     26\n",
      "60298     26\n",
      "339417    19\n",
      "58498     19\n",
      "58968     19\n",
      "633       18\n",
      "42        12\n",
      "85152     10\n",
      "60400      9\n",
      "404345     9\n",
      "326094     8\n",
      "335930     8\n",
      "3175       8\n",
      "219506     8\n",
      "342909     8\n",
      "2250       8\n",
      "326736     7\n",
      "34187      7\n",
      "dtype: int64\n"
     ]
    }
   ],
   "source": [
    "b=temp1.isnull().sum(axis=1) #count the nulls by column\n",
    "b=b.sort_values(ascending=False)\n",
    "print(b.head(20))"
   ]
  },
  {
   "cell_type": "code",
   "execution_count": 9,
   "metadata": {},
   "outputs": [
    {
     "data": {
      "text/plain": [
       "Int64Index([ 58979,  59974,  60190,  60298, 339417,  58498,  58968,    633,\n",
       "                42,  85152,  60400, 404345, 326094, 335930,   3175, 219506,\n",
       "            342909,   2250],\n",
       "           dtype='int64')"
      ]
     },
     "execution_count": 9,
     "metadata": {},
     "output_type": "execute_result"
    }
   ],
   "source": [
    "todrop=b.head(18).index\n",
    "todrop"
   ]
  },
  {
   "cell_type": "markdown",
   "metadata": {},
   "source": [
    "## Drop the Rows and Plot Missing"
   ]
  },
  {
   "cell_type": "code",
   "execution_count": 10,
   "metadata": {},
   "outputs": [
    {
     "data": {
      "text/plain": [
       "<AxesSubplot:>"
      ]
     },
     "execution_count": 10,
     "metadata": {},
     "output_type": "execute_result"
    },
    {
     "data": {
      "image/png": "[encoded data removed]",
      "text/plain": [
       "<Figure size 432x288 with 1 Axes>"
      ]
     },
     "metadata": {
      "needs_background": "light"
     },
     "output_type": "display_data"
    }
   ],
   "source": [
    "temp1 = temp1.drop(todrop)                    \n",
    "sns.heatmap(temp1.isnull(), cbar=False)"
   ]
  },
  {
   "cell_type": "markdown",
   "metadata": {},
   "source": [
    "## Impute Median\n",
    "Given the small number of missing values remaining, impute median."
   ]
  },
  {
   "cell_type": "code",
   "execution_count": 11,
   "metadata": {},
   "outputs": [
    {
     "name": "stdout",
     "output_type": "stream",
     "text": [
      "missing: 0.00478068743431256\n",
      "(349243, 37)\n"
     ]
    }
   ],
   "source": [
    "num=temp1.isna().sum().sum()\n",
    "den=temp1.shape[0]*temp1.shape[1]\n",
    "print('missing:', num/den)\n",
    "temp1=temp1.fillna(temp1.median())\n",
    "print(temp1.shape)"
   ]
  },
  {
   "cell_type": "markdown",
   "metadata": {},
   "source": [
    "## Rename Columns"
   ]
  },
  {
   "cell_type": "code",
   "execution_count": 12,
   "metadata": {},
   "outputs": [],
   "source": [
    "mydict={'CVDINFR4':'MI','_AGE_G':'Age', '_IMPRACE':'Race', 'SEXVAR':'Male', 'MARITAL':'Unmarried', 'VETERAN3':'Veteran', \n",
    "             'INCOME2':'LowIncome','EDUCA':'LowEducation', 'EMPLOY1':'Unemployed', 'RENTHOM1':'RentHome',\n",
    "             'GENHLTH':'PoorHealth', 'SMOKE100':'Smoker','USENOW3':'ChewSnuff',\n",
    "             '_PA300R3':'NoExercise', 'ALCDAY5':'DrinksDaily',\n",
    "            'TOLDHI2':'HighCholesterol', '_RFHYPE5':'HighBP', '_RFBMI5':'HighBMI', \n",
    "             'DIABETE4':'Diabetes', 'PHYSHLTH':'PhysicalHealth','MENTHLTH':'MentalHealth',\n",
    "             'ADDEPEV3':'Depression','CVDSTRK3':'Stroke', \n",
    "            'ASTHMA3':'Asthma','CHCSCNCR':'SkinCancer', 'CHCOCNCR':'Cancer', \n",
    "            'CHCCOPD2':'COPD','CHCKDNY2':'Kidney','HAVARTH4':'Arthritis', \n",
    "             'HLTHPLN1':'NoHealthPlan', 'PERSDOC2':'NoDoctor', 'MEDCOST':'Cost', 'CHECKUP1':'NoCheckup',\n",
    "             '_STATE':'State', '_LLCPWT':'Weights', '_STSTR':'Stratum', '_PSU':'PSU'}\n",
    "temp1=temp1.rename(columns=dict(mydict))"
   ]
  },
  {
   "cell_type": "markdown",
   "metadata": {},
   "source": [
    "# Recodes"
   ]
  },
  {
   "cell_type": "markdown",
   "metadata": {},
   "source": [
    "## MI, 1=YES\n",
    "\n",
    "Has a doctor, nurse, or other health professional ever told you that you had any of the following? Heart Attack\n",
    "1=Yes, 2=No, 7=Don't Know, 9=Refused"
   ]
  },
  {
   "cell_type": "code",
   "execution_count": 13,
   "metadata": {},
   "outputs": [
    {
     "name": "stdout",
     "output_type": "stream",
     "text": [
      "2.0    0.924918\n",
      "1.0    0.068689\n",
      "7.0    0.005861\n",
      "9.0    0.000533\n",
      "Name: MI, dtype: float64\n",
      "0.0    0.931311\n",
      "1.0    0.068689\n",
      "Name: MI, dtype: float64\n"
     ]
    }
   ],
   "source": [
    "print(pd.value_counts(temp1.MI, normalize='columns'))\n",
    "a_dict = {2:0, 7:0, 9:0}  #Modal response impute\n",
    "temp1['MI']=temp1['MI'].replace(dict(a_dict))\n",
    "print(pd.value_counts(temp1.MI, normalize='columns'))"
   ]
  },
  {
   "cell_type": "markdown",
   "metadata": {},
   "source": [
    "## Age Group 35-44, 45-54, 55-64, and 65+\n",
    "\n",
    "Age Group 35-44 is the referent group."
   ]
  },
  {
   "cell_type": "code",
   "execution_count": 14,
   "metadata": {},
   "outputs": [
    {
     "name": "stdout",
     "output_type": "stream",
     "text": [
      "6.0    0.442941\n",
      "5.0    0.240566\n",
      "4.0    0.174847\n",
      "3.0    0.141646\n",
      "Name: Age, dtype: float64\n",
      "0.0    0.557059\n",
      "1.0    0.442941\n",
      "Name: Age65, dtype: float64\n",
      "0.0    0.759434\n",
      "1.0    0.240566\n",
      "Name: Age55_64, dtype: float64\n",
      "0.0    0.825153\n",
      "1.0    0.174847\n",
      "Name: Age45_54, dtype: float64\n"
     ]
    }
   ],
   "source": [
    "print(pd.value_counts(temp1.Age, normalize='columns'))\n",
    "b0_dict={3:0, 4:0, 5:0, 6:1} #Age 65+\n",
    "b1_dict={3:0,4:0, 5:1, 6:0} #Age 55-64\n",
    "b2_dict={3:0,4:1, 5:0, 6:0} #Age 45-54\n",
    "\n",
    "temp1['Age65']=temp1['Age'].replace(dict(b0_dict))\n",
    "temp1['Age55_64']=temp1['Age'].replace(dict(b1_dict))\n",
    "temp1['Age45_54']=temp1['Age'].replace(dict(b2_dict))\n",
    "print(pd.value_counts(temp1.Age65, normalize='columns'))\n",
    "print(pd.value_counts(temp1.Age55_64, normalize='columns'))\n",
    "print(pd.value_counts(temp1.Age45_54, normalize='columns'))\n",
    "temp1=temp1.drop(columns=['Age'])"
   ]
  },
  {
   "cell_type": "markdown",
   "metadata": {},
   "source": [
    "## Race Recode:  Black, Hispanic, Other with 1=Minority\n",
    "Imputed race/ethnicity value\n",
    "1=White NH, 2=Black NH, 3=Asian NH, 4=AI/NA NH, 5=Hispanic, 6=Other NH\n",
    "White NH is the referent group."
   ]
  },
  {
   "cell_type": "code",
   "execution_count": 15,
   "metadata": {},
   "outputs": [
    {
     "data": {
      "text/html": [
       "<div>\n",
       "<style scoped>\n",
       "    .dataframe tbody tr th:only-of-type {\n",
       "        vertical-align: middle;\n",
       "    }\n",
       "\n",
       "    .dataframe tbody tr th {\n",
       "        vertical-align: top;\n",
       "    }\n",
       "\n",
       "    .dataframe thead th {\n",
       "        text-align: right;\n",
       "    }\n",
       "</style>\n",
       "<table border=\"1\" class=\"dataframe\">\n",
       "  <thead>\n",
       "    <tr style=\"text-align: right;\">\n",
       "      <th>MI</th>\n",
       "      <th>0.0</th>\n",
       "      <th>1.0</th>\n",
       "    </tr>\n",
       "    <tr>\n",
       "      <th>Race</th>\n",
       "      <th></th>\n",
       "      <th></th>\n",
       "    </tr>\n",
       "  </thead>\n",
       "  <tbody>\n",
       "    <tr>\n",
       "      <th>1.0</th>\n",
       "      <td>0.929954</td>\n",
       "      <td>0.070046</td>\n",
       "    </tr>\n",
       "    <tr>\n",
       "      <th>2.0</th>\n",
       "      <td>0.935730</td>\n",
       "      <td>0.064270</td>\n",
       "    </tr>\n",
       "    <tr>\n",
       "      <th>3.0</th>\n",
       "      <td>0.966590</td>\n",
       "      <td>0.033410</td>\n",
       "    </tr>\n",
       "    <tr>\n",
       "      <th>4.0</th>\n",
       "      <td>0.889398</td>\n",
       "      <td>0.110602</td>\n",
       "    </tr>\n",
       "    <tr>\n",
       "      <th>5.0</th>\n",
       "      <td>0.949986</td>\n",
       "      <td>0.050014</td>\n",
       "    </tr>\n",
       "    <tr>\n",
       "      <th>6.0</th>\n",
       "      <td>0.912449</td>\n",
       "      <td>0.087551</td>\n",
       "    </tr>\n",
       "  </tbody>\n",
       "</table>\n",
       "</div>"
      ],
      "text/plain": [
       "MI         0.0       1.0\n",
       "Race                    \n",
       "1.0   0.929954  0.070046\n",
       "2.0   0.935730  0.064270\n",
       "3.0   0.966590  0.033410\n",
       "4.0   0.889398  0.110602\n",
       "5.0   0.949986  0.050014\n",
       "6.0   0.912449  0.087551"
      ]
     },
     "execution_count": 15,
     "metadata": {},
     "output_type": "execute_result"
    }
   ],
   "source": [
    "pd.crosstab(temp1.Race, temp1.MI, normalize='index') "
   ]
  },
  {
   "cell_type": "code",
   "execution_count": 16,
   "metadata": {},
   "outputs": [
    {
     "name": "stdout",
     "output_type": "stream",
     "text": [
      "1.0    0.789144\n",
      "2.0    0.073823\n",
      "5.0    0.073224\n",
      "6.0    0.030775\n",
      "3.0    0.017398\n",
      "4.0    0.015637\n",
      "Name: Race, dtype: float64\n",
      "0.0    0.926177\n",
      "1.0    0.073823\n",
      "Name: Black, dtype: float64\n",
      "0.0    0.926776\n",
      "1.0    0.073224\n",
      "Name: Hispanic, dtype: float64\n",
      "0.0    0.936191\n",
      "1.0    0.063809\n",
      "Name: Other, dtype: float64\n"
     ]
    }
   ],
   "source": [
    "print(pd.value_counts(temp1.Race, normalize='columns'))\n",
    "c_dict={2:1, 1:0, 3:0, 4:0, 5:0, 6:0}\n",
    "d_dict={5:1, 1:0, 2:0, 3:0, 4:0, 6:0}\n",
    "e_dict={1:0, 2:0, 3:1, 4:1, 5:0, 6:1}\n",
    "temp1['Black']=temp1['Race'].replace(dict(c_dict))\n",
    "temp1['Hispanic']=temp1['Race'].replace(dict(d_dict))\n",
    "temp1['Other']=temp1['Race'].replace(dict(e_dict))\n",
    "print(pd.value_counts(temp1.Black, normalize='columns'))\n",
    "print(pd.value_counts(temp1.Hispanic, normalize='columns'))\n",
    "print(pd.value_counts(temp1.Other, normalize='columns'))\n",
    "temp1=temp1.drop(columns=['Race'])"
   ]
  },
  {
   "cell_type": "markdown",
   "metadata": {},
   "source": [
    "## Gender, 1=Male\n",
    "Calculated sex variable"
   ]
  },
  {
   "cell_type": "code",
   "execution_count": 17,
   "metadata": {},
   "outputs": [
    {
     "data": {
      "text/html": [
       "<div>\n",
       "<style scoped>\n",
       "    .dataframe tbody tr th:only-of-type {\n",
       "        vertical-align: middle;\n",
       "    }\n",
       "\n",
       "    .dataframe tbody tr th {\n",
       "        vertical-align: top;\n",
       "    }\n",
       "\n",
       "    .dataframe thead th {\n",
       "        text-align: right;\n",
       "    }\n",
       "</style>\n",
       "<table border=\"1\" class=\"dataframe\">\n",
       "  <thead>\n",
       "    <tr style=\"text-align: right;\">\n",
       "      <th>MI</th>\n",
       "      <th>0.0</th>\n",
       "      <th>1.0</th>\n",
       "    </tr>\n",
       "    <tr>\n",
       "      <th>Male</th>\n",
       "      <th></th>\n",
       "      <th></th>\n",
       "    </tr>\n",
       "  </thead>\n",
       "  <tbody>\n",
       "    <tr>\n",
       "      <th>1.0</th>\n",
       "      <td>0.907513</td>\n",
       "      <td>0.092487</td>\n",
       "    </tr>\n",
       "    <tr>\n",
       "      <th>2.0</th>\n",
       "      <td>0.950061</td>\n",
       "      <td>0.049939</td>\n",
       "    </tr>\n",
       "  </tbody>\n",
       "</table>\n",
       "</div>"
      ],
      "text/plain": [
       "MI         0.0       1.0\n",
       "Male                    \n",
       "1.0   0.907513  0.092487\n",
       "2.0   0.950061  0.049939"
      ]
     },
     "execution_count": 17,
     "metadata": {},
     "output_type": "execute_result"
    }
   ],
   "source": [
    "pd.crosstab(temp1.Male, temp1.MI, normalize='index')"
   ]
  },
  {
   "cell_type": "code",
   "execution_count": 18,
   "metadata": {},
   "outputs": [
    {
     "name": "stdout",
     "output_type": "stream",
     "text": [
      "2.0    0.559324\n",
      "1.0    0.440676\n",
      "Name: Male, dtype: float64\n",
      "0.0    0.559324\n",
      "1.0    0.440676\n",
      "Name: Male, dtype: float64\n"
     ]
    }
   ],
   "source": [
    "print(pd.value_counts(temp1.Male, normalize='columns'))\n",
    "f_dict={2:0, 1:1}\n",
    "temp1['Male']=temp1['Male'].replace(dict(f_dict))\n",
    "print(pd.value_counts(temp1.Male, normalize='columns'))"
   ]
  },
  {
   "cell_type": "markdown",
   "metadata": {},
   "source": [
    "## Unmarried\n",
    "\n",
    "1=Married, 2=Divorced, 3=Widowed, 4=Separated, 5=Never Married, 6=Member of Unmarried Couple, 9=Refused\n",
    "\n",
    "We define PreviousMarriage as divorced, widowed, or separated.\n",
    "\n",
    "We then defined NeverMarried.\n",
    "\n"
   ]
  },
  {
   "cell_type": "code",
   "execution_count": 19,
   "metadata": {},
   "outputs": [
    {
     "data": {
      "text/html": [
       "<div>\n",
       "<style scoped>\n",
       "    .dataframe tbody tr th:only-of-type {\n",
       "        vertical-align: middle;\n",
       "    }\n",
       "\n",
       "    .dataframe tbody tr th {\n",
       "        vertical-align: top;\n",
       "    }\n",
       "\n",
       "    .dataframe thead th {\n",
       "        text-align: right;\n",
       "    }\n",
       "</style>\n",
       "<table border=\"1\" class=\"dataframe\">\n",
       "  <thead>\n",
       "    <tr style=\"text-align: right;\">\n",
       "      <th>MI</th>\n",
       "      <th>0.0</th>\n",
       "      <th>1.0</th>\n",
       "    </tr>\n",
       "    <tr>\n",
       "      <th>Unmarried</th>\n",
       "      <th></th>\n",
       "      <th></th>\n",
       "    </tr>\n",
       "  </thead>\n",
       "  <tbody>\n",
       "    <tr>\n",
       "      <th>1.0</th>\n",
       "      <td>0.942809</td>\n",
       "      <td>0.057191</td>\n",
       "    </tr>\n",
       "    <tr>\n",
       "      <th>2.0</th>\n",
       "      <td>0.917610</td>\n",
       "      <td>0.082390</td>\n",
       "    </tr>\n",
       "    <tr>\n",
       "      <th>3.0</th>\n",
       "      <td>0.887851</td>\n",
       "      <td>0.112149</td>\n",
       "    </tr>\n",
       "    <tr>\n",
       "      <th>4.0</th>\n",
       "      <td>0.914216</td>\n",
       "      <td>0.085784</td>\n",
       "    </tr>\n",
       "    <tr>\n",
       "      <th>5.0</th>\n",
       "      <td>0.949610</td>\n",
       "      <td>0.050390</td>\n",
       "    </tr>\n",
       "    <tr>\n",
       "      <th>6.0</th>\n",
       "      <td>0.951989</td>\n",
       "      <td>0.048011</td>\n",
       "    </tr>\n",
       "    <tr>\n",
       "      <th>9.0</th>\n",
       "      <td>0.951552</td>\n",
       "      <td>0.048448</td>\n",
       "    </tr>\n",
       "  </tbody>\n",
       "</table>\n",
       "</div>"
      ],
      "text/plain": [
       "MI              0.0       1.0\n",
       "Unmarried                    \n",
       "1.0        0.942809  0.057191\n",
       "2.0        0.917610  0.082390\n",
       "3.0        0.887851  0.112149\n",
       "4.0        0.914216  0.085784\n",
       "5.0        0.949610  0.050390\n",
       "6.0        0.951989  0.048011\n",
       "9.0        0.951552  0.048448"
      ]
     },
     "execution_count": 19,
     "metadata": {},
     "output_type": "execute_result"
    }
   ],
   "source": [
    "pd.crosstab(temp1.Unmarried, temp1.MI, normalize='index')"
   ]
  },
  {
   "cell_type": "code",
   "execution_count": 20,
   "metadata": {},
   "outputs": [
    {
     "name": "stdout",
     "output_type": "stream",
     "text": [
      "1.0    0.552730\n",
      "2.0    0.154062\n",
      "3.0    0.144661\n",
      "5.0    0.095349\n",
      "6.0    0.023677\n",
      "4.0    0.021129\n",
      "9.0    0.008392\n",
      "Name: Unmarried, dtype: float64\n",
      "0.0    0.680148\n",
      "1.0    0.319852\n",
      "Name: PreviousMarriage, dtype: float64\n",
      "0.0    0.904651\n",
      "1.0    0.095349\n",
      "Name: NeverMarried, dtype: float64\n"
     ]
    }
   ],
   "source": [
    "print(pd.value_counts(temp1.Unmarried, normalize='columns'))\n",
    "g0_dict={1:0,2:1, 3:1, 4:1, 5:0, 6:0, 9:0} #divorced / widowed / separated\n",
    "g1_dict={1:0,2:0, 3:0, 4:0, 5:1, 6:0, 9:0} #never married\n",
    "\n",
    "temp1['PreviousMarriage']=temp1['Unmarried'].replace(dict(g0_dict))\n",
    "temp1['NeverMarried']=temp1['Unmarried'].replace(dict(g1_dict))\n",
    "temp1=temp1.drop(columns=['Unmarried'])\n",
    "\n",
    "print(pd.value_counts(temp1.PreviousMarriage, normalize='columns'))\n",
    "print(pd.value_counts(temp1.NeverMarried, normalize='columns'))"
   ]
  },
  {
   "cell_type": "markdown",
   "metadata": {},
   "source": [
    "## Veteran, 1=Veteran\n",
    "\n",
    "Have you ever served on active duty in the United States Armed Forces, either in the regular military or the National Guard or military reserve unit?  \n",
    "\n",
    "1=Yes, 2=No, 7/9=DK/Refused"
   ]
  },
  {
   "cell_type": "code",
   "execution_count": 21,
   "metadata": {},
   "outputs": [
    {
     "data": {
      "text/html": [
       "<div>\n",
       "<style scoped>\n",
       "    .dataframe tbody tr th:only-of-type {\n",
       "        vertical-align: middle;\n",
       "    }\n",
       "\n",
       "    .dataframe tbody tr th {\n",
       "        vertical-align: top;\n",
       "    }\n",
       "\n",
       "    .dataframe thead th {\n",
       "        text-align: right;\n",
       "    }\n",
       "</style>\n",
       "<table border=\"1\" class=\"dataframe\">\n",
       "  <thead>\n",
       "    <tr style=\"text-align: right;\">\n",
       "      <th>MI</th>\n",
       "      <th>0.0</th>\n",
       "      <th>1.0</th>\n",
       "    </tr>\n",
       "    <tr>\n",
       "      <th>Veteran</th>\n",
       "      <th></th>\n",
       "      <th></th>\n",
       "    </tr>\n",
       "  </thead>\n",
       "  <tbody>\n",
       "    <tr>\n",
       "      <th>1.0</th>\n",
       "      <td>0.872503</td>\n",
       "      <td>0.127497</td>\n",
       "    </tr>\n",
       "    <tr>\n",
       "      <th>2.0</th>\n",
       "      <td>0.941021</td>\n",
       "      <td>0.058979</td>\n",
       "    </tr>\n",
       "    <tr>\n",
       "      <th>7.0</th>\n",
       "      <td>0.832061</td>\n",
       "      <td>0.167939</td>\n",
       "    </tr>\n",
       "    <tr>\n",
       "      <th>9.0</th>\n",
       "      <td>0.943005</td>\n",
       "      <td>0.056995</td>\n",
       "    </tr>\n",
       "  </tbody>\n",
       "</table>\n",
       "</div>"
      ],
      "text/plain": [
       "MI            0.0       1.0\n",
       "Veteran                    \n",
       "1.0      0.872503  0.127497\n",
       "2.0      0.941021  0.058979\n",
       "7.0      0.832061  0.167939\n",
       "9.0      0.943005  0.056995"
      ]
     },
     "execution_count": 21,
     "metadata": {},
     "output_type": "execute_result"
    }
   ],
   "source": [
    "pd.crosstab(temp1.Veteran, temp1.MI, normalize='index')"
   ]
  },
  {
   "cell_type": "code",
   "execution_count": 22,
   "metadata": {},
   "outputs": [
    {
     "name": "stdout",
     "output_type": "stream",
     "text": [
      "2.0    0.856243\n",
      "1.0    0.141171\n",
      "9.0    0.002210\n",
      "7.0    0.000375\n",
      "Name: Veteran, dtype: float64\n",
      "0.0    0.858829\n",
      "1.0    0.141171\n",
      "Name: Veteran, dtype: float64\n"
     ]
    }
   ],
   "source": [
    "print(pd.value_counts(temp1.Veteran, normalize='columns'))\n",
    "h0_dict={1:1, 2:0, 7:0, 9:0} #VetYes\n",
    "temp1['Veteran']=temp1['Veteran'].replace(dict(h0_dict))\n",
    "print(pd.value_counts(temp1.Veteran, normalize='columns'))"
   ]
  },
  {
   "cell_type": "markdown",
   "metadata": {},
   "source": [
    "## Poor Income\n",
    "\n",
    "1=<10K, 2=<15K, 3=<20K, 4=<25K, 5=<35K,6=<50K,7=<75K,8=>=75K, 77/99=DK, Refused\n",
    "\n",
    "We use below 25K, below 75K, DK/Refused, with referent group of 75K+."
   ]
  },
  {
   "cell_type": "code",
   "execution_count": 23,
   "metadata": {},
   "outputs": [
    {
     "data": {
      "text/html": [
       "<div>\n",
       "<style scoped>\n",
       "    .dataframe tbody tr th:only-of-type {\n",
       "        vertical-align: middle;\n",
       "    }\n",
       "\n",
       "    .dataframe tbody tr th {\n",
       "        vertical-align: top;\n",
       "    }\n",
       "\n",
       "    .dataframe thead th {\n",
       "        text-align: right;\n",
       "    }\n",
       "</style>\n",
       "<table border=\"1\" class=\"dataframe\">\n",
       "  <thead>\n",
       "    <tr style=\"text-align: right;\">\n",
       "      <th>MI</th>\n",
       "      <th>0.0</th>\n",
       "      <th>1.0</th>\n",
       "    </tr>\n",
       "    <tr>\n",
       "      <th>LowIncome</th>\n",
       "      <th></th>\n",
       "      <th></th>\n",
       "    </tr>\n",
       "  </thead>\n",
       "  <tbody>\n",
       "    <tr>\n",
       "      <th>1.0</th>\n",
       "      <td>0.888238</td>\n",
       "      <td>0.111762</td>\n",
       "    </tr>\n",
       "    <tr>\n",
       "      <th>2.0</th>\n",
       "      <td>0.866025</td>\n",
       "      <td>0.133975</td>\n",
       "    </tr>\n",
       "    <tr>\n",
       "      <th>3.0</th>\n",
       "      <td>0.886934</td>\n",
       "      <td>0.113066</td>\n",
       "    </tr>\n",
       "    <tr>\n",
       "      <th>4.0</th>\n",
       "      <td>0.899558</td>\n",
       "      <td>0.100442</td>\n",
       "    </tr>\n",
       "    <tr>\n",
       "      <th>5.0</th>\n",
       "      <td>0.913157</td>\n",
       "      <td>0.086843</td>\n",
       "    </tr>\n",
       "    <tr>\n",
       "      <th>6.0</th>\n",
       "      <td>0.927652</td>\n",
       "      <td>0.072348</td>\n",
       "    </tr>\n",
       "    <tr>\n",
       "      <th>7.0</th>\n",
       "      <td>0.944097</td>\n",
       "      <td>0.055903</td>\n",
       "    </tr>\n",
       "    <tr>\n",
       "      <th>8.0</th>\n",
       "      <td>0.965085</td>\n",
       "      <td>0.034915</td>\n",
       "    </tr>\n",
       "    <tr>\n",
       "      <th>77.0</th>\n",
       "      <td>0.907951</td>\n",
       "      <td>0.092049</td>\n",
       "    </tr>\n",
       "    <tr>\n",
       "      <th>99.0</th>\n",
       "      <td>0.937505</td>\n",
       "      <td>0.062495</td>\n",
       "    </tr>\n",
       "  </tbody>\n",
       "</table>\n",
       "</div>"
      ],
      "text/plain": [
       "MI              0.0       1.0\n",
       "LowIncome                    \n",
       "1.0        0.888238  0.111762\n",
       "2.0        0.866025  0.133975\n",
       "3.0        0.886934  0.113066\n",
       "4.0        0.899558  0.100442\n",
       "5.0        0.913157  0.086843\n",
       "6.0        0.927652  0.072348\n",
       "7.0        0.944097  0.055903\n",
       "8.0        0.965085  0.034915\n",
       "77.0       0.907951  0.092049\n",
       "99.0       0.937505  0.062495"
      ]
     },
     "execution_count": 23,
     "metadata": {},
     "output_type": "execute_result"
    }
   ],
   "source": [
    "pd.crosstab(temp1.LowIncome,temp1.MI, normalize='index')"
   ]
  },
  {
   "cell_type": "code",
   "execution_count": 24,
   "metadata": {},
   "outputs": [
    {
     "name": "stdout",
     "output_type": "stream",
     "text": [
      "8.0     0.289575\n",
      "7.0     0.144338\n",
      "6.0     0.109193\n",
      "99.0    0.106800\n",
      "5.0     0.081110\n",
      "4.0     0.069928\n",
      "77.0    0.067844\n",
      "3.0     0.055182\n",
      "2.0     0.039881\n",
      "1.0     0.036150\n",
      "Name: LowIncome, dtype: float64\n",
      "0.0    0.798859\n",
      "1.0    0.201141\n",
      "Name: LT25K, dtype: float64\n",
      "0.0    0.665359\n",
      "1.0    0.334641\n",
      "Name: LT50K, dtype: float64\n",
      "0.0    0.825357\n",
      "1.0    0.174643\n",
      "Name: Income_DKR, dtype: float64\n"
     ]
    }
   ],
   "source": [
    "print(pd.value_counts(temp1.LowIncome, normalize='columns'))\n",
    "i0_dict={1:1, 2:1, 3:1, 4:1, 5:0, 6:0, 7:0, 8:0, 77:0,99:0}\n",
    "i1_dict={1:0, 2:0, 3:0, 4:0, 5:1, 6:1, 7:1, 8:0, 77:0,99:0}\n",
    "i2_dict={1:0, 2:0, 3:0, 4:0, 5:0, 6:0, 7:0, 8:0, 77:1,99:1}\n",
    "temp1['LT25K']=temp1['LowIncome'].replace(dict(i0_dict))\n",
    "temp1['LT50K']=temp1['LowIncome'].replace(dict(i1_dict))\n",
    "temp1['Income_DKR']=temp1['LowIncome'].replace(dict(i2_dict))\n",
    "print(pd.value_counts(temp1.LT25K, normalize='columns'))\n",
    "print(pd.value_counts(temp1.LT50K, normalize='columns'))\n",
    "print(pd.value_counts(temp1.Income_DKR, normalize='columns'))\n",
    "temp1=temp1.drop(columns=['LowIncome'])"
   ]
  },
  {
   "cell_type": "markdown",
   "metadata": {},
   "source": [
    "## Education Recode: Below HS, HS, Post-HS but Not College Grad\n",
    "\n",
    "1=Never Attended, 2=Grades 1 through 8, 3=Grades 9-11, 4=Grade 12 / GED, 5=College 1 to 3 years, 6=College 4 or more years, 9=Refused"
   ]
  },
  {
   "cell_type": "code",
   "execution_count": 25,
   "metadata": {},
   "outputs": [
    {
     "data": {
      "text/html": [
       "<div>\n",
       "<style scoped>\n",
       "    .dataframe tbody tr th:only-of-type {\n",
       "        vertical-align: middle;\n",
       "    }\n",
       "\n",
       "    .dataframe tbody tr th {\n",
       "        vertical-align: top;\n",
       "    }\n",
       "\n",
       "    .dataframe thead th {\n",
       "        text-align: right;\n",
       "    }\n",
       "</style>\n",
       "<table border=\"1\" class=\"dataframe\">\n",
       "  <thead>\n",
       "    <tr style=\"text-align: right;\">\n",
       "      <th>MI</th>\n",
       "      <th>0.0</th>\n",
       "      <th>1.0</th>\n",
       "    </tr>\n",
       "    <tr>\n",
       "      <th>LowEducation</th>\n",
       "      <th></th>\n",
       "      <th></th>\n",
       "    </tr>\n",
       "  </thead>\n",
       "  <tbody>\n",
       "    <tr>\n",
       "      <th>1.0</th>\n",
       "      <td>0.906367</td>\n",
       "      <td>0.093633</td>\n",
       "    </tr>\n",
       "    <tr>\n",
       "      <th>2.0</th>\n",
       "      <td>0.883792</td>\n",
       "      <td>0.116208</td>\n",
       "    </tr>\n",
       "    <tr>\n",
       "      <th>3.0</th>\n",
       "      <td>0.877382</td>\n",
       "      <td>0.122618</td>\n",
       "    </tr>\n",
       "    <tr>\n",
       "      <th>4.0</th>\n",
       "      <td>0.915407</td>\n",
       "      <td>0.084593</td>\n",
       "    </tr>\n",
       "    <tr>\n",
       "      <th>5.0</th>\n",
       "      <td>0.927759</td>\n",
       "      <td>0.072241</td>\n",
       "    </tr>\n",
       "    <tr>\n",
       "      <th>6.0</th>\n",
       "      <td>0.953933</td>\n",
       "      <td>0.046067</td>\n",
       "    </tr>\n",
       "    <tr>\n",
       "      <th>9.0</th>\n",
       "      <td>0.938840</td>\n",
       "      <td>0.061160</td>\n",
       "    </tr>\n",
       "  </tbody>\n",
       "</table>\n",
       "</div>"
      ],
      "text/plain": [
       "MI                 0.0       1.0\n",
       "LowEducation                    \n",
       "1.0           0.906367  0.093633\n",
       "2.0           0.883792  0.116208\n",
       "3.0           0.877382  0.122618\n",
       "4.0           0.915407  0.084593\n",
       "5.0           0.927759  0.072241\n",
       "6.0           0.953933  0.046067\n",
       "9.0           0.938840  0.061160"
      ]
     },
     "execution_count": 25,
     "metadata": {},
     "output_type": "execute_result"
    }
   ],
   "source": [
    "pd.crosstab(temp1.LowEducation,temp1.MI, normalize='index')"
   ]
  },
  {
   "cell_type": "code",
   "execution_count": 26,
   "metadata": {},
   "outputs": [
    {
     "name": "stdout",
     "output_type": "stream",
     "text": [
      "6.0    0.389030\n",
      "5.0    0.272655\n",
      "4.0    0.261108\n",
      "3.0    0.045979\n",
      "2.0    0.025157\n",
      "9.0    0.004541\n",
      "1.0    0.001529\n",
      "Name: LowEducation, dtype: float64\n",
      "0.0    0.927334\n",
      "1.0    0.072666\n",
      "Name: PreHS, dtype: float64\n",
      "0.0    0.738892\n",
      "1.0    0.261108\n",
      "Name: HS, dtype: float64\n",
      "0.0    0.727345\n",
      "1.0    0.272655\n",
      "Name: PostHS, dtype: float64\n"
     ]
    }
   ],
   "source": [
    "print(pd.value_counts(temp1.LowEducation, normalize='columns'))\n",
    "j_dict={1:1, 2:1, 3:1, 4:0, 5:0, 6:0, 9:0} #add 9 to referent group (very small)\n",
    "k_dict={1:0, 2:0, 3:0, 4:1, 5:0, 6:0, 9:0}\n",
    "l_dict={1:0, 2:0, 3:0, 4:0, 5:1, 6:0, 9:0} #not a college grad but post-HS\n",
    "temp1['PreHS']=temp1['LowEducation'].replace(dict(j_dict))\n",
    "temp1['HS']=temp1['LowEducation'].replace(dict(k_dict))\n",
    "temp1['PostHS']=temp1['LowEducation'].replace(dict(l_dict))\n",
    "print(pd.value_counts(temp1.PreHS, normalize='columns'))\n",
    "print(pd.value_counts(temp1.HS, normalize='columns'))\n",
    "print(pd.value_counts(temp1.PostHS, normalize='columns'))\n",
    "temp1=temp1.drop(columns=['LowEducation'])"
   ]
  },
  {
   "cell_type": "markdown",
   "metadata": {},
   "source": [
    "## Not Employed\n",
    "\n",
    "1=Employed for Wages, 2=Self-Employed, 3=Out of work 1+, 4=Out of work <1, 5=Homemaker, 6=Student, 7=Retired, 8=Unable to Work, 9=Refused.\n",
    "\n",
    "RetiredUnable=7, 8\n",
    "\n",
    "OutofWork=3,4\n",
    "\n",
    "OtherNotWorking=5,6,9"
   ]
  },
  {
   "cell_type": "code",
   "execution_count": 27,
   "metadata": {},
   "outputs": [
    {
     "data": {
      "text/html": [
       "<div>\n",
       "<style scoped>\n",
       "    .dataframe tbody tr th:only-of-type {\n",
       "        vertical-align: middle;\n",
       "    }\n",
       "\n",
       "    .dataframe tbody tr th {\n",
       "        vertical-align: top;\n",
       "    }\n",
       "\n",
       "    .dataframe thead th {\n",
       "        text-align: right;\n",
       "    }\n",
       "</style>\n",
       "<table border=\"1\" class=\"dataframe\">\n",
       "  <thead>\n",
       "    <tr style=\"text-align: right;\">\n",
       "      <th>MI</th>\n",
       "      <th>0.0</th>\n",
       "      <th>1.0</th>\n",
       "    </tr>\n",
       "    <tr>\n",
       "      <th>Unemployed</th>\n",
       "      <th></th>\n",
       "      <th></th>\n",
       "    </tr>\n",
       "  </thead>\n",
       "  <tbody>\n",
       "    <tr>\n",
       "      <th>1.0</th>\n",
       "      <td>0.973462</td>\n",
       "      <td>0.026538</td>\n",
       "    </tr>\n",
       "    <tr>\n",
       "      <th>2.0</th>\n",
       "      <td>0.957115</td>\n",
       "      <td>0.042885</td>\n",
       "    </tr>\n",
       "    <tr>\n",
       "      <th>3.0</th>\n",
       "      <td>0.924810</td>\n",
       "      <td>0.075190</td>\n",
       "    </tr>\n",
       "    <tr>\n",
       "      <th>4.0</th>\n",
       "      <td>0.953511</td>\n",
       "      <td>0.046489</td>\n",
       "    </tr>\n",
       "    <tr>\n",
       "      <th>5.0</th>\n",
       "      <td>0.955229</td>\n",
       "      <td>0.044771</td>\n",
       "    </tr>\n",
       "    <tr>\n",
       "      <th>6.0</th>\n",
       "      <td>0.977663</td>\n",
       "      <td>0.022337</td>\n",
       "    </tr>\n",
       "    <tr>\n",
       "      <th>7.0</th>\n",
       "      <td>0.897222</td>\n",
       "      <td>0.102778</td>\n",
       "    </tr>\n",
       "    <tr>\n",
       "      <th>8.0</th>\n",
       "      <td>0.847608</td>\n",
       "      <td>0.152392</td>\n",
       "    </tr>\n",
       "    <tr>\n",
       "      <th>9.0</th>\n",
       "      <td>0.948222</td>\n",
       "      <td>0.051778</td>\n",
       "    </tr>\n",
       "  </tbody>\n",
       "</table>\n",
       "</div>"
      ],
      "text/plain": [
       "MI               0.0       1.0\n",
       "Unemployed                    \n",
       "1.0         0.973462  0.026538\n",
       "2.0         0.957115  0.042885\n",
       "3.0         0.924810  0.075190\n",
       "4.0         0.953511  0.046489\n",
       "5.0         0.955229  0.044771\n",
       "6.0         0.977663  0.022337\n",
       "7.0         0.897222  0.102778\n",
       "8.0         0.847608  0.152392\n",
       "9.0         0.948222  0.051778"
      ]
     },
     "execution_count": 27,
     "metadata": {},
     "output_type": "execute_result"
    }
   ],
   "source": [
    "pd.crosstab(temp1.Unemployed,temp1.MI, normalize='index')"
   ]
  },
  {
   "cell_type": "code",
   "execution_count": 28,
   "metadata": {},
   "outputs": [
    {
     "name": "stdout",
     "output_type": "stream",
     "text": [
      "7.0    0.368523\n",
      "1.0    0.357456\n",
      "2.0    0.094009\n",
      "8.0    0.080737\n",
      "5.0    0.055257\n",
      "3.0    0.017670\n",
      "4.0    0.014720\n",
      "9.0    0.008295\n",
      "6.0    0.003333\n",
      "Name: Unemployed, dtype: float64\n",
      "0.0    0.55074\n",
      "1.0    0.44926\n",
      "Name: RetiredUnable, dtype: float64\n",
      "0.0    0.96761\n",
      "1.0    0.03239\n",
      "Name: OutofWork, dtype: float64\n",
      "0.0    0.94141\n",
      "1.0    0.05859\n",
      "Name: OtherNotWorking, dtype: float64\n"
     ]
    }
   ],
   "source": [
    "print(pd.value_counts(temp1.Unemployed, normalize='columns'))\n",
    "m0_dict={1:0, 2:0, 3:0, 4:0, 5:0, 6:0, 7:1, 8:1, 9:0} # RetiredUnable...  refused added to referent group (very small)\n",
    "m1_dict={1:0, 2:0, 3:1, 4:1, 5:0, 6:0, 7:0, 8:0, 9:0} # OutofWork\n",
    "m2_dict={1:0, 2:0, 3:0, 4:0, 5:1, 6:1, 7:0, 8:0, 9:0} # Other not Working\n",
    "temp1['RetiredUnable']=temp1['Unemployed'].replace(dict(m0_dict))\n",
    "temp1['OutofWork']=temp1['Unemployed'].replace(dict(m1_dict))\n",
    "temp1['OtherNotWorking']=temp1['Unemployed'].replace(dict(m2_dict))\n",
    "print(pd.value_counts(temp1.RetiredUnable, normalize='columns'))\n",
    "print(pd.value_counts(temp1.OutofWork, normalize='columns'))\n",
    "print(pd.value_counts(temp1.OtherNotWorking, normalize='columns'))\n",
    "temp1=temp1.drop(columns=['Unemployed'])"
   ]
  },
  {
   "cell_type": "markdown",
   "metadata": {},
   "source": [
    "## Rent Home\n",
    "\n",
    "1=Own, 2=Rent, 3=Other, 7/9=DK/R"
   ]
  },
  {
   "cell_type": "code",
   "execution_count": 29,
   "metadata": {},
   "outputs": [
    {
     "data": {
      "text/html": [
       "<div>\n",
       "<style scoped>\n",
       "    .dataframe tbody tr th:only-of-type {\n",
       "        vertical-align: middle;\n",
       "    }\n",
       "\n",
       "    .dataframe tbody tr th {\n",
       "        vertical-align: top;\n",
       "    }\n",
       "\n",
       "    .dataframe thead th {\n",
       "        text-align: right;\n",
       "    }\n",
       "</style>\n",
       "<table border=\"1\" class=\"dataframe\">\n",
       "  <thead>\n",
       "    <tr style=\"text-align: right;\">\n",
       "      <th>MI</th>\n",
       "      <th>0.0</th>\n",
       "      <th>1.0</th>\n",
       "    </tr>\n",
       "    <tr>\n",
       "      <th>RentHome</th>\n",
       "      <th></th>\n",
       "      <th></th>\n",
       "    </tr>\n",
       "  </thead>\n",
       "  <tbody>\n",
       "    <tr>\n",
       "      <th>1.0</th>\n",
       "      <td>0.935994</td>\n",
       "      <td>0.064006</td>\n",
       "    </tr>\n",
       "    <tr>\n",
       "      <th>2.0</th>\n",
       "      <td>0.916043</td>\n",
       "      <td>0.083957</td>\n",
       "    </tr>\n",
       "    <tr>\n",
       "      <th>3.0</th>\n",
       "      <td>0.903383</td>\n",
       "      <td>0.096617</td>\n",
       "    </tr>\n",
       "    <tr>\n",
       "      <th>7.0</th>\n",
       "      <td>0.926148</td>\n",
       "      <td>0.073852</td>\n",
       "    </tr>\n",
       "    <tr>\n",
       "      <th>9.0</th>\n",
       "      <td>0.937774</td>\n",
       "      <td>0.062226</td>\n",
       "    </tr>\n",
       "  </tbody>\n",
       "</table>\n",
       "</div>"
      ],
      "text/plain": [
       "MI             0.0       1.0\n",
       "RentHome                    \n",
       "1.0       0.935994  0.064006\n",
       "2.0       0.916043  0.083957\n",
       "3.0       0.903383  0.096617\n",
       "7.0       0.926148  0.073852\n",
       "9.0       0.937774  0.062226"
      ]
     },
     "execution_count": 29,
     "metadata": {},
     "output_type": "execute_result"
    }
   ],
   "source": [
    "pd.crosstab(temp1.RentHome,temp1.MI, normalize='index')"
   ]
  },
  {
   "cell_type": "code",
   "execution_count": 30,
   "metadata": {},
   "outputs": [
    {
     "name": "stdout",
     "output_type": "stream",
     "text": [
      "1.0    0.777278\n",
      "2.0    0.183517\n",
      "3.0    0.031236\n",
      "9.0    0.006534\n",
      "7.0    0.001435\n",
      "Name: RentHome, dtype: float64\n",
      "0.0    0.816483\n",
      "1.0    0.183517\n",
      "Name: RentHome, dtype: float64\n"
     ]
    }
   ],
   "source": [
    "print(pd.value_counts(temp1.RentHome, normalize='columns'))\n",
    "m2_dict={2:1, 1:0, 3:0, 7:0, 9:0}\n",
    "temp1['RentHome']=temp1['RentHome'].replace(dict(m2_dict))\n",
    "print(pd.value_counts(temp1.RentHome, normalize='columns'))"
   ]
  },
  {
   "cell_type": "markdown",
   "metadata": {},
   "source": [
    "## Poor Health\n",
    "\n",
    "1=Excellent, 2=Very Good, 3=Good, 4=Fair, 5=Poor, 7/9=DK, Refused\n"
   ]
  },
  {
   "cell_type": "code",
   "execution_count": 31,
   "metadata": {},
   "outputs": [
    {
     "data": {
      "text/html": [
       "<div>\n",
       "<style scoped>\n",
       "    .dataframe tbody tr th:only-of-type {\n",
       "        vertical-align: middle;\n",
       "    }\n",
       "\n",
       "    .dataframe tbody tr th {\n",
       "        vertical-align: top;\n",
       "    }\n",
       "\n",
       "    .dataframe thead th {\n",
       "        text-align: right;\n",
       "    }\n",
       "</style>\n",
       "<table border=\"1\" class=\"dataframe\">\n",
       "  <thead>\n",
       "    <tr style=\"text-align: right;\">\n",
       "      <th>MI</th>\n",
       "      <th>0.0</th>\n",
       "      <th>1.0</th>\n",
       "    </tr>\n",
       "    <tr>\n",
       "      <th>PoorHealth</th>\n",
       "      <th></th>\n",
       "      <th></th>\n",
       "    </tr>\n",
       "  </thead>\n",
       "  <tbody>\n",
       "    <tr>\n",
       "      <th>1.0</th>\n",
       "      <td>0.982452</td>\n",
       "      <td>0.017548</td>\n",
       "    </tr>\n",
       "    <tr>\n",
       "      <th>2.0</th>\n",
       "      <td>0.966777</td>\n",
       "      <td>0.033223</td>\n",
       "    </tr>\n",
       "    <tr>\n",
       "      <th>3.0</th>\n",
       "      <td>0.932382</td>\n",
       "      <td>0.067618</td>\n",
       "    </tr>\n",
       "    <tr>\n",
       "      <th>4.0</th>\n",
       "      <td>0.868131</td>\n",
       "      <td>0.131869</td>\n",
       "    </tr>\n",
       "    <tr>\n",
       "      <th>5.0</th>\n",
       "      <td>0.776668</td>\n",
       "      <td>0.223332</td>\n",
       "    </tr>\n",
       "    <tr>\n",
       "      <th>7.0</th>\n",
       "      <td>0.890060</td>\n",
       "      <td>0.109940</td>\n",
       "    </tr>\n",
       "    <tr>\n",
       "      <th>9.0</th>\n",
       "      <td>0.921569</td>\n",
       "      <td>0.078431</td>\n",
       "    </tr>\n",
       "  </tbody>\n",
       "</table>\n",
       "</div>"
      ],
      "text/plain": [
       "MI               0.0       1.0\n",
       "PoorHealth                    \n",
       "1.0         0.982452  0.017548\n",
       "2.0         0.966777  0.033223\n",
       "3.0         0.932382  0.067618\n",
       "4.0         0.868131  0.131869\n",
       "5.0         0.776668  0.223332\n",
       "7.0         0.890060  0.109940\n",
       "9.0         0.921569  0.078431"
      ]
     },
     "execution_count": 31,
     "metadata": {},
     "output_type": "execute_result"
    }
   ],
   "source": [
    "pd.crosstab(temp1.PoorHealth,temp1.MI, normalize='index')"
   ]
  },
  {
   "cell_type": "code",
   "execution_count": 32,
   "metadata": {},
   "outputs": [
    {
     "name": "stdout",
     "output_type": "stream",
     "text": [
      "3.0    0.321109\n",
      "2.0    0.317850\n",
      "4.0    0.152819\n",
      "1.0    0.145383\n",
      "5.0    0.060207\n",
      "7.0    0.001901\n",
      "9.0    0.000730\n",
      "Name: PoorHealth, dtype: float64\n",
      "0.0    0.939793\n",
      "1.0    0.060207\n",
      "Name: PoorHealth, dtype: float64\n"
     ]
    }
   ],
   "source": [
    "print(pd.value_counts(temp1.PoorHealth, normalize='columns'))\n",
    "n0_dict={1:0, 2:0, 3:0, 4:0, 5:1, 7:0, 9:0} #poor health\n",
    "n1_dict={1:0, 2:0, 3:0, 4:1, 5:0, 7:0, 9:0} #fair health\n",
    "n2_dict={1:0, 2:0, 3:1, 4:0, 5:0, 7:0, 9:0} #good health\n",
    "n3_dict={1:0, 2:0, 3:0, 4:0, 5:0, 7:1, 9:1} #HealthDKR\n",
    "\n",
    "temp1['HealthDKR']=temp1['PoorHealth'].replace(dict(n3_dict))\n",
    "temp1['FairHealth']=temp1['PoorHealth'].replace(dict(n1_dict))\n",
    "temp1['GoodHealth']=temp1['PoorHealth'].replace(dict(n2_dict))\n",
    "temp1['PoorHealth']=temp1['PoorHealth'].replace(dict(n0_dict))\n",
    "\n",
    "print(pd.value_counts(temp1.PoorHealth, normalize='columns'))"
   ]
  },
  {
   "cell_type": "markdown",
   "metadata": {},
   "source": [
    "## Smoker\n",
    "\n",
    "Have you smoked 100 cigarettes in your life?  1=Yes, 2=No, 7/9=DK/Refused"
   ]
  },
  {
   "cell_type": "code",
   "execution_count": 33,
   "metadata": {},
   "outputs": [
    {
     "data": {
      "text/html": [
       "<div>\n",
       "<style scoped>\n",
       "    .dataframe tbody tr th:only-of-type {\n",
       "        vertical-align: middle;\n",
       "    }\n",
       "\n",
       "    .dataframe tbody tr th {\n",
       "        vertical-align: top;\n",
       "    }\n",
       "\n",
       "    .dataframe thead th {\n",
       "        text-align: right;\n",
       "    }\n",
       "</style>\n",
       "<table border=\"1\" class=\"dataframe\">\n",
       "  <thead>\n",
       "    <tr style=\"text-align: right;\">\n",
       "      <th>MI</th>\n",
       "      <th>0.0</th>\n",
       "      <th>1.0</th>\n",
       "    </tr>\n",
       "    <tr>\n",
       "      <th>Smoker</th>\n",
       "      <th></th>\n",
       "      <th></th>\n",
       "    </tr>\n",
       "  </thead>\n",
       "  <tbody>\n",
       "    <tr>\n",
       "      <th>1.0</th>\n",
       "      <td>0.903343</td>\n",
       "      <td>0.096657</td>\n",
       "    </tr>\n",
       "    <tr>\n",
       "      <th>2.0</th>\n",
       "      <td>0.952379</td>\n",
       "      <td>0.047621</td>\n",
       "    </tr>\n",
       "    <tr>\n",
       "      <th>7.0</th>\n",
       "      <td>0.932322</td>\n",
       "      <td>0.067678</td>\n",
       "    </tr>\n",
       "    <tr>\n",
       "      <th>9.0</th>\n",
       "      <td>0.948919</td>\n",
       "      <td>0.051081</td>\n",
       "    </tr>\n",
       "  </tbody>\n",
       "</table>\n",
       "</div>"
      ],
      "text/plain": [
       "MI           0.0       1.0\n",
       "Smoker                    \n",
       "1.0     0.903343  0.096657\n",
       "2.0     0.952379  0.047621\n",
       "7.0     0.932322  0.067678\n",
       "9.0     0.948919  0.051081"
      ]
     },
     "execution_count": 33,
     "metadata": {},
     "output_type": "execute_result"
    }
   ],
   "source": [
    "pd.crosstab(temp1.Smoker,temp1.MI, normalize='index')"
   ]
  },
  {
   "cell_type": "code",
   "execution_count": 34,
   "metadata": {},
   "outputs": [
    {
     "name": "stdout",
     "output_type": "stream",
     "text": [
      "2.0    0.566104\n",
      "1.0    0.427530\n",
      "7.0    0.004908\n",
      "9.0    0.001457\n",
      "Name: Smoker, dtype: float64\n",
      "0.0    0.57247\n",
      "1.0    0.42753\n",
      "Name: Smoker, dtype: float64\n"
     ]
    }
   ],
   "source": [
    "print(pd.value_counts(temp1.Smoker, normalize='columns'))\n",
    "temp1['Smoker']=temp1['Smoker'].replace(dict(a_dict))\n",
    "print(pd.value_counts(temp1.Smoker, normalize='columns'))"
   ]
  },
  {
   "cell_type": "markdown",
   "metadata": {},
   "source": [
    "## Chew / Snuff\n",
    "\n",
    "Do you currently use chewing tobacco, snuff, or snus every day, some days, or not at all?\n",
    "1=Every day, 2=Some days, 3=Not at all, 7/9=DK/Refused"
   ]
  },
  {
   "cell_type": "code",
   "execution_count": 35,
   "metadata": {},
   "outputs": [
    {
     "data": {
      "text/html": [
       "<div>\n",
       "<style scoped>\n",
       "    .dataframe tbody tr th:only-of-type {\n",
       "        vertical-align: middle;\n",
       "    }\n",
       "\n",
       "    .dataframe tbody tr th {\n",
       "        vertical-align: top;\n",
       "    }\n",
       "\n",
       "    .dataframe thead th {\n",
       "        text-align: right;\n",
       "    }\n",
       "</style>\n",
       "<table border=\"1\" class=\"dataframe\">\n",
       "  <thead>\n",
       "    <tr style=\"text-align: right;\">\n",
       "      <th>MI</th>\n",
       "      <th>0.0</th>\n",
       "      <th>1.0</th>\n",
       "    </tr>\n",
       "    <tr>\n",
       "      <th>ChewSnuff</th>\n",
       "      <th></th>\n",
       "      <th></th>\n",
       "    </tr>\n",
       "  </thead>\n",
       "  <tbody>\n",
       "    <tr>\n",
       "      <th>1.0</th>\n",
       "      <td>0.918790</td>\n",
       "      <td>0.081210</td>\n",
       "    </tr>\n",
       "    <tr>\n",
       "      <th>2.0</th>\n",
       "      <td>0.922188</td>\n",
       "      <td>0.077812</td>\n",
       "    </tr>\n",
       "    <tr>\n",
       "      <th>3.0</th>\n",
       "      <td>0.931646</td>\n",
       "      <td>0.068354</td>\n",
       "    </tr>\n",
       "    <tr>\n",
       "      <th>7.0</th>\n",
       "      <td>0.880597</td>\n",
       "      <td>0.119403</td>\n",
       "    </tr>\n",
       "    <tr>\n",
       "      <th>9.0</th>\n",
       "      <td>0.948276</td>\n",
       "      <td>0.051724</td>\n",
       "    </tr>\n",
       "  </tbody>\n",
       "</table>\n",
       "</div>"
      ],
      "text/plain": [
       "MI              0.0       1.0\n",
       "ChewSnuff                    \n",
       "1.0        0.918790  0.081210\n",
       "2.0        0.922188  0.077812\n",
       "3.0        0.931646  0.068354\n",
       "7.0        0.880597  0.119403\n",
       "9.0        0.948276  0.051724"
      ]
     },
     "execution_count": 35,
     "metadata": {},
     "output_type": "execute_result"
    }
   ],
   "source": [
    "pd.crosstab(temp1.ChewSnuff,temp1.MI, normalize='index')"
   ]
  },
  {
   "cell_type": "code",
   "execution_count": 36,
   "metadata": {},
   "outputs": [
    {
     "name": "stdout",
     "output_type": "stream",
     "text": [
      "3.0    0.969156\n",
      "1.0    0.017982\n",
      "2.0    0.011150\n",
      "9.0    0.001329\n",
      "7.0    0.000384\n",
      "Name: ChewSnuff, dtype: float64\n",
      "0.0    0.970868\n",
      "1.0    0.029132\n",
      "Name: ChewSnuff, dtype: float64\n"
     ]
    }
   ],
   "source": [
    "print(pd.value_counts(temp1.ChewSnuff, normalize='columns'))\n",
    "n2_dict={1:1, 2:1, 3:0, 7:0, 9:0}\n",
    "temp1['ChewSnuff']=temp1['ChewSnuff'].replace(dict(n2_dict))\n",
    "print(pd.value_counts(temp1.ChewSnuff, normalize='columns'))"
   ]
  },
  {
   "cell_type": "markdown",
   "metadata": {},
   "source": [
    "## Poor Exercise\n",
    "\n",
    "1=301+ minutes (or vigorous equivalent) of physical activity, 2=1-300 minutes, 3=0 minutes, 9=DK/Refused\n"
   ]
  },
  {
   "cell_type": "code",
   "execution_count": 37,
   "metadata": {},
   "outputs": [
    {
     "data": {
      "text/html": [
       "<div>\n",
       "<style scoped>\n",
       "    .dataframe tbody tr th:only-of-type {\n",
       "        vertical-align: middle;\n",
       "    }\n",
       "\n",
       "    .dataframe tbody tr th {\n",
       "        vertical-align: top;\n",
       "    }\n",
       "\n",
       "    .dataframe thead th {\n",
       "        text-align: right;\n",
       "    }\n",
       "</style>\n",
       "<table border=\"1\" class=\"dataframe\">\n",
       "  <thead>\n",
       "    <tr style=\"text-align: right;\">\n",
       "      <th>MI</th>\n",
       "      <th>0.0</th>\n",
       "      <th>1.0</th>\n",
       "    </tr>\n",
       "    <tr>\n",
       "      <th>NoExercise</th>\n",
       "      <th></th>\n",
       "      <th></th>\n",
       "    </tr>\n",
       "  </thead>\n",
       "  <tbody>\n",
       "    <tr>\n",
       "      <th>1.0</th>\n",
       "      <td>0.938377</td>\n",
       "      <td>0.061623</td>\n",
       "    </tr>\n",
       "    <tr>\n",
       "      <th>2.0</th>\n",
       "      <td>0.950721</td>\n",
       "      <td>0.049279</td>\n",
       "    </tr>\n",
       "    <tr>\n",
       "      <th>3.0</th>\n",
       "      <td>0.903482</td>\n",
       "      <td>0.096518</td>\n",
       "    </tr>\n",
       "    <tr>\n",
       "      <th>9.0</th>\n",
       "      <td>0.931538</td>\n",
       "      <td>0.068462</td>\n",
       "    </tr>\n",
       "  </tbody>\n",
       "</table>\n",
       "</div>"
      ],
      "text/plain": [
       "MI               0.0       1.0\n",
       "NoExercise                    \n",
       "1.0         0.938377  0.061623\n",
       "2.0         0.950721  0.049279\n",
       "3.0         0.903482  0.096518\n",
       "9.0         0.931538  0.068462"
      ]
     },
     "execution_count": 37,
     "metadata": {},
     "output_type": "execute_result"
    }
   ],
   "source": [
    "pd.crosstab(temp1.NoExercise,temp1.MI, normalize='index')"
   ]
  },
  {
   "cell_type": "code",
   "execution_count": 38,
   "metadata": {},
   "outputs": [
    {
     "name": "stdout",
     "output_type": "stream",
     "text": [
      "1.0    0.320238\n",
      "2.0    0.282216\n",
      "3.0    0.279101\n",
      "9.0    0.118445\n",
      "Name: NoExercise, dtype: float64\n",
      "0.0    0.720899\n",
      "1.0    0.279101\n",
      "Name: NoExercise, dtype: float64\n"
     ]
    }
   ],
   "source": [
    "print(pd.value_counts(temp1.NoExercise, normalize='columns'))\n",
    "o_dict={1:0,2:0,3:1, 9:0} #modal imputation\n",
    "temp1['NoExercise']=temp1['NoExercise'].replace(dict(o_dict))\n",
    "print(pd.value_counts(temp1.NoExercise, normalize='columns'))"
   ]
  },
  {
   "cell_type": "markdown",
   "metadata": {},
   "source": [
    "## Drinks Daily\n",
    "\n",
    "101-107:  days per week \n",
    "\n",
    "201-230:  days in past 30 days\n",
    "\n",
    "777:  don't know/not sure\n",
    "\n",
    "888:  no days\n",
    "\n",
    "999:  refused"
   ]
  },
  {
   "cell_type": "code",
   "execution_count": 39,
   "metadata": {},
   "outputs": [
    {
     "data": {
      "text/plain": [
       "<AxesSubplot:xlabel='DrinksDaily', ylabel='Count'>"
      ]
     },
     "execution_count": 39,
     "metadata": {},
     "output_type": "execute_result"
    },
    {
     "data": {
      "image/png": "[encoded data removed]",
      "text/plain": [
       "<Figure size 432x288 with 1 Axes>"
      ]
     },
     "metadata": {
      "needs_background": "light"
     },
     "output_type": "display_data"
    }
   ],
   "source": [
    "#print(temp1['DrinksDaily'].value_counts())\n",
    "def my_recode(v):\n",
    "    if v==888:\n",
    "        return(0)\n",
    "    elif v>0 and v<=107:\n",
    "        return (v-100)/7\n",
    "    elif v>107 and v<=230:\n",
    "        return (v-200)/30\n",
    "    else:\n",
    "        return 0\n",
    "temp1['DrinksDaily']= temp1['DrinksDaily'].apply(my_recode)\n",
    "mysc=Scaler()\n",
    "temp1['DrinksDaily']=mysc.fit_transform(temp1[['DrinksDaily']])\n",
    "sns.histplot(data=temp1, x=\"DrinksDaily\")"
   ]
  },
  {
   "cell_type": "markdown",
   "metadata": {},
   "source": [
    "## High Cholesterol\n",
    "\n",
    "1=Yes, 2=No, 7/9=DK/Refused"
   ]
  },
  {
   "cell_type": "code",
   "execution_count": 40,
   "metadata": {},
   "outputs": [
    {
     "data": {
      "text/html": [
       "<div>\n",
       "<style scoped>\n",
       "    .dataframe tbody tr th:only-of-type {\n",
       "        vertical-align: middle;\n",
       "    }\n",
       "\n",
       "    .dataframe tbody tr th {\n",
       "        vertical-align: top;\n",
       "    }\n",
       "\n",
       "    .dataframe thead th {\n",
       "        text-align: right;\n",
       "    }\n",
       "</style>\n",
       "<table border=\"1\" class=\"dataframe\">\n",
       "  <thead>\n",
       "    <tr style=\"text-align: right;\">\n",
       "      <th>MI</th>\n",
       "      <th>0.0</th>\n",
       "      <th>1.0</th>\n",
       "    </tr>\n",
       "    <tr>\n",
       "      <th>HighCholesterol</th>\n",
       "      <th></th>\n",
       "      <th></th>\n",
       "    </tr>\n",
       "  </thead>\n",
       "  <tbody>\n",
       "    <tr>\n",
       "      <th>1.0</th>\n",
       "      <td>0.891154</td>\n",
       "      <td>0.108846</td>\n",
       "    </tr>\n",
       "    <tr>\n",
       "      <th>2.0</th>\n",
       "      <td>0.958806</td>\n",
       "      <td>0.041194</td>\n",
       "    </tr>\n",
       "    <tr>\n",
       "      <th>7.0</th>\n",
       "      <td>0.901498</td>\n",
       "      <td>0.098502</td>\n",
       "    </tr>\n",
       "    <tr>\n",
       "      <th>9.0</th>\n",
       "      <td>0.960526</td>\n",
       "      <td>0.039474</td>\n",
       "    </tr>\n",
       "  </tbody>\n",
       "</table>\n",
       "</div>"
      ],
      "text/plain": [
       "MI                    0.0       1.0\n",
       "HighCholesterol                    \n",
       "1.0              0.891154  0.108846\n",
       "2.0              0.958806  0.041194\n",
       "7.0              0.901498  0.098502\n",
       "9.0              0.960526  0.039474"
      ]
     },
     "execution_count": 40,
     "metadata": {},
     "output_type": "execute_result"
    }
   ],
   "source": [
    "pd.crosstab(temp1.HighCholesterol,temp1.MI, normalize='index')"
   ]
  },
  {
   "cell_type": "code",
   "execution_count": 41,
   "metadata": {},
   "outputs": [
    {
     "name": "stdout",
     "output_type": "stream",
     "text": [
      "2.0    0.590895\n",
      "1.0    0.397697\n",
      "7.0    0.010319\n",
      "9.0    0.001088\n",
      "Name: HighCholesterol, dtype: float64\n",
      "0.0    0.602303\n",
      "1.0    0.397697\n",
      "Name: HighCholesterol, dtype: float64\n"
     ]
    }
   ],
   "source": [
    "print(pd.value_counts(temp1.HighCholesterol, normalize='columns'))\n",
    "temp1['HighCholesterol']=temp1['HighCholesterol'].replace(dict(a_dict))\n",
    "print(pd.value_counts(temp1.HighCholesterol, normalize='columns'))"
   ]
  },
  {
   "cell_type": "markdown",
   "metadata": {},
   "source": [
    "## High BP\n",
    "\n",
    "1=No, 2=Yes, 9=DK/Not Sure/Refused/Missing"
   ]
  },
  {
   "cell_type": "code",
   "execution_count": 42,
   "metadata": {},
   "outputs": [
    {
     "name": "stdout",
     "output_type": "stream",
     "text": [
      "1.0    0.532815\n",
      "2.0    0.463362\n",
      "9.0    0.003823\n",
      "Name: HighBP, dtype: float64\n",
      "0.0    0.536638\n",
      "1.0    0.463362\n",
      "Name: HighBP, dtype: float64\n"
     ]
    }
   ],
   "source": [
    "print(pd.value_counts(temp1.HighBP, normalize='columns'))\n",
    "p_dict={1:0, 2:1, 9:0}  #2 = YES\n",
    "temp1['HighBP']=temp1['HighBP'].replace(dict(p_dict))\n",
    "print(pd.value_counts(temp1.HighBP, normalize='columns'))"
   ]
  },
  {
   "cell_type": "markdown",
   "metadata": {},
   "source": [
    "## High BMI\n",
    "\n",
    "1=No, 2=Yes, 9=DK/R/M"
   ]
  },
  {
   "cell_type": "code",
   "execution_count": 43,
   "metadata": {},
   "outputs": [
    {
     "name": "stdout",
     "output_type": "stream",
     "text": [
      "2.0    0.642839\n",
      "1.0    0.273257\n",
      "9.0    0.083904\n",
      "Name: HighBMI, dtype: float64\n",
      "1.0    0.642839\n",
      "0.0    0.357161\n",
      "Name: HighBMI, dtype: float64\n"
     ]
    }
   ],
   "source": [
    "print(pd.value_counts(temp1.HighBMI, normalize='columns'))\n",
    "temp1['HighBMI']=temp1['HighBMI'].replace(dict(p_dict))\n",
    "print(pd.value_counts(temp1.HighBMI, normalize='columns'))"
   ]
  },
  {
   "cell_type": "markdown",
   "metadata": {},
   "source": [
    "## Diabetes\n",
    "\n",
    "1=Yes, 2=During Pregnancy, 3=No, 4=No-prediabetes, 7=DK, 9=Refused"
   ]
  },
  {
   "cell_type": "code",
   "execution_count": 44,
   "metadata": {},
   "outputs": [
    {
     "name": "stdout",
     "output_type": "stream",
     "text": [
      "3.0    0.803907\n",
      "1.0    0.160948\n",
      "4.0    0.024605\n",
      "2.0    0.008507\n",
      "7.0    0.001412\n",
      "9.0    0.000621\n",
      "Name: Diabetes, dtype: float64\n",
      "0.0    0.839052\n",
      "1.0    0.160948\n",
      "Name: Diabetic, dtype: float64\n",
      "0.0    0.975395\n",
      "1.0    0.024605\n",
      "Name: Prediabetic, dtype: float64\n"
     ]
    }
   ],
   "source": [
    "print(pd.value_counts(temp1.Diabetes, normalize='columns'))\n",
    "q0_dict={1:1, 2:0, 3:0, 4:0, 7:0, 9:0} #diabetes\n",
    "q1_dict={1:0, 2:0, 3:0, 4:1, 7:0, 9:0} #pre-diabetic\n",
    "temp1['Diabetic']=temp1['Diabetes'].replace(dict(q0_dict))\n",
    "temp1['Prediabetic']=temp1['Diabetes'].replace(dict(q1_dict))\n",
    "temp1=temp1.drop(columns=['Diabetes'])\n",
    "print(pd.value_counts(temp1.Diabetic, normalize='columns'))\n",
    "print(pd.value_counts(temp1.Prediabetic, normalize='columns'))"
   ]
  },
  {
   "cell_type": "markdown",
   "metadata": {},
   "source": [
    "## Days Poor Physical Health\n",
    "\n",
    "1-30=Number of Days, 88=0, 77=DK, 99=Refused"
   ]
  },
  {
   "cell_type": "code",
   "execution_count": 45,
   "metadata": {},
   "outputs": [
    {
     "data": {
      "text/plain": [
       "<AxesSubplot:xlabel='PhysicalHealth', ylabel='Count'>"
      ]
     },
     "execution_count": 45,
     "metadata": {},
     "output_type": "execute_result"
    },
    {
     "data": {
      "image/png": "[encoded data removed]",
      "text/plain": [
       "<Figure size 432x288 with 1 Axes>"
      ]
     },
     "metadata": {
      "needs_background": "light"
     },
     "output_type": "display_data"
    }
   ],
   "source": [
    "def my_recode2(v):\n",
    "    if v>30:\n",
    "        return(0)\n",
    "    else:\n",
    "        return(v)\n",
    "    \n",
    "    \n",
    "temp1['PhysicalHealth']= temp1['PhysicalHealth'].apply(my_recode2)\n",
    "temp1['PhysicalHealth']=mysc.fit_transform(temp1[['PhysicalHealth']])\n",
    "sns.histplot(data=temp1, x=\"PhysicalHealth\")"
   ]
  },
  {
   "cell_type": "markdown",
   "metadata": {},
   "source": [
    "## Mental Health\n",
    "\n",
    "1-30=Number of days, 88=None, 77/99=DK/Refused"
   ]
  },
  {
   "cell_type": "code",
   "execution_count": 46,
   "metadata": {},
   "outputs": [
    {
     "data": {
      "text/plain": [
       "<AxesSubplot:xlabel='MentalHealth', ylabel='Count'>"
      ]
     },
     "execution_count": 46,
     "metadata": {},
     "output_type": "execute_result"
    },
    {
     "data": {
      "image/png": "[encoded data removed]",
      "text/plain": [
       "<Figure size 432x288 with 1 Axes>"
      ]
     },
     "metadata": {
      "needs_background": "light"
     },
     "output_type": "display_data"
    }
   ],
   "source": [
    "temp1['MentalHealth']= temp1['MentalHealth'].apply(my_recode2)\n",
    "temp1['MentalHealth']=mysc.fit_transform(temp1[['MentalHealth']])\n",
    "sns.histplot(data=temp1, x=\"MentalHealth\")"
   ]
  },
  {
   "cell_type": "markdown",
   "metadata": {},
   "source": [
    "## Depression\n",
    "\n",
    "1=Yes, 2=No, 7/9=DK/R"
   ]
  },
  {
   "cell_type": "code",
   "execution_count": 47,
   "metadata": {},
   "outputs": [
    {
     "name": "stdout",
     "output_type": "stream",
     "text": [
      "2.0    0.812116\n",
      "1.0    0.182684\n",
      "7.0    0.003946\n",
      "9.0    0.001254\n",
      "Name: Depression, dtype: float64\n",
      "0.0    0.817316\n",
      "1.0    0.182684\n",
      "Name: Depression, dtype: float64\n"
     ]
    }
   ],
   "source": [
    "print(pd.value_counts(temp1.Depression, normalize='columns'))\n",
    "temp1['Depression']=temp1['Depression'].replace(dict(a_dict))\n",
    "print(pd.value_counts(temp1.Depression, normalize='columns'))"
   ]
  },
  {
   "cell_type": "markdown",
   "metadata": {},
   "source": [
    "## Stroke\n",
    "\n",
    "1=Yes, 2=No, 7/9=DK/R"
   ]
  },
  {
   "cell_type": "code",
   "execution_count": 48,
   "metadata": {},
   "outputs": [
    {
     "name": "stdout",
     "output_type": "stream",
     "text": [
      "2.0    0.944045\n",
      "1.0    0.052519\n",
      "7.0    0.002941\n",
      "9.0    0.000495\n",
      "Name: Stroke, dtype: float64\n",
      "0.0    0.947481\n",
      "1.0    0.052519\n",
      "Name: Stroke, dtype: float64\n"
     ]
    }
   ],
   "source": [
    "print(pd.value_counts(temp1.Stroke, normalize='columns'))\n",
    "temp1['Stroke']=temp1['Stroke'].replace(dict(a_dict))\n",
    "print(pd.value_counts(temp1.Stroke, normalize='columns'))"
   ]
  },
  {
   "cell_type": "markdown",
   "metadata": {},
   "source": [
    "## Asthma\n",
    "\n",
    "1=Yes, 2=No, 7/9=DK/R\n"
   ]
  },
  {
   "cell_type": "code",
   "execution_count": 49,
   "metadata": {},
   "outputs": [
    {
     "name": "stdout",
     "output_type": "stream",
     "text": [
      "2.0    0.862757\n",
      "1.0    0.133709\n",
      "7.0    0.003047\n",
      "9.0    0.000487\n",
      "Name: Asthma, dtype: float64\n",
      "0.0    0.866291\n",
      "1.0    0.133709\n",
      "Name: Asthma, dtype: float64\n"
     ]
    }
   ],
   "source": [
    "print(pd.value_counts(temp1.Asthma, normalize='columns'))\n",
    "temp1['Asthma']=temp1['Asthma'].replace(dict(a_dict))\n",
    "print(pd.value_counts(temp1.Asthma, normalize='columns'))"
   ]
  },
  {
   "cell_type": "markdown",
   "metadata": {},
   "source": [
    "## Skin Cancer\n",
    "\n",
    "1=Yes, 2=No, 7/9=DK/R"
   ]
  },
  {
   "cell_type": "code",
   "execution_count": 50,
   "metadata": {},
   "outputs": [
    {
     "name": "stdout",
     "output_type": "stream",
     "text": [
      "2.0    0.878005\n",
      "1.0    0.118376\n",
      "7.0    0.003104\n",
      "9.0    0.000515\n",
      "Name: SkinCancer, dtype: float64\n",
      "0.0    0.881624\n",
      "1.0    0.118376\n",
      "Name: SkinCancer, dtype: float64\n"
     ]
    }
   ],
   "source": [
    "print(pd.value_counts(temp1.SkinCancer, normalize='columns'))\n",
    "temp1['SkinCancer']=temp1['SkinCancer'].replace(dict(a_dict))\n",
    "print(pd.value_counts(temp1.SkinCancer, normalize='columns'))"
   ]
  },
  {
   "cell_type": "markdown",
   "metadata": {},
   "source": [
    "## Cancer (Other than Skin)\n",
    "\n",
    "1=Yes, 2=No, 7/9=DK/R\n"
   ]
  },
  {
   "cell_type": "code",
   "execution_count": 51,
   "metadata": {},
   "outputs": [
    {
     "name": "stdout",
     "output_type": "stream",
     "text": [
      "2.0    0.877366\n",
      "1.0    0.119553\n",
      "7.0    0.002279\n",
      "9.0    0.000802\n",
      "Name: Cancer, dtype: float64\n",
      "0.0    0.880447\n",
      "1.0    0.119553\n",
      "Name: Cancer, dtype: float64\n"
     ]
    }
   ],
   "source": [
    "print(pd.value_counts(temp1.Cancer, normalize='columns'))\n",
    "temp1['Cancer']=temp1['Cancer'].replace(dict(a_dict))\n",
    "print(pd.value_counts(temp1.Cancer, normalize='columns'))"
   ]
  },
  {
   "cell_type": "markdown",
   "metadata": {},
   "source": [
    "## COPD\n",
    "\n",
    "1=Yes, 2=No, 7/9=DK/R"
   ]
  },
  {
   "cell_type": "code",
   "execution_count": 52,
   "metadata": {},
   "outputs": [
    {
     "name": "stdout",
     "output_type": "stream",
     "text": [
      "2.0    0.897040\n",
      "1.0    0.097173\n",
      "7.0    0.005200\n",
      "9.0    0.000587\n",
      "Name: COPD, dtype: float64\n",
      "0.0    0.902827\n",
      "1.0    0.097173\n",
      "Name: COPD, dtype: float64\n"
     ]
    }
   ],
   "source": [
    "print(pd.value_counts(temp1.COPD, normalize='columns'))\n",
    "temp1['COPD']=temp1['COPD'].replace(dict(a_dict))\n",
    "print(pd.value_counts(temp1.COPD, normalize='columns'))"
   ]
  },
  {
   "cell_type": "markdown",
   "metadata": {},
   "source": [
    "## Kidney Disease\n",
    "\n",
    "1=Yes, 2=No, 7/9=DK/R"
   ]
  },
  {
   "cell_type": "code",
   "execution_count": 53,
   "metadata": {},
   "outputs": [
    {
     "name": "stdout",
     "output_type": "stream",
     "text": [
      "2.0    0.950851\n",
      "1.0    0.044891\n",
      "7.0    0.003697\n",
      "9.0    0.000561\n",
      "Name: Kidney, dtype: float64\n",
      "0.0    0.955109\n",
      "1.0    0.044891\n",
      "Name: Kidney, dtype: float64\n"
     ]
    }
   ],
   "source": [
    "print(pd.value_counts(temp1.Kidney, normalize='columns'))\n",
    "temp1['Kidney']=temp1['Kidney'].replace(dict(a_dict))\n",
    "print(pd.value_counts(temp1.Kidney, normalize='columns'))"
   ]
  },
  {
   "cell_type": "markdown",
   "metadata": {},
   "source": [
    "## Arthritis\n",
    "\n",
    "1=Yes, 2=No, 7/9=DK/R"
   ]
  },
  {
   "cell_type": "code",
   "execution_count": 54,
   "metadata": {},
   "outputs": [
    {
     "name": "stdout",
     "output_type": "stream",
     "text": [
      "2.0    0.605994\n",
      "1.0    0.387570\n",
      "7.0    0.005752\n",
      "9.0    0.000684\n",
      "Name: Arthritis, dtype: float64\n",
      "0.0    0.61243\n",
      "1.0    0.38757\n",
      "Name: Arthritis, dtype: float64\n"
     ]
    }
   ],
   "source": [
    "print(pd.value_counts(temp1.Arthritis, normalize='columns'))\n",
    "temp1['Arthritis']=temp1['Arthritis'].replace(dict(a_dict))\n",
    "print(pd.value_counts(temp1.Arthritis, normalize='columns'))"
   ]
  },
  {
   "cell_type": "markdown",
   "metadata": {},
   "source": [
    "## No Health Plan         \n",
    "\n",
    "1=Yes, 2=No, 7/9=DK/R"
   ]
  },
  {
   "cell_type": "code",
   "execution_count": 55,
   "metadata": {},
   "outputs": [
    {
     "name": "stdout",
     "output_type": "stream",
     "text": [
      "1.0    0.927953\n",
      "2.0    0.068365\n",
      "9.0    0.002119\n",
      "7.0    0.001563\n",
      "Name: NoHealthPlan, dtype: float64\n",
      "0.0    0.931635\n",
      "1.0    0.068365\n",
      "Name: NoHealthPlan, dtype: float64\n"
     ]
    }
   ],
   "source": [
    "print(pd.value_counts(temp1.NoHealthPlan, normalize='columns'))\n",
    "s_dict={1:0, 2:1, 7:0, 9:0} #2 is the assumed bad value\n",
    "temp1['NoHealthPlan']=temp1['NoHealthPlan'].replace(dict(s_dict))\n",
    "print(pd.value_counts(temp1.NoHealthPlan, normalize='columns'))"
   ]
  },
  {
   "cell_type": "markdown",
   "metadata": {},
   "source": [
    "## No Personal Doctor\n",
    "\n",
    "1=Yes only one, 2=Yes more than one, 3=No, 7/9=DK/R"
   ]
  },
  {
   "cell_type": "code",
   "execution_count": 56,
   "metadata": {},
   "outputs": [
    {
     "name": "stdout",
     "output_type": "stream",
     "text": [
      "1.0    0.787031\n",
      "3.0    0.126015\n",
      "2.0    0.082991\n",
      "7.0    0.002700\n",
      "9.0    0.001263\n",
      "Name: NoDoctor, dtype: float64\n",
      "0.0    0.870022\n",
      "1.0    0.129978\n",
      "Name: NoDoctor, dtype: float64\n"
     ]
    }
   ],
   "source": [
    "print(pd.value_counts(temp1.NoDoctor, normalize='columns'))\n",
    "t_dict={1:0, 2:0, 3:1, 7:1, 9:1} #3 is the assumed bad value\n",
    "temp1['NoDoctor']=temp1['NoDoctor'].replace(dict(t_dict))\n",
    "print(pd.value_counts(temp1.NoDoctor, normalize='columns'))"
   ]
  },
  {
   "cell_type": "markdown",
   "metadata": {},
   "source": [
    "## Medical Cost Prevented Care\n",
    "\n",
    "1=Yes, 2=No, 7/9=DK/R"
   ]
  },
  {
   "cell_type": "code",
   "execution_count": 57,
   "metadata": {},
   "outputs": [
    {
     "name": "stdout",
     "output_type": "stream",
     "text": [
      "2.0    0.903855\n",
      "1.0    0.093339\n",
      "7.0    0.002208\n",
      "9.0    0.000598\n",
      "Name: Cost, dtype: float64\n",
      "0.0    0.906661\n",
      "1.0    0.093339\n",
      "Name: Cost, dtype: float64\n"
     ]
    }
   ],
   "source": [
    "print(pd.value_counts(temp1.Cost, normalize='columns'))\n",
    "temp1['Cost']=temp1['Cost'].replace(dict(a_dict))\n",
    "print(pd.value_counts(temp1.Cost, normalize='columns'))"
   ]
  },
  {
   "cell_type": "markdown",
   "metadata": {},
   "source": [
    "## Checkup within Year\n",
    "\n",
    "1=within last year, 2=within past 2 years, 3=within past 5 years, 4=5 years+, 7=DK,8=Never, 9=Refused"
   ]
  },
  {
   "cell_type": "code",
   "execution_count": 58,
   "metadata": {},
   "outputs": [
    {
     "name": "stdout",
     "output_type": "stream",
     "text": [
      "MI              0.0       1.0\n",
      "NoCheckup                    \n",
      "1.0        0.924345  0.075655\n",
      "2.0        0.965600  0.034400\n",
      "3.0        0.970053  0.029947\n",
      "4.0        0.970680  0.029320\n",
      "7.0        0.926930  0.073070\n",
      "8.0        0.957203  0.042797\n",
      "9.0        0.940120  0.059880\n"
     ]
    }
   ],
   "source": [
    "print(pd.crosstab(temp1.NoCheckup,temp1.MI, normalize='index'))"
   ]
  },
  {
   "cell_type": "code",
   "execution_count": 59,
   "metadata": {},
   "outputs": [
    {
     "name": "stdout",
     "output_type": "stream",
     "text": [
      "1.0    0.830450\n",
      "2.0    0.080322\n",
      "4.0    0.037598\n",
      "3.0    0.037576\n",
      "7.0    0.008347\n",
      "8.0    0.004750\n",
      "9.0    0.000956\n",
      "Name: NoCheckup, dtype: float64\n",
      "0.0    290029\n",
      "1.0     59214\n",
      "Name: NoCheckup, dtype: int64\n"
     ]
    }
   ],
   "source": [
    "print(pd.value_counts(temp1.NoCheckup, normalize='columns'))\n",
    "u_dict={1:0, 2:1, 3:1, 4:1, 7:1, 8:1, 9:1}\n",
    "temp1['NoCheckup']=temp1['NoCheckup'].replace(dict(u_dict))\n",
    "print(temp1['NoCheckup'].value_counts())"
   ]
  },
  {
   "cell_type": "markdown",
   "metadata": {},
   "source": [
    "## Division Recodes"
   ]
  },
  {
   "cell_type": "code",
   "execution_count": 60,
   "metadata": {},
   "outputs": [
    {
     "data": {
      "text/html": [
       "<div>\n",
       "<style scoped>\n",
       "    .dataframe tbody tr th:only-of-type {\n",
       "        vertical-align: middle;\n",
       "    }\n",
       "\n",
       "    .dataframe tbody tr th {\n",
       "        vertical-align: top;\n",
       "    }\n",
       "\n",
       "    .dataframe thead th {\n",
       "        text-align: right;\n",
       "    }\n",
       "</style>\n",
       "<table border=\"1\" class=\"dataframe\">\n",
       "  <thead>\n",
       "    <tr style=\"text-align: right;\">\n",
       "      <th>MI</th>\n",
       "      <th>0.0</th>\n",
       "      <th>1.0</th>\n",
       "    </tr>\n",
       "    <tr>\n",
       "      <th>State</th>\n",
       "      <th></th>\n",
       "      <th></th>\n",
       "    </tr>\n",
       "  </thead>\n",
       "  <tbody>\n",
       "    <tr>\n",
       "      <th>1.0</th>\n",
       "      <td>0.919529</td>\n",
       "      <td>0.080471</td>\n",
       "    </tr>\n",
       "    <tr>\n",
       "      <th>2.0</th>\n",
       "      <td>0.948996</td>\n",
       "      <td>0.051004</td>\n",
       "    </tr>\n",
       "    <tr>\n",
       "      <th>4.0</th>\n",
       "      <td>0.929057</td>\n",
       "      <td>0.070943</td>\n",
       "    </tr>\n",
       "    <tr>\n",
       "      <th>5.0</th>\n",
       "      <td>0.904297</td>\n",
       "      <td>0.095703</td>\n",
       "    </tr>\n",
       "    <tr>\n",
       "      <th>6.0</th>\n",
       "      <td>0.949555</td>\n",
       "      <td>0.050445</td>\n",
       "    </tr>\n",
       "    <tr>\n",
       "      <th>8.0</th>\n",
       "      <td>0.953018</td>\n",
       "      <td>0.046982</td>\n",
       "    </tr>\n",
       "    <tr>\n",
       "      <th>9.0</th>\n",
       "      <td>0.947911</td>\n",
       "      <td>0.052089</td>\n",
       "    </tr>\n",
       "    <tr>\n",
       "      <th>10.0</th>\n",
       "      <td>0.933105</td>\n",
       "      <td>0.066895</td>\n",
       "    </tr>\n",
       "    <tr>\n",
       "      <th>11.0</th>\n",
       "      <td>0.947492</td>\n",
       "      <td>0.052508</td>\n",
       "    </tr>\n",
       "    <tr>\n",
       "      <th>12.0</th>\n",
       "      <td>0.917110</td>\n",
       "      <td>0.082890</td>\n",
       "    </tr>\n",
       "    <tr>\n",
       "      <th>13.0</th>\n",
       "      <td>0.923884</td>\n",
       "      <td>0.076116</td>\n",
       "    </tr>\n",
       "    <tr>\n",
       "      <th>15.0</th>\n",
       "      <td>0.946403</td>\n",
       "      <td>0.053597</td>\n",
       "    </tr>\n",
       "    <tr>\n",
       "      <th>16.0</th>\n",
       "      <td>0.933156</td>\n",
       "      <td>0.066844</td>\n",
       "    </tr>\n",
       "    <tr>\n",
       "      <th>17.0</th>\n",
       "      <td>0.944406</td>\n",
       "      <td>0.055594</td>\n",
       "    </tr>\n",
       "    <tr>\n",
       "      <th>18.0</th>\n",
       "      <td>0.925950</td>\n",
       "      <td>0.074050</td>\n",
       "    </tr>\n",
       "    <tr>\n",
       "      <th>19.0</th>\n",
       "      <td>0.936679</td>\n",
       "      <td>0.063321</td>\n",
       "    </tr>\n",
       "    <tr>\n",
       "      <th>20.0</th>\n",
       "      <td>0.938799</td>\n",
       "      <td>0.061201</td>\n",
       "    </tr>\n",
       "    <tr>\n",
       "      <th>21.0</th>\n",
       "      <td>0.905149</td>\n",
       "      <td>0.094851</td>\n",
       "    </tr>\n",
       "    <tr>\n",
       "      <th>22.0</th>\n",
       "      <td>0.928459</td>\n",
       "      <td>0.071541</td>\n",
       "    </tr>\n",
       "    <tr>\n",
       "      <th>23.0</th>\n",
       "      <td>0.916408</td>\n",
       "      <td>0.083592</td>\n",
       "    </tr>\n",
       "    <tr>\n",
       "      <th>24.0</th>\n",
       "      <td>0.936044</td>\n",
       "      <td>0.063956</td>\n",
       "    </tr>\n",
       "    <tr>\n",
       "      <th>25.0</th>\n",
       "      <td>0.942780</td>\n",
       "      <td>0.057220</td>\n",
       "    </tr>\n",
       "    <tr>\n",
       "      <th>26.0</th>\n",
       "      <td>0.930689</td>\n",
       "      <td>0.069311</td>\n",
       "    </tr>\n",
       "    <tr>\n",
       "      <th>27.0</th>\n",
       "      <td>0.940875</td>\n",
       "      <td>0.059125</td>\n",
       "    </tr>\n",
       "    <tr>\n",
       "      <th>28.0</th>\n",
       "      <td>0.920949</td>\n",
       "      <td>0.079051</td>\n",
       "    </tr>\n",
       "    <tr>\n",
       "      <th>29.0</th>\n",
       "      <td>0.914017</td>\n",
       "      <td>0.085983</td>\n",
       "    </tr>\n",
       "    <tr>\n",
       "      <th>30.0</th>\n",
       "      <td>0.926726</td>\n",
       "      <td>0.073274</td>\n",
       "    </tr>\n",
       "    <tr>\n",
       "      <th>31.0</th>\n",
       "      <td>0.934039</td>\n",
       "      <td>0.065961</td>\n",
       "    </tr>\n",
       "    <tr>\n",
       "      <th>32.0</th>\n",
       "      <td>0.932932</td>\n",
       "      <td>0.067068</td>\n",
       "    </tr>\n",
       "    <tr>\n",
       "      <th>33.0</th>\n",
       "      <td>0.939626</td>\n",
       "      <td>0.060374</td>\n",
       "    </tr>\n",
       "    <tr>\n",
       "      <th>35.0</th>\n",
       "      <td>0.933597</td>\n",
       "      <td>0.066403</td>\n",
       "    </tr>\n",
       "    <tr>\n",
       "      <th>36.0</th>\n",
       "      <td>0.936776</td>\n",
       "      <td>0.063224</td>\n",
       "    </tr>\n",
       "    <tr>\n",
       "      <th>37.0</th>\n",
       "      <td>0.934109</td>\n",
       "      <td>0.065891</td>\n",
       "    </tr>\n",
       "    <tr>\n",
       "      <th>38.0</th>\n",
       "      <td>0.926875</td>\n",
       "      <td>0.073125</td>\n",
       "    </tr>\n",
       "    <tr>\n",
       "      <th>39.0</th>\n",
       "      <td>0.910791</td>\n",
       "      <td>0.089209</td>\n",
       "    </tr>\n",
       "    <tr>\n",
       "      <th>40.0</th>\n",
       "      <td>0.919796</td>\n",
       "      <td>0.080204</td>\n",
       "    </tr>\n",
       "    <tr>\n",
       "      <th>41.0</th>\n",
       "      <td>0.940825</td>\n",
       "      <td>0.059175</td>\n",
       "    </tr>\n",
       "    <tr>\n",
       "      <th>42.0</th>\n",
       "      <td>0.937044</td>\n",
       "      <td>0.062956</td>\n",
       "    </tr>\n",
       "    <tr>\n",
       "      <th>44.0</th>\n",
       "      <td>0.935121</td>\n",
       "      <td>0.064879</td>\n",
       "    </tr>\n",
       "    <tr>\n",
       "      <th>45.0</th>\n",
       "      <td>0.921436</td>\n",
       "      <td>0.078564</td>\n",
       "    </tr>\n",
       "    <tr>\n",
       "      <th>46.0</th>\n",
       "      <td>0.929555</td>\n",
       "      <td>0.070445</td>\n",
       "    </tr>\n",
       "    <tr>\n",
       "      <th>47.0</th>\n",
       "      <td>0.917518</td>\n",
       "      <td>0.082482</td>\n",
       "    </tr>\n",
       "    <tr>\n",
       "      <th>48.0</th>\n",
       "      <td>0.930416</td>\n",
       "      <td>0.069584</td>\n",
       "    </tr>\n",
       "    <tr>\n",
       "      <th>49.0</th>\n",
       "      <td>0.948732</td>\n",
       "      <td>0.051268</td>\n",
       "    </tr>\n",
       "    <tr>\n",
       "      <th>50.0</th>\n",
       "      <td>0.936144</td>\n",
       "      <td>0.063856</td>\n",
       "    </tr>\n",
       "    <tr>\n",
       "      <th>51.0</th>\n",
       "      <td>0.933132</td>\n",
       "      <td>0.066868</td>\n",
       "    </tr>\n",
       "    <tr>\n",
       "      <th>53.0</th>\n",
       "      <td>0.939917</td>\n",
       "      <td>0.060083</td>\n",
       "    </tr>\n",
       "    <tr>\n",
       "      <th>54.0</th>\n",
       "      <td>0.885096</td>\n",
       "      <td>0.114904</td>\n",
       "    </tr>\n",
       "    <tr>\n",
       "      <th>55.0</th>\n",
       "      <td>0.940415</td>\n",
       "      <td>0.059585</td>\n",
       "    </tr>\n",
       "    <tr>\n",
       "      <th>56.0</th>\n",
       "      <td>0.928362</td>\n",
       "      <td>0.071638</td>\n",
       "    </tr>\n",
       "    <tr>\n",
       "      <th>66.0</th>\n",
       "      <td>0.937709</td>\n",
       "      <td>0.062291</td>\n",
       "    </tr>\n",
       "    <tr>\n",
       "      <th>72.0</th>\n",
       "      <td>0.939887</td>\n",
       "      <td>0.060113</td>\n",
       "    </tr>\n",
       "  </tbody>\n",
       "</table>\n",
       "</div>"
      ],
      "text/plain": [
       "MI          0.0       1.0\n",
       "State                    \n",
       "1.0    0.919529  0.080471\n",
       "2.0    0.948996  0.051004\n",
       "4.0    0.929057  0.070943\n",
       "5.0    0.904297  0.095703\n",
       "6.0    0.949555  0.050445\n",
       "8.0    0.953018  0.046982\n",
       "9.0    0.947911  0.052089\n",
       "10.0   0.933105  0.066895\n",
       "11.0   0.947492  0.052508\n",
       "12.0   0.917110  0.082890\n",
       "13.0   0.923884  0.076116\n",
       "15.0   0.946403  0.053597\n",
       "16.0   0.933156  0.066844\n",
       "17.0   0.944406  0.055594\n",
       "18.0   0.925950  0.074050\n",
       "19.0   0.936679  0.063321\n",
       "20.0   0.938799  0.061201\n",
       "21.0   0.905149  0.094851\n",
       "22.0   0.928459  0.071541\n",
       "23.0   0.916408  0.083592\n",
       "24.0   0.936044  0.063956\n",
       "25.0   0.942780  0.057220\n",
       "26.0   0.930689  0.069311\n",
       "27.0   0.940875  0.059125\n",
       "28.0   0.920949  0.079051\n",
       "29.0   0.914017  0.085983\n",
       "30.0   0.926726  0.073274\n",
       "31.0   0.934039  0.065961\n",
       "32.0   0.932932  0.067068\n",
       "33.0   0.939626  0.060374\n",
       "35.0   0.933597  0.066403\n",
       "36.0   0.936776  0.063224\n",
       "37.0   0.934109  0.065891\n",
       "38.0   0.926875  0.073125\n",
       "39.0   0.910791  0.089209\n",
       "40.0   0.919796  0.080204\n",
       "41.0   0.940825  0.059175\n",
       "42.0   0.937044  0.062956\n",
       "44.0   0.935121  0.064879\n",
       "45.0   0.921436  0.078564\n",
       "46.0   0.929555  0.070445\n",
       "47.0   0.917518  0.082482\n",
       "48.0   0.930416  0.069584\n",
       "49.0   0.948732  0.051268\n",
       "50.0   0.936144  0.063856\n",
       "51.0   0.933132  0.066868\n",
       "53.0   0.939917  0.060083\n",
       "54.0   0.885096  0.114904\n",
       "55.0   0.940415  0.059585\n",
       "56.0   0.928362  0.071638\n",
       "66.0   0.937709  0.062291\n",
       "72.0   0.939887  0.060113"
      ]
     },
     "execution_count": 60,
     "metadata": {},
     "output_type": "execute_result"
    }
   ],
   "source": [
    "pd.crosstab(temp1.State, temp1.MI, normalize='index')"
   ]
  },
  {
   "cell_type": "code",
   "execution_count": 61,
   "metadata": {},
   "outputs": [],
   "source": [
    "v_dict={1:'D6', 2:'D9',   4:'D8',   5:'D7', 6:'D9',  8:'D8',  9:'D1', 10:'D5', 11:'D5', \n",
    "       12:'D5', 13:'D5', 15:'D9', 16:'D8', 17:'D3', 18:'D3', 19:'D4', 20:'D4', 21:'D6', 22:'D7',\n",
    "       23:'D1', 24:'D5', 25:'D1', 26:'D3', 27:'D4', 28:'D6', 29:'D4', 30:'D8', 31:'D4', 32:'D8',\n",
    "       33:'D1', 34: 'D2', 35:'D8', 36:'D2', 37:'D5', 38:'D4', 39:'D3', 40:'D7', 41:'D9', 42:'D2', 44:'D1', 45:'D5',\n",
    "       46:'D4', 47:'D6', 48:'D7', 49:'D8', 50:'D1', 51:'D5', 53:'D9', 54:'D5', 55:'D3', 56:'D8', 66:'D10',\n",
    "       72:'D10'}\n",
    "temp1['Division']=temp1['State']\n",
    "temp1['Division']=temp1['Division'].replace(dict(v_dict))\n",
    "temp1['Division']=temp1['Division'].astype('str')\n",
    "temp1=pd.get_dummies(temp1,columns=['Division'])\n"
   ]
  },
  {
   "cell_type": "code",
   "execution_count": 62,
   "metadata": {},
   "outputs": [
    {
     "data": {
      "text/html": [
       "<div>\n",
       "<style scoped>\n",
       "    .dataframe tbody tr th:only-of-type {\n",
       "        vertical-align: middle;\n",
       "    }\n",
       "\n",
       "    .dataframe tbody tr th {\n",
       "        vertical-align: top;\n",
       "    }\n",
       "\n",
       "    .dataframe thead th {\n",
       "        text-align: right;\n",
       "    }\n",
       "</style>\n",
       "<table border=\"1\" class=\"dataframe\">\n",
       "  <thead>\n",
       "    <tr style=\"text-align: right;\">\n",
       "      <th></th>\n",
       "      <th>MI</th>\n",
       "      <th>Male</th>\n",
       "      <th>Veteran</th>\n",
       "      <th>RentHome</th>\n",
       "      <th>PoorHealth</th>\n",
       "      <th>Smoker</th>\n",
       "      <th>ChewSnuff</th>\n",
       "      <th>NoExercise</th>\n",
       "      <th>DrinksDaily</th>\n",
       "      <th>HighCholesterol</th>\n",
       "      <th>...</th>\n",
       "      <th>Division_D1</th>\n",
       "      <th>Division_D10</th>\n",
       "      <th>Division_D2</th>\n",
       "      <th>Division_D3</th>\n",
       "      <th>Division_D4</th>\n",
       "      <th>Division_D5</th>\n",
       "      <th>Division_D6</th>\n",
       "      <th>Division_D7</th>\n",
       "      <th>Division_D8</th>\n",
       "      <th>Division_D9</th>\n",
       "    </tr>\n",
       "  </thead>\n",
       "  <tbody>\n",
       "    <tr>\n",
       "      <th>count</th>\n",
       "      <td>349243.000000</td>\n",
       "      <td>349243.000000</td>\n",
       "      <td>349243.000000</td>\n",
       "      <td>349243.000000</td>\n",
       "      <td>349243.000000</td>\n",
       "      <td>349243.000000</td>\n",
       "      <td>349243.000000</td>\n",
       "      <td>349243.000000</td>\n",
       "      <td>349243.000000</td>\n",
       "      <td>349243.000000</td>\n",
       "      <td>...</td>\n",
       "      <td>349243.000000</td>\n",
       "      <td>349243.000000</td>\n",
       "      <td>349243.000000</td>\n",
       "      <td>349243.000000</td>\n",
       "      <td>349243.000000</td>\n",
       "      <td>349243.000000</td>\n",
       "      <td>349243.000000</td>\n",
       "      <td>349243.000000</td>\n",
       "      <td>349243.000000</td>\n",
       "      <td>349243.000000</td>\n",
       "    </tr>\n",
       "    <tr>\n",
       "      <th>mean</th>\n",
       "      <td>0.068689</td>\n",
       "      <td>0.440676</td>\n",
       "      <td>0.141171</td>\n",
       "      <td>0.183517</td>\n",
       "      <td>0.060207</td>\n",
       "      <td>0.427530</td>\n",
       "      <td>0.029132</td>\n",
       "      <td>0.279101</td>\n",
       "      <td>0.153687</td>\n",
       "      <td>0.397697</td>\n",
       "      <td>...</td>\n",
       "      <td>0.117248</td>\n",
       "      <td>0.018867</td>\n",
       "      <td>0.048794</td>\n",
       "      <td>0.105179</td>\n",
       "      <td>0.170718</td>\n",
       "      <td>0.181770</td>\n",
       "      <td>0.063449</td>\n",
       "      <td>0.068574</td>\n",
       "      <td>0.130502</td>\n",
       "      <td>0.094900</td>\n",
       "    </tr>\n",
       "    <tr>\n",
       "      <th>std</th>\n",
       "      <td>0.252924</td>\n",
       "      <td>0.496469</td>\n",
       "      <td>0.348198</td>\n",
       "      <td>0.387090</td>\n",
       "      <td>0.237871</td>\n",
       "      <td>0.494721</td>\n",
       "      <td>0.168176</td>\n",
       "      <td>0.448558</td>\n",
       "      <td>0.277484</td>\n",
       "      <td>0.489423</td>\n",
       "      <td>...</td>\n",
       "      <td>0.321716</td>\n",
       "      <td>0.136054</td>\n",
       "      <td>0.215438</td>\n",
       "      <td>0.306784</td>\n",
       "      <td>0.376263</td>\n",
       "      <td>0.385656</td>\n",
       "      <td>0.243769</td>\n",
       "      <td>0.252729</td>\n",
       "      <td>0.336856</td>\n",
       "      <td>0.293077</td>\n",
       "    </tr>\n",
       "    <tr>\n",
       "      <th>min</th>\n",
       "      <td>0.000000</td>\n",
       "      <td>0.000000</td>\n",
       "      <td>0.000000</td>\n",
       "      <td>0.000000</td>\n",
       "      <td>0.000000</td>\n",
       "      <td>0.000000</td>\n",
       "      <td>0.000000</td>\n",
       "      <td>0.000000</td>\n",
       "      <td>0.000000</td>\n",
       "      <td>0.000000</td>\n",
       "      <td>...</td>\n",
       "      <td>0.000000</td>\n",
       "      <td>0.000000</td>\n",
       "      <td>0.000000</td>\n",
       "      <td>0.000000</td>\n",
       "      <td>0.000000</td>\n",
       "      <td>0.000000</td>\n",
       "      <td>0.000000</td>\n",
       "      <td>0.000000</td>\n",
       "      <td>0.000000</td>\n",
       "      <td>0.000000</td>\n",
       "    </tr>\n",
       "    <tr>\n",
       "      <th>25%</th>\n",
       "      <td>0.000000</td>\n",
       "      <td>0.000000</td>\n",
       "      <td>0.000000</td>\n",
       "      <td>0.000000</td>\n",
       "      <td>0.000000</td>\n",
       "      <td>0.000000</td>\n",
       "      <td>0.000000</td>\n",
       "      <td>0.000000</td>\n",
       "      <td>0.000000</td>\n",
       "      <td>0.000000</td>\n",
       "      <td>...</td>\n",
       "      <td>0.000000</td>\n",
       "      <td>0.000000</td>\n",
       "      <td>0.000000</td>\n",
       "      <td>0.000000</td>\n",
       "      <td>0.000000</td>\n",
       "      <td>0.000000</td>\n",
       "      <td>0.000000</td>\n",
       "      <td>0.000000</td>\n",
       "      <td>0.000000</td>\n",
       "      <td>0.000000</td>\n",
       "    </tr>\n",
       "    <tr>\n",
       "      <th>50%</th>\n",
       "      <td>0.000000</td>\n",
       "      <td>0.000000</td>\n",
       "      <td>0.000000</td>\n",
       "      <td>0.000000</td>\n",
       "      <td>0.000000</td>\n",
       "      <td>0.000000</td>\n",
       "      <td>0.000000</td>\n",
       "      <td>0.000000</td>\n",
       "      <td>0.000000</td>\n",
       "      <td>0.000000</td>\n",
       "      <td>...</td>\n",
       "      <td>0.000000</td>\n",
       "      <td>0.000000</td>\n",
       "      <td>0.000000</td>\n",
       "      <td>0.000000</td>\n",
       "      <td>0.000000</td>\n",
       "      <td>0.000000</td>\n",
       "      <td>0.000000</td>\n",
       "      <td>0.000000</td>\n",
       "      <td>0.000000</td>\n",
       "      <td>0.000000</td>\n",
       "    </tr>\n",
       "    <tr>\n",
       "      <th>75%</th>\n",
       "      <td>0.000000</td>\n",
       "      <td>1.000000</td>\n",
       "      <td>0.000000</td>\n",
       "      <td>0.000000</td>\n",
       "      <td>0.000000</td>\n",
       "      <td>1.000000</td>\n",
       "      <td>0.000000</td>\n",
       "      <td>1.000000</td>\n",
       "      <td>0.142857</td>\n",
       "      <td>1.000000</td>\n",
       "      <td>...</td>\n",
       "      <td>0.000000</td>\n",
       "      <td>0.000000</td>\n",
       "      <td>0.000000</td>\n",
       "      <td>0.000000</td>\n",
       "      <td>0.000000</td>\n",
       "      <td>0.000000</td>\n",
       "      <td>0.000000</td>\n",
       "      <td>0.000000</td>\n",
       "      <td>0.000000</td>\n",
       "      <td>0.000000</td>\n",
       "    </tr>\n",
       "    <tr>\n",
       "      <th>max</th>\n",
       "      <td>1.000000</td>\n",
       "      <td>1.000000</td>\n",
       "      <td>1.000000</td>\n",
       "      <td>1.000000</td>\n",
       "      <td>1.000000</td>\n",
       "      <td>1.000000</td>\n",
       "      <td>1.000000</td>\n",
       "      <td>1.000000</td>\n",
       "      <td>1.000000</td>\n",
       "      <td>1.000000</td>\n",
       "      <td>...</td>\n",
       "      <td>1.000000</td>\n",
       "      <td>1.000000</td>\n",
       "      <td>1.000000</td>\n",
       "      <td>1.000000</td>\n",
       "      <td>1.000000</td>\n",
       "      <td>1.000000</td>\n",
       "      <td>1.000000</td>\n",
       "      <td>1.000000</td>\n",
       "      <td>1.000000</td>\n",
       "      <td>1.000000</td>\n",
       "    </tr>\n",
       "  </tbody>\n",
       "</table>\n",
       "<p>8 rows × 62 columns</p>\n",
       "</div>"
      ],
      "text/plain": [
       "                  MI           Male        Veteran       RentHome  \\\n",
       "count  349243.000000  349243.000000  349243.000000  349243.000000   \n",
       "mean        0.068689       0.440676       0.141171       0.183517   \n",
       "std         0.252924       0.496469       0.348198       0.387090   \n",
       "min         0.000000       0.000000       0.000000       0.000000   \n",
       "25%         0.000000       0.000000       0.000000       0.000000   \n",
       "50%         0.000000       0.000000       0.000000       0.000000   \n",
       "75%         0.000000       1.000000       0.000000       0.000000   \n",
       "max         1.000000       1.000000       1.000000       1.000000   \n",
       "\n",
       "          PoorHealth         Smoker      ChewSnuff     NoExercise  \\\n",
       "count  349243.000000  349243.000000  349243.000000  349243.000000   \n",
       "mean        0.060207       0.427530       0.029132       0.279101   \n",
       "std         0.237871       0.494721       0.168176       0.448558   \n",
       "min         0.000000       0.000000       0.000000       0.000000   \n",
       "25%         0.000000       0.000000       0.000000       0.000000   \n",
       "50%         0.000000       0.000000       0.000000       0.000000   \n",
       "75%         0.000000       1.000000       0.000000       1.000000   \n",
       "max         1.000000       1.000000       1.000000       1.000000   \n",
       "\n",
       "         DrinksDaily  HighCholesterol  ...    Division_D1   Division_D10  \\\n",
       "count  349243.000000    349243.000000  ...  349243.000000  349243.000000   \n",
       "mean        0.153687         0.397697  ...       0.117248       0.018867   \n",
       "std         0.277484         0.489423  ...       0.321716       0.136054   \n",
       "min         0.000000         0.000000  ...       0.000000       0.000000   \n",
       "25%         0.000000         0.000000  ...       0.000000       0.000000   \n",
       "50%         0.000000         0.000000  ...       0.000000       0.000000   \n",
       "75%         0.142857         1.000000  ...       0.000000       0.000000   \n",
       "max         1.000000         1.000000  ...       1.000000       1.000000   \n",
       "\n",
       "         Division_D2    Division_D3    Division_D4    Division_D5  \\\n",
       "count  349243.000000  349243.000000  349243.000000  349243.000000   \n",
       "mean        0.048794       0.105179       0.170718       0.181770   \n",
       "std         0.215438       0.306784       0.376263       0.385656   \n",
       "min         0.000000       0.000000       0.000000       0.000000   \n",
       "25%         0.000000       0.000000       0.000000       0.000000   \n",
       "50%         0.000000       0.000000       0.000000       0.000000   \n",
       "75%         0.000000       0.000000       0.000000       0.000000   \n",
       "max         1.000000       1.000000       1.000000       1.000000   \n",
       "\n",
       "         Division_D6    Division_D7    Division_D8    Division_D9  \n",
       "count  349243.000000  349243.000000  349243.000000  349243.000000  \n",
       "mean        0.063449       0.068574       0.130502       0.094900  \n",
       "std         0.243769       0.252729       0.336856       0.293077  \n",
       "min         0.000000       0.000000       0.000000       0.000000  \n",
       "25%         0.000000       0.000000       0.000000       0.000000  \n",
       "50%         0.000000       0.000000       0.000000       0.000000  \n",
       "75%         0.000000       0.000000       0.000000       0.000000  \n",
       "max         1.000000       1.000000       1.000000       1.000000  \n",
       "\n",
       "[8 rows x 62 columns]"
      ]
     },
     "execution_count": 62,
     "metadata": {},
     "output_type": "execute_result"
    }
   ],
   "source": [
    "temp1.describe()"
   ]
  },
  {
   "cell_type": "code",
   "execution_count": 63,
   "metadata": {},
   "outputs": [
    {
     "data": {
      "text/plain": [
       "(349243, 62)"
      ]
     },
     "execution_count": 63,
     "metadata": {},
     "output_type": "execute_result"
    }
   ],
   "source": [
    "temp1.shape"
   ]
  },
  {
   "cell_type": "markdown",
   "metadata": {},
   "source": [
    "## Write CSV"
   ]
  },
  {
   "cell_type": "code",
   "execution_count": 64,
   "metadata": {},
   "outputs": [],
   "source": [
    "temp1=temp1.drop(columns=['Division_D10']) \n",
    "temp1=temp1.drop(columns=['State']) \n",
    "temp1.to_csv('D:/MI/MI.csv', index=False)"
   ]
  },
  {
   "cell_type": "markdown",
   "metadata": {},
   "source": [
    "# Describe\n",
    "Pandas Profiling Report is too large for GitHub."
   ]
  },
  {
   "cell_type": "code",
   "execution_count": 65,
   "metadata": {},
   "outputs": [
    {
     "data": {
      "text/html": [
       "<div>\n",
       "<style scoped>\n",
       "    .dataframe tbody tr th:only-of-type {\n",
       "        vertical-align: middle;\n",
       "    }\n",
       "\n",
       "    .dataframe tbody tr th {\n",
       "        vertical-align: top;\n",
       "    }\n",
       "\n",
       "    .dataframe thead th {\n",
       "        text-align: right;\n",
       "    }\n",
       "</style>\n",
       "<table border=\"1\" class=\"dataframe\">\n",
       "  <thead>\n",
       "    <tr style=\"text-align: right;\">\n",
       "      <th></th>\n",
       "      <th>MI</th>\n",
       "      <th>Male</th>\n",
       "      <th>Veteran</th>\n",
       "      <th>RentHome</th>\n",
       "      <th>PoorHealth</th>\n",
       "      <th>Smoker</th>\n",
       "      <th>ChewSnuff</th>\n",
       "      <th>NoExercise</th>\n",
       "      <th>DrinksDaily</th>\n",
       "      <th>HighCholesterol</th>\n",
       "      <th>HighBP</th>\n",
       "      <th>HighBMI</th>\n",
       "      <th>PhysicalHealth</th>\n",
       "      <th>MentalHealth</th>\n",
       "      <th>Depression</th>\n",
       "      <th>Stroke</th>\n",
       "      <th>Asthma</th>\n",
       "      <th>SkinCancer</th>\n",
       "      <th>Cancer</th>\n",
       "      <th>COPD</th>\n",
       "      <th>Kidney</th>\n",
       "      <th>Arthritis</th>\n",
       "      <th>NoHealthPlan</th>\n",
       "      <th>NoDoctor</th>\n",
       "      <th>Cost</th>\n",
       "      <th>NoCheckup</th>\n",
       "      <th>Age65</th>\n",
       "      <th>Age55_64</th>\n",
       "      <th>Age45_54</th>\n",
       "      <th>Black</th>\n",
       "      <th>Hispanic</th>\n",
       "      <th>Other</th>\n",
       "      <th>PreviousMarriage</th>\n",
       "      <th>NeverMarried</th>\n",
       "      <th>LT25K</th>\n",
       "      <th>LT50K</th>\n",
       "      <th>Income_DKR</th>\n",
       "      <th>PreHS</th>\n",
       "      <th>HS</th>\n",
       "      <th>PostHS</th>\n",
       "      <th>RetiredUnable</th>\n",
       "      <th>OutofWork</th>\n",
       "      <th>OtherNotWorking</th>\n",
       "      <th>HealthDKR</th>\n",
       "      <th>FairHealth</th>\n",
       "      <th>GoodHealth</th>\n",
       "      <th>Diabetic</th>\n",
       "      <th>Prediabetic</th>\n",
       "      <th>Division_D1</th>\n",
       "      <th>Division_D2</th>\n",
       "      <th>Division_D3</th>\n",
       "      <th>Division_D4</th>\n",
       "      <th>Division_D5</th>\n",
       "      <th>Division_D6</th>\n",
       "      <th>Division_D7</th>\n",
       "      <th>Division_D8</th>\n",
       "      <th>Division_D9</th>\n",
       "    </tr>\n",
       "  </thead>\n",
       "  <tbody>\n",
       "    <tr>\n",
       "      <th>count</th>\n",
       "      <td>349243.000000</td>\n",
       "      <td>349243.000000</td>\n",
       "      <td>349243.000000</td>\n",
       "      <td>349243.000000</td>\n",
       "      <td>349243.000000</td>\n",
       "      <td>349243.000000</td>\n",
       "      <td>349243.000000</td>\n",
       "      <td>349243.000000</td>\n",
       "      <td>349243.000000</td>\n",
       "      <td>349243.000000</td>\n",
       "      <td>349243.000000</td>\n",
       "      <td>349243.000000</td>\n",
       "      <td>349243.000000</td>\n",
       "      <td>349243.000000</td>\n",
       "      <td>349243.000000</td>\n",
       "      <td>349243.000000</td>\n",
       "      <td>349243.000000</td>\n",
       "      <td>349243.000000</td>\n",
       "      <td>349243.000000</td>\n",
       "      <td>349243.000000</td>\n",
       "      <td>349243.000000</td>\n",
       "      <td>349243.000000</td>\n",
       "      <td>349243.000000</td>\n",
       "      <td>349243.000000</td>\n",
       "      <td>349243.000000</td>\n",
       "      <td>349243.000000</td>\n",
       "      <td>349243.000000</td>\n",
       "      <td>349243.000000</td>\n",
       "      <td>349243.000000</td>\n",
       "      <td>349243.000000</td>\n",
       "      <td>349243.000000</td>\n",
       "      <td>349243.000000</td>\n",
       "      <td>349243.000000</td>\n",
       "      <td>349243.000000</td>\n",
       "      <td>349243.000000</td>\n",
       "      <td>349243.000000</td>\n",
       "      <td>349243.000000</td>\n",
       "      <td>349243.000000</td>\n",
       "      <td>349243.000000</td>\n",
       "      <td>349243.000000</td>\n",
       "      <td>349243.00000</td>\n",
       "      <td>349243.000000</td>\n",
       "      <td>349243.000000</td>\n",
       "      <td>349243.000000</td>\n",
       "      <td>349243.000000</td>\n",
       "      <td>349243.000000</td>\n",
       "      <td>349243.000000</td>\n",
       "      <td>349243.000000</td>\n",
       "      <td>349243.000000</td>\n",
       "      <td>349243.000000</td>\n",
       "      <td>349243.000000</td>\n",
       "      <td>349243.000000</td>\n",
       "      <td>349243.000000</td>\n",
       "      <td>349243.000000</td>\n",
       "      <td>349243.000000</td>\n",
       "      <td>349243.000000</td>\n",
       "      <td>349243.000000</td>\n",
       "    </tr>\n",
       "    <tr>\n",
       "      <th>mean</th>\n",
       "      <td>0.068689</td>\n",
       "      <td>0.440676</td>\n",
       "      <td>0.141171</td>\n",
       "      <td>0.183517</td>\n",
       "      <td>0.060207</td>\n",
       "      <td>0.427530</td>\n",
       "      <td>0.029132</td>\n",
       "      <td>0.279101</td>\n",
       "      <td>0.153687</td>\n",
       "      <td>0.397697</td>\n",
       "      <td>0.463362</td>\n",
       "      <td>0.642839</td>\n",
       "      <td>0.158914</td>\n",
       "      <td>0.114314</td>\n",
       "      <td>0.182684</td>\n",
       "      <td>0.052519</td>\n",
       "      <td>0.133709</td>\n",
       "      <td>0.118376</td>\n",
       "      <td>0.119553</td>\n",
       "      <td>0.097173</td>\n",
       "      <td>0.044891</td>\n",
       "      <td>0.387570</td>\n",
       "      <td>0.068365</td>\n",
       "      <td>0.129978</td>\n",
       "      <td>0.093339</td>\n",
       "      <td>0.169550</td>\n",
       "      <td>0.442941</td>\n",
       "      <td>0.240566</td>\n",
       "      <td>0.174847</td>\n",
       "      <td>0.073823</td>\n",
       "      <td>0.073224</td>\n",
       "      <td>0.063809</td>\n",
       "      <td>0.319852</td>\n",
       "      <td>0.095349</td>\n",
       "      <td>0.201141</td>\n",
       "      <td>0.334641</td>\n",
       "      <td>0.174643</td>\n",
       "      <td>0.072666</td>\n",
       "      <td>0.261108</td>\n",
       "      <td>0.272655</td>\n",
       "      <td>0.44926</td>\n",
       "      <td>0.032390</td>\n",
       "      <td>0.058590</td>\n",
       "      <td>0.002631</td>\n",
       "      <td>0.152819</td>\n",
       "      <td>0.321109</td>\n",
       "      <td>0.160948</td>\n",
       "      <td>0.024605</td>\n",
       "      <td>0.117248</td>\n",
       "      <td>0.048794</td>\n",
       "      <td>0.105179</td>\n",
       "      <td>0.170718</td>\n",
       "      <td>0.181770</td>\n",
       "      <td>0.063449</td>\n",
       "      <td>0.068574</td>\n",
       "      <td>0.130502</td>\n",
       "      <td>0.094900</td>\n",
       "    </tr>\n",
       "    <tr>\n",
       "      <th>std</th>\n",
       "      <td>0.252924</td>\n",
       "      <td>0.496469</td>\n",
       "      <td>0.348198</td>\n",
       "      <td>0.387090</td>\n",
       "      <td>0.237871</td>\n",
       "      <td>0.494721</td>\n",
       "      <td>0.168176</td>\n",
       "      <td>0.448558</td>\n",
       "      <td>0.277484</td>\n",
       "      <td>0.489423</td>\n",
       "      <td>0.498657</td>\n",
       "      <td>0.479164</td>\n",
       "      <td>0.310409</td>\n",
       "      <td>0.260753</td>\n",
       "      <td>0.386408</td>\n",
       "      <td>0.223072</td>\n",
       "      <td>0.340340</td>\n",
       "      <td>0.323053</td>\n",
       "      <td>0.324438</td>\n",
       "      <td>0.296194</td>\n",
       "      <td>0.207066</td>\n",
       "      <td>0.487196</td>\n",
       "      <td>0.252372</td>\n",
       "      <td>0.336280</td>\n",
       "      <td>0.290907</td>\n",
       "      <td>0.375237</td>\n",
       "      <td>0.496734</td>\n",
       "      <td>0.427428</td>\n",
       "      <td>0.379837</td>\n",
       "      <td>0.261482</td>\n",
       "      <td>0.260504</td>\n",
       "      <td>0.244414</td>\n",
       "      <td>0.466420</td>\n",
       "      <td>0.293697</td>\n",
       "      <td>0.400854</td>\n",
       "      <td>0.471865</td>\n",
       "      <td>0.379662</td>\n",
       "      <td>0.259587</td>\n",
       "      <td>0.439239</td>\n",
       "      <td>0.445326</td>\n",
       "      <td>0.49742</td>\n",
       "      <td>0.177034</td>\n",
       "      <td>0.234855</td>\n",
       "      <td>0.051230</td>\n",
       "      <td>0.359814</td>\n",
       "      <td>0.466903</td>\n",
       "      <td>0.367484</td>\n",
       "      <td>0.154917</td>\n",
       "      <td>0.321716</td>\n",
       "      <td>0.215438</td>\n",
       "      <td>0.306784</td>\n",
       "      <td>0.376263</td>\n",
       "      <td>0.385656</td>\n",
       "      <td>0.243769</td>\n",
       "      <td>0.252729</td>\n",
       "      <td>0.336856</td>\n",
       "      <td>0.293077</td>\n",
       "    </tr>\n",
       "    <tr>\n",
       "      <th>min</th>\n",
       "      <td>0.000000</td>\n",
       "      <td>0.000000</td>\n",
       "      <td>0.000000</td>\n",
       "      <td>0.000000</td>\n",
       "      <td>0.000000</td>\n",
       "      <td>0.000000</td>\n",
       "      <td>0.000000</td>\n",
       "      <td>0.000000</td>\n",
       "      <td>0.000000</td>\n",
       "      <td>0.000000</td>\n",
       "      <td>0.000000</td>\n",
       "      <td>0.000000</td>\n",
       "      <td>0.000000</td>\n",
       "      <td>0.000000</td>\n",
       "      <td>0.000000</td>\n",
       "      <td>0.000000</td>\n",
       "      <td>0.000000</td>\n",
       "      <td>0.000000</td>\n",
       "      <td>0.000000</td>\n",
       "      <td>0.000000</td>\n",
       "      <td>0.000000</td>\n",
       "      <td>0.000000</td>\n",
       "      <td>0.000000</td>\n",
       "      <td>0.000000</td>\n",
       "      <td>0.000000</td>\n",
       "      <td>0.000000</td>\n",
       "      <td>0.000000</td>\n",
       "      <td>0.000000</td>\n",
       "      <td>0.000000</td>\n",
       "      <td>0.000000</td>\n",
       "      <td>0.000000</td>\n",
       "      <td>0.000000</td>\n",
       "      <td>0.000000</td>\n",
       "      <td>0.000000</td>\n",
       "      <td>0.000000</td>\n",
       "      <td>0.000000</td>\n",
       "      <td>0.000000</td>\n",
       "      <td>0.000000</td>\n",
       "      <td>0.000000</td>\n",
       "      <td>0.000000</td>\n",
       "      <td>0.00000</td>\n",
       "      <td>0.000000</td>\n",
       "      <td>0.000000</td>\n",
       "      <td>0.000000</td>\n",
       "      <td>0.000000</td>\n",
       "      <td>0.000000</td>\n",
       "      <td>0.000000</td>\n",
       "      <td>0.000000</td>\n",
       "      <td>0.000000</td>\n",
       "      <td>0.000000</td>\n",
       "      <td>0.000000</td>\n",
       "      <td>0.000000</td>\n",
       "      <td>0.000000</td>\n",
       "      <td>0.000000</td>\n",
       "      <td>0.000000</td>\n",
       "      <td>0.000000</td>\n",
       "      <td>0.000000</td>\n",
       "    </tr>\n",
       "    <tr>\n",
       "      <th>25%</th>\n",
       "      <td>0.000000</td>\n",
       "      <td>0.000000</td>\n",
       "      <td>0.000000</td>\n",
       "      <td>0.000000</td>\n",
       "      <td>0.000000</td>\n",
       "      <td>0.000000</td>\n",
       "      <td>0.000000</td>\n",
       "      <td>0.000000</td>\n",
       "      <td>0.000000</td>\n",
       "      <td>0.000000</td>\n",
       "      <td>0.000000</td>\n",
       "      <td>0.000000</td>\n",
       "      <td>0.000000</td>\n",
       "      <td>0.000000</td>\n",
       "      <td>0.000000</td>\n",
       "      <td>0.000000</td>\n",
       "      <td>0.000000</td>\n",
       "      <td>0.000000</td>\n",
       "      <td>0.000000</td>\n",
       "      <td>0.000000</td>\n",
       "      <td>0.000000</td>\n",
       "      <td>0.000000</td>\n",
       "      <td>0.000000</td>\n",
       "      <td>0.000000</td>\n",
       "      <td>0.000000</td>\n",
       "      <td>0.000000</td>\n",
       "      <td>0.000000</td>\n",
       "      <td>0.000000</td>\n",
       "      <td>0.000000</td>\n",
       "      <td>0.000000</td>\n",
       "      <td>0.000000</td>\n",
       "      <td>0.000000</td>\n",
       "      <td>0.000000</td>\n",
       "      <td>0.000000</td>\n",
       "      <td>0.000000</td>\n",
       "      <td>0.000000</td>\n",
       "      <td>0.000000</td>\n",
       "      <td>0.000000</td>\n",
       "      <td>0.000000</td>\n",
       "      <td>0.000000</td>\n",
       "      <td>0.00000</td>\n",
       "      <td>0.000000</td>\n",
       "      <td>0.000000</td>\n",
       "      <td>0.000000</td>\n",
       "      <td>0.000000</td>\n",
       "      <td>0.000000</td>\n",
       "      <td>0.000000</td>\n",
       "      <td>0.000000</td>\n",
       "      <td>0.000000</td>\n",
       "      <td>0.000000</td>\n",
       "      <td>0.000000</td>\n",
       "      <td>0.000000</td>\n",
       "      <td>0.000000</td>\n",
       "      <td>0.000000</td>\n",
       "      <td>0.000000</td>\n",
       "      <td>0.000000</td>\n",
       "      <td>0.000000</td>\n",
       "    </tr>\n",
       "    <tr>\n",
       "      <th>50%</th>\n",
       "      <td>0.000000</td>\n",
       "      <td>0.000000</td>\n",
       "      <td>0.000000</td>\n",
       "      <td>0.000000</td>\n",
       "      <td>0.000000</td>\n",
       "      <td>0.000000</td>\n",
       "      <td>0.000000</td>\n",
       "      <td>0.000000</td>\n",
       "      <td>0.000000</td>\n",
       "      <td>0.000000</td>\n",
       "      <td>0.000000</td>\n",
       "      <td>1.000000</td>\n",
       "      <td>0.000000</td>\n",
       "      <td>0.000000</td>\n",
       "      <td>0.000000</td>\n",
       "      <td>0.000000</td>\n",
       "      <td>0.000000</td>\n",
       "      <td>0.000000</td>\n",
       "      <td>0.000000</td>\n",
       "      <td>0.000000</td>\n",
       "      <td>0.000000</td>\n",
       "      <td>0.000000</td>\n",
       "      <td>0.000000</td>\n",
       "      <td>0.000000</td>\n",
       "      <td>0.000000</td>\n",
       "      <td>0.000000</td>\n",
       "      <td>0.000000</td>\n",
       "      <td>0.000000</td>\n",
       "      <td>0.000000</td>\n",
       "      <td>0.000000</td>\n",
       "      <td>0.000000</td>\n",
       "      <td>0.000000</td>\n",
       "      <td>0.000000</td>\n",
       "      <td>0.000000</td>\n",
       "      <td>0.000000</td>\n",
       "      <td>0.000000</td>\n",
       "      <td>0.000000</td>\n",
       "      <td>0.000000</td>\n",
       "      <td>0.000000</td>\n",
       "      <td>0.000000</td>\n",
       "      <td>0.00000</td>\n",
       "      <td>0.000000</td>\n",
       "      <td>0.000000</td>\n",
       "      <td>0.000000</td>\n",
       "      <td>0.000000</td>\n",
       "      <td>0.000000</td>\n",
       "      <td>0.000000</td>\n",
       "      <td>0.000000</td>\n",
       "      <td>0.000000</td>\n",
       "      <td>0.000000</td>\n",
       "      <td>0.000000</td>\n",
       "      <td>0.000000</td>\n",
       "      <td>0.000000</td>\n",
       "      <td>0.000000</td>\n",
       "      <td>0.000000</td>\n",
       "      <td>0.000000</td>\n",
       "      <td>0.000000</td>\n",
       "    </tr>\n",
       "    <tr>\n",
       "      <th>75%</th>\n",
       "      <td>0.000000</td>\n",
       "      <td>1.000000</td>\n",
       "      <td>0.000000</td>\n",
       "      <td>0.000000</td>\n",
       "      <td>0.000000</td>\n",
       "      <td>1.000000</td>\n",
       "      <td>0.000000</td>\n",
       "      <td>1.000000</td>\n",
       "      <td>0.142857</td>\n",
       "      <td>1.000000</td>\n",
       "      <td>1.000000</td>\n",
       "      <td>1.000000</td>\n",
       "      <td>0.133333</td>\n",
       "      <td>0.066667</td>\n",
       "      <td>0.000000</td>\n",
       "      <td>0.000000</td>\n",
       "      <td>0.000000</td>\n",
       "      <td>0.000000</td>\n",
       "      <td>0.000000</td>\n",
       "      <td>0.000000</td>\n",
       "      <td>0.000000</td>\n",
       "      <td>1.000000</td>\n",
       "      <td>0.000000</td>\n",
       "      <td>0.000000</td>\n",
       "      <td>0.000000</td>\n",
       "      <td>0.000000</td>\n",
       "      <td>1.000000</td>\n",
       "      <td>0.000000</td>\n",
       "      <td>0.000000</td>\n",
       "      <td>0.000000</td>\n",
       "      <td>0.000000</td>\n",
       "      <td>0.000000</td>\n",
       "      <td>1.000000</td>\n",
       "      <td>0.000000</td>\n",
       "      <td>0.000000</td>\n",
       "      <td>1.000000</td>\n",
       "      <td>0.000000</td>\n",
       "      <td>0.000000</td>\n",
       "      <td>1.000000</td>\n",
       "      <td>1.000000</td>\n",
       "      <td>1.00000</td>\n",
       "      <td>0.000000</td>\n",
       "      <td>0.000000</td>\n",
       "      <td>0.000000</td>\n",
       "      <td>0.000000</td>\n",
       "      <td>1.000000</td>\n",
       "      <td>0.000000</td>\n",
       "      <td>0.000000</td>\n",
       "      <td>0.000000</td>\n",
       "      <td>0.000000</td>\n",
       "      <td>0.000000</td>\n",
       "      <td>0.000000</td>\n",
       "      <td>0.000000</td>\n",
       "      <td>0.000000</td>\n",
       "      <td>0.000000</td>\n",
       "      <td>0.000000</td>\n",
       "      <td>0.000000</td>\n",
       "    </tr>\n",
       "    <tr>\n",
       "      <th>max</th>\n",
       "      <td>1.000000</td>\n",
       "      <td>1.000000</td>\n",
       "      <td>1.000000</td>\n",
       "      <td>1.000000</td>\n",
       "      <td>1.000000</td>\n",
       "      <td>1.000000</td>\n",
       "      <td>1.000000</td>\n",
       "      <td>1.000000</td>\n",
       "      <td>1.000000</td>\n",
       "      <td>1.000000</td>\n",
       "      <td>1.000000</td>\n",
       "      <td>1.000000</td>\n",
       "      <td>1.000000</td>\n",
       "      <td>1.000000</td>\n",
       "      <td>1.000000</td>\n",
       "      <td>1.000000</td>\n",
       "      <td>1.000000</td>\n",
       "      <td>1.000000</td>\n",
       "      <td>1.000000</td>\n",
       "      <td>1.000000</td>\n",
       "      <td>1.000000</td>\n",
       "      <td>1.000000</td>\n",
       "      <td>1.000000</td>\n",
       "      <td>1.000000</td>\n",
       "      <td>1.000000</td>\n",
       "      <td>1.000000</td>\n",
       "      <td>1.000000</td>\n",
       "      <td>1.000000</td>\n",
       "      <td>1.000000</td>\n",
       "      <td>1.000000</td>\n",
       "      <td>1.000000</td>\n",
       "      <td>1.000000</td>\n",
       "      <td>1.000000</td>\n",
       "      <td>1.000000</td>\n",
       "      <td>1.000000</td>\n",
       "      <td>1.000000</td>\n",
       "      <td>1.000000</td>\n",
       "      <td>1.000000</td>\n",
       "      <td>1.000000</td>\n",
       "      <td>1.000000</td>\n",
       "      <td>1.00000</td>\n",
       "      <td>1.000000</td>\n",
       "      <td>1.000000</td>\n",
       "      <td>1.000000</td>\n",
       "      <td>1.000000</td>\n",
       "      <td>1.000000</td>\n",
       "      <td>1.000000</td>\n",
       "      <td>1.000000</td>\n",
       "      <td>1.000000</td>\n",
       "      <td>1.000000</td>\n",
       "      <td>1.000000</td>\n",
       "      <td>1.000000</td>\n",
       "      <td>1.000000</td>\n",
       "      <td>1.000000</td>\n",
       "      <td>1.000000</td>\n",
       "      <td>1.000000</td>\n",
       "      <td>1.000000</td>\n",
       "    </tr>\n",
       "  </tbody>\n",
       "</table>\n",
       "</div>"
      ],
      "text/plain": [
       "                  MI           Male        Veteran       RentHome  \\\n",
       "count  349243.000000  349243.000000  349243.000000  349243.000000   \n",
       "mean        0.068689       0.440676       0.141171       0.183517   \n",
       "std         0.252924       0.496469       0.348198       0.387090   \n",
       "min         0.000000       0.000000       0.000000       0.000000   \n",
       "25%         0.000000       0.000000       0.000000       0.000000   \n",
       "50%         0.000000       0.000000       0.000000       0.000000   \n",
       "75%         0.000000       1.000000       0.000000       0.000000   \n",
       "max         1.000000       1.000000       1.000000       1.000000   \n",
       "\n",
       "          PoorHealth         Smoker      ChewSnuff     NoExercise  \\\n",
       "count  349243.000000  349243.000000  349243.000000  349243.000000   \n",
       "mean        0.060207       0.427530       0.029132       0.279101   \n",
       "std         0.237871       0.494721       0.168176       0.448558   \n",
       "min         0.000000       0.000000       0.000000       0.000000   \n",
       "25%         0.000000       0.000000       0.000000       0.000000   \n",
       "50%         0.000000       0.000000       0.000000       0.000000   \n",
       "75%         0.000000       1.000000       0.000000       1.000000   \n",
       "max         1.000000       1.000000       1.000000       1.000000   \n",
       "\n",
       "         DrinksDaily  HighCholesterol         HighBP        HighBMI  \\\n",
       "count  349243.000000    349243.000000  349243.000000  349243.000000   \n",
       "mean        0.153687         0.397697       0.463362       0.642839   \n",
       "std         0.277484         0.489423       0.498657       0.479164   \n",
       "min         0.000000         0.000000       0.000000       0.000000   \n",
       "25%         0.000000         0.000000       0.000000       0.000000   \n",
       "50%         0.000000         0.000000       0.000000       1.000000   \n",
       "75%         0.142857         1.000000       1.000000       1.000000   \n",
       "max         1.000000         1.000000       1.000000       1.000000   \n",
       "\n",
       "       PhysicalHealth   MentalHealth     Depression         Stroke  \\\n",
       "count   349243.000000  349243.000000  349243.000000  349243.000000   \n",
       "mean         0.158914       0.114314       0.182684       0.052519   \n",
       "std          0.310409       0.260753       0.386408       0.223072   \n",
       "min          0.000000       0.000000       0.000000       0.000000   \n",
       "25%          0.000000       0.000000       0.000000       0.000000   \n",
       "50%          0.000000       0.000000       0.000000       0.000000   \n",
       "75%          0.133333       0.066667       0.000000       0.000000   \n",
       "max          1.000000       1.000000       1.000000       1.000000   \n",
       "\n",
       "              Asthma     SkinCancer         Cancer           COPD  \\\n",
       "count  349243.000000  349243.000000  349243.000000  349243.000000   \n",
       "mean        0.133709       0.118376       0.119553       0.097173   \n",
       "std         0.340340       0.323053       0.324438       0.296194   \n",
       "min         0.000000       0.000000       0.000000       0.000000   \n",
       "25%         0.000000       0.000000       0.000000       0.000000   \n",
       "50%         0.000000       0.000000       0.000000       0.000000   \n",
       "75%         0.000000       0.000000       0.000000       0.000000   \n",
       "max         1.000000       1.000000       1.000000       1.000000   \n",
       "\n",
       "              Kidney      Arthritis   NoHealthPlan       NoDoctor  \\\n",
       "count  349243.000000  349243.000000  349243.000000  349243.000000   \n",
       "mean        0.044891       0.387570       0.068365       0.129978   \n",
       "std         0.207066       0.487196       0.252372       0.336280   \n",
       "min         0.000000       0.000000       0.000000       0.000000   \n",
       "25%         0.000000       0.000000       0.000000       0.000000   \n",
       "50%         0.000000       0.000000       0.000000       0.000000   \n",
       "75%         0.000000       1.000000       0.000000       0.000000   \n",
       "max         1.000000       1.000000       1.000000       1.000000   \n",
       "\n",
       "                Cost      NoCheckup          Age65       Age55_64  \\\n",
       "count  349243.000000  349243.000000  349243.000000  349243.000000   \n",
       "mean        0.093339       0.169550       0.442941       0.240566   \n",
       "std         0.290907       0.375237       0.496734       0.427428   \n",
       "min         0.000000       0.000000       0.000000       0.000000   \n",
       "25%         0.000000       0.000000       0.000000       0.000000   \n",
       "50%         0.000000       0.000000       0.000000       0.000000   \n",
       "75%         0.000000       0.000000       1.000000       0.000000   \n",
       "max         1.000000       1.000000       1.000000       1.000000   \n",
       "\n",
       "            Age45_54          Black       Hispanic          Other  \\\n",
       "count  349243.000000  349243.000000  349243.000000  349243.000000   \n",
       "mean        0.174847       0.073823       0.073224       0.063809   \n",
       "std         0.379837       0.261482       0.260504       0.244414   \n",
       "min         0.000000       0.000000       0.000000       0.000000   \n",
       "25%         0.000000       0.000000       0.000000       0.000000   \n",
       "50%         0.000000       0.000000       0.000000       0.000000   \n",
       "75%         0.000000       0.000000       0.000000       0.000000   \n",
       "max         1.000000       1.000000       1.000000       1.000000   \n",
       "\n",
       "       PreviousMarriage   NeverMarried          LT25K          LT50K  \\\n",
       "count     349243.000000  349243.000000  349243.000000  349243.000000   \n",
       "mean           0.319852       0.095349       0.201141       0.334641   \n",
       "std            0.466420       0.293697       0.400854       0.471865   \n",
       "min            0.000000       0.000000       0.000000       0.000000   \n",
       "25%            0.000000       0.000000       0.000000       0.000000   \n",
       "50%            0.000000       0.000000       0.000000       0.000000   \n",
       "75%            1.000000       0.000000       0.000000       1.000000   \n",
       "max            1.000000       1.000000       1.000000       1.000000   \n",
       "\n",
       "          Income_DKR          PreHS             HS         PostHS  \\\n",
       "count  349243.000000  349243.000000  349243.000000  349243.000000   \n",
       "mean        0.174643       0.072666       0.261108       0.272655   \n",
       "std         0.379662       0.259587       0.439239       0.445326   \n",
       "min         0.000000       0.000000       0.000000       0.000000   \n",
       "25%         0.000000       0.000000       0.000000       0.000000   \n",
       "50%         0.000000       0.000000       0.000000       0.000000   \n",
       "75%         0.000000       0.000000       1.000000       1.000000   \n",
       "max         1.000000       1.000000       1.000000       1.000000   \n",
       "\n",
       "       RetiredUnable      OutofWork  OtherNotWorking      HealthDKR  \\\n",
       "count   349243.00000  349243.000000    349243.000000  349243.000000   \n",
       "mean         0.44926       0.032390         0.058590       0.002631   \n",
       "std          0.49742       0.177034         0.234855       0.051230   \n",
       "min          0.00000       0.000000         0.000000       0.000000   \n",
       "25%          0.00000       0.000000         0.000000       0.000000   \n",
       "50%          0.00000       0.000000         0.000000       0.000000   \n",
       "75%          1.00000       0.000000         0.000000       0.000000   \n",
       "max          1.00000       1.000000         1.000000       1.000000   \n",
       "\n",
       "          FairHealth     GoodHealth       Diabetic    Prediabetic  \\\n",
       "count  349243.000000  349243.000000  349243.000000  349243.000000   \n",
       "mean        0.152819       0.321109       0.160948       0.024605   \n",
       "std         0.359814       0.466903       0.367484       0.154917   \n",
       "min         0.000000       0.000000       0.000000       0.000000   \n",
       "25%         0.000000       0.000000       0.000000       0.000000   \n",
       "50%         0.000000       0.000000       0.000000       0.000000   \n",
       "75%         0.000000       1.000000       0.000000       0.000000   \n",
       "max         1.000000       1.000000       1.000000       1.000000   \n",
       "\n",
       "         Division_D1    Division_D2    Division_D3    Division_D4  \\\n",
       "count  349243.000000  349243.000000  349243.000000  349243.000000   \n",
       "mean        0.117248       0.048794       0.105179       0.170718   \n",
       "std         0.321716       0.215438       0.306784       0.376263   \n",
       "min         0.000000       0.000000       0.000000       0.000000   \n",
       "25%         0.000000       0.000000       0.000000       0.000000   \n",
       "50%         0.000000       0.000000       0.000000       0.000000   \n",
       "75%         0.000000       0.000000       0.000000       0.000000   \n",
       "max         1.000000       1.000000       1.000000       1.000000   \n",
       "\n",
       "         Division_D5    Division_D6    Division_D7    Division_D8  \\\n",
       "count  349243.000000  349243.000000  349243.000000  349243.000000   \n",
       "mean        0.181770       0.063449       0.068574       0.130502   \n",
       "std         0.385656       0.243769       0.252729       0.336856   \n",
       "min         0.000000       0.000000       0.000000       0.000000   \n",
       "25%         0.000000       0.000000       0.000000       0.000000   \n",
       "50%         0.000000       0.000000       0.000000       0.000000   \n",
       "75%         0.000000       0.000000       0.000000       0.000000   \n",
       "max         1.000000       1.000000       1.000000       1.000000   \n",
       "\n",
       "         Division_D9  \n",
       "count  349243.000000  \n",
       "mean        0.094900  \n",
       "std         0.293077  \n",
       "min         0.000000  \n",
       "25%         0.000000  \n",
       "50%         0.000000  \n",
       "75%         0.000000  \n",
       "max         1.000000  "
      ]
     },
     "execution_count": 65,
     "metadata": {},
     "output_type": "execute_result"
    }
   ],
   "source": [
    "##############################################################################################################################\n",
    "mydata=temp1 #reassign temp1 back to the original data frame but keep in temp1 \n",
    "mydata=mydata.drop(columns=['Weights','Stratum', 'PSU']) #drop the weighting variables.\n",
    "pd.set_option('display.max_columns', 500)\n",
    "mydata.describe()\n",
    "#pandas_profiling.ProfileReport(mydata)\n",
    "##############################################################################################################################"
   ]
  },
  {
   "cell_type": "markdown",
   "metadata": {},
   "source": [
    "# Build Training and Test Set"
   ]
  },
  {
   "cell_type": "code",
   "execution_count": 66,
   "metadata": {},
   "outputs": [],
   "source": [
    "##############################################################################################################################\n",
    "# Seed value for random number generators to obtain reproducible results\n",
    "temp=mydata\n",
    "temp=temp.values\n",
    "tempy=temp[:,0]\n",
    "tempx=temp[:,1:len(temp)]\n",
    "\n",
    "X_train, X_test, y_train, y_test = tts(tempx, tempy, test_size=.2, random_state=1234)\n",
    "X_train1, X_test1, y_train1,y_test1=X_train, X_test, y_train, y_test #Backup, NOT oversampled\n",
    "\n",
    "oversample = SMOTE()\n",
    "X_train, y_train = oversample.fit_resample(X_train, y_train)\n",
    "\n",
    "##############################################################################################################################"
   ]
  },
  {
   "cell_type": "markdown",
   "metadata": {},
   "source": [
    "# Functions for Confusion Matrix and PR Plot"
   ]
  },
  {
   "cell_type": "code",
   "execution_count": 67,
   "metadata": {},
   "outputs": [],
   "source": [
    "def myf(mod):\n",
    "    y_hat=mod.predict(X_test).astype(int) #can use either encoded or decoded data..doesn't help\n",
    "    results=pd.DataFrame(CR(y_test, y_hat, output_dict=True))\n",
    "    try:  \n",
    "        plot_confusion_matrix(mod,X_test,y_test)\n",
    "    except:\n",
    "        print('No confusion plot.')\n",
    "    return(results)\n",
    "\n",
    "def prplot(mod):\n",
    "    average_precision = average_precision_score(y_test, mod.predict(X_test))\n",
    "    disp = plot_precision_recall_curve(mod, X_test, y_test)\n",
    "    disp.ax_.set_title('2-class Precision-Recall curve: '\n",
    "                   'AP={0:0.2f}'.format(average_precision))"
   ]
  },
  {
   "cell_type": "markdown",
   "metadata": {},
   "source": [
    "# Naive Bayes"
   ]
  },
  {
   "cell_type": "code",
   "execution_count": 68,
   "metadata": {},
   "outputs": [
    {
     "data": {
      "text/html": [
       "<div>\n",
       "<style scoped>\n",
       "    .dataframe tbody tr th:only-of-type {\n",
       "        vertical-align: middle;\n",
       "    }\n",
       "\n",
       "    .dataframe tbody tr th {\n",
       "        vertical-align: top;\n",
       "    }\n",
       "\n",
       "    .dataframe thead th {\n",
       "        text-align: right;\n",
       "    }\n",
       "</style>\n",
       "<table border=\"1\" class=\"dataframe\">\n",
       "  <thead>\n",
       "    <tr style=\"text-align: right;\">\n",
       "      <th></th>\n",
       "      <th>0.0</th>\n",
       "      <th>1.0</th>\n",
       "      <th>accuracy</th>\n",
       "      <th>macro avg</th>\n",
       "      <th>weighted avg</th>\n",
       "    </tr>\n",
       "  </thead>\n",
       "  <tbody>\n",
       "    <tr>\n",
       "      <th>precision</th>\n",
       "      <td>0.969187</td>\n",
       "      <td>0.143247</td>\n",
       "      <td>0.683575</td>\n",
       "      <td>0.556217</td>\n",
       "      <td>0.911625</td>\n",
       "    </tr>\n",
       "    <tr>\n",
       "      <th>recall</th>\n",
       "      <td>0.681538</td>\n",
       "      <td>0.710764</td>\n",
       "      <td>0.683575</td>\n",
       "      <td>0.696151</td>\n",
       "      <td>0.683575</td>\n",
       "    </tr>\n",
       "    <tr>\n",
       "      <th>f1-score</th>\n",
       "      <td>0.800300</td>\n",
       "      <td>0.238440</td>\n",
       "      <td>0.683575</td>\n",
       "      <td>0.519370</td>\n",
       "      <td>0.761142</td>\n",
       "    </tr>\n",
       "    <tr>\n",
       "      <th>support</th>\n",
       "      <td>64981.000000</td>\n",
       "      <td>4868.000000</td>\n",
       "      <td>0.683575</td>\n",
       "      <td>69849.000000</td>\n",
       "      <td>69849.000000</td>\n",
       "    </tr>\n",
       "  </tbody>\n",
       "</table>\n",
       "</div>"
      ],
      "text/plain": [
       "                    0.0          1.0  accuracy     macro avg  weighted avg\n",
       "precision      0.969187     0.143247  0.683575      0.556217      0.911625\n",
       "recall         0.681538     0.710764  0.683575      0.696151      0.683575\n",
       "f1-score       0.800300     0.238440  0.683575      0.519370      0.761142\n",
       "support    64981.000000  4868.000000  0.683575  69849.000000  69849.000000"
      ]
     },
     "execution_count": 68,
     "metadata": {},
     "output_type": "execute_result"
    },
    {
     "data": {
      "image/png": "[encoded data removed]",
      "text/plain": [
       "<Figure size 432x288 with 2 Axes>"
      ]
     },
     "metadata": {
      "needs_background": "light"
     },
     "output_type": "display_data"
    }
   ],
   "source": [
    "mynb=GaussianNB()\n",
    "mynb.fit(X_train, y_train)\n",
    "myf(mynb)"
   ]
  },
  {
   "cell_type": "markdown",
   "metadata": {},
   "source": [
    "# K Nearest Neighbors"
   ]
  },
  {
   "cell_type": "code",
   "execution_count": 69,
   "metadata": {},
   "outputs": [],
   "source": [
    "#myknn=KNN(2)\n",
    "#myknn.fit(X_train, y_train)\n",
    "#myf(myknn)\n",
    "##Not Run.  "
   ]
  },
  {
   "cell_type": "markdown",
   "metadata": {},
   "source": [
    "# Logistic Regression Models"
   ]
  },
  {
   "cell_type": "markdown",
   "metadata": {},
   "source": [
    "## Elasticnet Regularization"
   ]
  },
  {
   "cell_type": "code",
   "execution_count": 70,
   "metadata": {},
   "outputs": [
    {
     "data": {
      "text/html": [
       "<div>\n",
       "<style scoped>\n",
       "    .dataframe tbody tr th:only-of-type {\n",
       "        vertical-align: middle;\n",
       "    }\n",
       "\n",
       "    .dataframe tbody tr th {\n",
       "        vertical-align: top;\n",
       "    }\n",
       "\n",
       "    .dataframe thead th {\n",
       "        text-align: right;\n",
       "    }\n",
       "</style>\n",
       "<table border=\"1\" class=\"dataframe\">\n",
       "  <thead>\n",
       "    <tr style=\"text-align: right;\">\n",
       "      <th></th>\n",
       "      <th>0.0</th>\n",
       "      <th>1.0</th>\n",
       "      <th>accuracy</th>\n",
       "      <th>macro avg</th>\n",
       "      <th>weighted avg</th>\n",
       "    </tr>\n",
       "  </thead>\n",
       "  <tbody>\n",
       "    <tr>\n",
       "      <th>precision</th>\n",
       "      <td>0.974838</td>\n",
       "      <td>0.172402</td>\n",
       "      <td>0.732151</td>\n",
       "      <td>0.573620</td>\n",
       "      <td>0.918914</td>\n",
       "    </tr>\n",
       "    <tr>\n",
       "      <th>recall</th>\n",
       "      <td>0.730952</td>\n",
       "      <td>0.748151</td>\n",
       "      <td>0.732151</td>\n",
       "      <td>0.739552</td>\n",
       "      <td>0.732151</td>\n",
       "    </tr>\n",
       "    <tr>\n",
       "      <th>f1-score</th>\n",
       "      <td>0.835460</td>\n",
       "      <td>0.280229</td>\n",
       "      <td>0.732151</td>\n",
       "      <td>0.557845</td>\n",
       "      <td>0.796764</td>\n",
       "    </tr>\n",
       "    <tr>\n",
       "      <th>support</th>\n",
       "      <td>64981.000000</td>\n",
       "      <td>4868.000000</td>\n",
       "      <td>0.732151</td>\n",
       "      <td>69849.000000</td>\n",
       "      <td>69849.000000</td>\n",
       "    </tr>\n",
       "  </tbody>\n",
       "</table>\n",
       "</div>"
      ],
      "text/plain": [
       "                    0.0          1.0  accuracy     macro avg  weighted avg\n",
       "precision      0.974838     0.172402  0.732151      0.573620      0.918914\n",
       "recall         0.730952     0.748151  0.732151      0.739552      0.732151\n",
       "f1-score       0.835460     0.280229  0.732151      0.557845      0.796764\n",
       "support    64981.000000  4868.000000  0.732151  69849.000000  69849.000000"
      ]
     },
     "execution_count": 70,
     "metadata": {},
     "output_type": "execute_result"
    },
    {
     "data": {
      "image/png": "[encoded data removed]",
      "text/plain": [
       "<Figure size 432x288 with 2 Axes>"
      ]
     },
     "metadata": {
      "needs_background": "light"
     },
     "output_type": "display_data"
    }
   ],
   "source": [
    "##############################################################################################################################\n",
    "mylm=LR(fit_intercept = True, penalty='elasticnet', solver='saga', l1_ratio=.9) #logistic model with elasticnet\n",
    "myfit2=mylm.fit(X_train, y_train)  #Fit on training data \n",
    "myf(mylm)\n",
    "##############################################################################################################################"
   ]
  },
  {
   "cell_type": "code",
   "execution_count": 71,
   "metadata": {},
   "outputs": [
    {
     "data": {
      "text/html": [
       "<div>\n",
       "<style scoped>\n",
       "    .dataframe tbody tr th:only-of-type {\n",
       "        vertical-align: middle;\n",
       "    }\n",
       "\n",
       "    .dataframe tbody tr th {\n",
       "        vertical-align: top;\n",
       "    }\n",
       "\n",
       "    .dataframe thead th {\n",
       "        text-align: right;\n",
       "    }\n",
       "</style>\n",
       "<table border=\"1\" class=\"dataframe\">\n",
       "  <thead>\n",
       "    <tr style=\"text-align: right;\">\n",
       "      <th>Pred</th>\n",
       "      <th>0.0</th>\n",
       "      <th>1.0</th>\n",
       "    </tr>\n",
       "    <tr>\n",
       "      <th>Actual</th>\n",
       "      <th></th>\n",
       "      <th></th>\n",
       "    </tr>\n",
       "  </thead>\n",
       "  <tbody>\n",
       "    <tr>\n",
       "      <th>0.0</th>\n",
       "      <td>47498</td>\n",
       "      <td>17483</td>\n",
       "    </tr>\n",
       "    <tr>\n",
       "      <th>1.0</th>\n",
       "      <td>1226</td>\n",
       "      <td>3642</td>\n",
       "    </tr>\n",
       "  </tbody>\n",
       "</table>\n",
       "</div>"
      ],
      "text/plain": [
       "Pred      0.0    1.0\n",
       "Actual              \n",
       "0.0     47498  17483\n",
       "1.0      1226   3642"
      ]
     },
     "execution_count": 71,
     "metadata": {},
     "output_type": "execute_result"
    }
   ],
   "source": [
    "pr1=mylm.predict_proba(X_test)\n",
    "cut=.5\n",
    "pr1[pr1<cut]=0\n",
    "pr1[pr1>=cut]=1\n",
    "nw=pd.DataFrame(pr1, columns=('No','Yes'))\n",
    "tmp=nw[['No','Yes']].idxmax(axis=1)\n",
    "tmp[tmp=='Yes']=1\n",
    "tmp[tmp=='No']=0\n",
    "tmp=tmp.astype('float64')\n",
    "ndf=pd.DataFrame({'Pred':tmp, 'Actual': y_test})\n",
    "pd.crosstab(ndf.Actual,ndf.Pred)"
   ]
  },
  {
   "cell_type": "code",
   "execution_count": 72,
   "metadata": {},
   "outputs": [
    {
     "data": {
      "image/png": "[encoded data removed]",
      "text/plain": [
       "<Figure size 432x288 with 1 Axes>"
      ]
     },
     "metadata": {
      "needs_background": "light"
     },
     "output_type": "display_data"
    }
   ],
   "source": [
    "prplot(mylm)"
   ]
  },
  {
   "cell_type": "markdown",
   "metadata": {},
   "source": [
    "## L2 Regularized Logistic Regression"
   ]
  },
  {
   "cell_type": "code",
   "execution_count": 73,
   "metadata": {},
   "outputs": [
    {
     "data": {
      "text/html": [
       "<div>\n",
       "<style scoped>\n",
       "    .dataframe tbody tr th:only-of-type {\n",
       "        vertical-align: middle;\n",
       "    }\n",
       "\n",
       "    .dataframe tbody tr th {\n",
       "        vertical-align: top;\n",
       "    }\n",
       "\n",
       "    .dataframe thead th {\n",
       "        text-align: right;\n",
       "    }\n",
       "</style>\n",
       "<table border=\"1\" class=\"dataframe\">\n",
       "  <thead>\n",
       "    <tr style=\"text-align: right;\">\n",
       "      <th></th>\n",
       "      <th>0.0</th>\n",
       "      <th>1.0</th>\n",
       "      <th>accuracy</th>\n",
       "      <th>macro avg</th>\n",
       "      <th>weighted avg</th>\n",
       "    </tr>\n",
       "  </thead>\n",
       "  <tbody>\n",
       "    <tr>\n",
       "      <th>precision</th>\n",
       "      <td>0.974818</td>\n",
       "      <td>0.172371</td>\n",
       "      <td>0.732151</td>\n",
       "      <td>0.573595</td>\n",
       "      <td>0.918893</td>\n",
       "    </tr>\n",
       "    <tr>\n",
       "      <th>recall</th>\n",
       "      <td>0.730968</td>\n",
       "      <td>0.747946</td>\n",
       "      <td>0.732151</td>\n",
       "      <td>0.739457</td>\n",
       "      <td>0.732151</td>\n",
       "    </tr>\n",
       "    <tr>\n",
       "      <th>f1-score</th>\n",
       "      <td>0.835463</td>\n",
       "      <td>0.280174</td>\n",
       "      <td>0.732151</td>\n",
       "      <td>0.557818</td>\n",
       "      <td>0.796763</td>\n",
       "    </tr>\n",
       "    <tr>\n",
       "      <th>support</th>\n",
       "      <td>64981.000000</td>\n",
       "      <td>4868.000000</td>\n",
       "      <td>0.732151</td>\n",
       "      <td>69849.000000</td>\n",
       "      <td>69849.000000</td>\n",
       "    </tr>\n",
       "  </tbody>\n",
       "</table>\n",
       "</div>"
      ],
      "text/plain": [
       "                    0.0          1.0  accuracy     macro avg  weighted avg\n",
       "precision      0.974818     0.172371  0.732151      0.573595      0.918893\n",
       "recall         0.730968     0.747946  0.732151      0.739457      0.732151\n",
       "f1-score       0.835463     0.280174  0.732151      0.557818      0.796763\n",
       "support    64981.000000  4868.000000  0.732151  69849.000000  69849.000000"
      ]
     },
     "execution_count": 73,
     "metadata": {},
     "output_type": "execute_result"
    },
    {
     "data": {
      "image/png": "[encoded data removed]",
      "text/plain": [
       "<Figure size 432x288 with 2 Axes>"
      ]
     },
     "metadata": {
      "needs_background": "light"
     },
     "output_type": "display_data"
    }
   ],
   "source": [
    "##############################################################################################################################\n",
    "myrr=LR(fit_intercept = True, solver='liblinear', penalty='l2') #logistic model\n",
    "myrr.fit(X_train, y_train)  #Fit on training data \n",
    "myf(myrr) #predict on test set and plot\n",
    "##############################################################################################################################"
   ]
  },
  {
   "cell_type": "code",
   "execution_count": 74,
   "metadata": {},
   "outputs": [
    {
     "data": {
      "image/png": "[encoded data removed]",
      "text/plain": [
       "<Figure size 432x288 with 1 Axes>"
      ]
     },
     "metadata": {
      "needs_background": "light"
     },
     "output_type": "display_data"
    }
   ],
   "source": [
    "prplot(myrr)"
   ]
  },
  {
   "cell_type": "markdown",
   "metadata": {},
   "source": [
    "## L1 Regularized Logistic Regression"
   ]
  },
  {
   "cell_type": "code",
   "execution_count": 75,
   "metadata": {},
   "outputs": [
    {
     "data": {
      "text/html": [
       "<div>\n",
       "<style scoped>\n",
       "    .dataframe tbody tr th:only-of-type {\n",
       "        vertical-align: middle;\n",
       "    }\n",
       "\n",
       "    .dataframe tbody tr th {\n",
       "        vertical-align: top;\n",
       "    }\n",
       "\n",
       "    .dataframe thead th {\n",
       "        text-align: right;\n",
       "    }\n",
       "</style>\n",
       "<table border=\"1\" class=\"dataframe\">\n",
       "  <thead>\n",
       "    <tr style=\"text-align: right;\">\n",
       "      <th></th>\n",
       "      <th>0.0</th>\n",
       "      <th>1.0</th>\n",
       "      <th>accuracy</th>\n",
       "      <th>macro avg</th>\n",
       "      <th>weighted avg</th>\n",
       "    </tr>\n",
       "  </thead>\n",
       "  <tbody>\n",
       "    <tr>\n",
       "      <th>precision</th>\n",
       "      <td>0.974819</td>\n",
       "      <td>0.172380</td>\n",
       "      <td>0.732165</td>\n",
       "      <td>0.573599</td>\n",
       "      <td>0.918894</td>\n",
       "    </tr>\n",
       "    <tr>\n",
       "      <th>recall</th>\n",
       "      <td>0.730983</td>\n",
       "      <td>0.747946</td>\n",
       "      <td>0.732165</td>\n",
       "      <td>0.739464</td>\n",
       "      <td>0.732165</td>\n",
       "    </tr>\n",
       "    <tr>\n",
       "      <th>f1-score</th>\n",
       "      <td>0.835473</td>\n",
       "      <td>0.280185</td>\n",
       "      <td>0.732165</td>\n",
       "      <td>0.557829</td>\n",
       "      <td>0.796773</td>\n",
       "    </tr>\n",
       "    <tr>\n",
       "      <th>support</th>\n",
       "      <td>64981.000000</td>\n",
       "      <td>4868.000000</td>\n",
       "      <td>0.732165</td>\n",
       "      <td>69849.000000</td>\n",
       "      <td>69849.000000</td>\n",
       "    </tr>\n",
       "  </tbody>\n",
       "</table>\n",
       "</div>"
      ],
      "text/plain": [
       "                    0.0          1.0  accuracy     macro avg  weighted avg\n",
       "precision      0.974819     0.172380  0.732165      0.573599      0.918894\n",
       "recall         0.730983     0.747946  0.732165      0.739464      0.732165\n",
       "f1-score       0.835473     0.280185  0.732165      0.557829      0.796773\n",
       "support    64981.000000  4868.000000  0.732165  69849.000000  69849.000000"
      ]
     },
     "execution_count": 75,
     "metadata": {},
     "output_type": "execute_result"
    },
    {
     "data": {
      "image/png": "[encoded data removed]",
      "text/plain": [
       "<Figure size 432x288 with 2 Axes>"
      ]
     },
     "metadata": {
      "needs_background": "light"
     },
     "output_type": "display_data"
    }
   ],
   "source": [
    "##############################################################################################################################\n",
    "mylasso=LR(fit_intercept = True, solver='liblinear', penalty='l1') #logistic model\n",
    "mylasso.fit(X_train, y_train)  #Fit on training data \n",
    "myf(mylasso) #predict on test set and plot\n",
    "##############################################################################################################################"
   ]
  },
  {
   "cell_type": "code",
   "execution_count": 76,
   "metadata": {},
   "outputs": [
    {
     "data": {
      "image/png": "[encoded data removed]",
      "text/plain": [
       "<Figure size 432x288 with 1 Axes>"
      ]
     },
     "metadata": {
      "needs_background": "light"
     },
     "output_type": "display_data"
    }
   ],
   "source": [
    "prplot(mylasso)"
   ]
  },
  {
   "cell_type": "markdown",
   "metadata": {},
   "source": [
    "## SGD Classifier"
   ]
  },
  {
   "cell_type": "code",
   "execution_count": 77,
   "metadata": {},
   "outputs": [
    {
     "data": {
      "text/html": [
       "<div>\n",
       "<style scoped>\n",
       "    .dataframe tbody tr th:only-of-type {\n",
       "        vertical-align: middle;\n",
       "    }\n",
       "\n",
       "    .dataframe tbody tr th {\n",
       "        vertical-align: top;\n",
       "    }\n",
       "\n",
       "    .dataframe thead th {\n",
       "        text-align: right;\n",
       "    }\n",
       "</style>\n",
       "<table border=\"1\" class=\"dataframe\">\n",
       "  <thead>\n",
       "    <tr style=\"text-align: right;\">\n",
       "      <th></th>\n",
       "      <th>0.0</th>\n",
       "      <th>1.0</th>\n",
       "      <th>accuracy</th>\n",
       "      <th>macro avg</th>\n",
       "      <th>weighted avg</th>\n",
       "    </tr>\n",
       "  </thead>\n",
       "  <tbody>\n",
       "    <tr>\n",
       "      <th>precision</th>\n",
       "      <td>0.974940</td>\n",
       "      <td>0.172903</td>\n",
       "      <td>0.732809</td>\n",
       "      <td>0.573921</td>\n",
       "      <td>0.919043</td>\n",
       "    </tr>\n",
       "    <tr>\n",
       "      <th>recall</th>\n",
       "      <td>0.731598</td>\n",
       "      <td>0.748973</td>\n",
       "      <td>0.732809</td>\n",
       "      <td>0.740286</td>\n",
       "      <td>0.732809</td>\n",
       "    </tr>\n",
       "    <tr>\n",
       "      <th>f1-score</th>\n",
       "      <td>0.835920</td>\n",
       "      <td>0.280948</td>\n",
       "      <td>0.732809</td>\n",
       "      <td>0.558434</td>\n",
       "      <td>0.797242</td>\n",
       "    </tr>\n",
       "    <tr>\n",
       "      <th>support</th>\n",
       "      <td>64981.000000</td>\n",
       "      <td>4868.000000</td>\n",
       "      <td>0.732809</td>\n",
       "      <td>69849.000000</td>\n",
       "      <td>69849.000000</td>\n",
       "    </tr>\n",
       "  </tbody>\n",
       "</table>\n",
       "</div>"
      ],
      "text/plain": [
       "                    0.0          1.0  accuracy     macro avg  weighted avg\n",
       "precision      0.974940     0.172903  0.732809      0.573921      0.919043\n",
       "recall         0.731598     0.748973  0.732809      0.740286      0.732809\n",
       "f1-score       0.835920     0.280948  0.732809      0.558434      0.797242\n",
       "support    64981.000000  4868.000000  0.732809  69849.000000  69849.000000"
      ]
     },
     "execution_count": 77,
     "metadata": {},
     "output_type": "execute_result"
    },
    {
     "data": {
      "image/png": "[encoded data removed]",
      "text/plain": [
       "<Figure size 432x288 with 2 Axes>"
      ]
     },
     "metadata": {
      "needs_background": "light"
     },
     "output_type": "display_data"
    }
   ],
   "source": [
    "mysgd=SGD(loss='log', penalty='l1', alpha=0.001,fit_intercept=True, random_state=43)\n",
    "mysgd.fit(X_train,y_train)\n",
    "myf(mysgd)"
   ]
  },
  {
   "cell_type": "code",
   "execution_count": 78,
   "metadata": {},
   "outputs": [
    {
     "data": {
      "image/png": "[encoded data removed]",
      "text/plain": [
       "<Figure size 432x288 with 1 Axes>"
      ]
     },
     "metadata": {
      "needs_background": "light"
     },
     "output_type": "display_data"
    }
   ],
   "source": [
    "prplot(mysgd)"
   ]
  },
  {
   "cell_type": "markdown",
   "metadata": {},
   "source": [
    "## Comparison of Coefficients"
   ]
  },
  {
   "cell_type": "code",
   "execution_count": 79,
   "metadata": {},
   "outputs": [
    {
     "data": {
      "text/html": [
       "<div>\n",
       "<style scoped>\n",
       "    .dataframe tbody tr th:only-of-type {\n",
       "        vertical-align: middle;\n",
       "    }\n",
       "\n",
       "    .dataframe tbody tr th {\n",
       "        vertical-align: top;\n",
       "    }\n",
       "\n",
       "    .dataframe thead th {\n",
       "        text-align: right;\n",
       "    }\n",
       "</style>\n",
       "<table border=\"1\" class=\"dataframe\">\n",
       "  <thead>\n",
       "    <tr style=\"text-align: right;\">\n",
       "      <th></th>\n",
       "      <th>Name</th>\n",
       "      <th>Elasticnet</th>\n",
       "      <th>L2</th>\n",
       "      <th>L1</th>\n",
       "      <th>SGD</th>\n",
       "    </tr>\n",
       "  </thead>\n",
       "  <tbody>\n",
       "    <tr>\n",
       "      <th>0</th>\n",
       "      <td>Male</td>\n",
       "      <td>2.461421</td>\n",
       "      <td>2.460803</td>\n",
       "      <td>2.460271</td>\n",
       "      <td>2.271940</td>\n",
       "    </tr>\n",
       "    <tr>\n",
       "      <th>1</th>\n",
       "      <td>Veteran</td>\n",
       "      <td>1.049195</td>\n",
       "      <td>1.049462</td>\n",
       "      <td>1.049346</td>\n",
       "      <td>1.000000</td>\n",
       "    </tr>\n",
       "    <tr>\n",
       "      <th>2</th>\n",
       "      <td>RentHome</td>\n",
       "      <td>1.097997</td>\n",
       "      <td>1.098305</td>\n",
       "      <td>1.098147</td>\n",
       "      <td>1.015024</td>\n",
       "    </tr>\n",
       "    <tr>\n",
       "      <th>3</th>\n",
       "      <td>PoorHealth</td>\n",
       "      <td>3.943779</td>\n",
       "      <td>3.942564</td>\n",
       "      <td>3.943227</td>\n",
       "      <td>3.289329</td>\n",
       "    </tr>\n",
       "    <tr>\n",
       "      <th>4</th>\n",
       "      <td>Smoker</td>\n",
       "      <td>1.477709</td>\n",
       "      <td>1.477713</td>\n",
       "      <td>1.477570</td>\n",
       "      <td>1.443970</td>\n",
       "    </tr>\n",
       "    <tr>\n",
       "      <th>5</th>\n",
       "      <td>ChewSnuff</td>\n",
       "      <td>0.639393</td>\n",
       "      <td>0.639460</td>\n",
       "      <td>0.639409</td>\n",
       "      <td>0.840701</td>\n",
       "    </tr>\n",
       "    <tr>\n",
       "      <th>6</th>\n",
       "      <td>NoExercise</td>\n",
       "      <td>0.946515</td>\n",
       "      <td>0.946292</td>\n",
       "      <td>0.946350</td>\n",
       "      <td>1.000000</td>\n",
       "    </tr>\n",
       "    <tr>\n",
       "      <th>7</th>\n",
       "      <td>DrinksDaily</td>\n",
       "      <td>0.513504</td>\n",
       "      <td>0.513403</td>\n",
       "      <td>0.513358</td>\n",
       "      <td>0.547916</td>\n",
       "    </tr>\n",
       "    <tr>\n",
       "      <th>8</th>\n",
       "      <td>HighCholesterol</td>\n",
       "      <td>1.691116</td>\n",
       "      <td>1.691086</td>\n",
       "      <td>1.690942</td>\n",
       "      <td>1.689414</td>\n",
       "    </tr>\n",
       "    <tr>\n",
       "      <th>9</th>\n",
       "      <td>HighBP</td>\n",
       "      <td>1.923117</td>\n",
       "      <td>1.922955</td>\n",
       "      <td>1.922835</td>\n",
       "      <td>1.924069</td>\n",
       "    </tr>\n",
       "    <tr>\n",
       "      <th>10</th>\n",
       "      <td>HighBMI</td>\n",
       "      <td>1.051973</td>\n",
       "      <td>1.051918</td>\n",
       "      <td>1.051542</td>\n",
       "      <td>1.014873</td>\n",
       "    </tr>\n",
       "    <tr>\n",
       "      <th>11</th>\n",
       "      <td>PhysicalHealth</td>\n",
       "      <td>0.939313</td>\n",
       "      <td>0.939424</td>\n",
       "      <td>0.939344</td>\n",
       "      <td>1.000000</td>\n",
       "    </tr>\n",
       "    <tr>\n",
       "      <th>12</th>\n",
       "      <td>MentalHealth</td>\n",
       "      <td>0.920477</td>\n",
       "      <td>0.920382</td>\n",
       "      <td>0.920329</td>\n",
       "      <td>1.000000</td>\n",
       "    </tr>\n",
       "    <tr>\n",
       "      <th>13</th>\n",
       "      <td>Depression</td>\n",
       "      <td>0.894712</td>\n",
       "      <td>0.894573</td>\n",
       "      <td>0.894574</td>\n",
       "      <td>0.934213</td>\n",
       "    </tr>\n",
       "    <tr>\n",
       "      <th>14</th>\n",
       "      <td>Stroke</td>\n",
       "      <td>2.964071</td>\n",
       "      <td>2.964095</td>\n",
       "      <td>2.964164</td>\n",
       "      <td>2.753831</td>\n",
       "    </tr>\n",
       "    <tr>\n",
       "      <th>15</th>\n",
       "      <td>Asthma</td>\n",
       "      <td>0.894039</td>\n",
       "      <td>0.893922</td>\n",
       "      <td>0.893874</td>\n",
       "      <td>0.942576</td>\n",
       "    </tr>\n",
       "    <tr>\n",
       "      <th>16</th>\n",
       "      <td>SkinCancer</td>\n",
       "      <td>0.853241</td>\n",
       "      <td>0.853204</td>\n",
       "      <td>0.853244</td>\n",
       "      <td>0.924243</td>\n",
       "    </tr>\n",
       "    <tr>\n",
       "      <th>17</th>\n",
       "      <td>Cancer</td>\n",
       "      <td>0.850450</td>\n",
       "      <td>0.850307</td>\n",
       "      <td>0.850426</td>\n",
       "      <td>0.910888</td>\n",
       "    </tr>\n",
       "    <tr>\n",
       "      <th>18</th>\n",
       "      <td>COPD</td>\n",
       "      <td>1.394038</td>\n",
       "      <td>1.394211</td>\n",
       "      <td>1.394288</td>\n",
       "      <td>1.348063</td>\n",
       "    </tr>\n",
       "    <tr>\n",
       "      <th>19</th>\n",
       "      <td>Kidney</td>\n",
       "      <td>1.168869</td>\n",
       "      <td>1.169102</td>\n",
       "      <td>1.168911</td>\n",
       "      <td>1.064289</td>\n",
       "    </tr>\n",
       "    <tr>\n",
       "      <th>20</th>\n",
       "      <td>Arthritis</td>\n",
       "      <td>1.145728</td>\n",
       "      <td>1.145770</td>\n",
       "      <td>1.145689</td>\n",
       "      <td>1.143623</td>\n",
       "    </tr>\n",
       "    <tr>\n",
       "      <th>21</th>\n",
       "      <td>NoHealthPlan</td>\n",
       "      <td>0.963694</td>\n",
       "      <td>0.963540</td>\n",
       "      <td>0.963972</td>\n",
       "      <td>1.000000</td>\n",
       "    </tr>\n",
       "    <tr>\n",
       "      <th>22</th>\n",
       "      <td>NoDoctor</td>\n",
       "      <td>0.757902</td>\n",
       "      <td>0.757850</td>\n",
       "      <td>0.757886</td>\n",
       "      <td>0.797079</td>\n",
       "    </tr>\n",
       "    <tr>\n",
       "      <th>23</th>\n",
       "      <td>Cost</td>\n",
       "      <td>1.117406</td>\n",
       "      <td>1.117460</td>\n",
       "      <td>1.117208</td>\n",
       "      <td>1.000000</td>\n",
       "    </tr>\n",
       "    <tr>\n",
       "      <th>24</th>\n",
       "      <td>NoCheckup</td>\n",
       "      <td>0.650908</td>\n",
       "      <td>0.650755</td>\n",
       "      <td>0.650711</td>\n",
       "      <td>0.675131</td>\n",
       "    </tr>\n",
       "    <tr>\n",
       "      <th>25</th>\n",
       "      <td>Age65</td>\n",
       "      <td>4.207063</td>\n",
       "      <td>4.201240</td>\n",
       "      <td>4.192981</td>\n",
       "      <td>2.990313</td>\n",
       "    </tr>\n",
       "    <tr>\n",
       "      <th>26</th>\n",
       "      <td>Age55_64</td>\n",
       "      <td>2.586112</td>\n",
       "      <td>2.582792</td>\n",
       "      <td>2.577719</td>\n",
       "      <td>1.808093</td>\n",
       "    </tr>\n",
       "    <tr>\n",
       "      <th>27</th>\n",
       "      <td>Age45_54</td>\n",
       "      <td>1.950329</td>\n",
       "      <td>1.948031</td>\n",
       "      <td>1.944116</td>\n",
       "      <td>1.281405</td>\n",
       "    </tr>\n",
       "    <tr>\n",
       "      <th>28</th>\n",
       "      <td>Black</td>\n",
       "      <td>0.504873</td>\n",
       "      <td>0.504803</td>\n",
       "      <td>0.504846</td>\n",
       "      <td>0.604422</td>\n",
       "    </tr>\n",
       "    <tr>\n",
       "      <th>29</th>\n",
       "      <td>Hispanic</td>\n",
       "      <td>0.614844</td>\n",
       "      <td>0.613643</td>\n",
       "      <td>0.612700</td>\n",
       "      <td>0.758161</td>\n",
       "    </tr>\n",
       "    <tr>\n",
       "      <th>30</th>\n",
       "      <td>Other</td>\n",
       "      <td>0.870153</td>\n",
       "      <td>0.869510</td>\n",
       "      <td>0.869213</td>\n",
       "      <td>1.000000</td>\n",
       "    </tr>\n",
       "    <tr>\n",
       "      <th>31</th>\n",
       "      <td>PreviousMarriage</td>\n",
       "      <td>1.139906</td>\n",
       "      <td>1.139839</td>\n",
       "      <td>1.139872</td>\n",
       "      <td>1.166721</td>\n",
       "    </tr>\n",
       "    <tr>\n",
       "      <th>32</th>\n",
       "      <td>NeverMarried</td>\n",
       "      <td>0.680051</td>\n",
       "      <td>0.679838</td>\n",
       "      <td>0.679920</td>\n",
       "      <td>0.741895</td>\n",
       "    </tr>\n",
       "    <tr>\n",
       "      <th>33</th>\n",
       "      <td>LT25K</td>\n",
       "      <td>1.332488</td>\n",
       "      <td>1.332406</td>\n",
       "      <td>1.331614</td>\n",
       "      <td>1.203206</td>\n",
       "    </tr>\n",
       "    <tr>\n",
       "      <th>34</th>\n",
       "      <td>LT50K</td>\n",
       "      <td>1.090362</td>\n",
       "      <td>1.090420</td>\n",
       "      <td>1.089874</td>\n",
       "      <td>1.000000</td>\n",
       "    </tr>\n",
       "    <tr>\n",
       "      <th>35</th>\n",
       "      <td>Income_DKR</td>\n",
       "      <td>1.111005</td>\n",
       "      <td>1.111018</td>\n",
       "      <td>1.110387</td>\n",
       "      <td>1.000000</td>\n",
       "    </tr>\n",
       "    <tr>\n",
       "      <th>36</th>\n",
       "      <td>PreHS</td>\n",
       "      <td>1.211416</td>\n",
       "      <td>1.211866</td>\n",
       "      <td>1.211869</td>\n",
       "      <td>1.087016</td>\n",
       "    </tr>\n",
       "    <tr>\n",
       "      <th>37</th>\n",
       "      <td>HS</td>\n",
       "      <td>1.064909</td>\n",
       "      <td>1.065031</td>\n",
       "      <td>1.064834</td>\n",
       "      <td>1.044574</td>\n",
       "    </tr>\n",
       "    <tr>\n",
       "      <th>38</th>\n",
       "      <td>PostHS</td>\n",
       "      <td>1.034904</td>\n",
       "      <td>1.034958</td>\n",
       "      <td>1.034728</td>\n",
       "      <td>1.000000</td>\n",
       "    </tr>\n",
       "    <tr>\n",
       "      <th>39</th>\n",
       "      <td>RetiredUnable</td>\n",
       "      <td>1.452587</td>\n",
       "      <td>1.452638</td>\n",
       "      <td>1.452487</td>\n",
       "      <td>1.469460</td>\n",
       "    </tr>\n",
       "    <tr>\n",
       "      <th>40</th>\n",
       "      <td>OutofWork</td>\n",
       "      <td>1.005074</td>\n",
       "      <td>1.005217</td>\n",
       "      <td>1.004807</td>\n",
       "      <td>1.000000</td>\n",
       "    </tr>\n",
       "    <tr>\n",
       "      <th>41</th>\n",
       "      <td>OtherNotWorking</td>\n",
       "      <td>1.194911</td>\n",
       "      <td>1.194673</td>\n",
       "      <td>1.193831</td>\n",
       "      <td>1.000000</td>\n",
       "    </tr>\n",
       "    <tr>\n",
       "      <th>42</th>\n",
       "      <td>HealthDKR</td>\n",
       "      <td>1.418080</td>\n",
       "      <td>1.421639</td>\n",
       "      <td>1.417440</td>\n",
       "      <td>1.000000</td>\n",
       "    </tr>\n",
       "    <tr>\n",
       "      <th>43</th>\n",
       "      <td>FairHealth</td>\n",
       "      <td>2.763867</td>\n",
       "      <td>2.762913</td>\n",
       "      <td>2.763036</td>\n",
       "      <td>2.434784</td>\n",
       "    </tr>\n",
       "    <tr>\n",
       "      <th>44</th>\n",
       "      <td>GoodHealth</td>\n",
       "      <td>1.685233</td>\n",
       "      <td>1.684928</td>\n",
       "      <td>1.684742</td>\n",
       "      <td>1.560397</td>\n",
       "    </tr>\n",
       "    <tr>\n",
       "      <th>45</th>\n",
       "      <td>Diabetic</td>\n",
       "      <td>1.280764</td>\n",
       "      <td>1.280910</td>\n",
       "      <td>1.280908</td>\n",
       "      <td>1.309746</td>\n",
       "    </tr>\n",
       "    <tr>\n",
       "      <th>46</th>\n",
       "      <td>Prediabetic</td>\n",
       "      <td>0.650314</td>\n",
       "      <td>0.650384</td>\n",
       "      <td>0.650365</td>\n",
       "      <td>0.875136</td>\n",
       "    </tr>\n",
       "    <tr>\n",
       "      <th>47</th>\n",
       "      <td>Division_D1</td>\n",
       "      <td>0.940325</td>\n",
       "      <td>0.933495</td>\n",
       "      <td>0.928955</td>\n",
       "      <td>1.000000</td>\n",
       "    </tr>\n",
       "    <tr>\n",
       "      <th>48</th>\n",
       "      <td>Division_D2</td>\n",
       "      <td>0.780345</td>\n",
       "      <td>0.774710</td>\n",
       "      <td>0.771033</td>\n",
       "      <td>0.957835</td>\n",
       "    </tr>\n",
       "    <tr>\n",
       "      <th>49</th>\n",
       "      <td>Division_D3</td>\n",
       "      <td>0.960084</td>\n",
       "      <td>0.953257</td>\n",
       "      <td>0.948467</td>\n",
       "      <td>1.000000</td>\n",
       "    </tr>\n",
       "    <tr>\n",
       "      <th>50</th>\n",
       "      <td>Division_D4</td>\n",
       "      <td>1.037173</td>\n",
       "      <td>1.029749</td>\n",
       "      <td>1.024552</td>\n",
       "      <td>1.067022</td>\n",
       "    </tr>\n",
       "    <tr>\n",
       "      <th>51</th>\n",
       "      <td>Division_D5</td>\n",
       "      <td>1.012772</td>\n",
       "      <td>1.005624</td>\n",
       "      <td>1.000654</td>\n",
       "      <td>1.045108</td>\n",
       "    </tr>\n",
       "    <tr>\n",
       "      <th>52</th>\n",
       "      <td>Division_D6</td>\n",
       "      <td>0.906031</td>\n",
       "      <td>0.899479</td>\n",
       "      <td>0.895118</td>\n",
       "      <td>1.000000</td>\n",
       "    </tr>\n",
       "    <tr>\n",
       "      <th>53</th>\n",
       "      <td>Division_D7</td>\n",
       "      <td>0.852947</td>\n",
       "      <td>0.846934</td>\n",
       "      <td>0.842862</td>\n",
       "      <td>1.000000</td>\n",
       "    </tr>\n",
       "    <tr>\n",
       "      <th>54</th>\n",
       "      <td>Division_D8</td>\n",
       "      <td>0.989267</td>\n",
       "      <td>0.982240</td>\n",
       "      <td>0.977470</td>\n",
       "      <td>1.000000</td>\n",
       "    </tr>\n",
       "    <tr>\n",
       "      <th>55</th>\n",
       "      <td>Division_D9</td>\n",
       "      <td>0.839135</td>\n",
       "      <td>0.833305</td>\n",
       "      <td>0.829254</td>\n",
       "      <td>0.942065</td>\n",
       "    </tr>\n",
       "  </tbody>\n",
       "</table>\n",
       "</div>"
      ],
      "text/plain": [
       "                Name  Elasticnet        L2        L1       SGD\n",
       "0               Male    2.461421  2.460803  2.460271  2.271940\n",
       "1            Veteran    1.049195  1.049462  1.049346  1.000000\n",
       "2           RentHome    1.097997  1.098305  1.098147  1.015024\n",
       "3         PoorHealth    3.943779  3.942564  3.943227  3.289329\n",
       "4             Smoker    1.477709  1.477713  1.477570  1.443970\n",
       "5          ChewSnuff    0.639393  0.639460  0.639409  0.840701\n",
       "6         NoExercise    0.946515  0.946292  0.946350  1.000000\n",
       "7        DrinksDaily    0.513504  0.513403  0.513358  0.547916\n",
       "8    HighCholesterol    1.691116  1.691086  1.690942  1.689414\n",
       "9             HighBP    1.923117  1.922955  1.922835  1.924069\n",
       "10           HighBMI    1.051973  1.051918  1.051542  1.014873\n",
       "11    PhysicalHealth    0.939313  0.939424  0.939344  1.000000\n",
       "12      MentalHealth    0.920477  0.920382  0.920329  1.000000\n",
       "13        Depression    0.894712  0.894573  0.894574  0.934213\n",
       "14            Stroke    2.964071  2.964095  2.964164  2.753831\n",
       "15            Asthma    0.894039  0.893922  0.893874  0.942576\n",
       "16        SkinCancer    0.853241  0.853204  0.853244  0.924243\n",
       "17            Cancer    0.850450  0.850307  0.850426  0.910888\n",
       "18              COPD    1.394038  1.394211  1.394288  1.348063\n",
       "19            Kidney    1.168869  1.169102  1.168911  1.064289\n",
       "20         Arthritis    1.145728  1.145770  1.145689  1.143623\n",
       "21      NoHealthPlan    0.963694  0.963540  0.963972  1.000000\n",
       "22          NoDoctor    0.757902  0.757850  0.757886  0.797079\n",
       "23              Cost    1.117406  1.117460  1.117208  1.000000\n",
       "24         NoCheckup    0.650908  0.650755  0.650711  0.675131\n",
       "25             Age65    4.207063  4.201240  4.192981  2.990313\n",
       "26          Age55_64    2.586112  2.582792  2.577719  1.808093\n",
       "27          Age45_54    1.950329  1.948031  1.944116  1.281405\n",
       "28             Black    0.504873  0.504803  0.504846  0.604422\n",
       "29          Hispanic    0.614844  0.613643  0.612700  0.758161\n",
       "30             Other    0.870153  0.869510  0.869213  1.000000\n",
       "31  PreviousMarriage    1.139906  1.139839  1.139872  1.166721\n",
       "32      NeverMarried    0.680051  0.679838  0.679920  0.741895\n",
       "33             LT25K    1.332488  1.332406  1.331614  1.203206\n",
       "34             LT50K    1.090362  1.090420  1.089874  1.000000\n",
       "35        Income_DKR    1.111005  1.111018  1.110387  1.000000\n",
       "36             PreHS    1.211416  1.211866  1.211869  1.087016\n",
       "37                HS    1.064909  1.065031  1.064834  1.044574\n",
       "38            PostHS    1.034904  1.034958  1.034728  1.000000\n",
       "39     RetiredUnable    1.452587  1.452638  1.452487  1.469460\n",
       "40         OutofWork    1.005074  1.005217  1.004807  1.000000\n",
       "41   OtherNotWorking    1.194911  1.194673  1.193831  1.000000\n",
       "42         HealthDKR    1.418080  1.421639  1.417440  1.000000\n",
       "43        FairHealth    2.763867  2.762913  2.763036  2.434784\n",
       "44        GoodHealth    1.685233  1.684928  1.684742  1.560397\n",
       "45          Diabetic    1.280764  1.280910  1.280908  1.309746\n",
       "46       Prediabetic    0.650314  0.650384  0.650365  0.875136\n",
       "47       Division_D1    0.940325  0.933495  0.928955  1.000000\n",
       "48       Division_D2    0.780345  0.774710  0.771033  0.957835\n",
       "49       Division_D3    0.960084  0.953257  0.948467  1.000000\n",
       "50       Division_D4    1.037173  1.029749  1.024552  1.067022\n",
       "51       Division_D5    1.012772  1.005624  1.000654  1.045108\n",
       "52       Division_D6    0.906031  0.899479  0.895118  1.000000\n",
       "53       Division_D7    0.852947  0.846934  0.842862  1.000000\n",
       "54       Division_D8    0.989267  0.982240  0.977470  1.000000\n",
       "55       Division_D9    0.839135  0.833305  0.829254  0.942065"
      ]
     },
     "execution_count": 79,
     "metadata": {},
     "output_type": "execute_result"
    }
   ],
   "source": [
    "def flat(x):\n",
    "    return(np.reshape(x,56))\n",
    "pd.set_option(\"display.max_columns\", None)\n",
    "pd.set_option(\"display.max_rows\", None)\n",
    "p1, p2, p3, p4, p5=mydata.columns.values[1:57],flat(np.exp(mylm.coef_)),flat(np.exp(myrr.coef_)),flat(np.exp(mylasso.coef_)), flat(np.exp(mysgd.coef_))\n",
    "pd.DataFrame(list(zip(p1, p2, p3, p4, p5)), columns=['Name','Elasticnet', 'L2', 'L1', 'SGD'])\n",
    "#print(mylm.intercept_)"
   ]
  },
  {
   "cell_type": "markdown",
   "metadata": {},
   "source": [
    "# Tree Models"
   ]
  },
  {
   "cell_type": "markdown",
   "metadata": {},
   "source": [
    "## Tree Plots"
   ]
  },
  {
   "cell_type": "code",
   "execution_count": 80,
   "metadata": {},
   "outputs": [],
   "source": [
    "def mytree(mod):\n",
    "    imp, std=mod.feature_importances_, np.std([mod.feature_importances_ for tree in mod.estimators_], axis=0)\n",
    "    importances = pd.Series(imp, index=mydata.columns[1:57]).sort_values(ascending=False)[0:20]\n",
    "    fig, ax = plt.subplots()\n",
    "    importances.plot.bar(yerr=std[0:20], ax=ax)\n",
    "    ax.set_title(\"Feature importances using MDI\")\n",
    "    ax.set_ylabel(\"Mean decrease in impurity\")\n",
    "    fig.tight_layout()"
   ]
  },
  {
   "cell_type": "markdown",
   "metadata": {},
   "source": [
    "## Decision Tree Classifier"
   ]
  },
  {
   "cell_type": "code",
   "execution_count": 81,
   "metadata": {},
   "outputs": [
    {
     "data": {
      "text/html": [
       "<div>\n",
       "<style scoped>\n",
       "    .dataframe tbody tr th:only-of-type {\n",
       "        vertical-align: middle;\n",
       "    }\n",
       "\n",
       "    .dataframe tbody tr th {\n",
       "        vertical-align: top;\n",
       "    }\n",
       "\n",
       "    .dataframe thead th {\n",
       "        text-align: right;\n",
       "    }\n",
       "</style>\n",
       "<table border=\"1\" class=\"dataframe\">\n",
       "  <thead>\n",
       "    <tr style=\"text-align: right;\">\n",
       "      <th></th>\n",
       "      <th>0.0</th>\n",
       "      <th>1.0</th>\n",
       "      <th>accuracy</th>\n",
       "      <th>macro avg</th>\n",
       "      <th>weighted avg</th>\n",
       "    </tr>\n",
       "  </thead>\n",
       "  <tbody>\n",
       "    <tr>\n",
       "      <th>precision</th>\n",
       "      <td>0.954519</td>\n",
       "      <td>0.194027</td>\n",
       "      <td>0.830563</td>\n",
       "      <td>0.574273</td>\n",
       "      <td>0.901518</td>\n",
       "    </tr>\n",
       "    <tr>\n",
       "      <th>recall</th>\n",
       "      <td>0.858789</td>\n",
       "      <td>0.453780</td>\n",
       "      <td>0.830563</td>\n",
       "      <td>0.656285</td>\n",
       "      <td>0.830563</td>\n",
       "    </tr>\n",
       "    <tr>\n",
       "      <th>f1-score</th>\n",
       "      <td>0.904127</td>\n",
       "      <td>0.271827</td>\n",
       "      <td>0.830563</td>\n",
       "      <td>0.587977</td>\n",
       "      <td>0.860060</td>\n",
       "    </tr>\n",
       "    <tr>\n",
       "      <th>support</th>\n",
       "      <td>64981.000000</td>\n",
       "      <td>4868.000000</td>\n",
       "      <td>0.830563</td>\n",
       "      <td>69849.000000</td>\n",
       "      <td>69849.000000</td>\n",
       "    </tr>\n",
       "  </tbody>\n",
       "</table>\n",
       "</div>"
      ],
      "text/plain": [
       "                    0.0          1.0  accuracy     macro avg  weighted avg\n",
       "precision      0.954519     0.194027  0.830563      0.574273      0.901518\n",
       "recall         0.858789     0.453780  0.830563      0.656285      0.830563\n",
       "f1-score       0.904127     0.271827  0.830563      0.587977      0.860060\n",
       "support    64981.000000  4868.000000  0.830563  69849.000000  69849.000000"
      ]
     },
     "execution_count": 81,
     "metadata": {},
     "output_type": "execute_result"
    },
    {
     "data": {
      "image/png": "[encoded data removed]",
      "text/plain": [
       "<Figure size 432x288 with 2 Axes>"
      ]
     },
     "metadata": {
      "needs_background": "light"
     },
     "output_type": "display_data"
    }
   ],
   "source": [
    "myTree=Tree(criterion='entropy', splitter='best', max_depth=8,min_samples_split=2, min_samples_leaf=1, random_state=123)\n",
    "myTree.fit(X_train,y_train)\n",
    "myf(myTree)"
   ]
  },
  {
   "cell_type": "code",
   "execution_count": 82,
   "metadata": {},
   "outputs": [
    {
     "data": {
      "image/png": "[encoded data removed]",
      "text/plain": [
       "<Figure size 432x288 with 1 Axes>"
      ]
     },
     "metadata": {
      "needs_background": "light"
     },
     "output_type": "display_data"
    }
   ],
   "source": [
    "prplot(myTree)"
   ]
  },
  {
   "cell_type": "markdown",
   "metadata": {},
   "source": [
    "## Random Forest Classifier"
   ]
  },
  {
   "cell_type": "code",
   "execution_count": 83,
   "metadata": {},
   "outputs": [
    {
     "data": {
      "text/html": [
       "<div>\n",
       "<style scoped>\n",
       "    .dataframe tbody tr th:only-of-type {\n",
       "        vertical-align: middle;\n",
       "    }\n",
       "\n",
       "    .dataframe tbody tr th {\n",
       "        vertical-align: top;\n",
       "    }\n",
       "\n",
       "    .dataframe thead th {\n",
       "        text-align: right;\n",
       "    }\n",
       "</style>\n",
       "<table border=\"1\" class=\"dataframe\">\n",
       "  <thead>\n",
       "    <tr style=\"text-align: right;\">\n",
       "      <th></th>\n",
       "      <th>0.0</th>\n",
       "      <th>1.0</th>\n",
       "      <th>accuracy</th>\n",
       "      <th>macro avg</th>\n",
       "      <th>weighted avg</th>\n",
       "    </tr>\n",
       "  </thead>\n",
       "  <tbody>\n",
       "    <tr>\n",
       "      <th>precision</th>\n",
       "      <td>0.961556</td>\n",
       "      <td>0.208903</td>\n",
       "      <td>0.823577</td>\n",
       "      <td>0.585229</td>\n",
       "      <td>0.909101</td>\n",
       "    </tr>\n",
       "    <tr>\n",
       "      <th>recall</th>\n",
       "      <td>0.844108</td>\n",
       "      <td>0.549507</td>\n",
       "      <td>0.823577</td>\n",
       "      <td>0.696808</td>\n",
       "      <td>0.823577</td>\n",
       "    </tr>\n",
       "    <tr>\n",
       "      <th>f1-score</th>\n",
       "      <td>0.899012</td>\n",
       "      <td>0.302722</td>\n",
       "      <td>0.823577</td>\n",
       "      <td>0.600867</td>\n",
       "      <td>0.857455</td>\n",
       "    </tr>\n",
       "    <tr>\n",
       "      <th>support</th>\n",
       "      <td>64981.000000</td>\n",
       "      <td>4868.000000</td>\n",
       "      <td>0.823577</td>\n",
       "      <td>69849.000000</td>\n",
       "      <td>69849.000000</td>\n",
       "    </tr>\n",
       "  </tbody>\n",
       "</table>\n",
       "</div>"
      ],
      "text/plain": [
       "                    0.0          1.0  accuracy     macro avg  weighted avg\n",
       "precision      0.961556     0.208903  0.823577      0.585229      0.909101\n",
       "recall         0.844108     0.549507  0.823577      0.696808      0.823577\n",
       "f1-score       0.899012     0.302722  0.823577      0.600867      0.857455\n",
       "support    64981.000000  4868.000000  0.823577  69849.000000  69849.000000"
      ]
     },
     "execution_count": 83,
     "metadata": {},
     "output_type": "execute_result"
    },
    {
     "data": {
      "image/png": "[encoded data removed]",
      "text/plain": [
       "<Figure size 432x288 with 2 Axes>"
      ]
     },
     "metadata": {
      "needs_background": "light"
     },
     "output_type": "display_data"
    }
   ],
   "source": [
    "##############################################################################################################################\n",
    "myrf=RFC(n_estimators = 100,max_depth=10,min_samples_split=2, criterion='entropy',bootstrap=True,                   \n",
    "                            n_jobs = -1, random_state = 64) #RF Model\n",
    "myrf.fit(X_train, y_train)  # Fit on the training set \n",
    "myf(myrf)\n",
    "##############################################################################################################################"
   ]
  },
  {
   "cell_type": "code",
   "execution_count": 84,
   "metadata": {},
   "outputs": [
    {
     "data": {
      "image/png": "[encoded data removed]",
      "text/plain": [
       "<Figure size 432x288 with 1 Axes>"
      ]
     },
     "metadata": {
      "needs_background": "light"
     },
     "output_type": "display_data"
    }
   ],
   "source": [
    "prplot(myrf)"
   ]
  },
  {
   "cell_type": "code",
   "execution_count": 85,
   "metadata": {},
   "outputs": [
    {
     "data": {
      "image/png": "[encoded data removed]",
      "text/plain": [
       "<Figure size 432x288 with 1 Axes>"
      ]
     },
     "metadata": {
      "needs_background": "light"
     },
     "output_type": "display_data"
    }
   ],
   "source": [
    "mytree(myrf)"
   ]
  },
  {
   "cell_type": "markdown",
   "metadata": {},
   "source": [
    "## Extra Trees Classifier"
   ]
  },
  {
   "cell_type": "code",
   "execution_count": 86,
   "metadata": {
    "scrolled": true
   },
   "outputs": [
    {
     "data": {
      "text/html": [
       "<div>\n",
       "<style scoped>\n",
       "    .dataframe tbody tr th:only-of-type {\n",
       "        vertical-align: middle;\n",
       "    }\n",
       "\n",
       "    .dataframe tbody tr th {\n",
       "        vertical-align: top;\n",
       "    }\n",
       "\n",
       "    .dataframe thead th {\n",
       "        text-align: right;\n",
       "    }\n",
       "</style>\n",
       "<table border=\"1\" class=\"dataframe\">\n",
       "  <thead>\n",
       "    <tr style=\"text-align: right;\">\n",
       "      <th></th>\n",
       "      <th>0.0</th>\n",
       "      <th>1.0</th>\n",
       "      <th>accuracy</th>\n",
       "      <th>macro avg</th>\n",
       "      <th>weighted avg</th>\n",
       "    </tr>\n",
       "  </thead>\n",
       "  <tbody>\n",
       "    <tr>\n",
       "      <th>precision</th>\n",
       "      <td>0.952889</td>\n",
       "      <td>0.240294</td>\n",
       "      <td>0.86959</td>\n",
       "      <td>0.596591</td>\n",
       "      <td>0.903226</td>\n",
       "    </tr>\n",
       "    <tr>\n",
       "      <th>recall</th>\n",
       "      <td>0.904541</td>\n",
       "      <td>0.403040</td>\n",
       "      <td>0.86959</td>\n",
       "      <td>0.653791</td>\n",
       "      <td>0.869590</td>\n",
       "    </tr>\n",
       "    <tr>\n",
       "      <th>f1-score</th>\n",
       "      <td>0.928086</td>\n",
       "      <td>0.301082</td>\n",
       "      <td>0.86959</td>\n",
       "      <td>0.614584</td>\n",
       "      <td>0.884388</td>\n",
       "    </tr>\n",
       "    <tr>\n",
       "      <th>support</th>\n",
       "      <td>64981.000000</td>\n",
       "      <td>4868.000000</td>\n",
       "      <td>0.86959</td>\n",
       "      <td>69849.000000</td>\n",
       "      <td>69849.000000</td>\n",
       "    </tr>\n",
       "  </tbody>\n",
       "</table>\n",
       "</div>"
      ],
      "text/plain": [
       "                    0.0          1.0  accuracy     macro avg  weighted avg\n",
       "precision      0.952889     0.240294   0.86959      0.596591      0.903226\n",
       "recall         0.904541     0.403040   0.86959      0.653791      0.869590\n",
       "f1-score       0.928086     0.301082   0.86959      0.614584      0.884388\n",
       "support    64981.000000  4868.000000   0.86959  69849.000000  69849.000000"
      ]
     },
     "execution_count": 86,
     "metadata": {},
     "output_type": "execute_result"
    },
    {
     "data": {
      "image/png": "[encoded data removed]",
      "text/plain": [
       "<Figure size 432x288 with 2 Axes>"
      ]
     },
     "metadata": {
      "needs_background": "light"
     },
     "output_type": "display_data"
    }
   ],
   "source": [
    "##############################################################################################################################\n",
    "myextra=ETC(n_estimators = 50, max_depth=22, min_samples_split=2,criterion='entropy',\n",
    "                           bootstrap=True, n_jobs = -1, random_state = 64) #previously tuned\n",
    "myextra.fit(X_train, y_train)  #Fit on training set\n",
    "myf(myextra)\n",
    "#######################################################"
   ]
  },
  {
   "cell_type": "code",
   "execution_count": 87,
   "metadata": {},
   "outputs": [
    {
     "data": {
      "image/png": "[encoded data removed]",
      "text/plain": [
       "<Figure size 432x288 with 1 Axes>"
      ]
     },
     "metadata": {
      "needs_background": "light"
     },
     "output_type": "display_data"
    }
   ],
   "source": [
    "prplot(myextra)"
   ]
  },
  {
   "cell_type": "code",
   "execution_count": 88,
   "metadata": {},
   "outputs": [
    {
     "data": {
      "image/png": "[encoded data removed]",
      "text/plain": [
       "<Figure size 432x288 with 1 Axes>"
      ]
     },
     "metadata": {
      "needs_background": "light"
     },
     "output_type": "display_data"
    }
   ],
   "source": [
    "mytree(myextra)"
   ]
  },
  {
   "cell_type": "markdown",
   "metadata": {},
   "source": [
    "##  Gradient Boosting"
   ]
  },
  {
   "cell_type": "code",
   "execution_count": 89,
   "metadata": {},
   "outputs": [
    {
     "data": {
      "text/html": [
       "<div>\n",
       "<style scoped>\n",
       "    .dataframe tbody tr th:only-of-type {\n",
       "        vertical-align: middle;\n",
       "    }\n",
       "\n",
       "    .dataframe tbody tr th {\n",
       "        vertical-align: top;\n",
       "    }\n",
       "\n",
       "    .dataframe thead th {\n",
       "        text-align: right;\n",
       "    }\n",
       "</style>\n",
       "<table border=\"1\" class=\"dataframe\">\n",
       "  <thead>\n",
       "    <tr style=\"text-align: right;\">\n",
       "      <th></th>\n",
       "      <th>0.0</th>\n",
       "      <th>1.0</th>\n",
       "      <th>accuracy</th>\n",
       "      <th>macro avg</th>\n",
       "      <th>weighted avg</th>\n",
       "    </tr>\n",
       "  </thead>\n",
       "  <tbody>\n",
       "    <tr>\n",
       "      <th>precision</th>\n",
       "      <td>0.957132</td>\n",
       "      <td>0.234434</td>\n",
       "      <td>0.855932</td>\n",
       "      <td>0.595783</td>\n",
       "      <td>0.906765</td>\n",
       "    </tr>\n",
       "    <tr>\n",
       "      <th>recall</th>\n",
       "      <td>0.884766</td>\n",
       "      <td>0.471035</td>\n",
       "      <td>0.855932</td>\n",
       "      <td>0.677901</td>\n",
       "      <td>0.855932</td>\n",
       "    </tr>\n",
       "    <tr>\n",
       "      <th>f1-score</th>\n",
       "      <td>0.919528</td>\n",
       "      <td>0.313059</td>\n",
       "      <td>0.855932</td>\n",
       "      <td>0.616293</td>\n",
       "      <td>0.877261</td>\n",
       "    </tr>\n",
       "    <tr>\n",
       "      <th>support</th>\n",
       "      <td>64981.000000</td>\n",
       "      <td>4868.000000</td>\n",
       "      <td>0.855932</td>\n",
       "      <td>69849.000000</td>\n",
       "      <td>69849.000000</td>\n",
       "    </tr>\n",
       "  </tbody>\n",
       "</table>\n",
       "</div>"
      ],
      "text/plain": [
       "                    0.0          1.0  accuracy     macro avg  weighted avg\n",
       "precision      0.957132     0.234434  0.855932      0.595783      0.906765\n",
       "recall         0.884766     0.471035  0.855932      0.677901      0.855932\n",
       "f1-score       0.919528     0.313059  0.855932      0.616293      0.877261\n",
       "support    64981.000000  4868.000000  0.855932  69849.000000  69849.000000"
      ]
     },
     "execution_count": 89,
     "metadata": {},
     "output_type": "execute_result"
    },
    {
     "data": {
      "image/png": "[encoded data removed]",
      "text/plain": [
       "<Figure size 432x288 with 2 Axes>"
      ]
     },
     "metadata": {
      "needs_background": "light"
     },
     "output_type": "display_data"
    }
   ],
   "source": [
    "##############################################################################################################################\n",
    "myGBC=GBC(n_estimators = 50, random_state = 64)\n",
    "myGBC.fit(X_train, y_train)  #Fit on training set\n",
    "myf(myGBC)\n",
    "##############################################################################################################################"
   ]
  },
  {
   "cell_type": "code",
   "execution_count": 90,
   "metadata": {},
   "outputs": [
    {
     "data": {
      "image/png": "[encoded data removed]",
      "text/plain": [
       "<Figure size 432x288 with 1 Axes>"
      ]
     },
     "metadata": {
      "needs_background": "light"
     },
     "output_type": "display_data"
    }
   ],
   "source": [
    "mytree(myGBC)"
   ]
  },
  {
   "cell_type": "code",
   "execution_count": 91,
   "metadata": {},
   "outputs": [
    {
     "data": {
      "image/png": "[encoded data removed]",
      "text/plain": [
       "<Figure size 432x288 with 1 Axes>"
      ]
     },
     "metadata": {
      "needs_background": "light"
     },
     "output_type": "display_data"
    }
   ],
   "source": [
    "prplot(myGBC)"
   ]
  },
  {
   "cell_type": "markdown",
   "metadata": {},
   "source": [
    "## ADA Boost Classifier"
   ]
  },
  {
   "cell_type": "code",
   "execution_count": 92,
   "metadata": {},
   "outputs": [
    {
     "data": {
      "text/html": [
       "<div>\n",
       "<style scoped>\n",
       "    .dataframe tbody tr th:only-of-type {\n",
       "        vertical-align: middle;\n",
       "    }\n",
       "\n",
       "    .dataframe tbody tr th {\n",
       "        vertical-align: top;\n",
       "    }\n",
       "\n",
       "    .dataframe thead th {\n",
       "        text-align: right;\n",
       "    }\n",
       "</style>\n",
       "<table border=\"1\" class=\"dataframe\">\n",
       "  <thead>\n",
       "    <tr style=\"text-align: right;\">\n",
       "      <th></th>\n",
       "      <th>0.0</th>\n",
       "      <th>1.0</th>\n",
       "      <th>accuracy</th>\n",
       "      <th>macro avg</th>\n",
       "      <th>weighted avg</th>\n",
       "    </tr>\n",
       "  </thead>\n",
       "  <tbody>\n",
       "    <tr>\n",
       "      <th>precision</th>\n",
       "      <td>0.955958</td>\n",
       "      <td>0.214728</td>\n",
       "      <td>0.844565</td>\n",
       "      <td>0.585343</td>\n",
       "      <td>0.904299</td>\n",
       "    </tr>\n",
       "    <tr>\n",
       "      <th>recall</th>\n",
       "      <td>0.873148</td>\n",
       "      <td>0.463024</td>\n",
       "      <td>0.844565</td>\n",
       "      <td>0.668086</td>\n",
       "      <td>0.844565</td>\n",
       "    </tr>\n",
       "    <tr>\n",
       "      <th>f1-score</th>\n",
       "      <td>0.912678</td>\n",
       "      <td>0.293394</td>\n",
       "      <td>0.844565</td>\n",
       "      <td>0.603036</td>\n",
       "      <td>0.869518</td>\n",
       "    </tr>\n",
       "    <tr>\n",
       "      <th>support</th>\n",
       "      <td>64981.000000</td>\n",
       "      <td>4868.000000</td>\n",
       "      <td>0.844565</td>\n",
       "      <td>69849.000000</td>\n",
       "      <td>69849.000000</td>\n",
       "    </tr>\n",
       "  </tbody>\n",
       "</table>\n",
       "</div>"
      ],
      "text/plain": [
       "                    0.0          1.0  accuracy     macro avg  weighted avg\n",
       "precision      0.955958     0.214728  0.844565      0.585343      0.904299\n",
       "recall         0.873148     0.463024  0.844565      0.668086      0.844565\n",
       "f1-score       0.912678     0.293394  0.844565      0.603036      0.869518\n",
       "support    64981.000000  4868.000000  0.844565  69849.000000  69849.000000"
      ]
     },
     "execution_count": 92,
     "metadata": {},
     "output_type": "execute_result"
    },
    {
     "data": {
      "image/png": "[encoded data removed]",
      "text/plain": [
       "<Figure size 432x288 with 2 Axes>"
      ]
     },
     "metadata": {
      "needs_background": "light"
     },
     "output_type": "display_data"
    }
   ],
   "source": [
    "myADA=ABC(n_estimators=50, random_state=0)\n",
    "myADA.fit(X_train,y_train)\n",
    "myf(myADA)"
   ]
  },
  {
   "cell_type": "code",
   "execution_count": 93,
   "metadata": {},
   "outputs": [
    {
     "data": {
      "image/png": "[encoded data removed]",
      "text/plain": [
       "<Figure size 432x288 with 1 Axes>"
      ]
     },
     "metadata": {
      "needs_background": "light"
     },
     "output_type": "display_data"
    }
   ],
   "source": [
    "mytree(myADA)"
   ]
  },
  {
   "cell_type": "code",
   "execution_count": 94,
   "metadata": {},
   "outputs": [
    {
     "data": {
      "image/png": "[encoded data removed]",
      "text/plain": [
       "<Figure size 432x288 with 1 Axes>"
      ]
     },
     "metadata": {
      "needs_background": "light"
     },
     "output_type": "display_data"
    }
   ],
   "source": [
    "prplot(myADA)"
   ]
  },
  {
   "cell_type": "markdown",
   "metadata": {},
   "source": [
    "# Discriminant Analysis"
   ]
  },
  {
   "cell_type": "markdown",
   "metadata": {},
   "source": [
    "##  LDA"
   ]
  },
  {
   "cell_type": "code",
   "execution_count": 95,
   "metadata": {},
   "outputs": [
    {
     "data": {
      "text/html": [
       "<div>\n",
       "<style scoped>\n",
       "    .dataframe tbody tr th:only-of-type {\n",
       "        vertical-align: middle;\n",
       "    }\n",
       "\n",
       "    .dataframe tbody tr th {\n",
       "        vertical-align: top;\n",
       "    }\n",
       "\n",
       "    .dataframe thead th {\n",
       "        text-align: right;\n",
       "    }\n",
       "</style>\n",
       "<table border=\"1\" class=\"dataframe\">\n",
       "  <thead>\n",
       "    <tr style=\"text-align: right;\">\n",
       "      <th></th>\n",
       "      <th>0.0</th>\n",
       "      <th>1.0</th>\n",
       "      <th>accuracy</th>\n",
       "      <th>macro avg</th>\n",
       "      <th>weighted avg</th>\n",
       "    </tr>\n",
       "  </thead>\n",
       "  <tbody>\n",
       "    <tr>\n",
       "      <th>precision</th>\n",
       "      <td>0.974989</td>\n",
       "      <td>0.169036</td>\n",
       "      <td>0.72495</td>\n",
       "      <td>0.572012</td>\n",
       "      <td>0.918820</td>\n",
       "    </tr>\n",
       "    <tr>\n",
       "      <th>recall</th>\n",
       "      <td>0.722888</td>\n",
       "      <td>0.752465</td>\n",
       "      <td>0.72495</td>\n",
       "      <td>0.737677</td>\n",
       "      <td>0.724950</td>\n",
       "    </tr>\n",
       "    <tr>\n",
       "      <th>f1-score</th>\n",
       "      <td>0.830223</td>\n",
       "      <td>0.276057</td>\n",
       "      <td>0.72495</td>\n",
       "      <td>0.553140</td>\n",
       "      <td>0.791601</td>\n",
       "    </tr>\n",
       "    <tr>\n",
       "      <th>support</th>\n",
       "      <td>64981.000000</td>\n",
       "      <td>4868.000000</td>\n",
       "      <td>0.72495</td>\n",
       "      <td>69849.000000</td>\n",
       "      <td>69849.000000</td>\n",
       "    </tr>\n",
       "  </tbody>\n",
       "</table>\n",
       "</div>"
      ],
      "text/plain": [
       "                    0.0          1.0  accuracy     macro avg  weighted avg\n",
       "precision      0.974989     0.169036   0.72495      0.572012      0.918820\n",
       "recall         0.722888     0.752465   0.72495      0.737677      0.724950\n",
       "f1-score       0.830223     0.276057   0.72495      0.553140      0.791601\n",
       "support    64981.000000  4868.000000   0.72495  69849.000000  69849.000000"
      ]
     },
     "execution_count": 95,
     "metadata": {},
     "output_type": "execute_result"
    },
    {
     "data": {
      "image/png": "[encoded data removed]",
      "text/plain": [
       "<Figure size 432x288 with 2 Axes>"
      ]
     },
     "metadata": {
      "needs_background": "light"
     },
     "output_type": "display_data"
    }
   ],
   "source": [
    "from sklearn.discriminant_analysis import LinearDiscriminantAnalysis as LDA\n",
    "mylda=LDA()\n",
    "mylda.fit(X_train, y_train)  # Fit on the training set \n",
    "myf(mylda)"
   ]
  },
  {
   "cell_type": "code",
   "execution_count": 96,
   "metadata": {},
   "outputs": [
    {
     "data": {
      "image/png": "[encoded data removed]",
      "text/plain": [
       "<Figure size 432x288 with 1 Axes>"
      ]
     },
     "metadata": {
      "needs_background": "light"
     },
     "output_type": "display_data"
    }
   ],
   "source": [
    "prplot(mylda)"
   ]
  },
  {
   "cell_type": "markdown",
   "metadata": {},
   "source": [
    "# QDA"
   ]
  },
  {
   "cell_type": "code",
   "execution_count": 97,
   "metadata": {},
   "outputs": [
    {
     "data": {
      "text/html": [
       "<div>\n",
       "<style scoped>\n",
       "    .dataframe tbody tr th:only-of-type {\n",
       "        vertical-align: middle;\n",
       "    }\n",
       "\n",
       "    .dataframe tbody tr th {\n",
       "        vertical-align: top;\n",
       "    }\n",
       "\n",
       "    .dataframe thead th {\n",
       "        text-align: right;\n",
       "    }\n",
       "</style>\n",
       "<table border=\"1\" class=\"dataframe\">\n",
       "  <thead>\n",
       "    <tr style=\"text-align: right;\">\n",
       "      <th></th>\n",
       "      <th>0.0</th>\n",
       "      <th>1.0</th>\n",
       "      <th>accuracy</th>\n",
       "      <th>macro avg</th>\n",
       "      <th>weighted avg</th>\n",
       "    </tr>\n",
       "  </thead>\n",
       "  <tbody>\n",
       "    <tr>\n",
       "      <th>precision</th>\n",
       "      <td>0.968166</td>\n",
       "      <td>0.131744</td>\n",
       "      <td>0.651219</td>\n",
       "      <td>0.549955</td>\n",
       "      <td>0.909873</td>\n",
       "    </tr>\n",
       "    <tr>\n",
       "      <th>recall</th>\n",
       "      <td>0.646343</td>\n",
       "      <td>0.716311</td>\n",
       "      <td>0.651219</td>\n",
       "      <td>0.681327</td>\n",
       "      <td>0.651219</td>\n",
       "    </tr>\n",
       "    <tr>\n",
       "      <th>f1-score</th>\n",
       "      <td>0.775179</td>\n",
       "      <td>0.222556</td>\n",
       "      <td>0.651219</td>\n",
       "      <td>0.498868</td>\n",
       "      <td>0.736665</td>\n",
       "    </tr>\n",
       "    <tr>\n",
       "      <th>support</th>\n",
       "      <td>64981.000000</td>\n",
       "      <td>4868.000000</td>\n",
       "      <td>0.651219</td>\n",
       "      <td>69849.000000</td>\n",
       "      <td>69849.000000</td>\n",
       "    </tr>\n",
       "  </tbody>\n",
       "</table>\n",
       "</div>"
      ],
      "text/plain": [
       "                    0.0          1.0  accuracy     macro avg  weighted avg\n",
       "precision      0.968166     0.131744  0.651219      0.549955      0.909873\n",
       "recall         0.646343     0.716311  0.651219      0.681327      0.651219\n",
       "f1-score       0.775179     0.222556  0.651219      0.498868      0.736665\n",
       "support    64981.000000  4868.000000  0.651219  69849.000000  69849.000000"
      ]
     },
     "execution_count": 97,
     "metadata": {},
     "output_type": "execute_result"
    },
    {
     "data": {
      "image/png": "[encoded data removed]",
      "text/plain": [
       "<Figure size 432x288 with 2 Axes>"
      ]
     },
     "metadata": {
      "needs_background": "light"
     },
     "output_type": "display_data"
    }
   ],
   "source": [
    "from sklearn.discriminant_analysis import QuadraticDiscriminantAnalysis as QDA\n",
    "myqda=QDA()\n",
    "myqda.fit(X_train, y_train)  #Fit on training set\n",
    "myf(myqda)"
   ]
  },
  {
   "cell_type": "code",
   "execution_count": 98,
   "metadata": {},
   "outputs": [
    {
     "data": {
      "image/png": "[encoded data removed]",
      "text/plain": [
       "<Figure size 432x288 with 1 Axes>"
      ]
     },
     "metadata": {
      "needs_background": "light"
     },
     "output_type": "display_data"
    }
   ],
   "source": [
    "prplot(myqda)"
   ]
  },
  {
   "cell_type": "markdown",
   "metadata": {},
   "source": [
    "# Linear Support Vector Machine"
   ]
  },
  {
   "cell_type": "code",
   "execution_count": 99,
   "metadata": {},
   "outputs": [
    {
     "data": {
      "text/html": [
       "<div>\n",
       "<style scoped>\n",
       "    .dataframe tbody tr th:only-of-type {\n",
       "        vertical-align: middle;\n",
       "    }\n",
       "\n",
       "    .dataframe tbody tr th {\n",
       "        vertical-align: top;\n",
       "    }\n",
       "\n",
       "    .dataframe thead th {\n",
       "        text-align: right;\n",
       "    }\n",
       "</style>\n",
       "<table border=\"1\" class=\"dataframe\">\n",
       "  <thead>\n",
       "    <tr style=\"text-align: right;\">\n",
       "      <th></th>\n",
       "      <th>0.0</th>\n",
       "      <th>1.0</th>\n",
       "      <th>accuracy</th>\n",
       "      <th>macro avg</th>\n",
       "      <th>weighted avg</th>\n",
       "    </tr>\n",
       "  </thead>\n",
       "  <tbody>\n",
       "    <tr>\n",
       "      <th>precision</th>\n",
       "      <td>0.975087</td>\n",
       "      <td>0.170523</td>\n",
       "      <td>0.727655</td>\n",
       "      <td>0.572805</td>\n",
       "      <td>0.919014</td>\n",
       "    </tr>\n",
       "    <tr>\n",
       "      <th>recall</th>\n",
       "      <td>0.725797</td>\n",
       "      <td>0.752465</td>\n",
       "      <td>0.727655</td>\n",
       "      <td>0.739131</td>\n",
       "      <td>0.727655</td>\n",
       "    </tr>\n",
       "    <tr>\n",
       "      <th>f1-score</th>\n",
       "      <td>0.832173</td>\n",
       "      <td>0.278037</td>\n",
       "      <td>0.727655</td>\n",
       "      <td>0.555105</td>\n",
       "      <td>0.793554</td>\n",
       "    </tr>\n",
       "    <tr>\n",
       "      <th>support</th>\n",
       "      <td>64981.000000</td>\n",
       "      <td>4868.000000</td>\n",
       "      <td>0.727655</td>\n",
       "      <td>69849.000000</td>\n",
       "      <td>69849.000000</td>\n",
       "    </tr>\n",
       "  </tbody>\n",
       "</table>\n",
       "</div>"
      ],
      "text/plain": [
       "                    0.0          1.0  accuracy     macro avg  weighted avg\n",
       "precision      0.975087     0.170523  0.727655      0.572805      0.919014\n",
       "recall         0.725797     0.752465  0.727655      0.739131      0.727655\n",
       "f1-score       0.832173     0.278037  0.727655      0.555105      0.793554\n",
       "support    64981.000000  4868.000000  0.727655  69849.000000  69849.000000"
      ]
     },
     "execution_count": 99,
     "metadata": {},
     "output_type": "execute_result"
    },
    {
     "data": {
      "image/png": "[encoded data removed]",
      "text/plain": [
       "<Figure size 432x288 with 2 Axes>"
      ]
     },
     "metadata": {
      "needs_background": "light"
     },
     "output_type": "display_data"
    }
   ],
   "source": [
    "mysvm=LinearSVC(random_state=0, tol=1e-5)\n",
    "mysvm.fit(X_train, y_train)  #Fit on training set\n",
    "myf(mysvm)"
   ]
  },
  {
   "cell_type": "code",
   "execution_count": 100,
   "metadata": {},
   "outputs": [
    {
     "data": {
      "image/png": "[encoded data removed]",
      "text/plain": [
       "<Figure size 432x288 with 1 Axes>"
      ]
     },
     "metadata": {
      "needs_background": "light"
     },
     "output_type": "display_data"
    }
   ],
   "source": [
    "prplot(mysvm)"
   ]
  }
 ],
 "metadata": {
  "kernelspec": {
   "display_name": "Python 3",
   "language": "python",
   "name": "python3"
  },
  "language_info": {
   "codemirror_mode": {
    "name": "ipython",
    "version": 3
   },
   "file_extension": ".py",
   "mimetype": "text/x-python",
   "name": "python",
   "nbconvert_exporter": "python",
   "pygments_lexer": "ipython3",
   "version": "3.7.10"
  }
 },
 "nbformat": 4,
 "nbformat_minor": 2
}
